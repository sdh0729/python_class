{
 "cells": [
  {
   "cell_type": "markdown",
   "metadata": {
    "id": "Q0Q9rRl2wKx9"
   },
   "source": [
    "### 데이터\n",
    "\n",
    "\n",
    "#### 정의\n",
    "    - 가치판단의 근거가 될 수 있는 것\n",
    "    - 현실 세계로부터의 단순한 관찰이나 측정을 통해 수집된 사실이나 값\n",
    "    - 대상물 또는 상황\n",
    "    - 원자료(raw data) : 가공되지 않은 상태\n",
    "    - 분석의 원자재\n"
   ]
  },
  {
   "cell_type": "markdown",
   "metadata": {
    "id": "8nK2i5OQwKx_"
   },
   "source": [
    "# 데이터 분석"
   ]
  },
  {
   "cell_type": "markdown",
   "metadata": {
    "id": "mm2M0jciwKyA"
   },
   "source": [
    "### 데이터 분석의 목적\n",
    "- 변수속에서 관측치 간의 차이를 확인\n",
    "- 변수간의 관계를 확인<독립변수 X, 종속변수 Y>\n",
    "- 차이와 관계를 확인하고 설명<상관 관계, 상관계수>"
   ]
  },
  {
   "cell_type": "markdown",
   "metadata": {
    "id": "VwiEBPEOwKyA"
   },
   "source": [
    "### 관측치 간의 차이 확인\n",
    "- 숫자와 그래프로 차이를 확인\n",
    "- 모형으로 차이를 설명"
   ]
  },
  {
   "cell_type": "markdown",
   "metadata": {
    "id": "IHi_Cqb9wKyA"
   },
   "source": []
  },
  {
   "cell_type": "markdown",
   "metadata": {
    "id": "nKOz8ssGwKyA"
   },
   "source": [
    "### 빈도표\n",
    "- 빈도표\n",
    "    - 범주형 변수의 수준별 관측치 수를 정리한 표\n",
    "    - 수준간 절대적인 차이를 확인\n",
    "- 상대빈도\n",
    "    - 빈도표에서 각 수준의 비율을 계산\n",
    "    - 수준간 상대적인 차이를 확인\n",
    "    \n",
    " "
   ]
  },
  {
   "cell_type": "code",
   "execution_count": 1,
   "metadata": {
    "id": "Sjg_msBuwKyB"
   },
   "outputs": [],
   "source": [
    "import pandas as pd\n",
    "import numpy as np\n",
    "import matplotlib.pyplot as plt\n",
    "\n",
    "%precision 3\n",
    "%matplotlib inline"
   ]
  },
  {
   "cell_type": "code",
   "execution_count": 14,
   "metadata": {},
   "outputs": [
    {
     "data": {
      "text/plain": [
       "['STIXNonUnicode',\n",
       " 'STIXSizeFiveSym',\n",
       " 'cmmi10',\n",
       " 'STIXSizeThreeSym',\n",
       " 'STIXNonUnicode',\n",
       " 'DejaVu Serif',\n",
       " 'DejaVu Sans',\n",
       " 'DejaVu Sans Display',\n",
       " 'DejaVu Sans Mono',\n",
       " 'STIXSizeTwoSym',\n",
       " 'STIXGeneral',\n",
       " 'cmr10',\n",
       " 'DejaVu Sans Mono',\n",
       " 'STIXSizeFourSym',\n",
       " 'DejaVu Sans Mono',\n",
       " 'STIXGeneral',\n",
       " 'cmtt10',\n",
       " 'DejaVu Serif',\n",
       " 'DejaVu Serif',\n",
       " 'DejaVu Serif',\n",
       " 'cmsy10',\n",
       " 'cmss10',\n",
       " 'DejaVu Sans',\n",
       " 'STIXSizeTwoSym',\n",
       " 'STIXSizeFourSym',\n",
       " 'cmex10',\n",
       " 'STIXSizeThreeSym',\n",
       " 'STIXNonUnicode',\n",
       " 'DejaVu Serif Display',\n",
       " 'DejaVu Sans',\n",
       " 'STIXSizeOneSym',\n",
       " 'STIXNonUnicode',\n",
       " 'STIXSizeOneSym',\n",
       " 'STIXGeneral',\n",
       " 'DejaVu Sans',\n",
       " 'DejaVu Sans Mono',\n",
       " 'STIXGeneral',\n",
       " 'cmb10',\n",
       " 'Noto Sans Mandaic',\n",
       " 'Noto Sans Elbasan',\n",
       " 'Gujarati MT',\n",
       " 'Noto Sans Sora Sompeng',\n",
       " 'Mishafi Gold',\n",
       " 'Zapf Dingbats',\n",
       " 'STIXNonUnicode',\n",
       " 'Noto Sans Hanunoo',\n",
       " 'Noto Sans Syriac',\n",
       " 'Kefa',\n",
       " 'Tamil MN',\n",
       " 'SignPainter',\n",
       " 'Trebuchet MS',\n",
       " 'Noto Sans Cypriot',\n",
       " 'Sinhala Sangam MN',\n",
       " 'Hiragino Sans',\n",
       " 'Times New Roman',\n",
       " 'STIXSizeFourSym',\n",
       " 'Arial Narrow',\n",
       " 'Noto Sans Inscriptional Parthian',\n",
       " 'New Peninim MT',\n",
       " 'DecoType Naskh',\n",
       " 'Ayuthaya',\n",
       " 'Noto Sans Buginese',\n",
       " 'Hiragino Maru Gothic Pro',\n",
       " 'Iowan Old Style',\n",
       " 'Malayalam MN',\n",
       " 'Courier New',\n",
       " '.SF NS Rounded',\n",
       " 'Noto Sans Thaana',\n",
       " 'Herculanum',\n",
       " 'Noto Sans Masaram Gondi',\n",
       " 'Noto Sans Rejang',\n",
       " 'Helvetica Neue',\n",
       " 'Noto Sans Buhid',\n",
       " 'Snell Roundhand',\n",
       " 'STIXIntegralsSm',\n",
       " 'STIXIntegralsUp',\n",
       " 'Noto Sans Linear B',\n",
       " 'Times New Roman',\n",
       " 'Farah',\n",
       " 'Rockwell',\n",
       " 'Verdana',\n",
       " 'Sinhala MN',\n",
       " 'Sathu',\n",
       " 'Noto Sans Meroitic',\n",
       " 'Raanana',\n",
       " 'Apple Chancery',\n",
       " 'Al Tarikh',\n",
       " 'Noto Sans Glagolitic',\n",
       " 'Wingdings 2',\n",
       " 'Corsiva Hebrew',\n",
       " 'Bangla Sangam MN',\n",
       " 'Noto Sans Lisu',\n",
       " 'Comic Sans MS',\n",
       " 'STIXGeneral',\n",
       " 'Hiragino Sans',\n",
       " 'Noto Sans Chakma',\n",
       " 'Noto Sans Kayah Li',\n",
       " 'STIXIntegralsSm',\n",
       " 'Noto Sans Bamum',\n",
       " 'Noto Sans Yi',\n",
       " 'Webdings',\n",
       " 'Noto Sans Vai',\n",
       " 'Avenir Next',\n",
       " 'Noto Sans Inscriptional Pahlavi',\n",
       " 'Kohinoor Devanagari',\n",
       " 'PT Serif',\n",
       " 'Noto Sans Adlam',\n",
       " 'Noto Sans Old Persian',\n",
       " 'Hoefler Text',\n",
       " 'Avenir',\n",
       " 'Noto Sans Sharada',\n",
       " 'Krungthep',\n",
       " 'PT Serif Caption',\n",
       " 'Tahoma',\n",
       " 'Noto Sans Old Hungarian',\n",
       " 'STIXSizeFourSym',\n",
       " 'Noto Sans Old Permic',\n",
       " 'STIXGeneral',\n",
       " 'Hiragino Mincho ProN',\n",
       " 'STIXIntegralsUpSm',\n",
       " 'Noto Sans Tai Viet',\n",
       " 'Noto Sans Manichaean',\n",
       " 'Arial',\n",
       " 'Georgia',\n",
       " 'Noto Sans Khudawadi',\n",
       " 'Marker Felt',\n",
       " 'STIXSizeTwoSym',\n",
       " 'Noto Sans NKo',\n",
       " 'Nadeem',\n",
       " 'Noto Sans Miao',\n",
       " 'STIXSizeOneSym',\n",
       " 'Noto Sans Batak',\n",
       " 'Apple Braille',\n",
       " 'Noto Sans Old Turkic',\n",
       " 'Apple Braille',\n",
       " 'Arial Black',\n",
       " 'Phosphate',\n",
       " 'STIXIntegralsUpSm',\n",
       " 'Beirut',\n",
       " 'Brush Script MT',\n",
       " 'ITF Devanagari',\n",
       " 'Telugu Sangam MN',\n",
       " 'Hiragino Sans',\n",
       " 'Noto Sans Hatran',\n",
       " 'Trebuchet MS',\n",
       " 'Noto Sans Osmanya',\n",
       " 'Trebuchet MS',\n",
       " 'Noto Sans PhagsPa',\n",
       " 'Hiragino Sans',\n",
       " 'Devanagari Sangam MN',\n",
       " 'Bangla MN',\n",
       " 'Hiragino Sans',\n",
       " 'Noto Sans Coptic',\n",
       " 'Noto Sans Carian',\n",
       " 'Noto Sans Javanese',\n",
       " 'Apple Braille',\n",
       " 'Noto Sans Saurashtra',\n",
       " 'Gurmukhi MT',\n",
       " 'Devanagari MT',\n",
       " 'Noto Sans Mahajani',\n",
       " 'Academy Engraved LET',\n",
       " 'Charter',\n",
       " 'Oriya Sangam MN',\n",
       " 'Papyrus',\n",
       " 'Noto Sans Old North Arabian',\n",
       " 'System Font',\n",
       " 'Wingdings 3',\n",
       " '.SF NS Mono',\n",
       " 'Kannada Sangam MN',\n",
       " 'Geeza Pro',\n",
       " 'Noto Serif Balinese',\n",
       " 'Georgia',\n",
       " 'Noto Sans Syloti Nagri',\n",
       " 'Verdana',\n",
       " 'Noto Sans Cham',\n",
       " 'Kohinoor Telugu',\n",
       " 'STIXIntegralsUpD',\n",
       " 'Myanmar MN',\n",
       " 'Sana',\n",
       " 'Noto Sans Mongolian',\n",
       " 'Noto Sans Limbu',\n",
       " 'Noto Sans Lydian',\n",
       " 'Diwan Kufi',\n",
       " 'Trebuchet MS',\n",
       " 'Athelas',\n",
       " 'Times New Roman',\n",
       " 'Arial Narrow',\n",
       " 'Skia',\n",
       " 'Noto Nastaliq Urdu',\n",
       " 'Baskerville',\n",
       " 'Verdana',\n",
       " 'Noto Sans Mende Kikakui',\n",
       " 'PT Mono',\n",
       " 'Noto Sans Kaithi',\n",
       " 'Hiragino Sans',\n",
       " 'Noto Sans Tai Le',\n",
       " 'Thonburi',\n",
       " 'Menlo',\n",
       " 'Noto Sans Gothic',\n",
       " 'STIXGeneral',\n",
       " 'Noto Sans Lycian',\n",
       " 'Noto Sans Armenian',\n",
       " 'Zapfino',\n",
       " 'Noto Sans Pahawh Hmong',\n",
       " '.SF Arabic',\n",
       " 'Symbol',\n",
       " 'Arial',\n",
       " 'Baghdad',\n",
       " 'Hiragino Sans',\n",
       " 'Times',\n",
       " 'Big Caslon',\n",
       " 'Savoye LET',\n",
       " 'Arial Narrow',\n",
       " 'STIXIntegralsUp',\n",
       " 'Noto Sans Tifinagh',\n",
       " 'Noto Serif Myanmar',\n",
       " 'Silom',\n",
       " 'Khmer MN',\n",
       " 'Noto Serif Yezidi',\n",
       " 'Heiti TC',\n",
       " 'Noto Sans Tirhuta',\n",
       " 'Noto Sans Samaritan',\n",
       " 'Trattatello',\n",
       " 'Songti SC',\n",
       " 'Courier',\n",
       " 'Hiragino Sans',\n",
       " '.SF Compact',\n",
       " 'Mukta Mahee',\n",
       " 'Noto Sans Tagbanwa',\n",
       " 'Microsoft Sans Serif',\n",
       " 'Noto Sans Caucasian Albanian',\n",
       " 'Arial Unicode MS',\n",
       " 'Noto Sans Nabataean',\n",
       " 'Noto Sans Ugaritic',\n",
       " 'STIXGeneral',\n",
       " 'Noto Sans Mro',\n",
       " 'Impact',\n",
       " 'Seravek',\n",
       " 'Gurmukhi Sangam MN',\n",
       " '.SF Compact Rounded',\n",
       " 'Kailasa',\n",
       " 'Noto Sans Kannada',\n",
       " '.Aqua Kana',\n",
       " 'Apple Braille',\n",
       " 'Myanmar Sangam MN',\n",
       " 'PingFang HK',\n",
       " 'Noto Sans Phoenician',\n",
       " 'STIXVariants',\n",
       " 'Palatino',\n",
       " 'Euphemia UCAS',\n",
       " 'Kokonor',\n",
       " 'STIXNonUnicode',\n",
       " 'Chalkboard SE',\n",
       " 'Optima',\n",
       " 'Apple Symbols',\n",
       " 'Al Nile',\n",
       " 'Malayalam Sangam MN',\n",
       " 'Times New Roman',\n",
       " 'Noto Sans Cuneiform',\n",
       " 'Geneva',\n",
       " 'Hiragino Sans GB',\n",
       " 'Telugu MN',\n",
       " 'Noto Sans Egyptian Hieroglyphs',\n",
       " 'Noto Sans Marchen',\n",
       " 'STIXNonUnicode',\n",
       " '.Keyboard',\n",
       " 'Noto Sans Osage',\n",
       " 'STIXSizeThreeSym',\n",
       " 'Noto Sans Linear A',\n",
       " 'Lao MN',\n",
       " 'STIXIntegralsUpD',\n",
       " 'PT Sans',\n",
       " 'Hiragino Sans',\n",
       " 'Heiti TC',\n",
       " 'Noto Sans Myanmar',\n",
       " 'Noto Sans Psalter Pahlavi',\n",
       " 'Noto Sans Old South Arabian',\n",
       " 'Arial',\n",
       " 'Noto Sans Modi',\n",
       " 'Kohinoor Gujarati',\n",
       " 'Hiragino Sans',\n",
       " 'Khmer Sangam MN',\n",
       " 'Noto Sans Multani',\n",
       " 'STIXSizeThreeSym',\n",
       " 'Tamil Sangam MN',\n",
       " 'Gurmukhi MN',\n",
       " 'Monaco',\n",
       " 'Sukhumvit Set',\n",
       " 'Noteworthy',\n",
       " 'Marion',\n",
       " 'Lucida Grande',\n",
       " 'Noto Sans Avestan',\n",
       " 'Noto Sans Lepcha',\n",
       " 'Copperplate',\n",
       " 'Damascus',\n",
       " 'Bodoni 72 Smallcaps',\n",
       " 'Futura',\n",
       " 'Noto Sans Brahmi',\n",
       " '.New York',\n",
       " 'Arial',\n",
       " 'AppleMyungjo',\n",
       " 'Noto Sans Old Italic',\n",
       " 'American Typewriter',\n",
       " 'InaiMathi',\n",
       " 'Party LET',\n",
       " 'Oriya MN',\n",
       " 'Gill Sans',\n",
       " 'Lao Sangam MN',\n",
       " 'Avenir Next Condensed',\n",
       " 'Noto Sans Oriya',\n",
       " 'Noto Sans Ol Chiki',\n",
       " 'Courier New',\n",
       " 'Plantagenet Cherokee',\n",
       " 'Luminari',\n",
       " 'Noto Serif Ahom',\n",
       " 'Noto Sans Siddham',\n",
       " 'Noto Sans Bassa Vah',\n",
       " 'Bradley Hand',\n",
       " 'Arial Unicode MS',\n",
       " 'Arial Hebrew',\n",
       " 'Helvetica',\n",
       " 'Chalkboard',\n",
       " 'Bodoni Ornaments',\n",
       " 'DIN Alternate',\n",
       " 'Apple Braille',\n",
       " 'Wingdings',\n",
       " 'Noto Sans New Tai Lue',\n",
       " 'Chalkduster',\n",
       " 'STIXVariants',\n",
       " '.New York',\n",
       " 'System Font',\n",
       " 'STIXSizeFiveSym',\n",
       " 'Farisi',\n",
       " 'Arial Narrow',\n",
       " 'STIXIntegralsD',\n",
       " 'Noto Sans Pau Cin Hau',\n",
       " 'Noto Sans Khojki',\n",
       " 'Verdana',\n",
       " '.SF NS Mono',\n",
       " 'Arial Rounded MT Bold',\n",
       " 'Noto Sans Palmyrene',\n",
       " 'Noto Sans Duployan',\n",
       " 'STIXSizeOneSym',\n",
       " 'Kannada MN',\n",
       " 'DIN Condensed',\n",
       " 'Noto Sans Takri',\n",
       " 'Noto Sans Meetei Mayek',\n",
       " 'Apple SD Gothic Neo',\n",
       " 'Diwan Thuluth',\n",
       " 'Bodoni 72 Oldstyle',\n",
       " 'Hoefler Text',\n",
       " 'Noto Sans Gunjala Gondi',\n",
       " 'STIXNonUnicode',\n",
       " 'Galvji',\n",
       " 'Noto Sans Hanifi Rohingya',\n",
       " 'Bodoni 72',\n",
       " 'Georgia',\n",
       " 'Kohinoor Bangla',\n",
       " 'Courier New',\n",
       " 'Didot',\n",
       " 'Noto Sans Wancho',\n",
       " 'Noto Sans Newa',\n",
       " 'Tahoma',\n",
       " 'Muna',\n",
       " 'Georgia',\n",
       " 'Superclarendon',\n",
       " 'STIXSizeTwoSym',\n",
       " 'Noto Sans Sundanese',\n",
       " 'Cochin',\n",
       " 'Al Bayan',\n",
       " 'AppleGothic',\n",
       " 'Mishafi',\n",
       " 'Comic Sans MS',\n",
       " 'Courier New',\n",
       " 'Waseem',\n",
       " 'Noto Sans Tagalog',\n",
       " 'Noto Sans Bhaiksuki',\n",
       " 'Andale Mono',\n",
       " 'Mshtakan',\n",
       " 'STIXIntegralsD',\n",
       " 'Noto Sans Warang Citi',\n",
       " '.SF Compact',\n",
       " 'KufiStandardGK',\n",
       " 'Noto Sans Imperial Aramaic',\n",
       " 'Noto Sans Tai Tham',\n",
       " 'Noto Sans Kharoshthi',\n",
       " 'Shree Devanagari 714',\n",
       " 'Gujarati Sangam MN']"
      ]
     },
     "execution_count": 14,
     "metadata": {},
     "output_type": "execute_result"
    }
   ],
   "source": [
    "import matplotlib.font_manager as fm  # 폰트확인 \n",
    "font_list = [font.name for font in fm.fontManager.ttflist] # 설치된 폰트 확인 \n",
    "font_list\n",
    "plt.rcParams['font.family'] = 'AppleGothic' #폰트 변경 "
   ]
  },
  {
   "cell_type": "code",
   "execution_count": 2,
   "metadata": {
    "id": "r3vjky_DwKyB"
   },
   "outputs": [],
   "source": [
    "import warnings\n",
    "warnings.filterwarnings(action='ignore')"
   ]
  },
  {
   "cell_type": "code",
   "execution_count": 3,
   "metadata": {
    "id": "ImGGVc5SwKyB"
   },
   "outputs": [],
   "source": [
    "\n",
    "from IPython.core.interactiveshell import InteractiveShell\n",
    "InteractiveShell.ast_node_interactivity=\"all\""
   ]
  },
  {
   "cell_type": "code",
   "execution_count": 4,
   "metadata": {
    "id": "xSnelyBrwKyB",
    "outputId": "e9e9aa49-b855-48a3-e6a5-92a1529ce6d4"
   },
   "outputs": [
    {
     "data": {
      "text/html": [
       "<div>\n",
       "<style scoped>\n",
       "    .dataframe tbody tr th:only-of-type {\n",
       "        vertical-align: middle;\n",
       "    }\n",
       "\n",
       "    .dataframe tbody tr th {\n",
       "        vertical-align: top;\n",
       "    }\n",
       "\n",
       "    .dataframe thead th {\n",
       "        text-align: right;\n",
       "    }\n",
       "</style>\n",
       "<table border=\"1\" class=\"dataframe\">\n",
       "  <thead>\n",
       "    <tr style=\"text-align: right;\">\n",
       "      <th></th>\n",
       "      <th>고객번호</th>\n",
       "      <th>성별</th>\n",
       "    </tr>\n",
       "  </thead>\n",
       "  <tbody>\n",
       "    <tr>\n",
       "      <th>0</th>\n",
       "      <td>1</td>\n",
       "      <td>남</td>\n",
       "    </tr>\n",
       "    <tr>\n",
       "      <th>1</th>\n",
       "      <td>2</td>\n",
       "      <td>여</td>\n",
       "    </tr>\n",
       "    <tr>\n",
       "      <th>2</th>\n",
       "      <td>3</td>\n",
       "      <td>여</td>\n",
       "    </tr>\n",
       "    <tr>\n",
       "      <th>3</th>\n",
       "      <td>4</td>\n",
       "      <td>여</td>\n",
       "    </tr>\n",
       "    <tr>\n",
       "      <th>4</th>\n",
       "      <td>5</td>\n",
       "      <td>남</td>\n",
       "    </tr>\n",
       "    <tr>\n",
       "      <th>5</th>\n",
       "      <td>6</td>\n",
       "      <td>남</td>\n",
       "    </tr>\n",
       "    <tr>\n",
       "      <th>6</th>\n",
       "      <td>7</td>\n",
       "      <td>여</td>\n",
       "    </tr>\n",
       "    <tr>\n",
       "      <th>7</th>\n",
       "      <td>8</td>\n",
       "      <td>여</td>\n",
       "    </tr>\n",
       "    <tr>\n",
       "      <th>8</th>\n",
       "      <td>9</td>\n",
       "      <td>남</td>\n",
       "    </tr>\n",
       "    <tr>\n",
       "      <th>9</th>\n",
       "      <td>10</td>\n",
       "      <td>여</td>\n",
       "    </tr>\n",
       "  </tbody>\n",
       "</table>\n",
       "</div>"
      ],
      "text/plain": [
       "   고객번호 성별\n",
       "0     1  남\n",
       "1     2  여\n",
       "2     3  여\n",
       "3     4  여\n",
       "4     5  남\n",
       "5     6  남\n",
       "6     7  여\n",
       "7     8  여\n",
       "8     9  남\n",
       "9    10  여"
      ]
     },
     "execution_count": 4,
     "metadata": {},
     "output_type": "execute_result"
    }
   ],
   "source": [
    "# 빈도표 생성\n",
    "gender = pd.DataFrame({'고객번호': [1,2,3,4,5,6,7,8,9,10],\n",
    "                       '성별' : ['남','여','여','여','남','남','여','여','남','여']},\n",
    "                     columns=['고객번호','성별'])\n",
    "gender"
   ]
  },
  {
   "cell_type": "code",
   "execution_count": 5,
   "metadata": {
    "id": "Qb25TsGFwKyC"
   },
   "outputs": [],
   "source": [
    "# 범주형 변수 성별에 대한 빈도표\n",
    "gender_t = gender.groupby('성별')[['성별']].count()"
   ]
  },
  {
   "cell_type": "code",
   "execution_count": 6,
   "metadata": {
    "id": "cPo4fLL6wKyC",
    "outputId": "7a6e2763-db7a-4344-8204-e988ca59a659"
   },
   "outputs": [
    {
     "data": {
      "text/html": [
       "<div>\n",
       "<style scoped>\n",
       "    .dataframe tbody tr th:only-of-type {\n",
       "        vertical-align: middle;\n",
       "    }\n",
       "\n",
       "    .dataframe tbody tr th {\n",
       "        vertical-align: top;\n",
       "    }\n",
       "\n",
       "    .dataframe thead th {\n",
       "        text-align: right;\n",
       "    }\n",
       "</style>\n",
       "<table border=\"1\" class=\"dataframe\">\n",
       "  <thead>\n",
       "    <tr style=\"text-align: right;\">\n",
       "      <th></th>\n",
       "      <th>성별</th>\n",
       "    </tr>\n",
       "    <tr>\n",
       "      <th>성별</th>\n",
       "      <th></th>\n",
       "    </tr>\n",
       "  </thead>\n",
       "  <tbody>\n",
       "    <tr>\n",
       "      <th>남</th>\n",
       "      <td>4</td>\n",
       "    </tr>\n",
       "    <tr>\n",
       "      <th>여</th>\n",
       "      <td>6</td>\n",
       "    </tr>\n",
       "  </tbody>\n",
       "</table>\n",
       "</div>"
      ],
      "text/plain": [
       "    성별\n",
       "성별    \n",
       "남    4\n",
       "여    6"
      ]
     },
     "execution_count": 6,
     "metadata": {},
     "output_type": "execute_result"
    },
    {
     "data": {
      "text/plain": [
       "고객번호  성별\n",
       "1     남     1\n",
       "2     여     1\n",
       "3     여     1\n",
       "4     여     1\n",
       "5     남     1\n",
       "6     남     1\n",
       "7     여     1\n",
       "8     여     1\n",
       "9     남     1\n",
       "10    여     1\n",
       "dtype: int64"
      ]
     },
     "execution_count": 6,
     "metadata": {},
     "output_type": "execute_result"
    }
   ],
   "source": [
    "# 빈도표\n",
    "gender_t\n",
    "gender.value_counts()"
   ]
  },
  {
   "cell_type": "markdown",
   "metadata": {
    "id": "0HAZkryiwKyC"
   },
   "source": [
    "**범주형 변수의 차이 확인(시각화)**\n",
    "- 막대그래프\n",
    "    - 빈도표를 활용하여 각 수준을 높이로 표현\n",
    "    - 절대적인 차이를 확인한다\n",
    "\n",
    "- 원 그래프\n",
    "    - 계산된 상대빈도를 활용하여 원을 분할\n",
    "    - 상대적인 차이를 확인"
   ]
  },
  {
   "cell_type": "code",
   "execution_count": 15,
   "metadata": {
    "id": "1q2TcBCSwKyC",
    "outputId": "71016628-130d-46d6-e632-f4f3eae4918d"
   },
   "outputs": [
    {
     "data": {
      "text/plain": [
       "<AxesSubplot: xlabel='성별'>"
      ]
     },
     "execution_count": 15,
     "metadata": {},
     "output_type": "execute_result"
    },
    {
     "data": {
      "image/png": "[encoded data removed]",
      "text/plain": [
       "<Figure size 640x480 with 1 Axes>"
      ]
     },
     "metadata": {},
     "output_type": "display_data"
    }
   ],
   "source": [
    "gender_t.plot(kind='bar')"
   ]
  },
  {
   "cell_type": "code",
   "execution_count": 17,
   "metadata": {
    "id": "_06VAV_IwKyC",
    "outputId": "3ddb29fd-f69b-4f61-da14-1586653b4d5e"
   },
   "outputs": [
    {
     "data": {
      "image/png": "[encoded data removed]",
      "text/plain": [
       "<Figure size 640x480 with 1 Axes>"
      ]
     },
     "metadata": {},
     "output_type": "display_data"
    }
   ],
   "source": [
    "plt.pie(gender_t['성별'], labels=gender_t.index,autopct='%1.1f%%');"
   ]
  },
  {
   "cell_type": "markdown",
   "metadata": {
    "id": "a_fenNGAwKyD"
   },
   "source": [
    "### 수치형 변수의 차이 확인하기\n",
    "\n",
    "- 수치형 변수\n",
    "    - 관측치들이 다양한 숫자값을 가질 수 있음\n",
    "- 수치형 변수의 요약\n",
    "    - 정렬등을 활용한 수치형 변수의 요약\n",
    "        - 최솟값, 최댓값, 중앙값 등 관측치들의 전반적인 위치를 확인\n",
    "    - 합계를 활용한 수치형 변수의 요약\n",
    "        - 펑균, 분산 등 관측치들의 전반적인 특성을 확인\n",
    "- 기술 통계량 활용"
   ]
  },
  {
   "cell_type": "markdown",
   "metadata": {
    "id": "6zmUMh3OwKyD"
   },
   "source": [
    "## 기술통계량\n",
    "- 통계량(statistic)\n",
    "    - 데이터로부터 계산된 모든 숫자\n",
    "- 기술 통계량(descriptive statistic)\n",
    "    - 변수나 변수의 관계 등 데이터의 특성을 설명하는 통계량"
   ]
  },
  {
   "cell_type": "markdown",
   "metadata": {
    "id": "L4haeQoVwKyD"
   },
   "source": [
    "**수치형 변수의 요약**"
   ]
  },
  {
   "cell_type": "code",
   "execution_count": 9,
   "metadata": {
    "id": "pYPIoAfUwKyD",
    "outputId": "ef0b89b0-c1de-4572-f1ba-8aa0fa5a7bb9"
   },
   "outputs": [
    {
     "data": {
      "text/html": [
       "<div>\n",
       "<style scoped>\n",
       "    .dataframe tbody tr th:only-of-type {\n",
       "        vertical-align: middle;\n",
       "    }\n",
       "\n",
       "    .dataframe tbody tr th {\n",
       "        vertical-align: top;\n",
       "    }\n",
       "\n",
       "    .dataframe thead th {\n",
       "        text-align: right;\n",
       "    }\n",
       "</style>\n",
       "<table border=\"1\" class=\"dataframe\">\n",
       "  <thead>\n",
       "    <tr style=\"text-align: right;\">\n",
       "      <th></th>\n",
       "      <th>score</th>\n",
       "    </tr>\n",
       "  </thead>\n",
       "  <tbody>\n",
       "    <tr>\n",
       "      <th>0</th>\n",
       "      <td>60</td>\n",
       "    </tr>\n",
       "    <tr>\n",
       "      <th>1</th>\n",
       "      <td>78</td>\n",
       "    </tr>\n",
       "    <tr>\n",
       "      <th>2</th>\n",
       "      <td>83</td>\n",
       "    </tr>\n",
       "    <tr>\n",
       "      <th>3</th>\n",
       "      <td>74</td>\n",
       "    </tr>\n",
       "    <tr>\n",
       "      <th>4</th>\n",
       "      <td>100</td>\n",
       "    </tr>\n",
       "    <tr>\n",
       "      <th>5</th>\n",
       "      <td>80</td>\n",
       "    </tr>\n",
       "    <tr>\n",
       "      <th>6</th>\n",
       "      <td>90</td>\n",
       "    </tr>\n",
       "    <tr>\n",
       "      <th>7</th>\n",
       "      <td>90</td>\n",
       "    </tr>\n",
       "    <tr>\n",
       "      <th>8</th>\n",
       "      <td>85</td>\n",
       "    </tr>\n",
       "    <tr>\n",
       "      <th>9</th>\n",
       "      <td>70</td>\n",
       "    </tr>\n",
       "  </tbody>\n",
       "</table>\n",
       "</div>"
      ],
      "text/plain": [
       "   score\n",
       "0     60\n",
       "1     78\n",
       "2     83\n",
       "3     74\n",
       "4    100\n",
       "5     80\n",
       "6     90\n",
       "7     90\n",
       "8     85\n",
       "9     70"
      ]
     },
     "execution_count": 9,
     "metadata": {},
     "output_type": "execute_result"
    }
   ],
   "source": [
    "score = [60,78,83,74,100,80,90,90,85,70]\n",
    "\n",
    "score_df = pd.DataFrame({'score':score})\n",
    "\n",
    "score_df"
   ]
  },
  {
   "cell_type": "code",
   "execution_count": 10,
   "metadata": {
    "id": "MeAauwZ-wKyD",
    "outputId": "1229d23d-43f7-4acc-c82b-5b13450a0770"
   },
   "outputs": [
    {
     "data": {
      "text/html": [
       "<div>\n",
       "<style scoped>\n",
       "    .dataframe tbody tr th:only-of-type {\n",
       "        vertical-align: middle;\n",
       "    }\n",
       "\n",
       "    .dataframe tbody tr th {\n",
       "        vertical-align: top;\n",
       "    }\n",
       "\n",
       "    .dataframe thead th {\n",
       "        text-align: right;\n",
       "    }\n",
       "</style>\n",
       "<table border=\"1\" class=\"dataframe\">\n",
       "  <thead>\n",
       "    <tr style=\"text-align: right;\">\n",
       "      <th></th>\n",
       "      <th>score</th>\n",
       "    </tr>\n",
       "  </thead>\n",
       "  <tbody>\n",
       "    <tr>\n",
       "      <th>0</th>\n",
       "      <td>60</td>\n",
       "    </tr>\n",
       "    <tr>\n",
       "      <th>9</th>\n",
       "      <td>70</td>\n",
       "    </tr>\n",
       "    <tr>\n",
       "      <th>3</th>\n",
       "      <td>74</td>\n",
       "    </tr>\n",
       "    <tr>\n",
       "      <th>1</th>\n",
       "      <td>78</td>\n",
       "    </tr>\n",
       "    <tr>\n",
       "      <th>5</th>\n",
       "      <td>80</td>\n",
       "    </tr>\n",
       "    <tr>\n",
       "      <th>2</th>\n",
       "      <td>83</td>\n",
       "    </tr>\n",
       "    <tr>\n",
       "      <th>8</th>\n",
       "      <td>85</td>\n",
       "    </tr>\n",
       "    <tr>\n",
       "      <th>6</th>\n",
       "      <td>90</td>\n",
       "    </tr>\n",
       "    <tr>\n",
       "      <th>7</th>\n",
       "      <td>90</td>\n",
       "    </tr>\n",
       "    <tr>\n",
       "      <th>4</th>\n",
       "      <td>100</td>\n",
       "    </tr>\n",
       "  </tbody>\n",
       "</table>\n",
       "</div>"
      ],
      "text/plain": [
       "   score\n",
       "0     60\n",
       "9     70\n",
       "3     74\n",
       "1     78\n",
       "5     80\n",
       "2     83\n",
       "8     85\n",
       "6     90\n",
       "7     90\n",
       "4    100"
      ]
     },
     "execution_count": 10,
     "metadata": {},
     "output_type": "execute_result"
    }
   ],
   "source": [
    "# 관측지 정렬\n",
    "score_df.sort_values(by='score')"
   ]
  },
  {
   "cell_type": "code",
   "execution_count": 11,
   "metadata": {
    "id": "eHfyeqdQwKyD",
    "outputId": "474d5631-fd27-4a83-e254-7226bb039457"
   },
   "outputs": [
    {
     "data": {
      "text/plain": [
       "score    100\n",
       "dtype: int64"
      ]
     },
     "execution_count": 11,
     "metadata": {},
     "output_type": "execute_result"
    },
    {
     "data": {
      "text/plain": [
       "score    60\n",
       "dtype: int64"
      ]
     },
     "execution_count": 11,
     "metadata": {},
     "output_type": "execute_result"
    },
    {
     "data": {
      "text/plain": [
       "score    81.5\n",
       "dtype: float64"
      ]
     },
     "execution_count": 11,
     "metadata": {},
     "output_type": "execute_result"
    },
    {
     "data": {
      "text/html": [
       "<div>\n",
       "<style scoped>\n",
       "    .dataframe tbody tr th:only-of-type {\n",
       "        vertical-align: middle;\n",
       "    }\n",
       "\n",
       "    .dataframe tbody tr th {\n",
       "        vertical-align: top;\n",
       "    }\n",
       "\n",
       "    .dataframe thead th {\n",
       "        text-align: right;\n",
       "    }\n",
       "</style>\n",
       "<table border=\"1\" class=\"dataframe\">\n",
       "  <thead>\n",
       "    <tr style=\"text-align: right;\">\n",
       "      <th></th>\n",
       "      <th>score</th>\n",
       "    </tr>\n",
       "  </thead>\n",
       "  <tbody>\n",
       "    <tr>\n",
       "      <th>0</th>\n",
       "      <td>90</td>\n",
       "    </tr>\n",
       "  </tbody>\n",
       "</table>\n",
       "</div>"
      ],
      "text/plain": [
       "   score\n",
       "0     90"
      ]
     },
     "execution_count": 11,
     "metadata": {},
     "output_type": "execute_result"
    }
   ],
   "source": [
    "# 위치적인 특성\n",
    "score_df.max() # 최대값\n",
    "score_df.min() # 최소값\n",
    "score_df.median() # 중앙값\n",
    "score_df.mode() # 최빈값"
   ]
  },
  {
   "cell_type": "code",
   "execution_count": 12,
   "metadata": {
    "id": "P9euv7_owKyE",
    "outputId": "7728a219-7189-4113-97f2-bf7094b25051"
   },
   "outputs": [
    {
     "data": {
      "text/plain": [
       "score    81.0\n",
       "dtype: float64"
      ]
     },
     "execution_count": 12,
     "metadata": {},
     "output_type": "execute_result"
    },
    {
     "data": {
      "text/plain": [
       "score    129.333333\n",
       "dtype: float64"
      ]
     },
     "execution_count": 12,
     "metadata": {},
     "output_type": "execute_result"
    }
   ],
   "source": [
    "score_df.mean()  # 평균\n",
    "score_df.var()  # 분산"
   ]
  },
  {
   "cell_type": "code",
   "execution_count": null,
   "metadata": {},
   "outputs": [],
   "source": []
  }
 ],
 "metadata": {
  "colab": {
   "provenance": []
  },
  "kernelspec": {
   "display_name": "Python 3 (ipykernel)",
   "language": "python",
   "name": "python3"
  },
  "language_info": {
   "codemirror_mode": {
    "name": "ipython",
    "version": 3
   },
   "file_extension": ".py",
   "mimetype": "text/x-python",
   "name": "python",
   "nbconvert_exporter": "python",
   "pygments_lexer": "ipython3",
   "version": "3.9.13"
  }
 },
 "nbformat": 4,
 "nbformat_minor": 1
}
