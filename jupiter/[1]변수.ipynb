{
 "cells": [
  {
   "cell_type": "markdown",
   "id": "1cdab5ae",
   "metadata": {},
   "source": [
    "# 변수명을 식별하는 생성 규칙\n",
    "\n",
    "#### 1. 변수명은 다음 문자로 섞어서 사용할 수 있다.\n",
    "- 소문자(a~z)\n",
    "- 대문자(A~Z)\n",
    "- 숫자(0~9)\n",
    "- 언더스코어(_)\n",
    "\n",
    "#### 2. 반드시 문자로 시작되어야 한다.\n",
    "\n",
    "#### 3. 예약어를 제외하고 선언 한다.\n"
   ]
  },
  {
   "cell_type": "code",
   "execution_count": null,
   "id": "a88ce71e",
   "metadata": {},
   "outputs": [],
   "source": [
    "#q1) 파이썬의 예약어를 확인 해보자 \n",
    "import sys # 현재 파이썬의 라이브러리를 참조하는 기본 값을 확인하는 모듈\n",
    "sys.path # 참조 모듈 경로"
   ]
  },
  {
   "cell_type": "code",
   "execution_count": null,
   "id": "da1006ca",
   "metadata": {},
   "outputs": [],
   "source": [
    "#키워드를 관리하는 모듈을 참조\n",
    "import keyword \n",
    "keyword #모듈파일의 경로 확인"
   ]
  },
  {
   "cell_type": "code",
   "execution_count": null,
   "id": "2ede173d",
   "metadata": {},
   "outputs": [],
   "source": [
    "dir(keyword) # 모듈의 내용 확인 "
   ]
  },
  {
   "cell_type": "code",
   "execution_count": null,
   "id": "c246b2b2",
   "metadata": {},
   "outputs": [],
   "source": [
    "keyword.kwlist # 모듈에서 관리하는 객체를 참조"
   ]
  },
  {
   "cell_type": "markdown",
   "id": "f44fba13",
   "metadata": {},
   "source": [
    "## 파이썬에서 사용되는 자료형 5가지\n",
    "숫자, 문자, 리스트, 튜플, 사전"
   ]
  },
  {
   "cell_type": "code",
   "execution_count": null,
   "id": "fdddb9d9",
   "metadata": {},
   "outputs": [],
   "source": [
    "#q2) 리스트 자료형을 확인 해보자. []안에 임의의 객체를 순서있게 나열하는 자료\n",
    "my_list = [] # 빈객체\n",
    "type(my_list)\n",
    "my_list\n",
    "len(my_list) # 리스트 객체의 길이를 리턴 해보자"
   ]
  },
  {
   "cell_type": "code",
   "execution_count": null,
   "id": "cb20eb79",
   "metadata": {},
   "outputs": [],
   "source": [
    "#q2-1) 리스트 자료형을 확인 해보자. []안에 임의의 객체를 순서있게 나열하는 자료\n",
    "my_list = [1,2,3,4,5] # 값이 있는 객체\n",
    "type(my_list)\n",
    "my_list[0]=100\n",
    "len(my_list)\n",
    "print(my_list)\n",
    "my_list[3]=3000\n",
    "print(my_list)"
   ]
  },
  {
   "cell_type": "code",
   "execution_count": null,
   "id": "a7cbddb2",
   "metadata": {},
   "outputs": [],
   "source": [
    "#q2-2) 리스트 자료형을 확인 해보자. []안에 임의의 객체를 순서있게 나열하는 자료\n",
    "my_list = [1,2,3,4,[1,2,3,],5,6] # 중첩 객체\n",
    "type(my_list)\n",
    "print(my_list)\n",
    "print(my_list[0])\n",
    "print(my_list[1])\n",
    "print(my_list[2])\n",
    "print(my_list[3])"
   ]
  },
  {
   "cell_type": "code",
   "execution_count": null,
   "id": "f44e19cb",
   "metadata": {},
   "outputs": [],
   "source": [
    "# q3) 튜플 자료형을 확인 해보자. ( ) 안에 임의의 객체를 순서있게 나열하는 자료\n",
    "# 리스트와는 다르게 값을(요소) 수정할 수 없다.\n",
    "my_tuple = (1,2,3,4,(41,42,43),5,6)\n",
    "print(type(my_tuple))\n",
    "print(my_tuple)\n",
    "print(my_tuple[0])\n",
    "print(my_tuple[1])\n",
    "print(my_tuple[2])\n",
    "print(my_tuple[3])\n",
    "print(my_tuple[4])\n",
    "print(my_tuple[4][0])\n",
    "print(my_tuple[4][2])"
   ]
  },
  {
   "cell_type": "code",
   "execution_count": null,
   "id": "9acae6a5",
   "metadata": {},
   "outputs": [],
   "source": [
    "#q4) 사전형 자료형을 살펴보자 {키:값}으로 선언된 요소로 순서 없는 자료형\n",
    "my_dict={'a':'apple','i':'나는','am':'입니다','python':'파이썬'}\n",
    "print(type(my_dict))\n",
    "print(my_dict)"
   ]
  },
  {
   "cell_type": "code",
   "execution_count": null,
   "id": "847b9f37",
   "metadata": {},
   "outputs": [],
   "source": [
    "#q4-1)dict 클래스의 멤버를 확인 해보자\n",
    "print(dir(my_dict))"
   ]
  },
  {
   "cell_type": "code",
   "execution_count": null,
   "id": "df8e6fcc",
   "metadata": {},
   "outputs": [],
   "source": [
    "help(my_dict.values)\n",
    "#q4-2)my_dict가 가진 요소의 값들만 출력 해보자.\n",
    "my_dict.values()\n",
    "my_dict.keys()"
   ]
  },
  {
   "cell_type": "code",
   "execution_count": 1,
   "id": "485d9032",
   "metadata": {},
   "outputs": [
    {
     "name": "stdout",
     "output_type": "stream",
     "text": [
      "100 200 300\n"
     ]
    }
   ],
   "source": [
    "#Q1 int 객체를 확인해보자\n",
    "my_a = 100\n",
    "my_b = 200\n",
    "my_c = 300\n",
    "\n",
    "print(my_a,my_b,my_c)"
   ]
  },
  {
   "cell_type": "code",
   "execution_count": 2,
   "id": "491658a9",
   "metadata": {},
   "outputs": [
    {
     "name": "stdout",
     "output_type": "stream",
     "text": [
      "['__abs__', '__add__', '__and__', '__bool__', '__ceil__', '__class__', '__delattr__', '__dir__', '__divmod__', '__doc__', '__eq__', '__float__', '__floor__', '__floordiv__', '__format__', '__ge__', '__getattribute__', '__getnewargs__', '__gt__', '__hash__', '__index__', '__init__', '__init_subclass__', '__int__', '__invert__', '__le__', '__lshift__', '__lt__', '__mod__', '__mul__', '__ne__', '__neg__', '__new__', '__or__', '__pos__', '__pow__', '__radd__', '__rand__', '__rdivmod__', '__reduce__', '__reduce_ex__', '__repr__', '__rfloordiv__', '__rlshift__', '__rmod__', '__rmul__', '__ror__', '__round__', '__rpow__', '__rrshift__', '__rshift__', '__rsub__', '__rtruediv__', '__rxor__', '__setattr__', '__sizeof__', '__str__', '__sub__', '__subclasshook__', '__truediv__', '__trunc__', '__xor__', 'as_integer_ratio', 'bit_length', 'conjugate', 'denominator', 'from_bytes', 'imag', 'numerator', 'real', 'to_bytes']\n"
     ]
    }
   ],
   "source": [
    "#Q2 int 클래스 객체의 멤버를 확인해보자\n",
    "print(dir(int))\n"
   ]
  },
  {
   "cell_type": "code",
   "execution_count": 17,
   "id": "0e96b1f9",
   "metadata": {},
   "outputs": [
    {
     "name": "stdout",
     "output_type": "stream",
     "text": [
      "b'\\x00d'\n",
      "b'd\\x00'\n"
     ]
    }
   ],
   "source": [
    "#Q3 my_a 객체가 가진 값을 이용하여 'to_bytes'로 값을 리턴해보자\n",
    "print(my_a.to_bytes(2,byteorder='big')) #sys.byteorder\n",
    "print((100).to_bytes(2,byteorder='little'))\n"
   ]
  },
  {
   "cell_type": "code",
   "execution_count": 19,
   "id": "8ed1219d",
   "metadata": {},
   "outputs": [
    {
     "name": "stdout",
     "output_type": "stream",
     "text": [
      "hap = 600\n"
     ]
    }
   ],
   "source": [
    "##Q4) 3rodml 변수의 합을 구해보자.\n",
    "hap = my_a+my_b+my_c\n",
    "print(\"hap =\", hap)"
   ]
  },
  {
   "cell_type": "code",
   "execution_count": 23,
   "id": "f0bb13a5",
   "metadata": {},
   "outputs": [
    {
     "data": {
      "text/plain": [
       "[1, 2, 3, 4, 5, [1, 3, 4, 5, 6]]"
      ]
     },
     "execution_count": 23,
     "metadata": {},
     "output_type": "execute_result"
    }
   ],
   "source": [
    "##Q5) 1,2,3,4,5 개의 list 형태의 my_list 변수에 추가해서 출력 해보자\n",
    "my_list = []\n",
    "my_list.append(1)\n",
    "my_list.append(2)\n",
    "my_list.append(3)\n",
    "my_list.append(4)\n",
    "my_list.append(5)\n",
    "u_list = [1,3,4,5,6]\n",
    "my_list.append(u_list)\n",
    "my_list"
   ]
  },
  {
   "cell_type": "code",
   "execution_count": 24,
   "id": "154c01a8",
   "metadata": {},
   "outputs": [
    {
     "data": {
      "text/plain": [
       "['__add__',\n",
       " '__class__',\n",
       " '__class_getitem__',\n",
       " '__contains__',\n",
       " '__delattr__',\n",
       " '__dir__',\n",
       " '__doc__',\n",
       " '__eq__',\n",
       " '__format__',\n",
       " '__ge__',\n",
       " '__getattribute__',\n",
       " '__getitem__',\n",
       " '__getnewargs__',\n",
       " '__gt__',\n",
       " '__hash__',\n",
       " '__init__',\n",
       " '__init_subclass__',\n",
       " '__iter__',\n",
       " '__le__',\n",
       " '__len__',\n",
       " '__lt__',\n",
       " '__mul__',\n",
       " '__ne__',\n",
       " '__new__',\n",
       " '__reduce__',\n",
       " '__reduce_ex__',\n",
       " '__repr__',\n",
       " '__rmul__',\n",
       " '__setattr__',\n",
       " '__sizeof__',\n",
       " '__str__',\n",
       " '__subclasshook__',\n",
       " 'count',\n",
       " 'index']"
      ]
     },
     "execution_count": 24,
     "metadata": {},
     "output_type": "execute_result"
    }
   ],
   "source": [
    "##Q6) 튜플객체를 확인해보자 \n",
    "m_tuple = ()\n",
    "dir(m_tuple)"
   ]
  },
  {
   "cell_type": "code",
   "execution_count": null,
   "id": "89541340",
   "metadata": {},
   "outputs": [],
   "source": []
  },
  {
   "cell_type": "code",
   "execution_count": null,
   "id": "88ab83db",
   "metadata": {},
   "outputs": [],
   "source": []
  },
  {
   "cell_type": "code",
   "execution_count": null,
   "id": "b1493bbc",
   "metadata": {},
   "outputs": [],
   "source": []
  },
  {
   "cell_type": "code",
   "execution_count": null,
   "id": "07a427f9",
   "metadata": {},
   "outputs": [],
   "source": []
  },
  {
   "cell_type": "code",
   "execution_count": null,
   "id": "e47303fd",
   "metadata": {},
   "outputs": [],
   "source": []
  }
 ],
 "metadata": {
  "kernelspec": {
   "display_name": "Python 3 (ipykernel)",
   "language": "python",
   "name": "python3"
  },
  "language_info": {
   "codemirror_mode": {
    "name": "ipython",
    "version": 3
   },
   "file_extension": ".py",
   "mimetype": "text/x-python",
   "name": "python",
   "nbconvert_exporter": "python",
   "pygments_lexer": "ipython3",
   "version": "3.9.13"
  }
 },
 "nbformat": 4,
 "nbformat_minor": 5
}
