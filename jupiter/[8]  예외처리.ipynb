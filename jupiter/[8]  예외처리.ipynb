{
 "cells": [
  {
   "cell_type": "markdown",
   "id": "e9b371b1",
   "metadata": {},
   "source": [
    "10/0\n",
    "\n",
    "Traceback (most recent call last): \n",
    "File\"stdin\", line 1, in <module>\n",
    "    ->pvm에서 파이썬 실행시 프로그램 중단 될 경우 객체를 생성 시킨다.\n",
    "  \n",
    "ZeroDivisionError: division by zero\n",
    "    ->ZeroDivisionError를 생성시켜서 프로그램 중단시점으로 메시지와 함께 출력한다"
   ]
  },
  {
   "cell_type": "code",
   "execution_count": 2,
   "id": "b51062dd",
   "metadata": {},
   "outputs": [
    {
     "name": "stdout",
     "output_type": "stream",
     "text": [
      "0으롤 나누려고 했잖아\n",
      "22222222\n"
     ]
    }
   ],
   "source": [
    "#case 01 : 10/0으로 나누게 되면 예외 객체가 생성된다. -> except로 가서 처리 한다.\n",
    "try:\n",
    "    r = 10/0\n",
    "    print('11111111111')\n",
    "except ZeroDivisionError as ZDE: #ZDE = ZeroDivisionError()\n",
    "    print('0으롤 나누려고 했잖아')\n",
    "else:\n",
    "    print('else')\n",
    "\n",
    "print('22222222')"
   ]
  },
  {
   "cell_type": "code",
   "execution_count": 4,
   "id": "bfe52a69",
   "metadata": {},
   "outputs": [
    {
     "name": "stdout",
     "output_type": "stream",
     "text": [
      "명령수행 만줄\n",
      "else\n",
      "22222222\n"
     ]
    }
   ],
   "source": [
    "#case 02 : 10/3으로 나누게 되면 예외 객체가 생성되지 않는다. -> 명령수행 -> else로 가서 처리 한다.\n",
    "try:\n",
    "    r = 10/3\n",
    "    print('명령수행 만줄')\n",
    "except ZeroDivisionError as ZDE: #ZDE = ZeroDivisionError()\n",
    "    print('0으롤 나누려고 했잖아')\n",
    "else:\n",
    "    print('else')\n",
    "\n",
    "print('22222222')"
   ]
  },
  {
   "cell_type": "code",
   "execution_count": 6,
   "id": "5ac19e11",
   "metadata": {},
   "outputs": [
    {
     "name": "stdout",
     "output_type": "stream",
     "text": [
      "명령수행 만줄\n",
      "else\n",
      "반드시 처리할 명령\n",
      "22222222\n"
     ]
    }
   ],
   "source": [
    "#case 03 : 10/3으로 나누게 되면 예외 객체가 생성되지 않는다. -> 명령수행 -> else로 가서 처리 한다.\n",
    "# -> 반드시 처리할 명령은 마지막 구문에 finnaly로 가서 처리하고 try~ except~ finally가 종료된다\n",
    "\n",
    "try:\n",
    "    r = 10/3 #--->1 오류 발생 X\n",
    "    print('명령수행 만줄')#--->2 명령 수행\n",
    "except ZeroDivisionError as ZDE: #ZDE = ZeroDivisionError()\n",
    "    print('0으롤 나누려고 했잖아')\n",
    "else:# ---> 3) 명령 수행\n",
    "    print('else')\n",
    "finally:#--->4) 마지막으로 반드시 수행\n",
    "    print('반드시 처리할 명령')\n",
    "print('22222222')"
   ]
  },
  {
   "cell_type": "code",
   "execution_count": 7,
   "id": "ab3ab807",
   "metadata": {},
   "outputs": [
    {
     "name": "stdout",
     "output_type": "stream",
     "text": [
      "0으롤 나누려고 했잖아\n",
      "반드시 처리할 명령\n",
      "22222222\n"
     ]
    }
   ],
   "source": [
    "#case 04 : 10/3으로 나누게 되면 예외 객체가 생성된다. -> except로 가서 처리 한다.\n",
    "# -> 반드시 처리할 명령은 마지막 구문에 finnaly로 가서 처리하고 try~ except~ finally가 종료된다\n",
    "# try -> except -> finally\n",
    "try:\n",
    "    r = 10/0 #--->1 오류 발생 O\n",
    "    print('명령수행 만줄') # X\n",
    "except ZeroDivisionError as ZDE: #ZDE = ZeroDivisionError()#--->2 명령 수행\n",
    "    print('0으롤 나누려고 했잖아')\n",
    "else:\n",
    "    print('else')\n",
    "finally:#--->4) 마지막으로 반드시 수행\n",
    "    print('반드시 처리할 명령')\n",
    "print('22222222')"
   ]
  },
  {
   "cell_type": "code",
   "execution_count": 8,
   "id": "0da01c73",
   "metadata": {},
   "outputs": [
    {
     "name": "stdout",
     "output_type": "stream",
     "text": [
      "Help on class ZeroDivisionError in module builtins:\n",
      "\n",
      "class ZeroDivisionError(ArithmeticError)\n",
      " |  Second argument to a division or modulo operation was zero.\n",
      " |  \n",
      " |  Method resolution order:\n",
      " |      ZeroDivisionError\n",
      " |      ArithmeticError\n",
      " |      Exception\n",
      " |      BaseException\n",
      " |      object\n",
      " |  \n",
      " |  Methods defined here:\n",
      " |  \n",
      " |  __init__(self, /, *args, **kwargs)\n",
      " |      Initialize self.  See help(type(self)) for accurate signature.\n",
      " |  \n",
      " |  ----------------------------------------------------------------------\n",
      " |  Static methods defined here:\n",
      " |  \n",
      " |  __new__(*args, **kwargs) from builtins.type\n",
      " |      Create and return a new object.  See help(type) for accurate signature.\n",
      " |  \n",
      " |  ----------------------------------------------------------------------\n",
      " |  Methods inherited from BaseException:\n",
      " |  \n",
      " |  __delattr__(self, name, /)\n",
      " |      Implement delattr(self, name).\n",
      " |  \n",
      " |  __getattribute__(self, name, /)\n",
      " |      Return getattr(self, name).\n",
      " |  \n",
      " |  __reduce__(...)\n",
      " |      Helper for pickle.\n",
      " |  \n",
      " |  __repr__(self, /)\n",
      " |      Return repr(self).\n",
      " |  \n",
      " |  __setattr__(self, name, value, /)\n",
      " |      Implement setattr(self, name, value).\n",
      " |  \n",
      " |  __setstate__(...)\n",
      " |  \n",
      " |  __str__(self, /)\n",
      " |      Return str(self).\n",
      " |  \n",
      " |  with_traceback(...)\n",
      " |      Exception.with_traceback(tb) --\n",
      " |      set self.__traceback__ to tb and return self.\n",
      " |  \n",
      " |  ----------------------------------------------------------------------\n",
      " |  Data descriptors inherited from BaseException:\n",
      " |  \n",
      " |  __cause__\n",
      " |      exception cause\n",
      " |  \n",
      " |  __context__\n",
      " |      exception context\n",
      " |  \n",
      " |  __dict__\n",
      " |  \n",
      " |  __suppress_context__\n",
      " |  \n",
      " |  __traceback__\n",
      " |  \n",
      " |  args\n",
      "\n",
      "None\n"
     ]
    }
   ],
   "source": [
    "print(help(ZeroDivisionError))"
   ]
  },
  {
   "cell_type": "code",
   "execution_count": 13,
   "id": "2d4c94eb",
   "metadata": {},
   "outputs": [
    {
     "name": "stdout",
     "output_type": "stream",
     "text": [
      "IndexError:  list index out of range <class 'IndexError'>\n",
      "백업, 파일클로스, 데이터베이스 클로즈\n"
     ]
    },
    {
     "ename": "TypeError",
     "evalue": "BaseException.with_traceback() takes exactly one argument (0 given)",
     "output_type": "error",
     "traceback": [
      "\u001b[0;31m---------------------------------------------------------------------------\u001b[0m",
      "\u001b[0;31mIndexError\u001b[0m                                Traceback (most recent call last)",
      "Cell \u001b[0;32mIn[13], line 3\u001b[0m\n\u001b[1;32m      2\u001b[0m \u001b[38;5;28;01mtry\u001b[39;00m:\n\u001b[0;32m----> 3\u001b[0m     num\u001b[38;5;241m=\u001b[39m\u001b[43mL\u001b[49m\u001b[43m[\u001b[49m\u001b[38;5;241;43m4\u001b[39;49m\u001b[43m]\u001b[49m\n\u001b[1;32m      4\u001b[0m \u001b[38;5;28;01mexcept\u001b[39;00m \u001b[38;5;167;01mIndexError\u001b[39;00m \u001b[38;5;28;01mas\u001b[39;00m IE:\n",
      "\u001b[0;31mIndexError\u001b[0m: list index out of range",
      "\nDuring handling of the above exception, another exception occurred:\n",
      "\u001b[0;31mTypeError\u001b[0m                                 Traceback (most recent call last)",
      "Cell \u001b[0;32mIn[13], line 6\u001b[0m\n\u001b[1;32m      4\u001b[0m \u001b[38;5;28;01mexcept\u001b[39;00m \u001b[38;5;167;01mIndexError\u001b[39;00m \u001b[38;5;28;01mas\u001b[39;00m IE:\n\u001b[1;32m      5\u001b[0m     \u001b[38;5;28mprint\u001b[39m(\u001b[38;5;124m'\u001b[39m\u001b[38;5;124mIndexError: \u001b[39m\u001b[38;5;124m'\u001b[39m,IE, \u001b[38;5;28mtype\u001b[39m(IE))\n\u001b[0;32m----> 6\u001b[0m     \u001b[43mIE\u001b[49m\u001b[38;5;241;43m.\u001b[39;49m\u001b[43mwith_traceback\u001b[49m\u001b[43m(\u001b[49m\u001b[43m)\u001b[49m\n\u001b[1;32m      7\u001b[0m \u001b[38;5;28;01melse\u001b[39;00m:\n\u001b[1;32m      8\u001b[0m     \u001b[38;5;28mprint\u001b[39m(\u001b[38;5;124m'\u001b[39m\u001b[38;5;124m오류없음\u001b[39m\u001b[38;5;124m'\u001b[39m)\n",
      "\u001b[0;31mTypeError\u001b[0m: BaseException.with_traceback() takes exactly one argument (0 given)"
     ]
    }
   ],
   "source": [
    "L=[1,2,3]\n",
    "try:\n",
    "    num=L[4]\n",
    "except IndexError as IE:\n",
    "    print('IndexError: ',IE, type(IE))\n",
    "    IE.with_traceback()\n",
    "else:\n",
    "    print('오류없음')\n",
    "finally:\n",
    "    print('백업, 파일클로스, 데이터베이스 클로즈')"
   ]
  },
  {
   "cell_type": "code",
   "execution_count": 15,
   "id": "e66b5a69",
   "metadata": {},
   "outputs": [
    {
     "name": "stderr",
     "output_type": "stream",
     "text": [
      "Traceback (most recent call last):\n",
      "  File \"/var/folders/vf/5rv7rfgn0n3967r8ljqz1x_80000gn/T/ipykernel_23674/1962349420.py\", line 9, in <module>\n",
      "    f1(1.0,0.0)\n",
      "  File \"/var/folders/vf/5rv7rfgn0n3967r8ljqz1x_80000gn/T/ipykernel_23674/1962349420.py\", line 4, in f1\n",
      "    return f2(a)+f2(b)\n",
      "  File \"/var/folders/vf/5rv7rfgn0n3967r8ljqz1x_80000gn/T/ipykernel_23674/1962349420.py\", line 6, in f2\n",
      "    return 1.0/x\n",
      "ZeroDivisionError: float division by zero\n"
     ]
    }
   ],
   "source": [
    "import traceback #순차적인 예외를 확인 하고 싶을 때 사용하는 모듈\n",
    "\n",
    "def f1(a,b):\n",
    "    return f2(a)+f2(b)\n",
    "def f2(x):\n",
    "    return 1.0/x\n",
    "if __name__ == '__main__':\n",
    "    try:\n",
    "        f1(1.0,0.0)\n",
    "    except (ZeroDivisionError , IOError):\n",
    "        traceback.print_exc() #-> 발생된 예외를 순차적으로 찾아서 출력 해준다.\n",
    "        "
   ]
  },
  {
   "cell_type": "code",
   "execution_count": 16,
   "id": "4a3a3998",
   "metadata": {},
   "outputs": [
    {
     "name": "stdout",
     "output_type": "stream",
     "text": [
      "1 (<class 'ZeroDivisionError'>, ZeroDivisionError('division by zero'), <traceback object at 0x7fc2916a0200>)\n",
      "2 <class 'ZeroDivisionError'>\n",
      "3 ('division by zero',)\n",
      "4 division by zero\n"
     ]
    }
   ],
   "source": [
    "import sys\n",
    "if __name__ == '__main__':\n",
    "    try:\n",
    "        10/0\n",
    "    except ZeroDivisionError as z:\n",
    "        print(\"1\",sys.exc_info())\n",
    "        print(\"2\",format(type(z)))\n",
    "        print(\"3\",format(z.args))\n",
    "        print(\"4\",format(z))"
   ]
  },
  {
   "cell_type": "code",
   "execution_count": 1,
   "id": "a466bf6b",
   "metadata": {},
   "outputs": [
    {
     "name": "stdout",
     "output_type": "stream",
     "text": [
      "종료\n"
     ]
    }
   ],
   "source": [
    "try:\n",
    "    f=open(\"exception.txt\",'r')# 파일이 존재 하지 않으면 예외발생\n",
    "except FileNotFoundError as FMF: #발생된 예외처리\n",
    "    pass\n",
    "else: # 예외발생이 되지 않을 경우\n",
    "    data = f.read()\n",
    "    print(data)\n",
    "    f.close()\n",
    "print(\"종료\")"
   ]
  },
  {
   "cell_type": "code",
   "execution_count": 5,
   "id": "cb132e87",
   "metadata": {},
   "outputs": [
    {
     "name": "stdout",
     "output_type": "stream",
     "text": [
      "2 exception.txt\n",
      "[Errno 2] No such file or directory: 'exception.txt' \t [Errno 2] No such file or directory: 'exception.txt'\n",
      "종료\n"
     ]
    }
   ],
   "source": [
    "import sys\n",
    "try:\n",
    "    f=open(\"exception.txt\",'r') # 파일이 존재 하지 않아 예외 발생\n",
    "except FileNotFoundError as FMF:\n",
    "    print(FMF.errno, FMF.filename)\n",
    "    print(FMF,'\\t',FMF.__str__())\n",
    "    tb=sys.exc_info()[2]\n",
    "    FMF.with_traceback(tb)\n",
    "else:\n",
    "    data = f.read()\n",
    "    print(data)\n",
    "    f.close\n",
    "print('종료')"
   ]
  },
  {
   "cell_type": "code",
   "execution_count": 7,
   "id": "8bbe754a",
   "metadata": {},
   "outputs": [
    {
     "name": "stdout",
     "output_type": "stream",
     "text": [
      "['__cause__', '__class__', '__context__', '__delattr__', '__dict__', '__dir__', '__doc__', '__eq__', '__format__', '__ge__', '__getattribute__', '__gt__', '__hash__', '__init__', '__init_subclass__', '__le__', '__lt__', '__ne__', '__new__', '__reduce__', '__reduce_ex__', '__repr__', '__setattr__', '__setstate__', '__sizeof__', '__str__', '__subclasshook__', '__suppress_context__', '__traceback__', 'args', 'characters_written', 'errno', 'filename', 'filename2', 'strerror', 'with_traceback']\n",
      "Help on member descriptor builtins.OSError.filename:\n",
      "\n",
      "filename\n",
      "    exception filename\n",
      "\n",
      "None\n",
      "Help on method_descriptor:\n",
      "\n",
      "with_traceback(...)\n",
      "    Exception.with_traceback(tb) --\n",
      "    set self.__traceback__ to tb and return self.\n",
      "\n",
      "None\n"
     ]
    }
   ],
   "source": [
    "print(dir(FileNotFoundError))\n",
    "print(help(FileNotFoundError.filename))\n",
    "print(help(FileNotFoundError.with_traceback))"
   ]
  },
  {
   "cell_type": "code",
   "execution_count": 6,
   "id": "13ca32fe",
   "metadata": {},
   "outputs": [
    {
     "name": "stdout",
     "output_type": "stream",
     "text": [
      "('My Error !!!',)\n"
     ]
    }
   ],
   "source": [
    "import sys\n",
    "class MyException(Exception): # 사용자 예외처리\n",
    "    def __init__(self,value):\n",
    "        self.value = value\n",
    "        \n",
    "    def __str__(self):\n",
    "        return self.value + \"abcde\"\n",
    "    \n",
    "def raise_exception(err_mgs):\n",
    "    raise MyException(err_mgs) # 프로그램 중단, raise = 예외처리 프로그램을 명시 실행\n",
    "    \n",
    "if __name__ == '__main__':\n",
    "    try:\n",
    "        raise_exception(\"My Error !!!\")\n",
    "        #raise MyException(\"My Error!!!\")\n",
    "    except MyException as e:  #  t1=Test()\n",
    "        print(e.args)\n",
    "        e.with_traceback(sys.exc_info()[2])"
   ]
  },
  {
   "cell_type": "code",
   "execution_count": 8,
   "id": "8a415b33",
   "metadata": {},
   "outputs": [
    {
     "name": "stdout",
     "output_type": "stream",
     "text": [
      "Zero division\n",
      "처리가 종료 되었습니다\n"
     ]
    }
   ],
   "source": [
    "x=1\n",
    "y=0\n",
    "\n",
    "try:\n",
    "    z=x/y # try 중 먼저 처리된 것의 except 먼저처리 후 종료\n",
    "    f= open('exception.txt')\n",
    "except ZeroDivisionError:\n",
    "    print(\"Zero division\")\n",
    "except FileNotFoundError :\n",
    "    print(\"File not found\")\n",
    "finally:\n",
    "    print('처리가 종료 되었습니다')"
   ]
  },
  {
   "cell_type": "code",
   "execution_count": 10,
   "id": "2b5d2745",
   "metadata": {},
   "outputs": [
    {
     "name": "stdout",
     "output_type": "stream",
     "text": [
      "~~~~~~~~\n",
      "처리가 종료 되었습니다\n"
     ]
    }
   ],
   "source": [
    "x=1\n",
    "y=0\n",
    "\n",
    "try:\n",
    "    try:\n",
    "        f= open('exception.txt') #1\n",
    "    except FileNotFoundError :\n",
    "        pass #2\n",
    "    try:   \n",
    "        z=x/y #3\n",
    "    except ZeroDivisionError:\n",
    "        pass #4\n",
    "    print(\"~~~~~~~~\") #5\n",
    "except Exception :\n",
    "    print(\"Exception\")\n",
    "finally:\n",
    "    print('처리가 종료 되었습니다')#6"
   ]
  }
 ],
 "metadata": {
  "kernelspec": {
   "display_name": "Python 3 (ipykernel)",
   "language": "python",
   "name": "python3"
  },
  "language_info": {
   "codemirror_mode": {
    "name": "ipython",
    "version": 3
   },
   "file_extension": ".py",
   "mimetype": "text/x-python",
   "name": "python",
   "nbconvert_exporter": "python",
   "pygments_lexer": "ipython3",
   "version": "3.9.13"
  }
 },
 "nbformat": 4,
 "nbformat_minor": 5
}
