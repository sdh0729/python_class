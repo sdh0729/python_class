{
 "cells": [
  {
   "cell_type": "markdown",
   "id": "23186ea9",
   "metadata": {},
   "source": [
    "<<식별자 -> 변수와 자료형(5) -> 연산자 -> 제어문[조건, 반복, 선택문, 흐름 제어문] -> 함수 -> 클래스(메소드원형, 속성) -> 상속 -> 다형성 -> 파일입출력 -> 예외처리 -> 스레드 ->  네트워크 + 모듈처리\n",
    "\n",
    "python 제어문 _파이썬의 문법으로 기본문을 만들어 제공\n",
    " 1) 조건문 : 만일에 ~하다면 이라는 조건에 대한 명령을 구현할 때 사용한다.\n",
    "   [단일 형식] \n",
    "     if 조건:\n",
    "        True 실행문\n",
    "     else :\n",
    "        False 실행문\n",
    "        \n",
    "   [다중 형식] \n",
    "     if 조건:\n",
    "        True 실행문\n",
    "     elif 조건2:\n",
    "        True 실행문\n",
    "     elif 조건3:\n",
    "        True 실행문\n",
    "     else :\n",
    "        False 실행문\n",
    "        "
   ]
  },
  {
   "cell_type": "code",
   "execution_count": null,
   "id": "48ad932e",
   "metadata": {},
   "outputs": [],
   "source": [
    "#q1 두 숫자를 입력 받아 합을 구해보자 \n",
    "a = int(input('a= '))\n",
    "b = int(input('b= '))\n",
    "hap = a+b\n",
    "print(hap)"
   ]
  },
  {
   "cell_type": "code",
   "execution_count": null,
   "id": "a9343388",
   "metadata": {},
   "outputs": [],
   "source": [
    "#q2 두 숫자를 입력 받아 합을 구해보자 \n",
    "# 두 수의 합이 100보다 크다라고 출력하소 그렇지 않으면 작다라고 출력 하자\n",
    "a = int(input('a= '))\n",
    "b = int(input('b= '))\n",
    "hap = a+b\n",
    "if hap > 100 :\n",
    "    print('hap is bigger than 100')\n",
    "else:\n",
    "    print('hap is lower than 100')"
   ]
  },
  {
   "cell_type": "code",
   "execution_count": null,
   "id": "7a8a864a",
   "metadata": {},
   "outputs": [],
   "source": [
    "#q3) in 연산자 이용하여 목록에 속한 데이터의 유무를 확인 해보. in, not in\n",
    "print('a' in [1,2,3,4,5,'a'])\n",
    "print('a' not in [1,2,3,4,5,'a'])"
   ]
  },
  {
   "cell_type": "code",
   "execution_count": null,
   "id": "bb90baff",
   "metadata": {},
   "outputs": [],
   "source": [
    "list_data = [1,2,3,4,'a']\n",
    "if 'a' in list_data:\n",
    "    print(\"목록에 있어\")\n",
    "else:\n",
    "    print(\"목록에 없어\")"
   ]
  },
  {
   "cell_type": "code",
   "execution_count": null,
   "id": "3652b9e3",
   "metadata": {},
   "outputs": [],
   "source": [
    "list_data = [1,2,3,4,'a']\n",
    "if 'a' in list_data: \n",
    "    print(\"목록에 있어\")\n",
    "else: \n",
    "    print(\"목록에 없어\")"
   ]
  },
  {
   "cell_type": "code",
   "execution_count": null,
   "id": "0c54563e",
   "metadata": {},
   "outputs": [],
   "source": [
    "#q4) 동전을 던져서 앞면 또는 뒷면이 나오는지를 확인 하자\n",
    "import random\n",
    "print(dir(random))\n",
    "\n",
    "coin = ['앞면', '뒷면']\n",
    "print(random.choice(coin))\n",
    "help(random.Random)\n",
    "\n",
    "print(dir(random.SystemRandom))\n",
    "print(help(random.SystemRandom))"
   ]
  },
  {
   "cell_type": "code",
   "execution_count": null,
   "id": "7f888192",
   "metadata": {},
   "outputs": [],
   "source": [
    "#q5) 세 과목을 일력받아 총점과 평균을 구하자, 평균에 따라 90 보다 크면 A, 80 이상 B 나머지 F\n",
    "# 변수 선언 -> 값대입 -> 연산 -> 출력\n",
    "\n",
    "kor = eng = math = tot= avg =0\n",
    "\n",
    "kor = int(input('input kor:'))\n",
    "eng = int(input('input eng:'))\n",
    "math = int(input('input math:'))\n",
    "\n",
    "tot = kor + eng + math\n",
    "avg = tot/3\n",
    "\n",
    "if avg >= 90:\n",
    "    print(\"A\")\n",
    "elif avg>=80:\n",
    "    print(\"B\")\n",
    "else:\n",
    "    print(\"C\")\n"
   ]
  },
  {
   "cell_type": "code",
   "execution_count": null,
   "id": "8ba7013b",
   "metadata": {},
   "outputs": [],
   "source": [
    "#q6) 임의의 리스트 객체를 출력 해보자.\n",
    "my_list = [1,2,3,4,5,6,7]\n",
    "\n",
    "for i in my_list:\n",
    "    print(i, end='\\t')\n",
    "    \n",
    "my_tuple = (1,2,3,4,5,6,7)\n",
    "\n",
    "for i in my_tuple:\n",
    "    print(i,i,sep=',',end='\\t')"
   ]
  },
  {
   "cell_type": "code",
   "execution_count": null,
   "id": "8ce0c165",
   "metadata": {},
   "outputs": [],
   "source": [
    "print(1,2,3,4,5, sep=':',end='\\t')"
   ]
  },
  {
   "cell_type": "code",
   "execution_count": null,
   "id": "a60c4cb7",
   "metadata": {},
   "outputs": [],
   "source": [
    "#q7) 임의의 range() 를 출력 해보자 . for 사용\n",
    "print(range(10))\n",
    "print()\n",
    "\n",
    "for r in range(10):\n",
    "    print(r, end='\\t')\n",
    "print()\n",
    "\n",
    "for r in range(1,10,2):\n",
    "    print(r, end='\\t')\n",
    "print()\n",
    "\n",
    "for r in range(10,0,-1):\n",
    "    print(r, end='\\t')\n",
    "print()\n",
    "\n",
    "for r in range(1,9,2):\n",
    "    print(r, end='\\t')\n",
    "print()"
   ]
  },
  {
   "cell_type": "code",
   "execution_count": null,
   "id": "c0edb511",
   "metadata": {},
   "outputs": [],
   "source": [
    "#q8) 입력한 숫자만큼 *을 출력해보자.\n",
    "a=int(input('input Num = '))\n",
    "for i in range(1,a+1):\n",
    "    print('*' *i)"
   ]
  },
  {
   "cell_type": "code",
   "execution_count": null,
   "id": "7bfe9c79",
   "metadata": {},
   "outputs": [],
   "source": [
    "#q9) 주시위를 10번을 던져서 출력되는 눈을 확인 하시오 random.choice\n",
    "\n",
    "import random\n",
    "dice = [1,2,3,4,5,6]\n",
    "\n",
    "for i in range(1,11):\n",
    "    print(i,'번째는', random.choice(dice))"
   ]
  },
  {
   "cell_type": "code",
   "execution_count": null,
   "id": "f66e640d",
   "metadata": {},
   "outputs": [],
   "source": [
    "#q 10)  동전을 10번 던져서 출력되는 면을 확인\n",
    "import random\n",
    "coin = ['앞면','뒷면']\n",
    "\n",
    "for i in range(1,11):\n",
    "    print(i,'번째는', random.choice(coin))"
   ]
  },
  {
   "cell_type": "code",
   "execution_count": null,
   "id": "b299439f",
   "metadata": {},
   "outputs": [],
   "source": [
    "#q11) 동전 10번 던져서 출력되는 면 확인, 앞면이 나온 횟수 출력\n",
    "import random\n",
    "coin = ['앞면','뒷면']\n",
    "cnt =0 \n",
    "for i in range(1,11):\n",
    "    result = random.choice(coin)\n",
    "    if result == '앞면':\n",
    "        cnt = cnt +1\n",
    "print (\"앞면이 나오는 횟수 = \" , cnt)"
   ]
  },
  {
   "cell_type": "code",
   "execution_count": null,
   "id": "e276be48",
   "metadata": {},
   "outputs": [],
   "source": [
    "#q 12# 주시위를 100번 던져서 눈이 3이 나온 횟수를 출력 해보자\n",
    "\n",
    "import random\n",
    "dice = [1,2,3,4,5,6]\n",
    "cnt =0 \n",
    "for i in range(1,101):\n",
    "    result = random.choice(dice)\n",
    "    if result == 3:\n",
    "        cnt = cnt +1\n",
    "print (\"3이 나온 횟수 = \" , cnt)"
   ]
  },
  {
   "cell_type": "code",
   "execution_count": null,
   "id": "10ad939e",
   "metadata": {},
   "outputs": [],
   "source": [
    "#q 13) 주시위를 100번 던져서 눈이 5이 나올 확률 출력 해보자\n",
    "import random\n",
    "dice = [1,2,3,4,5,6]\n",
    "cnt =0 \n",
    "for i in range(1,101):\n",
    "    result = random.choice(dice)\n",
    "    if result == 5:\n",
    "        cnt = cnt +1\n",
    "print (\"5 나올 확률 = \" , cnt/100)"
   ]
  },
  {
   "cell_type": "code",
   "execution_count": null,
   "id": "927df688",
   "metadata": {},
   "outputs": [],
   "source": [
    "# q 14) 중첩 for를 이용하여 구구단을 출력해보자\n",
    "for i in range(1,10):\n",
    "    for j in range(1,10):\n",
    "        print(i, '*', j, '=', (i*j))"
   ]
  },
  {
   "cell_type": "code",
   "execution_count": null,
   "id": "74febb82",
   "metadata": {},
   "outputs": [],
   "source": [
    "#q15) 주사위를 10번 던졌을 때 짝수가 나오는 회수를 구하자 \n",
    "\n",
    "import random\n",
    "dice = [1,2,3,4,5,6]\n",
    "cnt =0 \n",
    "for i in range (1,11):\n",
    "    result = random.choice(dice)\n",
    "    if result % 2 ==0:\n",
    "        cnt = cnt+1\n",
    "        \n",
    "print(\"횟수는 : \",cnt)"
   ]
  },
  {
   "cell_type": "code",
   "execution_count": null,
   "id": "f45f89fb",
   "metadata": {},
   "outputs": [],
   "source": [
    "#q16) 주사위를 10번 던졌을 때 짝수가 나오는 회수를 구하자 \n",
    "  #단 이 작업을 5번 반복하자\n",
    "import random\n",
    "dice = [1,2,3,4,5,6]\n",
    "for j in range(1,6):\n",
    "    cnt =0 \n",
    "    for i in range (1,11):\n",
    "        result = random.choice(dice)\n",
    "        if result % 2 ==0:\n",
    "            cnt = cnt+1\n",
    "    print(\"횟수는 : \",cnt)"
   ]
  },
  {
   "cell_type": "code",
   "execution_count": null,
   "id": "a2a51536",
   "metadata": {},
   "outputs": [],
   "source": [
    "# q 17) 동전을 100번 던져서 앞면이 나올 확률을 구하는 작업을 5번 반복해 보자\n",
    "import random\n",
    "coin = ['front', 'back']\n",
    "for j in range (1,6):\n",
    "    cnt = 0\n",
    "    for i in range(1,101):\n",
    "        result = random.choice(coin)\n",
    "        if result == 'front':\n",
    "            cnt=cnt+1\n",
    "    print(\"확률은\", cnt/100)"
   ]
  },
  {
   "cell_type": "code",
   "execution_count": null,
   "id": "f2efa1b4",
   "metadata": {},
   "outputs": [],
   "source": [
    "#q 18) 두 개의 동전을 300번 던져서 동시에 둘 다 앞면이 나오는 횟수를 출력하세요\n",
    "import random\n",
    "coin1 = ['front','back']\n",
    "coin2 = ['front','back']\n",
    "cnt=0\n",
    "for i in range(1,301):\n",
    "        result1 = random.choice(coin1)\n",
    "        result2 = random.choice(coin2)\n",
    "        if result1 == 'front' and result2=='front':\n",
    "            cnt = cnt + 1\n",
    "print(cnt)\n",
    "        "
   ]
  },
  {
   "cell_type": "code",
   "execution_count": 2,
   "id": "d9f51c56",
   "metadata": {},
   "outputs": [
    {
     "name": "stdout",
     "output_type": "stream",
     "text": [
      "Requirement already satisfied: numpy in /Users/dhshin/.conda/envs/python/lib/python3.9/site-packages (1.23.3)\n",
      "Note: you may need to restart the kernel to use updated packages.\n"
     ]
    }
   ],
   "source": [
    "pip install numpy"
   ]
  },
  {
   "cell_type": "code",
   "execution_count": 4,
   "id": "dbebc5f8",
   "metadata": {},
   "outputs": [
    {
     "data": {
      "text/plain": [
       "<module 'numpy' from '/Users/dhshin/.conda/envs/python/lib/python3.9/site-packages/numpy/__init__.py'>"
      ]
     },
     "execution_count": 4,
     "metadata": {},
     "output_type": "execute_result"
    }
   ],
   "source": [
    "import numpy as np\n",
    "np"
   ]
  },
  {
   "cell_type": "code",
   "execution_count": 8,
   "id": "223365f7",
   "metadata": {},
   "outputs": [
    {
     "name": "stdout",
     "output_type": "stream",
     "text": [
      "15\n",
      "1\n",
      "5\n"
     ]
    }
   ],
   "source": [
    "print(np.sum([1,2,3,4,5]))\n",
    "print(np.min([1,2,3,4,5]))\n",
    "print(np.max([1,2,3,4,5]))\n"
   ]
  },
  {
   "cell_type": "code",
   "execution_count": 9,
   "id": "8c2cab39",
   "metadata": {},
   "outputs": [
    {
     "name": "stdout",
     "output_type": "stream",
     "text": [
      "119.858\n",
      "82.37983600000001\n",
      "9.076333841370094\n"
     ]
    }
   ],
   "source": [
    "# q 19) 한개의 주사위를 360번 던져서 3의 배수의 눈이 나오는 회수를 1000번 반복하고 \n",
    "# 그 1000번을 list 변수 x 에 저장한 다음 x 의 평균,분산,표준편차를 구하자\n",
    "\n",
    "import random\n",
    "import numpy as np\n",
    "\n",
    "dice = [1,2,3,4,5,6]\n",
    "x=[]\n",
    "\n",
    "for j in range(1,1001):\n",
    "    cnt=0\n",
    "    for i in range(1,361):\n",
    "        result=random.choice(dice)\n",
    "        if result % 3 ==0:\n",
    "            cnt=cnt+1\n",
    "    x.append(cnt)\n",
    "    \n",
    "print(np.mean(x))\n",
    "print(np.var(x))\n",
    "print(np.std(x))"
   ]
  },
  {
   "cell_type": "code",
   "execution_count": null,
   "id": "0853001e",
   "metadata": {},
   "outputs": [],
   "source": []
  },
  {
   "cell_type": "code",
   "execution_count": null,
   "id": "060b2962",
   "metadata": {},
   "outputs": [],
   "source": []
  },
  {
   "cell_type": "code",
   "execution_count": null,
   "id": "614e0d57",
   "metadata": {},
   "outputs": [],
   "source": []
  },
  {
   "cell_type": "code",
   "execution_count": null,
   "id": "eb8ed5c1",
   "metadata": {},
   "outputs": [],
   "source": []
  }
 ],
 "metadata": {
  "kernelspec": {
   "display_name": "Python 3 (ipykernel)",
   "language": "python",
   "name": "python3"
  },
  "language_info": {
   "codemirror_mode": {
    "name": "ipython",
    "version": 3
   },
   "file_extension": ".py",
   "mimetype": "text/x-python",
   "name": "python",
   "nbconvert_exporter": "python",
   "pygments_lexer": "ipython3",
   "version": "3.9.13"
  }
 },
 "nbformat": 4,
 "nbformat_minor": 5
}
