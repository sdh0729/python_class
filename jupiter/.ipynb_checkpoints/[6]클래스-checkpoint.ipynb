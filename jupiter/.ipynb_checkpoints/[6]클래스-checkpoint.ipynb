{
 "cells": [
  {
   "cell_type": "markdown",
   "id": "c9155ab3",
   "metadata": {},
   "source": [
    "### 클래스(Class)"
   ]
  },
  {
   "cell_type": "markdown",
   "id": "a1226dfb",
   "metadata": {},
   "source": [
    "* 파이썬 클래스 관련 용어  \n",
    "\n",
    "- (1) 클래스(class) : class 문으로 정의하며, 멤버와 메서드를 가지는 객체이다, 새로운 이름 공간을 갖는 단위\n",
    "- (2) 클래스 객체(class object) : 클래스와 같은 의미\n",
    "\n",
    "- (3) 클래스 인스턴스  : 클래스를 호출하여 생성된 객체  \n",
    "- (4) 클래스 인스턴스 객체 : 클래스 인스턴스와 같은 의미\n",
    "\n",
    "- (5) 멤버 : 클래스 혹은 클래스 인스턴스 공간에 정의 된 변수\n",
    "- (6) 메서드 : 클래스 공간에 정의된 함수, def 사용\n",
    "- (7) 속성(Attribute) : 멤버와 메서드 전체를 가리킨다\n",
    "\n",
    "- (8) 상속 : 상위 클래스의 속성과 행동을 그대로 받아들이고 추가로 필요한 기능"
   ]
  },
  {
   "cell_type": "code",
   "execution_count": 2,
   "id": "49b2be00",
   "metadata": {},
   "outputs": [
    {
     "name": "stdout",
     "output_type": "stream",
     "text": [
      "<class '__main__.Simple'>\n",
      "<__main__.Simple object at 0x7f99716c69a0>\n",
      "<__main__.Simple object at 0x7f99716c69d0>\n"
     ]
    }
   ],
   "source": [
    "# class UserName : #class 클래스 이름 : \n",
    "#        속성 .... \n",
    "\n",
    "# 클래스 생성, 선언\n",
    "class Simple:\n",
    "    pass\n",
    "\n",
    "print(Simple)\n",
    "\n",
    "# 인스턴스의 생성\n",
    "s1 = Simple() #객체를 생성\n",
    "print(s1)\n",
    "\n",
    "s2 = Simple() #객체를  생성\n",
    "print(s2)\n",
    "\n",
    "# 인스턴스의 삭제(소멸) : 파이썬에서는 종료시 자동으로 소멸\n",
    "del s1\n",
    "# print(s1)  # NameError "
   ]
  },
  {
   "cell_type": "code",
   "execution_count": 16,
   "id": "4389caae",
   "metadata": {},
   "outputs": [
    {
     "name": "stdout",
     "output_type": "stream",
     "text": [
      "<__main__.U_class object at 0x7f9920092940>\n",
      "['Hap', '__class__', '__delattr__', '__dict__', '__dir__', '__doc__', '__eq__', '__format__', '__ge__', '__getattribute__', '__gt__', '__hash__', '__init__', '__init_subclass__', '__le__', '__lt__', '__module__', '__ne__', '__new__', '__reduce__', '__reduce_ex__', '__repr__', '__setattr__', '__sizeof__', '__str__', '__subclasshook__', '__weakref__', 'a', 'b']\n",
      "Help on method Hap in module __main__:\n",
      "\n",
      "Hap(a, b, /) method of __main__.U_class instance\n",
      "\n",
      "None\n",
      "300\n",
      "140295644195136\n"
     ]
    }
   ],
   "source": [
    "#q1) U_class 라는 이름으로 합을 구하는 클래스를 선언해보자\n",
    "# self -> 현재 오브젝트를 지칭하는 연산자 \n",
    "class U_class:\n",
    "    a=0\n",
    "    b=0\n",
    "    def Hap(self,a,b,/): # 메소드 매개인자로 첫인자는 클래스의 주소를 가진의미로 self 명시\n",
    "        self.a = a\n",
    "        self.b = b\n",
    "        return self.a+self.b\n",
    "    \n",
    "r = U_class()\n",
    "print(r) #객체의 주소를 16진수로 리턴\n",
    "print(dir(r)) # 목록 확인\n",
    "print(help(r.Hap)) # 메소드 사용법 확인\n",
    "print(r.Hap(100,200)) # 메소트 호출\n",
    "print(id(r))# 주소확인"
   ]
  },
  {
   "cell_type": "code",
   "execution_count": 14,
   "id": "30bc295d",
   "metadata": {},
   "outputs": [
    {
     "name": "stdout",
     "output_type": "stream",
     "text": [
      "100\n"
     ]
    }
   ],
   "source": [
    "#q2) 객체를 생성할 때 값을 전달하는 생성자를 사용하자.\n",
    "class U_class01:\n",
    "    def __init__(self,su):\n",
    "        print(su)\n",
    "r = U_class01(100) # __init__으로 전달 , 클래스는 객체를 생성하면서 생성자 값전달"
   ]
  },
  {
   "cell_type": "code",
   "execution_count": 15,
   "id": "3b539e98",
   "metadata": {},
   "outputs": [
    {
     "name": "stdout",
     "output_type": "stream",
     "text": [
      "['__call__', '__class__', '__delattr__', '__dir__', '__doc__', '__eq__', '__format__', '__ge__', '__get__', '__getattribute__', '__gt__', '__hash__', '__init__', '__init_subclass__', '__le__', '__lt__', '__name__', '__ne__', '__new__', '__objclass__', '__qualname__', '__reduce__', '__reduce_ex__', '__repr__', '__setattr__', '__sizeof__', '__str__', '__subclasshook__', '__text_signature__']\n",
      "100\n"
     ]
    }
   ],
   "source": [
    "#q3) q2랑 동일하게 int 클래스에 객체를 생성하면서 값을 100전달해보자\n",
    "print(dir(int.__init__))\n",
    "# print(help(int))\n",
    "r = int(100) #기본자료형은 값을 대입  r = int(100)\n",
    "print(r)"
   ]
  },
  {
   "cell_type": "code",
   "execution_count": 19,
   "id": "3ffd5605",
   "metadata": {},
   "outputs": [
    {
     "name": "stdout",
     "output_type": "stream",
     "text": [
      "300\n",
      "------------------\n",
      "['__class__', '__delattr__', '__dict__', '__dir__', '__doc__', '__eq__', '__format__', '__ge__', '__getattribute__', '__gt__', '__hash__', '__init__', '__init_subclass__', '__le__', '__lt__', '__module__', '__ne__', '__new__', '__reduce__', '__reduce_ex__', '__repr__', '__setattr__', '__sizeof__', '__str__', '__subclasshook__', '__weakref__', 'a', 'b', 'getHap', 'setHap']\n"
     ]
    }
   ],
   "source": [
    "#q4) self 키워드로 멤버변수 접근해보자\n",
    "class U_class03: #클래스 멤버변수는 멤버 메소드에서 seㅣf. 으로 접근할수있다\n",
    "\n",
    "    a=0\n",
    "    b=0\n",
    "    def setHap(self,a,b,/):\n",
    "        self.a = a\n",
    "        self.b = b\n",
    "    def getHap(self):\n",
    "        return self.a+self.b\n",
    "my_res = U_class03()\n",
    "my_res.setHap(100,200)\n",
    "print(my_res.getHap())\n",
    "print('------------------')\n",
    "print(dir(my_res))\n",
    "    \n"
   ]
  },
  {
   "cell_type": "markdown",
   "id": "5e41b2b1",
   "metadata": {},
   "source": [
    "#q05-1) 다음과 같은 주소록을 클래스로 구현해보자 case01: 생성자로 값을 전달하고 출력해보자\n",
    "   name  addr  phone. -> 클래스 이름: My_Address\n",
    "   이름    주소  전화번호\n",
    "   홍길동   서울  02-000-0000    a1 -> 레코드 설계\n",
    "   정길동   인천  031-000-0000   a2\n",
    "   박길동   부산  053-000-0000   a3\n",
    "   "
   ]
  },
  {
   "cell_type": "code",
   "execution_count": 23,
   "id": "7f4d2597",
   "metadata": {},
   "outputs": [
    {
     "name": "stdout",
     "output_type": "stream",
     "text": [
      "홍길동\t 서울\t 02-000-0000\n",
      "\n",
      "정길동\t 인천\t 031-000-0000\n",
      "\n",
      "박길동\t 부산\t 054-000-0000\n",
      "\n"
     ]
    }
   ],
   "source": [
    "class My_Address:\n",
    "    #생성자 명시 : 멤버변수를 초기화하면서 객체를 생성할 때 단 한번만 명시호출\n",
    "    def __init__(self,name,addr,phone): #생성자\n",
    "        self.name = name\n",
    "        self.addr = addr\n",
    "        self.phone = phone\n",
    "    def prn(self): #출력\n",
    "        print(f'{self.name}\\t {self.addr}\\t {self.phone}\\n')\n",
    "\n",
    "\n",
    "a1 = My_Address('홍길동','서울','02-000-0000')\n",
    "a2 = My_Address('정길동','인천','031-000-0000')\n",
    "a3 = My_Address('박길동','부산','054-000-0000')\n",
    "(a1.prn())\n",
    "(a2.prn())\n",
    "(a3.prn())"
   ]
  },
  {
   "cell_type": "markdown",
   "id": "c585a94f",
   "metadata": {},
   "source": [
    "#q05-2) 다음과 같은 주소록을 클래스로 구현해보자 \n",
    "  case02: 생성자로 값을 전달하고 출력해보자. 값을 변경해보자\n",
    "   name  addr  phone. -> 클래스 이름: My_Address02\n",
    "   이름    주소  전화번호\n",
    "   홍길동   서울  02-000-0000    a1 -> 레코드 설계\n",
    "   정길동   인천  031-000-0000   a2\n",
    "   박길동   부산  053-000-0000   a3 \n"
   ]
  },
  {
   "cell_type": "code",
   "execution_count": 33,
   "id": "64ee9845",
   "metadata": {},
   "outputs": [
    {
     "name": "stdout",
     "output_type": "stream",
     "text": [
      "홍길동\t 서울\t 02-000-0000\n",
      "\n",
      "정길동\t 인천\t 031-000-0000\n",
      "\n",
      "박길동\t 부산\t 054-000-0000\n",
      "\n",
      "최길동\n",
      "최길동\t 서울\t 02-000-0000\n",
      "\n",
      "제주도\n",
      "010-000-0000\n",
      "최길동\t 서울\t 02-000-0000\n",
      "\n",
      "정길동\t 인천\t 010-000-0000\n",
      "\n",
      "박길동\t 제주도\t 054-000-0000\n",
      "\n",
      "['__class__', '__delattr__', '__dict__', '__dir__', '__doc__', '__eq__', '__format__', '__ge__', '__getattribute__', '__gt__', '__hash__', '__init__', '__init_subclass__', '__le__', '__lt__', '__module__', '__ne__', '__new__', '__reduce__', '__reduce_ex__', '__repr__', '__setattr__', '__sizeof__', '__str__', '__subclasshook__', '__weakref__', 'addr', 'getAddr', 'getName', 'getPhone', 'name', 'phone', 'prn', 'setAddr', 'setName', 'setPhone']\n",
      "Help on method setPhone in module __main__:\n",
      "\n",
      "setPhone(phone) method of __main__.My_Address02 instance\n",
      "    # 3 전화번호 변경 후 리턴하는 메소드 추가\n",
      "\n",
      "None\n",
      "Help on method getPhone in module __main__:\n",
      "\n",
      "getPhone() method of __main__.My_Address02 instance\n",
      "\n",
      "None\n",
      "Help on My_Address02 in module __main__ object:\n",
      "\n",
      "class My_Address02(builtins.object)\n",
      " |  My_Address02(name, addr, phone)\n",
      " |  \n",
      " |  Methods defined here:\n",
      " |  \n",
      " |  __init__(self, name, addr, phone)\n",
      " |      Initialize self.  See help(type(self)) for accurate signature.\n",
      " |  \n",
      " |  getAddr(self)\n",
      " |  \n",
      " |  getName(self)\n",
      " |  \n",
      " |  getPhone(self)\n",
      " |  \n",
      " |  prn(self)\n",
      " |  \n",
      " |  setAddr(self, addr)\n",
      " |      # 2) 주소 변경 후 리턴하는 메소드 추가\n",
      " |  \n",
      " |  setName(self, name)\n",
      " |      # 1) 이름 변경후 리턴하는 메소드 추가\n",
      " |  \n",
      " |  setPhone(self, phone)\n",
      " |      # 3 전화번호 변경 후 리턴하는 메소드 추가\n",
      " |  \n",
      " |  ----------------------------------------------------------------------\n",
      " |  Data descriptors defined here:\n",
      " |  \n",
      " |  __dict__\n",
      " |      dictionary for instance variables (if defined)\n",
      " |  \n",
      " |  __weakref__\n",
      " |      list of weak references to the object (if defined)\n",
      "\n",
      "None\n"
     ]
    }
   ],
   "source": [
    "# 조건 1) 초기값 대입후 전체 출력 \n",
    "# 조건 2) 홍길동의 이름을 최길동으로 변경 후 출력\n",
    "# 조건 3) 박길동의 부산 주소를 제주도로 변경 후 출력\n",
    "# 조건 4) 정길동의 전화 번호를 010-000-0000으로 변경 후 출력\n",
    "# 설계 : 값 전달 및 변경 set 멤버 변수,  값 리턴 get멤버 변수\n",
    "class My_Address02:\n",
    "    #생성자 명시 : 멤버변수를 초기화하면서 객체를 생성할 때 단 한번만 명시호출\n",
    "    def __init__(self,name,addr,phone): #생성자\n",
    "        self.name = name\n",
    "        self.addr = addr\n",
    "        self.phone = phone\n",
    "    def prn(self): #출력\n",
    "        print(f'{self.name}\\t {self.addr}\\t {self.phone}\\n')\n",
    "        \n",
    "    # 1) 이름 변경후 리턴하는 메소드 추가\n",
    "    def setName(self,name):\n",
    "        self.name = name # 전달받은 name값을 self.name으로 값전달 및 변경\n",
    "    def getName(self):\n",
    "        return self.name\n",
    "    \n",
    "    # 2) 주소 변경 후 리턴하는 메소드 추가\n",
    "    def setAddr(self,addr):\n",
    "        self.addr = addr \n",
    "    def getAddr(self):\n",
    "        return self.addr\n",
    "        \n",
    "    # 3 전화번호 변경 후 리턴하는 메소드 추가\n",
    "    def setPhone(self,phone):\n",
    "        self.phone = phone \n",
    "    def getPhone(self):\n",
    "        return self.phone\n",
    "        \n",
    "# 조건 1) 초기값 대입후 전체 출력 \n",
    "a1 = My_Address02('홍길동','서울','02-000-0000')\n",
    "a2 = My_Address02('정길동','인천','031-000-0000')\n",
    "a3 = My_Address02('박길동','부산','054-000-0000')\n",
    "a1.prn()\n",
    "a2.prn()\n",
    "a3.prn()\n",
    "# 조건 2) 홍길동의 이름을 최길동으로 변경 후 출력\n",
    "a1.setName('최길동')\n",
    "print(a1.getName())\n",
    "a1.prn()\n",
    "# 조건 3) 박길동의 부산 주소를 제주도로 변경 후 출력\n",
    "a3.setAddr('제주도')\n",
    "print(a3.getAddr())\n",
    "# 조건 4) 정길동의 전화 번호를 010-000-0000으로 변경 후 출력\n",
    "a2.setPhone('010-000-0000')\n",
    "print(a2.getPhone())\n",
    "\n",
    "a1.prn()\n",
    "a2.prn()\n",
    "a3.prn()\n",
    "print(dir(a1))\n",
    "print(help(a1.setPhone))\n",
    "print(help(a1.getPhone))\n",
    "print(help(a1))"
   ]
  },
  {
   "cell_type": "markdown",
   "id": "c313d0c8",
   "metadata": {},
   "source": [
    "#q05-3) 다음과 같은 주소록을 클래스로 구현해보자 case01: 생성자로 값을 전달하고 출력해보자\n",
    "   name  addr  phone. -> 클래스 이름: My_Address\n",
    "   이름    주소  전화번호\n",
    "   홍길동   서울  02-000-0000    a1 -> 레코드 설계\n",
    "   정길동   인천  031-000-0000   a2\n",
    "   박길동   부산  053-000-0000   a3\n"
   ]
  },
  {
   "cell_type": "code",
   "execution_count": null,
   "id": "50afc2ac",
   "metadata": {},
   "outputs": [],
   "source": []
  },
  {
   "cell_type": "code",
   "execution_count": 3,
   "id": "75bc0706",
   "metadata": {},
   "outputs": [
    {
     "name": "stdout",
     "output_type": "stream",
     "text": [
      "100\n",
      "[1, 2, 3, 4]\n",
      "Hi\n",
      "300\n",
      "300\n",
      "500\n",
      "300\n",
      "300\n",
      "700\n",
      "500\n",
      "300\n"
     ]
    }
   ],
   "source": [
    "# 멤버 접근 : 클래스 멤버와 인스턴스 멤버\n",
    "\n",
    "# (1) 클래스 멤버\n",
    "class MyClass:\n",
    "    cl_mem = 100         # 클래스 멤버\n",
    "    cl_list = [1,2,3,4]  # 클래스 멤버\n",
    "    a = 'Hi'             # 클래스 멤버\n",
    "\n",
    "# 클래스 객체를 통해서  직접 접근    \n",
    "print(MyClass.cl_mem)\n",
    "print(MyClass.cl_list)\n",
    "print(MyClass.a)    \n",
    "\n",
    "# 변경\n",
    "MyClass.cl_mem = 300\n",
    "print(MyClass.cl_mem)\n",
    "\n",
    "# 인스턴스 객체를 통해서 접근\n",
    "m1 = MyClass()   #  인스턴스의 생성\n",
    "print(m1.cl_mem)\n",
    "m1.cl_mem = 500\n",
    "print(m1.cl_mem)       # 500\n",
    "print(MyClass.cl_mem)  # 300\n",
    "\n",
    "m2 = MyClass()   #  인스턴스의 생성\n",
    "print(m2.cl_mem)\n",
    "m2.cl_mem = 700\n",
    "print(m2.cl_mem)       # 700\n",
    "print(m1.cl_mem)       # 500\n",
    "print(MyClass.cl_mem)  # 300"
   ]
  },
  {
   "cell_type": "code",
   "execution_count": 4,
   "id": "414cfaed",
   "metadata": {},
   "outputs": [
    {
     "name": "stdout",
     "output_type": "stream",
     "text": [
      "MyClass2 생성자가 호출됨\n",
      "__init__ : <__main__.MyClass2 object at 0x0000021B19104850> 10 20\n",
      "m1:        <__main__.MyClass2 object at 0x0000021B19104850>\n"
     ]
    }
   ],
   "source": [
    "# (2) 인스턴스 멤버의 구현과 접근 : 클래스의 메서드 내에 구현한 멤버\n",
    "\n",
    "# 생성자 메서드의 구현\n",
    "class MyClass2:\n",
    "    def __init__(self,a,b): # 생성자 메서드,인스턴스 객체를 생성할 때 자동으로 호출, 인스턴스 멤버 초기화 \n",
    "                            # 변수명을 self 대신 다른 이름으로 써도 가능하다 \n",
    "                            # self는 파이썬 내장 예약어는 아님\n",
    "        print('MyClass2 생성자가 호출됨')\n",
    "        print('__init__ :',self,a,b)\n",
    "        \n",
    "m1 = MyClass2(10,20)    # 인스턴스 생성    \n",
    "print('m1:       ',m1)  "
   ]
  },
  {
   "cell_type": "code",
   "execution_count": 5,
   "id": "2cfdec4f",
   "metadata": {},
   "outputs": [
    {
     "name": "stdout",
     "output_type": "stream",
     "text": [
      "MyClass2 생성자가 호출됨\n",
      "0\n",
      "50\n",
      "1\n",
      "80\n",
      "MyClass2 생성자가 호출됨\n",
      "0\n",
      "Hi\n",
      "1\n",
      "80\n"
     ]
    }
   ],
   "source": [
    "# 인스턴스 멤버의 생성과 초기화 : 생성자 메서드에 구현\n",
    "class MyClass2:\n",
    "    def __init__(self,var1): # 생성자 메서드, 인스턴스 메서드, \n",
    "                            # 첫인자는 인스턴스 자신 self(this)=현재 오브젝트를 지칭하는 연산자 \n",
    "        print('MyClass2 생성자가 호출됨')\n",
    "        self.in_mem = 0        # 인스턴스 멤버\n",
    "        self.in_list = [0]     # 인스턴스 멤버\n",
    "        self.a = var1          # 인스턴스 멤버\n",
    "\n",
    "m1 = MyClass2(50)    # 인스턴스의 생성\n",
    "print(m1.in_mem)     # 인스턴스의 멤버의 접근, 인스턴스를 통해서 접근가능\n",
    "print(m1.a)\n",
    "m1.in_mem = 1        # 인스턴스 멤버의 값을 변경\n",
    "m1.a = 80\n",
    "print(m1.in_mem)     # 1 \n",
    "print(m1.a)          # 80\n",
    "\n",
    "m2 = MyClass2('Hi')   # 인스턴스의 생성\n",
    "print(m2.in_mem)      # 0 \n",
    "print(m2.a)           # 'Hi'\n",
    "\n",
    "print(m1.in_mem)     # 1 \n",
    "print(m1.a)          # 80"
   ]
  },
  {
   "cell_type": "code",
   "execution_count": 6,
   "id": "3033114e",
   "metadata": {},
   "outputs": [
    {
     "name": "stdout",
     "output_type": "stream",
     "text": [
      "MyClass2 생성자가 호출됨\n",
      "0 0\n",
      "set 메서드가 호출됨\n",
      "30 40\n",
      "get 메서드가 호출됨\n",
      "30 40\n",
      "MyClass2 소멸자가 호출됨\n"
     ]
    }
   ],
   "source": [
    "# 인스턴스 메서드의 구현 : 생성된 인스턴스를 통해서 호출이 가능<<생성자와 소멸자 확인>>\n",
    "class MyClass2:\n",
    "    def __init__(self,var1): # 생성자 메서드, 인스턴스 메서드, 첫인자는 인스턴스 자신\n",
    "        print('MyClass2 생성자가 호출됨')\n",
    "        self.in_mem = 0         #인스턴스 멤버를 초기화 \n",
    "        self.in_list = [0]     \n",
    "        self.a = var1         \n",
    "        \n",
    "    def set(self,var1,var2):  #초기화가 되어있는 멤버변수의 값 전달 및 변경 하기 메소드\n",
    "        print('set 메서드가 호출됨')\n",
    "        self.in_mem = var1  #인스턴스 멤버를 변경    \n",
    "        self.a = var2         #인스턴스 멤버를 변경     \n",
    "         \n",
    "    def get(self):            #리턴을 하기 위한 메소드 \n",
    "        print('get 메서드가 호출됨')\n",
    "        return self.in_mem,self.a\n",
    "    \n",
    "    def __del__(self):   # 소멸자 명시 \n",
    "        print('MyClass2 소멸자가 호출됨')\n",
    "        \n",
    "m1 = MyClass2(0)  \n",
    "print(m1.in_mem,m1.a)  \n",
    "\n",
    "m1.set(30,40)    \n",
    "print(m1.in_mem,m1.a)   \n",
    "\n",
    "a,b = m1.get()    \n",
    "print(a,b)             \n",
    "\n",
    "del m1            "
   ]
  },
  {
   "cell_type": "code",
   "execution_count": null,
   "id": "a7cdade5",
   "metadata": {},
   "outputs": [],
   "source": [
    "# 파이썬 클래스의 메서드\n",
    "# (1) 일반 메서드(인스턴스 메서드)  : self인자로 시작\n",
    "# (2) 정적 메서드(static method)  # @staticmethod , 인스턴스를 만들지 않아도 호출 가능\n",
    "# (3) 클래스 메서드(class method) # @classmethod  , 인스턴스를 만들지 않아도 호출 가능, 첫 인자가 클래스 객체\n",
    "  # 인스턴스를 만들지 않아도 호출 가능"
   ]
  },
  {
   "cell_type": "markdown",
   "id": "20126538",
   "metadata": {},
   "source": [
    "* static - method(누적공유) -> 선언과 동시에 주소가 생성되어 bind 된다.\n",
    "                             static,class,struct,union,userFunction\n",
    "* instance - method (객체단위 생성)"
   ]
  },
  {
   "cell_type": "code",
   "execution_count": 7,
   "id": "b8105948",
   "metadata": {},
   "outputs": [
    {
     "data": {
      "text/plain": [
       "30"
      ]
     },
     "execution_count": 7,
     "metadata": {},
     "output_type": "execute_result"
    }
   ],
   "source": [
    "# (1) 일반 메서드(인스턴스 메서드) : 인스턴스 객체를 통하여 접근, 메서드의 첫인수로 self를 사용\n",
    "class MyClass:\n",
    "    def add(self,a,b):\n",
    "        return a + b\n",
    "m1 = MyClass() \n",
    "m1.add(10,20)"
   ]
  },
  {
   "cell_type": "code",
   "execution_count": 35,
   "id": "52ca5926",
   "metadata": {},
   "outputs": [
    {
     "name": "stdout",
     "output_type": "stream",
     "text": [
      "30\n",
      "80\n",
      "140296175272992 140295646018336\n"
     ]
    }
   ],
   "source": [
    "# (2) 정적 메서드(static method)  : 장식자 @staticmethod를 메서드 앞에 반드시 사용\n",
    "#               인스턴스를 만들지 않아도 호출 가능,메서드의 첫인수로 self를 받지 않는다\n",
    "# 목적 : 누적 데이터, 공유 변수 \n",
    "class MyClass:\n",
    "    @staticmethod\n",
    "    def add(a,b):         # 정적 메서드\n",
    "        return a + b\n",
    "    \n",
    "print(MyClass.add(10,20)) # 인스턴스 객체 없이 클래스를 통하여 직접 호출 클래스명.스태틱멤버\n",
    "\n",
    "m1 = MyClass()\n",
    "print(m1.add(30,50))      # 인스턴스 객체를 통하여 호출 가능\n",
    "\n",
    "print(id(MyClass),id(m1))"
   ]
  },
  {
   "cell_type": "code",
   "execution_count": 9,
   "id": "b48bcae6",
   "metadata": {},
   "outputs": [
    {
     "name": "stdout",
     "output_type": "stream",
     "text": [
      "(30, '클래스멤버')\n",
      "(80, '클래스멤버')\n"
     ]
    }
   ],
   "source": [
    "# (3) 클래스 메서드(class method) : 장식자  @classmethod 를 메서드 앞에 반드시 사용\n",
    "#                              인스턴스를 만들지 않아도 호출 가능, 첫 인자가 클래스 객체\n",
    "class MyClass:\n",
    "    cl_mem = '클래스멤버'\n",
    "    @classmethod\n",
    "    def add(cls,a,b):    # 클래스 메서드,  클래스 멤버와 같이 사용, cls는 클래스 객체\n",
    "        return a + b,cls.cl_mem\n",
    "    \n",
    "print(MyClass.add(10,20)) # 인스턴스 객체 없이 클래스를 통하여 직접 호출\n",
    "\n",
    "m1 = MyClass()\n",
    "print(m1.add(30,50))      # 인스턴스 객체를 통하여 호출 가능"
   ]
  },
  {
   "cell_type": "markdown",
   "id": "31484911",
   "metadata": {},
   "source": [
    "### 클래스 상속"
   ]
  },
  {
   "cell_type": "markdown",
   "id": "3e5cbdfb",
   "metadata": {},
   "source": [
    "#### 클래스 A에서 상속된 클래스 B가 있다고 할때, \n",
    "#### 클래스 A를 기반(Base) 클래스, 부모(Parent) 클래스 또는 상위(Super) 클래스라고 하며, \n",
    "#### 클래스 B를 파생(Derived) 클래스, 자식(Child) 클래스 또는 하위(Sub) 클래스라 한다.m"
   ]
  },
  {
   "cell_type": "code",
   "execution_count": 11,
   "id": "14b40372",
   "metadata": {},
   "outputs": [],
   "source": [
    "# 부모(상위,super,base) 클래스\n",
    "class Person:\n",
    "    def __init__(self,name,phone=None):\n",
    "        self.name = name               \n",
    "        self.phone = phone              \n",
    "        \n",
    "    def get_info(self):                \n",
    "        return self.name,self.phone"
   ]
  },
  {
   "cell_type": "code",
   "execution_count": 12,
   "id": "70c33230",
   "metadata": {},
   "outputs": [
    {
     "name": "stdout",
     "output_type": "stream",
     "text": [
      "('홍길동', '010-1234-1234')\n",
      "홍길동 010-1234-1234\n",
      "(<class 'object'>,)\n"
     ]
    }
   ],
   "source": [
    "p = Person('홍길동','010-1234-1234')   \n",
    "print(p.get_info())                    \n",
    "print(p.name,p.phone)                   \n",
    "print(Person.__bases__)                \n",
    "                       "
   ]
  },
  {
   "cell_type": "code",
   "execution_count": 14,
   "id": "3c1a8781",
   "metadata": {},
   "outputs": [],
   "source": [
    "# 자식(하위) 클래스\n",
    "class Employee(Person):   # 상속받은 부모클래스를 괄호안에 표현\n",
    "    def __init__(self,name,phone,position,salary): # 생성자\n",
    "        # Person.__init__(self,name,phone)\n",
    "        super().__init__(name,phone)  # 부모 클래스의 생성자를 호출\n",
    "        self.position = position\n",
    "        self.salary = salary \n",
    "        \n",
    "    def get_info(self): #선조가 가진 메소드를 후손이 재정의 override\n",
    "        ret = super().get_info()\n",
    "        return ret,self.position,self.salary\n",
    "\n",
    "#  super() 메서드 : 현재 클래스의 상위(부모) 클래스를 얻어 낸다      "
   ]
  },
  {
   "cell_type": "code",
   "execution_count": 15,
   "id": "13888154",
   "metadata": {},
   "outputs": [
    {
     "name": "stdout",
     "output_type": "stream",
     "text": [
      "(('김', '1111'), '과장', 500)\n"
     ]
    }
   ],
   "source": [
    "m1 = Employee('김','1111','과장',500)\n",
    "print(m1.get_info())"
   ]
  },
  {
   "cell_type": "code",
   "execution_count": 36,
   "id": "224ff384",
   "metadata": {},
   "outputs": [],
   "source": [
    "#q6) 상속의 선조를 찾아보자. \n",
    "class My_test:\n",
    "    pass\n"
   ]
  },
  {
   "cell_type": "code",
   "execution_count": 38,
   "id": "3dec1d93",
   "metadata": {},
   "outputs": [
    {
     "name": "stdout",
     "output_type": "stream",
     "text": [
      "['__class__', '__delattr__', '__dict__', '__dir__', '__doc__', '__eq__', '__format__', '__ge__', '__getattribute__', '__gt__', '__hash__', '__init__', '__init_subclass__', '__le__', '__lt__', '__module__', '__ne__', '__new__', '__reduce__', '__reduce_ex__', '__repr__', '__setattr__', '__sizeof__', '__str__', '__subclasshook__', '__weakref__']\n"
     ]
    }
   ],
   "source": [
    "print(dir(My_test))"
   ]
  },
  {
   "cell_type": "code",
   "execution_count": 39,
   "id": "edaf037e",
   "metadata": {},
   "outputs": [
    {
     "name": "stdout",
     "output_type": "stream",
     "text": [
      "Help on class My_test in module __main__:\n",
      "\n",
      "class My_test(builtins.object)\n",
      " |  Data descriptors defined here:\n",
      " |  \n",
      " |  __dict__\n",
      " |      dictionary for instance variables (if defined)\n",
      " |  \n",
      " |  __weakref__\n",
      " |      list of weak references to the object (if defined)\n",
      "\n",
      "None\n"
     ]
    }
   ],
   "source": [
    "print(help(My_test))"
   ]
  },
  {
   "cell_type": "code",
   "execution_count": 40,
   "id": "e5a43a89",
   "metadata": {},
   "outputs": [
    {
     "name": "stdout",
     "output_type": "stream",
     "text": [
      "['ArithmeticError', 'AssertionError', 'AttributeError', 'BaseException', 'BlockingIOError', 'BrokenPipeError', 'BufferError', 'BytesWarning', 'ChildProcessError', 'ConnectionAbortedError', 'ConnectionError', 'ConnectionRefusedError', 'ConnectionResetError', 'DeprecationWarning', 'EOFError', 'Ellipsis', 'EnvironmentError', 'Exception', 'False', 'FileExistsError', 'FileNotFoundError', 'FloatingPointError', 'FutureWarning', 'GeneratorExit', 'IOError', 'ImportError', 'ImportWarning', 'IndentationError', 'IndexError', 'InterruptedError', 'IsADirectoryError', 'KeyError', 'KeyboardInterrupt', 'LookupError', 'MemoryError', 'ModuleNotFoundError', 'NameError', 'None', 'NotADirectoryError', 'NotImplemented', 'NotImplementedError', 'OSError', 'OverflowError', 'PendingDeprecationWarning', 'PermissionError', 'ProcessLookupError', 'RecursionError', 'ReferenceError', 'ResourceWarning', 'RuntimeError', 'RuntimeWarning', 'StopAsyncIteration', 'StopIteration', 'SyntaxError', 'SyntaxWarning', 'SystemError', 'SystemExit', 'TabError', 'TimeoutError', 'True', 'TypeError', 'UnboundLocalError', 'UnicodeDecodeError', 'UnicodeEncodeError', 'UnicodeError', 'UnicodeTranslateError', 'UnicodeWarning', 'UserWarning', 'ValueError', 'Warning', 'ZeroDivisionError', '__IPYTHON__', '__build_class__', '__debug__', '__doc__', '__import__', '__loader__', '__name__', '__package__', '__spec__', 'abs', 'all', 'any', 'ascii', 'bin', 'bool', 'breakpoint', 'bytearray', 'bytes', 'callable', 'chr', 'classmethod', 'compile', 'complex', 'copyright', 'credits', 'delattr', 'dict', 'dir', 'display', 'divmod', 'enumerate', 'eval', 'exec', 'execfile', 'filter', 'float', 'format', 'frozenset', 'get_ipython', 'getattr', 'globals', 'hasattr', 'hash', 'help', 'hex', 'id', 'input', 'int', 'isinstance', 'issubclass', 'iter', 'len', 'license', 'list', 'locals', 'map', 'max', 'memoryview', 'min', 'next', 'object', 'oct', 'open', 'ord', 'pow', 'print', 'property', 'range', 'repr', 'reversed', 'round', 'runfile', 'set', 'setattr', 'slice', 'sorted', 'staticmethod', 'str', 'sum', 'super', 'tuple', 'type', 'vars', 'zip']\n"
     ]
    }
   ],
   "source": [
    "print(dir(__builtins__))"
   ]
  },
  {
   "cell_type": "code",
   "execution_count": 41,
   "id": "b228f3d6",
   "metadata": {},
   "outputs": [
    {
     "name": "stdout",
     "output_type": "stream",
     "text": [
      "Help on class object in module builtins:\n",
      "\n",
      "class object\n",
      " |  The base class of the class hierarchy.\n",
      " |  \n",
      " |  When called, it accepts no arguments and returns a new featureless\n",
      " |  instance that has no instance attributes and cannot be given any.\n",
      " |  \n",
      " |  Built-in subclasses:\n",
      " |      async_generator\n",
      " |      BaseException\n",
      " |      builtin_function_or_method\n",
      " |      bytearray\n",
      " |      ... and 91 other subclasses\n",
      " |  \n",
      " |  Methods defined here:\n",
      " |  \n",
      " |  __delattr__(self, name, /)\n",
      " |      Implement delattr(self, name).\n",
      " |  \n",
      " |  __dir__(self, /)\n",
      " |      Default dir() implementation.\n",
      " |  \n",
      " |  __eq__(self, value, /)\n",
      " |      Return self==value.\n",
      " |  \n",
      " |  __format__(self, format_spec, /)\n",
      " |      Default object formatter.\n",
      " |  \n",
      " |  __ge__(self, value, /)\n",
      " |      Return self>=value.\n",
      " |  \n",
      " |  __getattribute__(self, name, /)\n",
      " |      Return getattr(self, name).\n",
      " |  \n",
      " |  __gt__(self, value, /)\n",
      " |      Return self>value.\n",
      " |  \n",
      " |  __hash__(self, /)\n",
      " |      Return hash(self).\n",
      " |  \n",
      " |  __init__(self, /, *args, **kwargs)\n",
      " |      Initialize self.  See help(type(self)) for accurate signature.\n",
      " |  \n",
      " |  __le__(self, value, /)\n",
      " |      Return self<=value.\n",
      " |  \n",
      " |  __lt__(self, value, /)\n",
      " |      Return self<value.\n",
      " |  \n",
      " |  __ne__(self, value, /)\n",
      " |      Return self!=value.\n",
      " |  \n",
      " |  __reduce__(self, /)\n",
      " |      Helper for pickle.\n",
      " |  \n",
      " |  __reduce_ex__(self, protocol, /)\n",
      " |      Helper for pickle.\n",
      " |  \n",
      " |  __repr__(self, /)\n",
      " |      Return repr(self).\n",
      " |  \n",
      " |  __setattr__(self, name, value, /)\n",
      " |      Implement setattr(self, name, value).\n",
      " |  \n",
      " |  __sizeof__(self, /)\n",
      " |      Size of object in memory, in bytes.\n",
      " |  \n",
      " |  __str__(self, /)\n",
      " |      Return str(self).\n",
      " |  \n",
      " |  ----------------------------------------------------------------------\n",
      " |  Class methods defined here:\n",
      " |  \n",
      " |  __init_subclass__(...) from builtins.type\n",
      " |      This method is called when a class is subclassed.\n",
      " |      \n",
      " |      The default implementation does nothing. It may be\n",
      " |      overridden to extend subclasses.\n",
      " |  \n",
      " |  __subclasshook__(...) from builtins.type\n",
      " |      Abstract classes can override this to customize issubclass().\n",
      " |      \n",
      " |      This is invoked early on by abc.ABCMeta.__subclasscheck__().\n",
      " |      It should return True, False or NotImplemented.  If it returns\n",
      " |      NotImplemented, the normal algorithm is used.  Otherwise, it\n",
      " |      overrides the normal algorithm (and the outcome is cached).\n",
      " |  \n",
      " |  ----------------------------------------------------------------------\n",
      " |  Static methods defined here:\n",
      " |  \n",
      " |  __new__(*args, **kwargs) from builtins.type\n",
      " |      Create and return a new object.  See help(type) for accurate signature.\n",
      " |  \n",
      " |  ----------------------------------------------------------------------\n",
      " |  Data and other attributes defined here:\n",
      " |  \n",
      " |  __class__ = <class 'type'>\n",
      " |      type(object) -> the object's type\n",
      " |      type(name, bases, dict, **kwds) -> a new type\n",
      "\n",
      "None\n"
     ]
    }
   ],
   "source": [
    "print(help(__builtins__.object))"
   ]
  },
  {
   "cell_type": "code",
   "execution_count": 42,
   "id": "229f2603",
   "metadata": {},
   "outputs": [
    {
     "name": "stdout",
     "output_type": "stream",
     "text": [
      "['__class__', '__delattr__', '__dir__', '__doc__', '__eq__', '__format__', '__ge__', '__getattribute__', '__gt__', '__hash__', '__init__', '__init_subclass__', '__le__', '__lt__', '__ne__', '__new__', '__reduce__', '__reduce_ex__', '__repr__', '__setattr__', '__sizeof__', '__str__', '__subclasshook__']\n"
     ]
    }
   ],
   "source": [
    "print(dir(__builtins__.object))"
   ]
  },
  {
   "cell_type": "code",
   "execution_count": 43,
   "id": "5b089dbb",
   "metadata": {},
   "outputs": [
    {
     "name": "stdout",
     "output_type": "stream",
     "text": [
      "Help on wrapper_descriptor:\n",
      "\n",
      "__str__(self, /)\n",
      "    Return str(self).\n",
      "\n",
      "None\n"
     ]
    }
   ],
   "source": [
    "print(help(__builtins__.object.__str__))"
   ]
  },
  {
   "cell_type": "code",
   "execution_count": 45,
   "id": "da9dc8ab",
   "metadata": {},
   "outputs": [
    {
     "name": "stdout",
     "output_type": "stream",
     "text": [
      "현재클래스가 표현할 수 있는 기본 값\n",
      "현재클래스가 표현할 수 있는 기본 값\n"
     ]
    }
   ],
   "source": [
    "class MyClass:\n",
    "    def getPrn(self):\n",
    "        print('현재클래스가 표현할 수 있는 기본 값')\n",
    "        \n",
    "MyClass().getPrn()\n",
    "m1 = MyClass()\n",
    "m1.getPrn()"
   ]
  },
  {
   "cell_type": "code",
   "execution_count": 58,
   "id": "98297c62",
   "metadata": {},
   "outputs": [
    {
     "name": "stdout",
     "output_type": "stream",
     "text": [
      "현재클래스가 표현할 수 있는 기본 값\n",
      "현재클래스가 표현할 수 있는 기본 값\n"
     ]
    }
   ],
   "source": [
    "class MyClass:\n",
    "    def __str__(self):\n",
    "        return('현재클래스가 표현할 수 있는 기본 값')\n",
    "MyClass()\n",
    "m1=MyClass()\n",
    "m1\n",
    "\n",
    "m1.__str__()\n",
    "print(m1)# 객체를 호출해서 출력하면 원래는 주소가 출력이 되는데 재정의된 __str__이 리턴된다\n",
    "print(m1.__str__())"
   ]
  },
  {
   "cell_type": "code",
   "execution_count": 59,
   "id": "4528ead1",
   "metadata": {},
   "outputs": [
    {
     "name": "stdout",
     "output_type": "stream",
     "text": [
      "<__main__.MyClass object at 0x7f99201876a0>\n",
      "<__main__.MyClass object at 0x7f99201876a0>\n"
     ]
    }
   ],
   "source": [
    "class MyClass:\n",
    "    pass\n",
    "\n",
    "MyClass()\n",
    "m1=MyClass()\n",
    "m1\n",
    "m1.__str__()\n",
    "print(m1) \n",
    "print(m1.__str__())"
   ]
  },
  {
   "cell_type": "code",
   "execution_count": 62,
   "id": "e5ce2c8c",
   "metadata": {},
   "outputs": [
    {
     "name": "stdout",
     "output_type": "stream",
     "text": [
      "300\n",
      "300\n"
     ]
    }
   ],
   "source": [
    "res = int(300) #선조가 object / __str__/->__init__에서 받은 초기값을 리턴하도록 재정의 된\n",
    "print(res)\n",
    "print(res.__str__())"
   ]
  },
  {
   "cell_type": "code",
   "execution_count": null,
   "id": "cc002bfc",
   "metadata": {},
   "outputs": [],
   "source": []
  },
  {
   "cell_type": "code",
   "execution_count": null,
   "id": "45e2dd1a",
   "metadata": {},
   "outputs": [],
   "source": []
  },
  {
   "cell_type": "code",
   "execution_count": null,
   "id": "de78fd08",
   "metadata": {},
   "outputs": [],
   "source": []
  }
 ],
 "metadata": {
  "kernelspec": {
   "display_name": "Python 3 (ipykernel)",
   "language": "python",
   "name": "python3"
  },
  "language_info": {
   "codemirror_mode": {
    "name": "ipython",
    "version": 3
   },
   "file_extension": ".py",
   "mimetype": "text/x-python",
   "name": "python",
   "nbconvert_exporter": "python",
   "pygments_lexer": "ipython3",
   "version": "3.9.13"
  }
 },
 "nbformat": 4,
 "nbformat_minor": 5
}
