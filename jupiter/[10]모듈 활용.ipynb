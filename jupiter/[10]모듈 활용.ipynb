{
 "cells": [
  {
   "cell_type": "markdown",
   "id": "3ef8a83d",
   "metadata": {},
   "source": [
    "# 1. re 모듈"
   ]
  },
  {
   "cell_type": "raw",
   "id": "47a4d123",
   "metadata": {},
   "source": [
    "Q1) 문자열의 단어 수를 리턴해보자. str.split() / 정규표현식 \n",
    "str.split() : 문자열의 공백으로 구분하고 결과를 목록으로 리턴"
   ]
  },
  {
   "cell_type": "code",
   "execution_count": 3,
   "id": "81c97f8a",
   "metadata": {},
   "outputs": [
    {
     "name": "stdout",
     "output_type": "stream",
     "text": [
      "['format_spec', 'defaults', 'to', 'the', 'empty', 'string.']\n",
      "6\n"
     ]
    }
   ],
   "source": [
    "str = 'format_spec defaults to the empty string.'\n",
    "\n",
    "res = str.split()\n",
    "word_count = len(res)\n",
    "print(res)\n",
    "print(word_count)"
   ]
  },
  {
   "cell_type": "raw",
   "id": "4b78918a",
   "metadata": {},
   "source": [
    "Q2) 문자열의 단어수를 리턴받아 보자. 정규표현식\n",
    "import re -> 정규식 패턴을 컴파일 할 수 있는 모듈\n",
    "'findall', 'finditer', 'fullmatch', 'functools','match','search','split'\n",
    "findall(pattern,string,flags=0)"
   ]
  },
  {
   "cell_type": "code",
   "execution_count": 10,
   "id": "c01d62ad",
   "metadata": {},
   "outputs": [
    {
     "name": "stdout",
     "output_type": "stream",
     "text": [
      "['Return', 'a', 'list', 'of', 'all', 'non', 'overlapping', 'matches', 'in', 'the', 'string']\n",
      "11\n"
     ]
    }
   ],
   "source": [
    "import re\n",
    "#print(dir(re.findall))\n",
    "# ?(또는) , ^(제외) , +(1 more) , *(0 more)\n",
    "# \\W -> 알파벳, 숫자, _ 중 하나를 의미\n",
    "# \\W+ -> 알파벳, 숫자, _ 중 하나 이상 반복 되는 것\n",
    "str = 'Return a list of all non-overlapping matches in the string'\n",
    "res = re.findall(r'\\w+',str,)\n",
    "word_count = len(res)\n",
    "print(res)\n",
    "print(word_count)"
   ]
  },
  {
   "cell_type": "raw",
   "id": "b673d47f",
   "metadata": {},
   "source": [
    "Q3) 위 str에서 공백의 개수를 출력 해보자."
   ]
  },
  {
   "cell_type": "code",
   "execution_count": 11,
   "id": "9ea87dc6",
   "metadata": {},
   "outputs": [
    {
     "name": "stdout",
     "output_type": "stream",
     "text": [
      "[' ', ' ', ' ', ' ', ' ', ' ', ' ', ' ', ' ']\n",
      "9\n"
     ]
    }
   ],
   "source": [
    "import re\n",
    "str = 'Return a list of all non-overlapping matches in the string'\n",
    "res = re.findall(r'\\s+', str)\n",
    "word_count = len(res)\n",
    "print(res)\n",
    "print(word_count)"
   ]
  },
  {
   "cell_type": "raw",
   "id": "2b3beb8b",
   "metadata": {},
   "source": [
    "Q4) 리스트 객체에서 슬라이싱을 이용해서 삭제 해보자 "
   ]
  },
  {
   "cell_type": "code",
   "execution_count": 15,
   "id": "3d033bcd",
   "metadata": {},
   "outputs": [
    {
     "name": "stdout",
     "output_type": "stream",
     "text": [
      "['kim', 'kim', 'lee', 'park', 'kim', 'lee', 'park']\n"
     ]
    }
   ],
   "source": [
    "m = ['kim','lee','park']*3\n",
    "del m[1:3]\n",
    "print(m)"
   ]
  },
  {
   "cell_type": "markdown",
   "id": "0d6d6283",
   "metadata": {},
   "source": [
    "# 2. pathlib 모듈"
   ]
  },
  {
   "cell_type": "raw",
   "id": "de87cf80",
   "metadata": {},
   "source": [
    "1) 실행중인 python 파일 경로 확인 \n",
    "2) 작업 디렉토리를 확인\n",
    "3) 작업 디렉토리를 변경\n",
    "----------------------------\n",
    "파일을 만드는 방법\n",
    "1) pathlib.Path.touch() 방법\n",
    "2) open() 방법\n",
    "3) os.system"
   ]
  },
  {
   "cell_type": "code",
   "execution_count": 23,
   "id": "697d6f39",
   "metadata": {},
   "outputs": [
    {
     "data": {
      "text/plain": [
       "PosixPath('.')"
      ]
     },
     "execution_count": 23,
     "metadata": {},
     "output_type": "execute_result"
    }
   ],
   "source": [
    "from pathlib import Path #pathlib에서 Path만 참조\n",
    "path = Path()\n",
    "#dir(Path)\n",
    "path\n"
   ]
  },
  {
   "cell_type": "code",
   "execution_count": 22,
   "id": "b07befda",
   "metadata": {},
   "outputs": [
    {
     "name": "stdout",
     "output_type": "stream",
     "text": [
      "/Users/dhshin/PycharmProjects/python_class/jupiter\n"
     ]
    }
   ],
   "source": [
    "print(f'{Path.cwd()}') # 작업 경로 확인"
   ]
  },
  {
   "cell_type": "code",
   "execution_count": 39,
   "id": "1f6a62cd",
   "metadata": {},
   "outputs": [
    {
     "name": "stdout",
     "output_type": "stream",
     "text": [
      "['CLD_CONTINUED', 'CLD_DUMPED', 'CLD_EXITED', 'CLD_KILLED', 'CLD_STOPPED', 'CLD_TRAPPED', 'DirEntry', 'EX_CANTCREAT', 'EX_CONFIG', 'EX_DATAERR', 'EX_IOERR', 'EX_NOHOST', 'EX_NOINPUT', 'EX_NOPERM', 'EX_NOUSER', 'EX_OK', 'EX_OSERR', 'EX_OSFILE', 'EX_PROTOCOL', 'EX_SOFTWARE', 'EX_TEMPFAIL', 'EX_UNAVAILABLE', 'EX_USAGE', 'F_LOCK', 'F_OK', 'F_TEST', 'F_TLOCK', 'F_ULOCK', 'GenericAlias', 'Mapping', 'MutableMapping', 'NGROUPS_MAX', 'O_ACCMODE', 'O_APPEND', 'O_ASYNC', 'O_CLOEXEC', 'O_CREAT', 'O_DIRECTORY', 'O_DSYNC', 'O_EXCL', 'O_EXLOCK', 'O_NDELAY', 'O_NOCTTY', 'O_NOFOLLOW', 'O_NONBLOCK', 'O_RDONLY', 'O_RDWR', 'O_SHLOCK', 'O_SYNC', 'O_TRUNC', 'O_WRONLY', 'POSIX_SPAWN_CLOSE', 'POSIX_SPAWN_DUP2', 'POSIX_SPAWN_OPEN', 'PRIO_PGRP', 'PRIO_PROCESS', 'PRIO_USER', 'P_ALL', 'P_NOWAIT', 'P_NOWAITO', 'P_PGID', 'P_PID', 'P_WAIT', 'PathLike', 'RTLD_GLOBAL', 'RTLD_LAZY', 'RTLD_LOCAL', 'RTLD_NODELETE', 'RTLD_NOLOAD', 'RTLD_NOW', 'R_OK', 'SCHED_FIFO', 'SCHED_OTHER', 'SCHED_RR', 'SEEK_CUR', 'SEEK_END', 'SEEK_SET', 'ST_NOSUID', 'ST_RDONLY', 'TMP_MAX', 'WCONTINUED', 'WCOREDUMP', 'WEXITED', 'WEXITSTATUS', 'WIFCONTINUED', 'WIFEXITED', 'WIFSIGNALED', 'WIFSTOPPED', 'WNOHANG', 'WNOWAIT', 'WSTOPPED', 'WSTOPSIG', 'WTERMSIG', 'WUNTRACED', 'W_OK', 'X_OK', '_Environ', '__all__', '__builtins__', '__cached__', '__doc__', '__file__', '__loader__', '__name__', '__package__', '__spec__', '_check_methods', '_execvpe', '_exists', '_exit', '_fspath', '_fwalk', '_get_exports_list', '_spawnvef', '_walk', '_wrap_close', 'abc', 'abort', 'access', 'altsep', 'chdir', 'chflags', 'chmod', 'chown', 'chroot', 'close', 'closerange', 'confstr', 'confstr_names', 'cpu_count', 'ctermid', 'curdir', 'defpath', 'device_encoding', 'devnull', 'dup', 'dup2', 'environ', 'environb', 'error', 'execl', 'execle', 'execlp', 'execlpe', 'execv', 'execve', 'execvp', 'execvpe', 'extsep', 'fchdir', 'fchmod', 'fchown', 'fdopen', 'fork', 'forkpty', 'fpathconf', 'fsdecode', 'fsencode', 'fspath', 'fstat', 'fstatvfs', 'fsync', 'ftruncate', 'fwalk', 'get_blocking', 'get_exec_path', 'get_inheritable', 'get_terminal_size', 'getcwd', 'getcwdb', 'getegid', 'getenv', 'getenvb', 'geteuid', 'getgid', 'getgrouplist', 'getgroups', 'getloadavg', 'getlogin', 'getpgid', 'getpgrp', 'getpid', 'getppid', 'getpriority', 'getsid', 'getuid', 'initgroups', 'isatty', 'kill', 'killpg', 'lchflags', 'lchmod', 'lchown', 'linesep', 'link', 'listdir', 'lockf', 'lseek', 'lstat', 'major', 'makedev', 'makedirs', 'minor', 'mkdir', 'mkfifo', 'mknod', 'name', 'nice', 'open', 'openpty', 'pardir', 'path', 'pathconf', 'pathconf_names', 'pathsep', 'pipe', 'popen', 'posix_spawn', 'posix_spawnp', 'pread', 'putenv', 'pwrite', 'read', 'readlink', 'readv', 'register_at_fork', 'remove', 'removedirs', 'rename', 'renames', 'replace', 'rmdir', 'scandir', 'sched_get_priority_max', 'sched_get_priority_min', 'sched_yield', 'sendfile', 'sep', 'set_blocking', 'set_inheritable', 'setegid', 'seteuid', 'setgid', 'setgroups', 'setpgid', 'setpgrp', 'setpriority', 'setregid', 'setreuid', 'setsid', 'setuid', 'spawnl', 'spawnle', 'spawnlp', 'spawnlpe', 'spawnv', 'spawnve', 'spawnvp', 'spawnvpe', 'st', 'stat', 'stat_result', 'statvfs', 'statvfs_result', 'strerror', 'supports_bytes_environ', 'supports_dir_fd', 'supports_effective_ids', 'supports_fd', 'supports_follow_symlinks', 'symlink', 'sync', 'sys', 'sysconf', 'sysconf_names', 'system', 'tcgetpgrp', 'tcsetpgrp', 'terminal_size', 'times', 'times_result', 'truncate', 'ttyname', 'umask', 'uname', 'uname_result', 'unlink', 'unsetenv', 'urandom', 'utime', 'wait', 'wait3', 'wait4', 'waitpid', 'waitstatus_to_exitcode', 'walk', 'write', 'writev']\n",
      "/Users/dhshin/PycharmProjects/python_class/jupiter/dir\n"
     ]
    }
   ],
   "source": [
    "from os import chdir # 탐색기에서 사용되는 명령어를 가진 모듈\n",
    "print(dir(os))\n",
    "path = Path('./dir')\n",
    "chdir(path)\n",
    "print(f'{Path.cwd()}')"
   ]
  },
  {
   "cell_type": "code",
   "execution_count": 40,
   "id": "b4deefec",
   "metadata": {},
   "outputs": [
    {
     "data": {
      "text/plain": [
       "0"
      ]
     },
     "execution_count": 40,
     "metadata": {},
     "output_type": "execute_result"
    }
   ],
   "source": [
    "#) 파일을 만들자 \n",
    "from pathlib import Path\n",
    "import os\n",
    "Path('a.txt').touch()\n",
    "\n",
    "with open('b.txt','w'):\n",
    "    pass\n",
    "os.system('touch c.txt') # 파이썬 빅데이터 파이프라인을 구현할 때 몽고 또는 하둡 스토리지에 전송구문"
   ]
  },
  {
   "cell_type": "markdown",
   "id": "902923b4",
   "metadata": {},
   "source": [
    "# 3. os모듈\n",
    "* 시스템 환경에 관한 함수\n",
    "* 디렉토리 파일에 관한 함수\n",
    "* os.walk()\n",
    "os.system()\n",
    "os.listdir()\n",
    "os.path()\n",
    "os.environ()\n",
    "os.mkdir()\n",
    "os.rename()\n",
    "os.remove()"
   ]
  },
  {
   "cell_type": "code",
   "execution_count": 31,
   "id": "d96f7498",
   "metadata": {},
   "outputs": [
    {
     "name": "stdout",
     "output_type": "stream",
     "text": [
      "on Mac or Linux\n"
     ]
    },
    {
     "data": {
      "text/plain": [
       "'posix'"
      ]
     },
     "execution_count": 31,
     "metadata": {},
     "output_type": "execute_result"
    }
   ],
   "source": [
    "import os\n",
    "if os.name == 'nt':\n",
    "    print('on Windows')\n",
    "elif os.name == 'posix':\n",
    "    print('on Mac or Linux')\n",
    "os.name"
   ]
  },
  {
   "cell_type": "code",
   "execution_count": 32,
   "id": "a18da10e",
   "metadata": {},
   "outputs": [
    {
     "name": "stdout",
     "output_type": "stream",
     "text": [
      "on Mac\n"
     ]
    },
    {
     "data": {
      "text/plain": [
       "'Darwin'"
      ]
     },
     "execution_count": 32,
     "metadata": {},
     "output_type": "execute_result"
    }
   ],
   "source": [
    "import platform\n",
    "pf = platform.system()\n",
    "if pf == 'Windows':\n",
    "    print('on Windows')\n",
    "elif pf == 'Darwin':\n",
    "    print('on Mac')\n",
    "elif pf == 'Linux':\n",
    "    print('on Linux')\n",
    "platform.system()"
   ]
  },
  {
   "cell_type": "raw",
   "id": "d5dd0c45",
   "metadata": {},
   "source": [
    "Q1) 'makedirs', 'mkdir'를 이용해서 디렉토리를 생성해보자."
   ]
  },
  {
   "cell_type": "code",
   "execution_count": 35,
   "id": "23efb1b5",
   "metadata": {},
   "outputs": [],
   "source": [
    "import os\n",
    "path = '/Users/dhshin/PycharmProjects/python_class/jupiter/dir/'\n",
    "os.mkdir(path) # 경로 생성"
   ]
  },
  {
   "cell_type": "code",
   "execution_count": 36,
   "id": "a89398dd",
   "metadata": {},
   "outputs": [],
   "source": [
    "path_list = ['./dir/sub1','./dir/sub2','./dir/sub3']\n",
    "for path in path_list:\n",
    "    os.mkdir(path)"
   ]
  },
  {
   "cell_type": "code",
   "execution_count": 37,
   "id": "ec3a5bd0",
   "metadata": {},
   "outputs": [],
   "source": [
    "path = './dir/sub_dir1/sub_dir2'\n",
    "os.makedirs(path) #경로 깊게 생성"
   ]
  },
  {
   "cell_type": "code",
   "execution_count": 38,
   "id": "647a9b66",
   "metadata": {},
   "outputs": [
    {
     "name": "stdout",
     "output_type": "stream",
     "text": [
      "Help on function makedirs in module os:\n",
      "\n",
      "makedirs(name, mode=511, exist_ok=False)\n",
      "    makedirs(name [, mode=0o777][, exist_ok=False])\n",
      "    \n",
      "    Super-mkdir; create a leaf directory and all intermediate ones.  Works like\n",
      "    mkdir, except that any intermediate path segment (not just the rightmost)\n",
      "    will be created if it does not exist. If the target directory already\n",
      "    exists, raise an OSError if exist_ok is False. Otherwise no exception is\n",
      "    raised.  This is recursive.\n",
      "\n",
      "None\n"
     ]
    }
   ],
   "source": [
    "print(help(os.makedirs))"
   ]
  },
  {
   "cell_type": "code",
   "execution_count": 41,
   "id": "a95a7051",
   "metadata": {},
   "outputs": [
    {
     "data": {
      "text/plain": [
       "['.DS_Store', 'sub_dir1', 'sub1', 'c.txt', 'b.txt', 'a.txt', 'sub2', 'sub3']"
      ]
     },
     "execution_count": 41,
     "metadata": {},
     "output_type": "execute_result"
    }
   ],
   "source": [
    "os.listdir('.')"
   ]
  },
  {
   "cell_type": "code",
   "execution_count": 45,
   "id": "945db8f7",
   "metadata": {},
   "outputs": [
    {
     "name": "stdout",
     "output_type": "stream",
     "text": [
      "./.DS_Store\n",
      "./c.txt\n",
      "./b.txt\n",
      "./a.txt\n",
      "sub_dir1\tsub1\tsub2\tsub3\t./sub_dir1/.DS_Store\n",
      "sub_dir2\t"
     ]
    }
   ],
   "source": [
    "for root, dirs, files in os.walk('.'):\n",
    "    for f in files:\n",
    "        print(os.path.join(root,f))\n",
    "    for d in dirs:\n",
    "        print(d,end='\\t')"
   ]
  },
  {
   "cell_type": "code",
   "execution_count": 46,
   "id": "5e7e89c0",
   "metadata": {},
   "outputs": [
    {
     "name": "stdout",
     "output_type": "stream",
     "text": [
      "./sub_dir1/sub_dir2\n",
      "[]\n",
      "[]\n",
      "./sub_dir1\n",
      "['sub_dir2']\n",
      "['.DS_Store']\n",
      "./sub1\n",
      "[]\n",
      "[]\n",
      "./sub2\n",
      "[]\n",
      "[]\n",
      "./sub3\n",
      "[]\n",
      "[]\n",
      ".\n",
      "['sub_dir1', 'sub1', 'sub2', 'sub3']\n",
      "['.DS_Store', 'c.txt', 'b.txt', 'a.txt']\n"
     ]
    }
   ],
   "source": [
    "for root, dirs, files in os.walk('.',topdown=False):\n",
    "    print(root)\n",
    "    print(dirs)\n",
    "    print(files)"
   ]
  },
  {
   "cell_type": "code",
   "execution_count": 55,
   "id": "8353df92",
   "metadata": {},
   "outputs": [],
   "source": [
    "for root, dirs, files in os.walk('User/'):\n",
    "    for f in files:\n",
    "        if 'abc.py' in f:\n",
    "            print(os.path.join(root,f))"
   ]
  },
  {
   "cell_type": "code",
   "execution_count": 56,
   "id": "90596095",
   "metadata": {},
   "outputs": [
    {
     "name": "stdout",
     "output_type": "stream",
     "text": [
      "['__all__', '__builtins__', '__cached__', '__doc__', '__file__', '__loader__', '__name__', '__package__', '__spec__', '_get_sep', '_joinrealpath', '_varprog', '_varprogb', 'abspath', 'altsep', 'basename', 'commonpath', 'commonprefix', 'curdir', 'defpath', 'devnull', 'dirname', 'exists', 'expanduser', 'expandvars', 'extsep', 'genericpath', 'getatime', 'getctime', 'getmtime', 'getsize', 'isabs', 'isdir', 'isfile', 'islink', 'ismount', 'join', 'lexists', 'normcase', 'normpath', 'os', 'pardir', 'pathsep', 'realpath', 'relpath', 'samefile', 'sameopenfile', 'samestat', 'sep', 'split', 'splitdrive', 'splitext', 'stat', 'supports_unicode_filenames', 'sys']\n"
     ]
    }
   ],
   "source": [
    "print(dir(os.path))"
   ]
  },
  {
   "cell_type": "code",
   "execution_count": 57,
   "id": "f1738ab0",
   "metadata": {},
   "outputs": [
    {
     "name": "stdout",
     "output_type": "stream",
     "text": [
      "True\n"
     ]
    }
   ],
   "source": [
    "print(os.path.exists('/Users/dhshin/PycharmProjects/python_class/jupiter/dir/c.txt'))\n"
   ]
  },
  {
   "cell_type": "code",
   "execution_count": 59,
   "id": "d7f02e52",
   "metadata": {},
   "outputs": [
    {
     "name": "stdout",
     "output_type": "stream",
     "text": [
      "이미 있음\n"
     ]
    }
   ],
   "source": [
    "if not os.path.exists('/Users/dhshin/PycharmProjects/python_class/jupiter/dir'):\n",
    "    os.mkdir('/Users/dhshin/PycharmProjects/python_class/jupiter/dir')\n",
    "else:\n",
    "    print('이미 있음')"
   ]
  },
  {
   "cell_type": "code",
   "execution_count": null,
   "id": "03982046",
   "metadata": {},
   "outputs": [],
   "source": []
  },
  {
   "cell_type": "code",
   "execution_count": null,
   "id": "6dc1942f",
   "metadata": {},
   "outputs": [],
   "source": []
  }
 ],
 "metadata": {
  "kernelspec": {
   "display_name": "Python 3 (ipykernel)",
   "language": "python",
   "name": "python3"
  },
  "language_info": {
   "codemirror_mode": {
    "name": "ipython",
    "version": 3
   },
   "file_extension": ".py",
   "mimetype": "text/x-python",
   "name": "python",
   "nbconvert_exporter": "python",
   "pygments_lexer": "ipython3",
   "version": "3.9.13"
  }
 },
 "nbformat": 4,
 "nbformat_minor": 5
}
