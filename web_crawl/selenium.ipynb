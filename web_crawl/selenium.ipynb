{
 "cells": [
  {
   "cell_type": "code",
   "execution_count": 24,
   "id": "378eb3ef",
   "metadata": {},
   "outputs": [],
   "source": [
    "from selenium import webdriver\n",
    "from bs4 import BeautifulSoup\n",
    "import requests\n",
    "from selenium.webdriver.common.by import By\n",
    "import time"
   ]
  },
  {
   "cell_type": "markdown",
   "id": "b8e8309f",
   "metadata": {},
   "source": [
    "# 2. Selenium 기본 사용법\n",
    "1. 셀레니움이란?\n",
    "2. 웹 드라이버 객체 만들기 및 페이지 이동\n",
    "3. 윈도우 사이즈 조절\n",
    "4. 브라우져 스크롤 이동\n",
    "5. Alert 다루기\n",
    "6. 입력창에 문자열 입력하기\n",
    "7. 버튼 클릭하기\n",
    "8. 텍스트 데이터 가져오기 \n",
    "9. 속성 데이터 가져오기\n",
    "10. 윈도우 및 브라우져 종료하기\n",
    "\n",
    "\n",
    "## 2.1 셀레니움이란?\n",
    "* 셀레니움은 브라우져를 자동화하는 툴으로 테스팅을 목적으로 웹 어플리케이션을 자동화하는 목적으로 만들어졌지만 테스팅에 국한되서 사용 되지는 않는다\n",
    "* 웹 기반의 작업들을 자동화하여 업무 효율성을 높일수 있으며 다양한 언어와 다양한 브라우져를 지원한다\n",
    "* 셀레니움은 firefox, internetExplorer, Safari, opera, chrome 브라우져 지원\n",
    "* 지원하는 OS는 윈도우, 애플 os x, linux \n",
    "* 언어는 c#, Haskell, Java, Javascript, Object-C, Perl, PHP, Python, R, Ruby\n",
    "\n",
    "## 2.2 웹 드라이버 객체 만들기 및 페이지 이동\n",
    "* driver의 get 함수를 이용하여 크롬 브라우저에서 페이지를 이동할 수 있다.\n",
    "* url은 http 꼭 포함"
   ]
  },
  {
   "cell_type": "code",
   "execution_count": 25,
   "id": "5cb580a5",
   "metadata": {},
   "outputs": [],
   "source": [
    "url = 'https://www.naver.com'\n",
    "driver = webdriver.Chrome()\n",
    "driver.get(url)"
   ]
  },
  {
   "cell_type": "markdown",
   "id": "924d0d1b",
   "metadata": {},
   "source": [
    "## 2.3 윈도우 사이즈 조절\n",
    "* driver의 set_window_size 함수를 이용하여 윈도우 사이즈를 조절할 수 있다\n",
    "* 함수내의 첫번째 파라미터는 가로 사이즈를 나타내며 두번째 파라미터는 세로 사이즈 이다\n",
    "* 사이즈의 단위는 픽셀이다"
   ]
  },
  {
   "cell_type": "code",
   "execution_count": 26,
   "id": "8a870556",
   "metadata": {},
   "outputs": [],
   "source": [
    "driver.set_window_size(1024,768)"
   ]
  },
  {
   "cell_type": "markdown",
   "id": "31f77d47",
   "metadata": {},
   "source": [
    "## 2.4 브라우져의 스크롤 위치 이동\n",
    "* 브라우져의 스크롤 위치 이동은 selenium의 webdriver에 따로 기능이 없기 때문에 javascript 코드를 실행하여 브라우져 스크롤 위치를 이동시킬 수 있다\n",
    "* javascirpt의 window.scrollTo 함수의 첫번째 파라미터는 가로축 위치를 나타내며 아 래 코드와 같이 200으로 설정을 하면 왼쪽에서 200픽셀만큼의 브라우져 스크롤 위치를 이동함을 의미\n",
    "* 두번째 파라미 터는 세로축의 위치를 나타내며 아래의 코드와 같이 300으로지정을 하면 위에서 아래로 300픽셀 만큼 스크롤이 내려감을 의미"
   ]
  },
  {
   "cell_type": "code",
   "execution_count": 27,
   "id": "e183690d",
   "metadata": {},
   "outputs": [],
   "source": [
    "driver.execute_script('window.scrollTo(200,300);')"
   ]
  },
  {
   "cell_type": "markdown",
   "id": "97cc1e15",
   "metadata": {},
   "source": [
    "## 2.5 Alert 다루기 \n",
    "\n",
    "* 크롤링이나 자동화를 하는 중간에 alert 메시지가 나오는 경우가 있다."
   ]
  },
  {
   "cell_type": "code",
   "execution_count": 28,
   "id": "e8b58924",
   "metadata": {},
   "outputs": [
    {
     "name": "stdout",
     "output_type": "stream",
     "text": [
      "alert 없음\n"
     ]
    }
   ],
   "source": [
    "# alert 체크\n",
    "try:\n",
    "    alert = driver.switch_to.alert\n",
    "    print(alert.text)\n",
    "except:\n",
    "    print('alert 없음')"
   ]
  },
  {
   "cell_type": "code",
   "execution_count": 29,
   "id": "9269dc8f",
   "metadata": {},
   "outputs": [],
   "source": [
    "driver.execute_script(\"alert('selenium test');\")"
   ]
  },
  {
   "cell_type": "code",
   "execution_count": 30,
   "id": "efd583be",
   "metadata": {},
   "outputs": [
    {
     "name": "stdout",
     "output_type": "stream",
     "text": [
      "selenium test\n"
     ]
    }
   ],
   "source": [
    "# alert 체크\n",
    "try:\n",
    "    alert = driver.switch_to.alert\n",
    "    print(alert.text)\n",
    "except:\n",
    "    print('alert 없음')"
   ]
  },
  {
   "cell_type": "code",
   "execution_count": 31,
   "id": "df4744f4",
   "metadata": {},
   "outputs": [],
   "source": [
    "# alert 확인 버튼 누르기\n",
    "alert.accept()"
   ]
  },
  {
   "cell_type": "markdown",
   "id": "914f0a68",
   "metadata": {},
   "source": [
    "## 2.7 버튼 클릭하기\n",
    "\n",
    "* selenium driver의 css selector와 click 함수를 이용하여 웹페이지의 input 태그에 문자열을 입력할수 있다"
   ]
  },
  {
   "cell_type": "code",
   "execution_count": 32,
   "id": "bf6877bd",
   "metadata": {},
   "outputs": [],
   "source": [
    "driver.find_element(By.CSS_SELECTOR,\".btn_submit\").click()"
   ]
  },
  {
   "cell_type": "markdown",
   "id": "a153a586",
   "metadata": {},
   "source": [
    "## 2.8 텍스트 데이터 가져오기\n",
    "\n",
    "* text 변수를 사용\n",
    "* find_element(By.CSS_SELECTOR,'classname'): 한개의 엘리멘트를 선택\n",
    "* find_elements(By.CSS_SELECTOR,'classname'): 여러개의 엘리멘트를 선택"
   ]
  },
  {
   "cell_type": "code",
   "execution_count": 33,
   "id": "cf322980",
   "metadata": {},
   "outputs": [],
   "source": [
    "# 테드 사이트로 접속\n",
    "driver.get('https://www.ted.com/talks')"
   ]
  },
  {
   "cell_type": "code",
   "execution_count": 34,
   "id": "517fafe3",
   "metadata": {},
   "outputs": [
    {
     "data": {
      "text/plain": [
       "'Join TED Recommends to get the best ideas, selected just for you'"
      ]
     },
     "execution_count": 34,
     "metadata": {},
     "output_type": "execute_result"
    }
   ],
   "source": [
    "# 메인 배너 타이틀 가져오기 \n",
    "driver.find_element(By.CSS_SELECTOR,'#banner-secondary').text"
   ]
  },
  {
   "cell_type": "code",
   "execution_count": 35,
   "id": "81927f51",
   "metadata": {},
   "outputs": [
    {
     "data": {
      "text/plain": [
       "36"
      ]
     },
     "execution_count": 35,
     "metadata": {},
     "output_type": "execute_result"
    }
   ],
   "source": [
    "# 컨텐츠 리스트 제목 가져오기\n",
    "contents = driver.find_elements(By.CSS_SELECTOR,\"#browse-results > div > .col\")\n",
    "len(contents)"
   ]
  },
  {
   "cell_type": "code",
   "execution_count": 36,
   "id": "bdaf8398",
   "metadata": {},
   "outputs": [
    {
     "data": {
      "text/plain": [
       "'Can we feed ourselves without devouring the planet?'"
      ]
     },
     "execution_count": 36,
     "metadata": {},
     "output_type": "execute_result"
    }
   ],
   "source": [
    "# 셀렉터 확인\n",
    "contents[0].find_element(By.CSS_SELECTOR,'.media > .media__message .ga-link').text"
   ]
  },
  {
   "cell_type": "code",
   "execution_count": 37,
   "id": "f0481b1f",
   "metadata": {},
   "outputs": [],
   "source": [
    "# 전체 데이터 가져오기\n",
    "titles = []\n",
    "for content in contents:\n",
    "    title = content.find_element(By.CSS_SELECTOR,'.media > .media__message .ga-link').text\n",
    "    titles.append(title)"
   ]
  },
  {
   "cell_type": "code",
   "execution_count": 38,
   "id": "4f10c064",
   "metadata": {},
   "outputs": [
    {
     "data": {
      "text/plain": [
       "['Are video calls the best we can do in the age of the metaverse?',\n",
       " 'The science of falling in love',\n",
       " 'How great leaders take on uncertainty',\n",
       " 'How Indigenous guardians protect the planet and humanity',\n",
       " 'How will AI change the world?']"
      ]
     },
     "execution_count": 38,
     "metadata": {},
     "output_type": "execute_result"
    }
   ],
   "source": [
    "titles[-5:]"
   ]
  },
  {
   "cell_type": "code",
   "execution_count": 39,
   "id": "423ae0b6",
   "metadata": {},
   "outputs": [
    {
     "data": {
      "text/plain": [
       "['English', 'Español', '日本語', 'Português brasileiro', '中文 (繁體)', '한국어']"
      ]
     },
     "execution_count": 39,
     "metadata": {},
     "output_type": "execute_result"
    }
   ],
   "source": [
    "# 사용가능한 언어 옵션 리스트 가져오기 -text는 하위 엘리먼트의 문자열까지\n",
    "languages = driver.find_element(By.CSS_SELECTOR,'#languages').text\n",
    "languages = languages.split('\\n')[1:-1]\n",
    "languages"
   ]
  },
  {
   "cell_type": "code",
   "execution_count": 40,
   "id": "1fe3f2eb",
   "metadata": {},
   "outputs": [],
   "source": [
    "# 한국어 선택 후 결과 컨텐츠의 제목 가져오기\n",
    "\n",
    "# 셀렉트 박스를 선택\n",
    "driver.find_element(By.CSS_SELECTOR,'#languages [lang=\"ko\"]').click()"
   ]
  },
  {
   "cell_type": "code",
   "execution_count": 41,
   "id": "881ed833",
   "metadata": {},
   "outputs": [
    {
     "data": {
      "text/plain": [
       "['불평등은 피할 수 없는 것일까요?',\n",
       " '세계에서 가장 큰 기계는 무슨 일을 할까요? - 헨리 리차드슨과 케이티 라이언',\n",
       " '후각은 어떻게 맛을 음미하는 것을 도울까요?',\n",
       " '부모님이 좋아하지 않는 사람과는 헤어질 것인가요?',\n",
       " '페가수스와 키메라의 신화 - 이설트 길레스피 (Iseult Gillespie)']"
      ]
     },
     "execution_count": 41,
     "metadata": {},
     "output_type": "execute_result"
    }
   ],
   "source": [
    "# 컨텐츠 가져오기\n",
    "time.sleep(3)\n",
    "contents = driver.find_elements(By.CSS_SELECTOR,\"#browse-results > div > .col\")\n",
    "titles=[]\n",
    "for content in contents:\n",
    "    title = content.find_element(By.CSS_SELECTOR,'.media > .media__message .ga-link').text\n",
    "    titles.append(title)\n",
    "titles[-5:]"
   ]
  },
  {
   "cell_type": "markdown",
   "id": "b15c2572",
   "metadata": {},
   "source": [
    "## 2.9 속성 데이터 가져오기\n",
    "* get_attribute 함수를 이용"
   ]
  },
  {
   "cell_type": "code",
   "execution_count": 42,
   "id": "cc6ec98c",
   "metadata": {},
   "outputs": [
    {
     "data": {
      "text/plain": [
       "['https://www.ted.com/talks/ted_ed_is_inequality_inevitable?language=ko',\n",
       " 'https://www.ted.com/talks/henry_richardson_what_does_the_world_s_largest_machine_do?language=ko',\n",
       " 'https://www.ted.com/talks/jen_gunter_how_your_sense_of_smell_helps_you_savor_flavor?language=ko',\n",
       " 'https://www.ted.com/talks/ted_ed_should_you_care_what_your_parents_think?language=ko',\n",
       " 'https://www.ted.com/talks/iseult_gillespie_the_myth_of_pegasus_and_the_chimera?language=ko']"
      ]
     },
     "execution_count": 42,
     "metadata": {},
     "output_type": "execute_result"
    }
   ],
   "source": [
    "# 테드에서 컨텐츠 링크 리스트 가져오기\n",
    "time.sleep(3)\n",
    "contents = driver.find_elements(By.CSS_SELECTOR,'#browse-results > div > .col')\n",
    "links = []\n",
    "for content in contents:\n",
    "    link = content.find_element(By.CSS_SELECTOR,'.media > .media__message .ga-link').get_attribute('href')\n",
    "    links.append(link)\n",
    "links[-5:]"
   ]
  },
  {
   "cell_type": "markdown",
   "id": "ade6caf9",
   "metadata": {},
   "source": [
    "## 2.10 윈도우 및 브라우져 종료하기\n",
    "* selenium driver의 quit 함수를 이용하여 윈도우 창을 닫는다"
   ]
  },
  {
   "cell_type": "code",
   "execution_count": 43,
   "id": "a527031c",
   "metadata": {},
   "outputs": [],
   "source": [
    "# 브라우져 닫기\n",
    "driver.quit()"
   ]
  },
  {
   "cell_type": "code",
   "execution_count": null,
   "id": "8ca12b6b",
   "metadata": {},
   "outputs": [],
   "source": []
  }
 ],
 "metadata": {
  "kernelspec": {
   "display_name": "Python 3 (ipykernel)",
   "language": "python",
   "name": "python3"
  },
  "language_info": {
   "codemirror_mode": {
    "name": "ipython",
    "version": 3
   },
   "file_extension": ".py",
   "mimetype": "text/x-python",
   "name": "python",
   "nbconvert_exporter": "python",
   "pygments_lexer": "ipython3",
   "version": "3.9.13"
  }
 },
 "nbformat": 4,
 "nbformat_minor": 5
}
