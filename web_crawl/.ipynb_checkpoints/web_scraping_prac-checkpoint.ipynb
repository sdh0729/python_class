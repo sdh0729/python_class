{
 "cells": [
  {
   "cell_type": "markdown",
   "id": "bf74f6c1",
   "metadata": {},
   "source": [
    "# 웹 브라우저로 웹 사이트 접속하기"
   ]
  },
  {
   "cell_type": "markdown",
   "id": "c7ad292e",
   "metadata": {},
   "source": [
    "## 하나의 웹 사이트에 접속하기\n",
    "\n",
    "* 사이트를 하나 지정한 후에 웹 브라우저를 열어서 접속하는 방법"
   ]
  },
  {
   "cell_type": "code",
   "execution_count": 47,
   "id": "7d5c795d",
   "metadata": {},
   "outputs": [],
   "source": [
    "import webbrowser\n",
    "import requests\n",
    "from bs4 import BeautifulSoup\n",
    "import os"
   ]
  },
  {
   "cell_type": "code",
   "execution_count": 2,
   "id": "06e9aef8",
   "metadata": {},
   "outputs": [
    {
     "data": {
      "text/plain": [
       "True"
      ]
     },
     "execution_count": 2,
     "metadata": {},
     "output_type": "execute_result"
    }
   ],
   "source": [
    "url = 'https://www.naver.com'\n",
    "webbrowser.open(url)"
   ]
  },
  {
   "cell_type": "markdown",
   "id": "999a32fe",
   "metadata": {},
   "source": [
    "* 네이버에서 특정 검색어를 입력해 결과 얻기"
   ]
  },
  {
   "cell_type": "code",
   "execution_count": 3,
   "id": "780c5483",
   "metadata": {},
   "outputs": [
    {
     "data": {
      "text/plain": [
       "True"
      ]
     },
     "execution_count": 3,
     "metadata": {},
     "output_type": "execute_result"
    }
   ],
   "source": [
    "naver_search_url = 'https://search.naver.com/search.naver?query='\n",
    "search_word = \"파이썬\"\n",
    "url = naver_search_url + search_word\n",
    "\n",
    "webbrowser.open_new(url)"
   ]
  },
  {
   "cell_type": "markdown",
   "id": "a905f0ef",
   "metadata": {},
   "source": [
    "* 구글에서도 검색을 위한 웹 사이트 주소와 검색어를 연결해 입력"
   ]
  },
  {
   "cell_type": "code",
   "execution_count": 4,
   "id": "f93b7271",
   "metadata": {},
   "outputs": [
    {
     "data": {
      "text/plain": [
       "True"
      ]
     },
     "execution_count": 4,
     "metadata": {},
     "output_type": "execute_result"
    }
   ],
   "source": [
    "google_url = 'https://www.google.com/search?q='\n",
    "search_word = 'python'\n",
    "url = google_url + search_word\n",
    "\n",
    "webbrowser.open_new(url)"
   ]
  },
  {
   "cell_type": "markdown",
   "id": "bf8889ae",
   "metadata": {},
   "source": [
    "## 여러 개의 웹 사이트에 접속하기"
   ]
  },
  {
   "cell_type": "markdown",
   "id": "760cdca5",
   "metadata": {},
   "source": [
    "* url 주소 리스트와 for 문을 이용"
   ]
  },
  {
   "cell_type": "code",
   "execution_count": 5,
   "id": "8ee2191e",
   "metadata": {},
   "outputs": [],
   "source": [
    "urls = ['https://www.naver.com', 'https://www.daum.net','https://www.google.com']\n",
    "for url in urls:\n",
    "    webbrowser.open_new(url)"
   ]
  },
  {
   "cell_type": "markdown",
   "id": "db473f77",
   "metadata": {},
   "source": [
    "* 여러 단어 리스트와 for문 이용"
   ]
  },
  {
   "cell_type": "code",
   "execution_count": 6,
   "id": "1fdac541",
   "metadata": {},
   "outputs": [],
   "source": [
    "google_url = 'https://www.google.com/search?q='\n",
    "search_words = ['python web scraping', 'python webbrowser']\n",
    "\n",
    "for search_word in search_words:\n",
    "    webbrowser.open_new(google_url + search_word)"
   ]
  },
  {
   "cell_type": "markdown",
   "id": "72e2c187",
   "metadata": {},
   "source": [
    "# 웹 스크레이핑을 위한 기본 지식\n",
    "## 데이터 요청과 응답 과장\n",
    "### HTML의 기본 구조\n",
    "* HTML 생성"
   ]
  },
  {
   "cell_type": "code",
   "execution_count": 7,
   "id": "12ffdc7f",
   "metadata": {},
   "outputs": [
    {
     "name": "stdout",
     "output_type": "stream",
     "text": [
      "Overwriting HTML_example.html\n"
     ]
    }
   ],
   "source": [
    "%%writefile HTML_example.html\n",
    "<!doctype html>\n",
    "<html>\n",
    " <head>\n",
    "    <meta charset=\"utf-8\">\n",
    "    <title>이것은 HTML 예제</title>\n",
    " </head>\n",
    " <body>\n",
    "    <h1>출간된 책 정보</h1>\n",
    "    <p id=\"book_title\">이해가 쏙쏙 되는 파이썬</p>\n",
    "    <p id=\"author\">홍길동</p>\n",
    "    <p id=\"publisher\">위키북스 출판사</p>\n",
    "    <p id=\"year\">2018</p>\n",
    " </body>\n",
    "</html>"
   ]
  },
  {
   "cell_type": "code",
   "execution_count": 8,
   "id": "fe6247de",
   "metadata": {},
   "outputs": [
    {
     "name": "stdout",
     "output_type": "stream",
     "text": [
      "Overwriting HTML_example2.html\n"
     ]
    }
   ],
   "source": [
    "%%writefile HTML_example2.html\n",
    "<!doctype html>\n",
    "<html>\n",
    " <head>\n",
    "    <meta charset=\"utf-8\">\n",
    "    <title>이것은 HTML 예제</title>\n",
    " </head>\n",
    " <body>\n",
    "    <h1>출간된 책 정보</h1>\n",
    "    <p>이해가 쏙쏙 되는 파이썬</p>\n",
    "    <p>홍길동</p>\n",
    "    <p>위키북스 출판사</p>\n",
    "    <p>2018</p>\n",
    " </body>\n",
    "</html>"
   ]
  },
  {
   "cell_type": "markdown",
   "id": "1d4cad9a",
   "metadata": {},
   "source": [
    "### 웹 페이지의 HTML 소스 갖고 오기\n",
    "* 구글 웹페이지의 소스코드"
   ]
  },
  {
   "cell_type": "code",
   "execution_count": 9,
   "id": "520cdaf9",
   "metadata": {},
   "outputs": [
    {
     "data": {
      "text/plain": [
       "<Response [200]>"
      ]
     },
     "execution_count": 9,
     "metadata": {},
     "output_type": "execute_result"
    }
   ],
   "source": [
    "r = requests.get(\"https://www.google.co.kr\")\n",
    "r"
   ]
  },
  {
   "cell_type": "markdown",
   "id": "7344b8de",
   "metadata": {},
   "source": [
    "* 응답 객체를 잘 가져왔는지 확인만 하면 되므로 HTML 파일 전체 중 일부분 출력"
   ]
  },
  {
   "cell_type": "code",
   "execution_count": 10,
   "id": "8259b4ee",
   "metadata": {},
   "outputs": [
    {
     "data": {
      "text/plain": [
       "'<!doctype html><html itemscope=\"\" itemtype=\"http://schema.org/WebPage\" lang=\"ko\"><head><meta content'"
      ]
     },
     "execution_count": 10,
     "metadata": {},
     "output_type": "execute_result"
    }
   ],
   "source": [
    "r.text[0:100]"
   ]
  },
  {
   "cell_type": "markdown",
   "id": "f556861d",
   "metadata": {},
   "source": [
    "### HTML 소스코드를 분석하고 처리하기\n",
    "#### 데이터 찾고 추출하기\n",
    "* Html 코드를 분석해 원하는 데이터를 추출하는 방법\n",
    "* Html 코드를 분석하기 위해서는 Html 코드 구문을 이해하고 요소별로 html 코드를 분류\n",
    "* Beutiful Soup 라이브러리를 이용해 html 소스를 파싱하고 태그나 속성을 통해 원하는 데이터를 추출"
   ]
  },
  {
   "cell_type": "code",
   "execution_count": 11,
   "id": "b6476a21",
   "metadata": {},
   "outputs": [
    {
     "data": {
      "text/plain": [
       "<html><body><div><span> <a href=\"http://www.naver.com\">naver</a> <a href=\"https://www.google.com\">google</a> <a href=\"http://www.daum.net\">daum</a> </span></div></body></html>"
      ]
     },
     "execution_count": 11,
     "metadata": {},
     "output_type": "execute_result"
    }
   ],
   "source": [
    "# 테스트용 html 코드\n",
    "html = \"\"\"<html><body><div><span>\\\n",
    "          <a href=http://www.naver.com>naver</a>\\\n",
    "          <a href=https://www.google.com>google</a>\\\n",
    "          <a href=http://www.daum.net>daum</a>\\\n",
    "          </span></div></body></html>\"\"\"\n",
    "# beautifulsoup을 이용해 html 소스를 파싱\n",
    "soup = BeautifulSoup(html, 'lxml')\n",
    "soup"
   ]
  },
  {
   "cell_type": "markdown",
   "id": "09253c20",
   "metadata": {},
   "source": [
    "* 파싱 결과를 좀 더 보기 편하게 html 구조의 형태로 확인"
   ]
  },
  {
   "cell_type": "code",
   "execution_count": 12,
   "id": "a5f068ce",
   "metadata": {},
   "outputs": [
    {
     "name": "stdout",
     "output_type": "stream",
     "text": [
      "<html>\n",
      " <body>\n",
      "  <div>\n",
      "   <span>\n",
      "    <a href=\"http://www.naver.com\">\n",
      "     naver\n",
      "    </a>\n",
      "    <a href=\"https://www.google.com\">\n",
      "     google\n",
      "    </a>\n",
      "    <a href=\"http://www.daum.net\">\n",
      "     daum\n",
      "    </a>\n",
      "   </span>\n",
      "  </div>\n",
      " </body>\n",
      "</html>\n"
     ]
    }
   ],
   "source": [
    "print(soup.prettify())"
   ]
  },
  {
   "cell_type": "markdown",
   "id": "f167bc9e",
   "metadata": {},
   "source": [
    "* 파싱한 결과에서 BeautifulSoup.find('태그')를 수행하면 HTML 소스코드에서 해당 '태그'가 있는 첫 번째 요소를 찾아서 반환"
   ]
  },
  {
   "cell_type": "code",
   "execution_count": 13,
   "id": "5bfd57af",
   "metadata": {},
   "outputs": [
    {
     "data": {
      "text/plain": [
       "<a href=\"http://www.naver.com\">naver</a>"
      ]
     },
     "execution_count": 13,
     "metadata": {},
     "output_type": "execute_result"
    }
   ],
   "source": [
    "soup.find('a')"
   ]
  },
  {
   "cell_type": "markdown",
   "id": "82d32c1f",
   "metadata": {},
   "source": [
    "* get_text()는 html 소스코드의 요소에서 태그와 속성을 제거 하고 텍스트 문자열만 반환\n",
    "* get_text()는 원하는 html 요소를 가져온 후에 마지막 단계에서 요소의 텍스트 부분만 추출할 때 이용"
   ]
  },
  {
   "cell_type": "code",
   "execution_count": 14,
   "id": "c7bdf17b",
   "metadata": {},
   "outputs": [
    {
     "data": {
      "text/plain": [
       "'naver'"
      ]
     },
     "execution_count": 14,
     "metadata": {},
     "output_type": "execute_result"
    }
   ],
   "source": [
    "soup.find('a').get_text()"
   ]
  },
  {
   "cell_type": "markdown",
   "id": "1811ef7b",
   "metadata": {},
   "source": [
    "* html 코드안의 모든 a 태그를 찾아서 a 태그로 시작하는 모든 요소를 다 반환 하려면 \n",
    "* BeautifulSoup.find_all('태그')를 이용"
   ]
  },
  {
   "cell_type": "code",
   "execution_count": 15,
   "id": "1570d763",
   "metadata": {},
   "outputs": [
    {
     "data": {
      "text/plain": [
       "[<a href=\"http://www.naver.com\">naver</a>,\n",
       " <a href=\"https://www.google.com\">google</a>,\n",
       " <a href=\"http://www.daum.net\">daum</a>]"
      ]
     },
     "execution_count": 15,
     "metadata": {},
     "output_type": "execute_result"
    }
   ],
   "source": [
    "soup.find_all('a')"
   ]
  },
  {
   "cell_type": "markdown",
   "id": "6a41b2a1",
   "metadata": {},
   "source": [
    "* 태그 이름의 모든 요소를 반환하는 find_all()의 결과는 리스트 형태로 반환\n",
    "* get_text()는 리스트에 적용할 수 없으므로\n",
    "* for문을 이용해 항목별로 get_text()를 적용"
   ]
  },
  {
   "cell_type": "code",
   "execution_count": 16,
   "id": "d659732a",
   "metadata": {},
   "outputs": [
    {
     "name": "stdout",
     "output_type": "stream",
     "text": [
      "naver\n",
      "google\n",
      "daum\n"
     ]
    }
   ],
   "source": [
    "site_names = soup.find_all('a')\n",
    "for site_name in site_names:\n",
    "    print(site_name.get_text())"
   ]
  },
  {
   "cell_type": "markdown",
   "id": "fa4c25a8",
   "metadata": {},
   "source": [
    "* html 파일을 작성한 후에 html2 변수에 할당"
   ]
  },
  {
   "cell_type": "code",
   "execution_count": 17,
   "id": "52769c98",
   "metadata": {},
   "outputs": [],
   "source": [
    "# 테스트용 html 코드\n",
    "html2 = \"\"\"\n",
    "<html>\n",
    " <head>\n",
    "    <title>작품과 작가 모음</title>\n",
    " </head>\n",
    " <body>\n",
    "    <h1>출간된 책 정보</h1>\n",
    "    <p id=\"book_title\">토지</p>\n",
    "    <p id=\"author\">박경리</p>\n",
    "        \n",
    "    <p id=\"book_title\">태백산맥</p>\n",
    "    <p id=\"author\">조정래</p>\n",
    "\n",
    "    <p id=\"book_title\">감옥으로부터의 사색</p>\n",
    "    <p id=\"author\">신영복</p>\n",
    " \n",
    " </body>\n",
    "</html>\n",
    "\"\"\"\n",
    "soup2 = BeautifulSoup(html2, 'lxml')"
   ]
  },
  {
   "cell_type": "markdown",
   "id": "a3bbfb2d",
   "metadata": {},
   "source": [
    "* Beautiful Soup의 다양한 기능을 활용해 html 소스로 부터 필요한 데이터를 추출\n",
    "* html 소스에서 title 태그의 요소는 'BeautifulSoup.title'을 이용해 가져올 수 있음"
   ]
  },
  {
   "cell_type": "code",
   "execution_count": 18,
   "id": "7daf0460",
   "metadata": {},
   "outputs": [
    {
     "data": {
      "text/plain": [
       "<title>작품과 작가 모음</title>"
      ]
     },
     "execution_count": 18,
     "metadata": {},
     "output_type": "execute_result"
    }
   ],
   "source": [
    "soup2.title"
   ]
  },
  {
   "cell_type": "markdown",
   "id": "b4aa1a71",
   "metadata": {},
   "source": [
    "* html 소스의 body 태그의 요소는 'BeautifulSoup.body'를 이용해 가져올 수 있음"
   ]
  },
  {
   "cell_type": "code",
   "execution_count": 19,
   "id": "6057b19b",
   "metadata": {},
   "outputs": [
    {
     "data": {
      "text/plain": [
       "<body>\n",
       "<h1>출간된 책 정보</h1>\n",
       "<p id=\"book_title\">토지</p>\n",
       "<p id=\"author\">박경리</p>\n",
       "<p id=\"book_title\">태백산맥</p>\n",
       "<p id=\"author\">조정래</p>\n",
       "<p id=\"book_title\">감옥으로부터의 사색</p>\n",
       "<p id=\"author\">신영복</p>\n",
       "</body>"
      ]
     },
     "execution_count": 19,
     "metadata": {},
     "output_type": "execute_result"
    }
   ],
   "source": [
    "soup2.body"
   ]
  },
  {
   "cell_type": "markdown",
   "id": "5a49716f",
   "metadata": {},
   "source": [
    "* body 태그 요소 내에 h1태그의 요소는 'BeautifulSoup.body.h1'로 가져올 수 있음"
   ]
  },
  {
   "cell_type": "code",
   "execution_count": 20,
   "id": "3209cd66",
   "metadata": {},
   "outputs": [
    {
     "data": {
      "text/plain": [
       "<h1>출간된 책 정보</h1>"
      ]
     },
     "execution_count": 20,
     "metadata": {},
     "output_type": "execute_result"
    }
   ],
   "source": [
    "soup2.body.h1"
   ]
  },
  {
   "cell_type": "markdown",
   "id": "fa4e6373",
   "metadata": {},
   "source": [
    "* find_all() 을 이용하면 변수 html2에 있는 html 소스코드에서 p 태그가 들어 간 요소를 모두 가져올 수 있음"
   ]
  },
  {
   "cell_type": "code",
   "execution_count": 21,
   "id": "1e06592f",
   "metadata": {},
   "outputs": [
    {
     "data": {
      "text/plain": [
       "[<p id=\"book_title\">토지</p>,\n",
       " <p id=\"author\">박경리</p>,\n",
       " <p id=\"book_title\">태백산맥</p>,\n",
       " <p id=\"author\">조정래</p>,\n",
       " <p id=\"book_title\">감옥으로부터의 사색</p>,\n",
       " <p id=\"author\">신영복</p>]"
      ]
     },
     "execution_count": 21,
     "metadata": {},
     "output_type": "execute_result"
    }
   ],
   "source": [
    "soup2.find_all('p')"
   ]
  },
  {
   "cell_type": "markdown",
   "id": "40f07ebc",
   "metadata": {},
   "source": [
    "* css 선택자(selector)를 사용\n",
    "* css 선택자는 css에서 원하는 요소를 선택하는 것으로서 파이썬뿐만 아니라 다른 프로그래밍 언어에서도 html 소스를 처리할 때 많이 이용\n",
    "\n",
    "* Beautiful Soup도 'Beautifulsoup.select('태그 및 속성')를 통해 css 선택자를 지원\n",
    "* 'Beautifulsoup.select()의 인자로 '태그 및 속성'을 단계적으로 입력하면 원하는 요소를 찾을 수 있음\n"
   ]
  },
  {
   "cell_type": "markdown",
   "id": "ff4e39f7",
   "metadata": {},
   "source": [
    "* htm12 변수에 할당된 html 소스에서 body 태그 요소 내에 m 태그 요소를 가지고 오기"
   ]
  },
  {
   "cell_type": "code",
   "execution_count": 22,
   "id": "932e81a7",
   "metadata": {},
   "outputs": [
    {
     "data": {
      "text/plain": [
       "[<h1>출간된 책 정보</h1>]"
      ]
     },
     "execution_count": 22,
     "metadata": {},
     "output_type": "execute_result"
    }
   ],
   "source": [
    "soup2.select('body h1')"
   ]
  },
  {
   "cell_type": "markdown",
   "id": "56b06f7b",
   "metadata": {},
   "source": [
    "* htm12 변수에 할당된 html 소스에서 body 태그 요소 내에 p 태그 요소를 모두 가지고 오기"
   ]
  },
  {
   "cell_type": "code",
   "execution_count": 23,
   "id": "17ba554d",
   "metadata": {},
   "outputs": [
    {
     "data": {
      "text/plain": [
       "[<p id=\"book_title\">토지</p>,\n",
       " <p id=\"author\">박경리</p>,\n",
       " <p id=\"book_title\">태백산맥</p>,\n",
       " <p id=\"author\">조정래</p>,\n",
       " <p id=\"book_title\">감옥으로부터의 사색</p>,\n",
       " <p id=\"author\">신영복</p>]"
      ]
     },
     "execution_count": 23,
     "metadata": {},
     "output_type": "execute_result"
    }
   ],
   "source": [
    "soup2.select('body p')"
   ]
  },
  {
   "cell_type": "markdown",
   "id": "6e0f3193",
   "metadata": {},
   "source": [
    "* 변수 html2의 html 소스에서 p 태그는 body 요소 내에서만 있음"
   ]
  },
  {
   "cell_type": "code",
   "execution_count": 24,
   "id": "dcf7631e",
   "metadata": {},
   "outputs": [
    {
     "data": {
      "text/plain": [
       "[<p id=\"book_title\">토지</p>,\n",
       " <p id=\"author\">박경리</p>,\n",
       " <p id=\"book_title\">태백산맥</p>,\n",
       " <p id=\"author\">조정래</p>,\n",
       " <p id=\"book_title\">감옥으로부터의 사색</p>,\n",
       " <p id=\"author\">신영복</p>]"
      ]
     },
     "execution_count": 24,
     "metadata": {},
     "output_type": "execute_result"
    }
   ],
   "source": [
    "soup2.select('p')"
   ]
  },
  {
   "cell_type": "markdown",
   "id": "e8c5cd49",
   "metadata": {},
   "source": [
    "* 태그 안의 속성과 속성값을 이용해 요소를 세밀하게 구분해 추출\n",
    "* 태그 안의 속성이 class인 경우 '태그.class_속성값'으로 입력한다\n",
    "* 속성이 id인경우에는 '태그#id_속성값'으로 입력해 추출"
   ]
  },
  {
   "cell_type": "markdown",
   "id": "84b745f3",
   "metadata": {},
   "source": [
    "* 태그 안에 있는 속성이 id이므로 'p#id_속성값'으로 원하는 요소를 추출"
   ]
  },
  {
   "cell_type": "code",
   "execution_count": 25,
   "id": "394527ec",
   "metadata": {},
   "outputs": [
    {
     "data": {
      "text/plain": [
       "[<p id=\"book_title\">토지</p>,\n",
       " <p id=\"book_title\">태백산맥</p>,\n",
       " <p id=\"book_title\">감옥으로부터의 사색</p>]"
      ]
     },
     "execution_count": 25,
     "metadata": {},
     "output_type": "execute_result"
    }
   ],
   "source": [
    "soup2.select('p#book_title')"
   ]
  },
  {
   "cell_type": "code",
   "execution_count": 26,
   "id": "a34535aa",
   "metadata": {},
   "outputs": [
    {
     "data": {
      "text/plain": [
       "[<p id=\"author\">박경리</p>, <p id=\"author\">조정래</p>, <p id=\"author\">신영복</p>]"
      ]
     },
     "execution_count": 26,
     "metadata": {},
     "output_type": "execute_result"
    }
   ],
   "source": [
    "soup2.select('p#author')"
   ]
  },
  {
   "cell_type": "markdown",
   "id": "55ca211d",
   "metadata": {},
   "source": [
    "* class 속성이 있는 HTML 소스"
   ]
  },
  {
   "cell_type": "code",
   "execution_count": 27,
   "id": "dbfc7e1c",
   "metadata": {},
   "outputs": [
    {
     "name": "stdout",
     "output_type": "stream",
     "text": [
      "Overwriting HTML_example_my_site.html\n"
     ]
    }
   ],
   "source": [
    "%%writefile HTML_example_my_site.html\n",
    "<!doctype html>\n",
    "<html>\n",
    " <head>\n",
    "    <meta charset = 'utf-8'>\n",
    "    <title>사이트 모음</title>\n",
    " </head>\n",
    " <body>\n",
    "    <p id='title'><b>자주 가는 사이트 모음</b></p>\n",
    "    <p id='contents'>이곳은 자주 가는 사이트를 모아둔 곳 입니다.</p>\n",
    "    <a href='http:www.naver.com' class='portal' id='naver'>네이버</a>\n",
    "    <a href='https:www.google.com' class='search' id='google'>구글</a>\n",
    "    <a href='http:www.daum.net' class='portal' id='daum'>다음</a>\n",
    "    <a href='http:www.nl.go.kr' class='government' id='nl'>국립중앙도서관</a>\n",
    " </body>\n",
    "</html>\n",
    "\n",
    "\n",
    "\n",
    "    "
   ]
  },
  {
   "cell_type": "markdown",
   "id": "89f9fc39",
   "metadata": {},
   "source": [
    "* 'BeautifulSoup.select(태그 및 속성)'에서 태그 안의 속성이 class인 경우\n",
    "* '태그.class_속성값'으로 원하는 요소를 추출\n",
    "* HTML 소스 파일은 이미 저장돼 있으므로 텍스트 파일을 읽어와서 변수 html3에 할당"
   ]
  },
  {
   "cell_type": "code",
   "execution_count": 28,
   "id": "e8f5a00f",
   "metadata": {},
   "outputs": [],
   "source": [
    "f = open('HTML_example_my_site.html', encoding='utf-8')\n",
    "html3 = f.read()\n",
    "f.close()\n",
    "\n",
    "soup3 = BeautifulSoup(html3,'lxml')"
   ]
  },
  {
   "cell_type": "markdown",
   "id": "ceeb0581",
   "metadata": {},
   "source": [
    "* 읽어온 HTML 소스에서 태그가 a 인 요소를 모두 가져오기"
   ]
  },
  {
   "cell_type": "code",
   "execution_count": 29,
   "id": "1fd69da2",
   "metadata": {},
   "outputs": [
    {
     "data": {
      "text/plain": [
       "[<a class=\"portal\" href=\"http:www.naver.com\" id=\"naver\">네이버</a>,\n",
       " <a class=\"search\" href=\"https:www.google.com\" id=\"google\">구글</a>,\n",
       " <a class=\"portal\" href=\"http:www.daum.net\" id=\"daum\">다음</a>,\n",
       " <a class=\"government\" href=\"http:www.nl.go.kr\" id=\"nl\">국립중앙도서관</a>]"
      ]
     },
     "execution_count": 29,
     "metadata": {},
     "output_type": "execute_result"
    }
   ],
   "source": [
    "soup3.select('a')"
   ]
  },
  {
   "cell_type": "markdown",
   "id": "db5eaf80",
   "metadata": {},
   "source": [
    "* HTML 소스에서 태그가 a 이면서 class 속성값이 'portal'인 요소만 가져오기"
   ]
  },
  {
   "cell_type": "code",
   "execution_count": 30,
   "id": "b130efc7",
   "metadata": {},
   "outputs": [
    {
     "data": {
      "text/plain": [
       "[<a class=\"portal\" href=\"http:www.naver.com\" id=\"naver\">네이버</a>,\n",
       " <a class=\"portal\" href=\"http:www.daum.net\" id=\"daum\">다음</a>]"
      ]
     },
     "execution_count": 30,
     "metadata": {},
     "output_type": "execute_result"
    }
   ],
   "source": [
    "soup3.select('a.portal')"
   ]
  },
  {
   "cell_type": "markdown",
   "id": "5e4862bb",
   "metadata": {},
   "source": [
    "### 웹 브라우저의 요소 검사\n",
    "\n",
    "* soup3.select('html body a')\n",
    "* soup3.select('body a')\n",
    "* soup3.select('html a')\n",
    "* soup3.select('a')\n",
    "\n",
    "-'BeautifulSoup.select('태그 및 속성')의 인자로 a만 입력해 태그 a를 포함하는 모든 요소를 추출"
   ]
  },
  {
   "cell_type": "code",
   "execution_count": 31,
   "id": "2763537e",
   "metadata": {},
   "outputs": [
    {
     "data": {
      "text/plain": [
       "[<a class=\"portal\" href=\"http:www.naver.com\" id=\"naver\">네이버</a>,\n",
       " <a class=\"search\" href=\"https:www.google.com\" id=\"google\">구글</a>,\n",
       " <a class=\"portal\" href=\"http:www.daum.net\" id=\"daum\">다음</a>,\n",
       " <a class=\"government\" href=\"http:www.nl.go.kr\" id=\"nl\">국립중앙도서관</a>]"
      ]
     },
     "execution_count": 31,
     "metadata": {},
     "output_type": "execute_result"
    }
   ],
   "source": [
    "soup3.select('a')"
   ]
  },
  {
   "cell_type": "markdown",
   "id": "380e9571",
   "metadata": {},
   "source": [
    "* HTML 소스에서 태그 a를 포함하는 요소 중 class 속성이 'portal' 인 요소만 선택"
   ]
  },
  {
   "cell_type": "code",
   "execution_count": 32,
   "id": "4798835b",
   "metadata": {},
   "outputs": [
    {
     "data": {
      "text/plain": [
       "[<a class=\"portal\" href=\"http:www.naver.com\" id=\"naver\">네이버</a>,\n",
       " <a class=\"portal\" href=\"http:www.daum.net\" id=\"daum\">다음</a>]"
      ]
     },
     "execution_count": 32,
     "metadata": {},
     "output_type": "execute_result"
    }
   ],
   "source": [
    "soup3.select('a.portal')"
   ]
  },
  {
   "cell_type": "markdown",
   "id": "a9ed7d1e",
   "metadata": {},
   "source": [
    "* 태그를 포함하는 요소 중 id 속성이 'naver' 인 요소를 선택"
   ]
  },
  {
   "cell_type": "code",
   "execution_count": 33,
   "id": "ece06ac2",
   "metadata": {},
   "outputs": [
    {
     "data": {
      "text/plain": [
       "[<a class=\"portal\" href=\"http:www.naver.com\" id=\"naver\">네이버</a>]"
      ]
     },
     "execution_count": 33,
     "metadata": {},
     "output_type": "execute_result"
    }
   ],
   "source": [
    "soup3.select('a#naver')"
   ]
  },
  {
   "cell_type": "markdown",
   "id": "1098f64c",
   "metadata": {},
   "source": [
    "### 줄 바꿈으로 가독성 높이기\n",
    "* HTML 소스 코드를 파일('br_example_constitution.html')로 저장"
   ]
  },
  {
   "cell_type": "code",
   "execution_count": 34,
   "id": "1e9ce5ff",
   "metadata": {},
   "outputs": [
    {
     "name": "stdout",
     "output_type": "stream",
     "text": [
      "Overwriting br_example_constitution.html\n"
     ]
    }
   ],
   "source": [
    "%%writefile br_example_constitution.html\n",
    "<!doctype html>\n",
    "<html>\n",
    "  <head>\n",
    "    <meta charset=\"utf-8\">\n",
    "    <title>줄 바꿈 테스트 예제</title>\n",
    "  </head>\n",
    "  <body>\n",
    "  <p id=\"title\"><b>대한민국헌법</b></p>\n",
    "  <p id=\"content\">제1조 <br/>①대한민국은 민주공화국이다.<br/>②대한민국의 주권은 국민에게 있고, 모든 권력은 국민으로부터 나온다.</p>\n",
    "  <p id=\"content\">제2조 <br/>①대한민국의 국민이 되는 요건은 법률로 정한다.<br/>②국가는 법률이 정하는 바에 의하여 재외국민을 보호할 의무를 진다.</p>\n",
    "  </body>\n",
    "</html>\n"
   ]
  },
  {
   "cell_type": "markdown",
   "id": "ea457726",
   "metadata": {},
   "source": [
    "* HTML 파일 ('br_example_constitution.html')을 읽어서 변수 html_source에 할당\n",
    "* 요소에서 텍스트를 추출하고 출력"
   ]
  },
  {
   "cell_type": "code",
   "execution_count": 35,
   "id": "854070b7",
   "metadata": {},
   "outputs": [
    {
     "name": "stdout",
     "output_type": "stream",
     "text": [
      "대한민국헌법\n",
      "제1조 ①대한민국은 민주공화국이다.②대한민국의 주권은 국민에게 있고, 모든 권력은 국민으로부터 나온다.\n",
      "제2조 ①대한민국의 국민이 되는 요건은 법률로 정한다.②국가는 법률이 정하는 바에 의하여 재외국민을 보호할 의무를 진다.\n"
     ]
    }
   ],
   "source": [
    "f=open('br_example_constitution.html',encoding='utf-8')\n",
    "\n",
    "html_source = f.read()\n",
    "f.close()\n",
    "\n",
    "soup = BeautifulSoup(html_source,'lxml')\n",
    "\n",
    "title = soup.find('p',{'id':'title'})\n",
    "contents = soup.find_all('p',{'id':\"content\"})\n",
    "\n",
    "print(title.get_text())\n",
    "for content in contents:\n",
    "    print(content.get_text())"
   ]
  },
  {
   "cell_type": "markdown",
   "id": "35d4730d",
   "metadata": {},
   "source": [
    "* 추출된 html 코드에서 줄 바꿈 태그를 파이썬의 기행문자(\\n)로 바꿈\n",
    "* Beautiful Soup의 'replace_with(새로운 문자열)'을 이용\n",
    "* 기존의 태그나 문자열을 새로운 태그나 문자열로 바꿈\n",
    "\n",
    "* find_result = BeautifulSoup.find('태그')\n",
    "* find_result.replace_with('새 태그나 문자열')\n",
    "\n",
    "* html 코드에서 br 태그를 파이썬의 개행문자로 바꾸고 싶으면"
   ]
  },
  {
   "cell_type": "code",
   "execution_count": 36,
   "id": "a339a5c5",
   "metadata": {},
   "outputs": [
    {
     "name": "stdout",
     "output_type": "stream",
     "text": [
      "==> 태그 p로 찾은 요소\n",
      "<p id=\"content\">제1조 <br/>①대한민국은 민주공화국이다.<br/>②대한민국의 주권은 국민에게 있고, 모든 권력은 국민으로부터 나온다.</p>\n",
      "==>결과에서 태그 br로 찾은 요소 <br/>\n",
      "==>태그 br을 개행문자로 바꾼 결과\n",
      "<p id=\"content\">제1조 \n",
      "①대한민국은 민주공화국이다.<br/>②대한민국의 주권은 국민에게 있고, 모든 권력은 국민으로부터 나온다.</p>\n"
     ]
    }
   ],
   "source": [
    "html1='<p id=\"content\">제1조 <br/>①대한민국은 민주공화국이다.<br/>②대한민국의 주권은 국민에게 있고, 모든 권력은 국민으로부터 나온다.</p>'\n",
    "soup1 = BeautifulSoup(html1,'lxml')\n",
    "\n",
    "print('==> 태그 p로 찾은 요소')\n",
    "content1=soup1.find('p',{'id':'content'})\n",
    "print(content1)\n",
    "\n",
    "br_content = content1.find('br')\n",
    "print('==>결과에서 태그 br로 찾은 요소',br_content)\n",
    "\n",
    "br_content.replace_with(\"\\n\")\n",
    "print(\"==>태그 br을 개행문자로 바꾼 결과\")\n",
    "print(content1)"
   ]
  },
  {
   "cell_type": "markdown",
   "id": "5c558650",
   "metadata": {},
   "source": [
    "* 추출 요소 전체에 적용"
   ]
  },
  {
   "cell_type": "code",
   "execution_count": 37,
   "id": "b1929626",
   "metadata": {},
   "outputs": [
    {
     "name": "stdout",
     "output_type": "stream",
     "text": [
      "<p id=\"content\">제1조 \n",
      "①대한민국은 민주공화국이다.\n",
      "②대한민국의 주권은 국민에게 있고, 모든 권력은 국민으로부터 나온다.</p>\n"
     ]
    }
   ],
   "source": [
    "soup2 =BeautifulSoup(html1,'lxml')\n",
    "content2=soup2.find('p',{'id':'content'})\n",
    "\n",
    "br_contents = content2.find_all('br')\n",
    "for br_content in br_contents:\n",
    "    br_content.replace_with('\\n')\n",
    "print(content2)"
   ]
  },
  {
   "cell_type": "markdown",
   "id": "1f0295b4",
   "metadata": {},
   "source": [
    "* 함수 사용"
   ]
  },
  {
   "cell_type": "code",
   "execution_count": 38,
   "id": "bea2ec3c",
   "metadata": {},
   "outputs": [],
   "source": [
    "def replace_newline(soup_html):\n",
    "    br_to_newlines = soup_html.find_all('br')\n",
    "    for br_to_newline in br_to_newlines:\n",
    "        br_to_newline.replace_with('\\n')\n",
    "    return soup_html"
   ]
  },
  {
   "cell_type": "markdown",
   "id": "f1c1939f",
   "metadata": {},
   "source": [
    "* Beautiful Soup로 파싱된 HTML 소스에서 br 태그를 개행문자(\\n)로 변경\n",
    "* 함수를 이용한 결과에서 요소의 내용만 추출하기 위해 get_text()를 적용"
   ]
  },
  {
   "cell_type": "code",
   "execution_count": 39,
   "id": "206a8223",
   "metadata": {},
   "outputs": [
    {
     "name": "stdout",
     "output_type": "stream",
     "text": [
      "제1조 \n",
      "①대한민국은 민주공화국이다.\n",
      "②대한민국의 주권은 국민에게 있고, 모든 권력은 국민으로부터 나온다.\n"
     ]
    }
   ],
   "source": [
    "soup2 = BeautifulSoup(html1,'lxml')\n",
    "content2=soup2.find('p',{'id':'content'})\n",
    "content3=replace_newline(content2)\n",
    "print(content3.get_text())"
   ]
  },
  {
   "cell_type": "markdown",
   "id": "2c3b6eba",
   "metadata": {},
   "source": [
    "* Html 소스코드를 할당한 변수 html_sourc에 위의 파이썬 코드를 적용"
   ]
  },
  {
   "cell_type": "code",
   "execution_count": 40,
   "id": "1f45aaed",
   "metadata": {},
   "outputs": [
    {
     "name": "stdout",
     "output_type": "stream",
     "text": [
      "대한민국헌법 \n",
      "\n",
      "제1조 \n",
      "①대한민국은 민주공화국이다.\n",
      "②대한민국의 주권은 국민에게 있고, 모든 권력은 국민으로부터 나온다. \n",
      "\n",
      "제2조 \n",
      "①대한민국의 국민이 되는 요건은 법률로 정한다.\n",
      "②국가는 법률이 정하는 바에 의하여 재외국민을 보호할 의무를 진다. \n",
      "\n"
     ]
    }
   ],
   "source": [
    "soup = BeautifulSoup(html_source,'lxml')\n",
    "\n",
    "title = soup.find('p',{'id':'title'})\n",
    "contents = soup.find_all('p',{'id':'content'})\n",
    "\n",
    "print(title.get_text(),'\\n')\n",
    "for content in contents:\n",
    "    content1=replace_newline(content)\n",
    "    print(content1.get_text(),'\\n')"
   ]
  },
  {
   "cell_type": "markdown",
   "id": "ab80ddfd",
   "metadata": {},
   "source": [
    "* 줄을 바꾸어 문단을 구분하는 p 태그를 표기하기위해\n",
    "* content1.get_text 를 print 할때 개행문자 \\n 추가"
   ]
  },
  {
   "cell_type": "markdown",
   "id": "354ba81e",
   "metadata": {},
   "source": [
    "# 웹 사이트에서 데이터 가져오기\n",
    "\n",
    "## 웹스크레이핑 시 주의 사항\n",
    "\n",
    "* 웹 페이지의 소스코드에서 데이터를 얻기 위한 규칙을 발견\n",
    "* 파이썬 코드를 이용해 웹 스크레이핑을 할 경우 해당 웹 사이트에 너무 빈번하게 접근 금지\n",
    "* 사이트는 언제든지 예고 없이 변경될 수 있음\n",
    "* 인터넷 상에 공개된 데이터라고 하더라도 저작권이 있는 경우가 있음\n",
    "\n",
    "## 순위 데이터를 가져 오기\n",
    "\n",
    "### 웹 사이트 순위\n",
    "\n",
    "* 인터넷 사용자들이 방문하는 웹 사이트의 방문 정보(접속한 사용자 수, 페이지, 뷰 정보 등) 및 웹 트래픽을 분석\n",
    "* 웹 사이트의 순위를 제공하는 사이트가 있음\n",
    "* 선정한 select()의 인자 'p a'를 이용해 웹 사이트의 트래픽 순위를 추출\n",
    "\n"
   ]
  },
  {
   "cell_type": "code",
   "execution_count": 41,
   "id": "2fa01a45",
   "metadata": {},
   "outputs": [],
   "source": [
    "url = \"https://www.alexa.com/topsites/countries/KR\"\n",
    "\n",
    "html_website_ranking = requests.get(url).text\n",
    "soup_website_ranking = BeautifulSoup(html_website_ranking,'lxml')"
   ]
  },
  {
   "cell_type": "code",
   "execution_count": 42,
   "id": "91099831",
   "metadata": {},
   "outputs": [],
   "source": [
    "# p태그의 요소 안에서 a 태그의 요소를 찾음\n",
    "website_ranking = soup_website_ranking.select('p a')"
   ]
  },
  {
   "cell_type": "code",
   "execution_count": 43,
   "id": "4b63bac3",
   "metadata": {},
   "outputs": [
    {
     "data": {
      "text/plain": [
       "[]"
      ]
     },
     "execution_count": 43,
     "metadata": {},
     "output_type": "execute_result"
    }
   ],
   "source": [
    "# 순위 결과가 잘 추출 됐는지 알아보기 위해 변수 website_ranking에 저장된 내용중에서 앞의 일부만 출력\n",
    "website_ranking[0:7]"
   ]
  },
  {
   "cell_type": "code",
   "execution_count": null,
   "id": "4ff93c90",
   "metadata": {},
   "outputs": [],
   "source": [
    "#첫 번째 항목을 제외한 리스트 website_ranking[1:] 의 각 요소에서 웹사이트 주소 \n",
    "website_ranking[1:].get_text()"
   ]
  },
  {
   "cell_type": "markdown",
   "id": "1d65cb72",
   "metadata": {},
   "source": [
    "* 리스트의 모든 항목에 대해 get_text()를 적용하기 위해 \n",
    "* 한줄 for 문을 적요한 리스트 컴프리 헨션을 이용"
   ]
  },
  {
   "cell_type": "code",
   "execution_count": 44,
   "id": "dbc4e5d8",
   "metadata": {},
   "outputs": [],
   "source": [
    "website_ranking_address = [website_ranking_element.get_text() for website_ranking_element in website_ranking[1:]]"
   ]
  },
  {
   "cell_type": "code",
   "execution_count": 45,
   "id": "b7f70f5f",
   "metadata": {},
   "outputs": [
    {
     "data": {
      "text/plain": [
       "[]"
      ]
     },
     "execution_count": 45,
     "metadata": {},
     "output_type": "execute_result"
    }
   ],
   "source": [
    "# website_ranking_address 중 앞의 일부만 출력\n",
    "website_ranking_address[0:6]"
   ]
  },
  {
   "cell_type": "code",
   "execution_count": null,
   "id": "07cdfcc8",
   "metadata": {},
   "outputs": [],
   "source": []
  },
  {
   "cell_type": "markdown",
   "id": "cdf7c101",
   "metadata": {},
   "source": [
    "## 웹 페이지에서 이미지 가져오기\n",
    "\n",
    "### 하나의 이미지 내려받기\n",
    "\n",
    "* requests 라이브러리를 이용해 이미지 파일을 위한 응답 객체 가져오기"
   ]
  },
  {
   "cell_type": "code",
   "execution_count": 55,
   "id": "09f8f195",
   "metadata": {},
   "outputs": [
    {
     "data": {
      "text/plain": [
       "<Response [200]>"
      ]
     },
     "execution_count": 55,
     "metadata": {},
     "output_type": "execute_result"
    }
   ],
   "source": [
    "url = 'https://www.python.org/static/img/python-logo.png'\n",
    "html_image = requests.get(url)\n",
    "html_image"
   ]
  },
  {
   "cell_type": "markdown",
   "id": "0a4ed6bb",
   "metadata": {},
   "source": [
    "* 이미지 주소에서 이미지 파일명만 추출해 이용\n",
    "* 이미지 파일의 전체 경로에서 파일 이름만 추출한 것"
   ]
  },
  {
   "cell_type": "code",
   "execution_count": 56,
   "id": "3dec279c",
   "metadata": {},
   "outputs": [
    {
     "data": {
      "text/plain": [
       "'python-logo.png'"
      ]
     },
     "execution_count": 56,
     "metadata": {},
     "output_type": "execute_result"
    }
   ],
   "source": [
    "image_file_name = os.path.basename(url)\n",
    "image_file_name"
   ]
  },
  {
   "cell_type": "markdown",
   "id": "52ec5c58",
   "metadata": {},
   "source": [
    "* 이미지 파일을 내 컴퓨터로 내려받을 폴더를 생성\n",
    "\n",
    "* os.makedirs(folder)\n",
    "* os.path.exists(folder)"
   ]
  },
  {
   "cell_type": "code",
   "execution_count": 57,
   "id": "d1e1f10f",
   "metadata": {},
   "outputs": [],
   "source": [
    "folder = '/Users/dhshin/PycharmProjects/python_class/web_crawl/download'\n",
    "\n",
    "if not os.path.exists(folder):\n",
    "    os.makedirs(folder)"
   ]
  },
  {
   "cell_type": "markdown",
   "id": "63e01ae0",
   "metadata": {},
   "source": [
    "* 생성된 폴더와 추출한 이미지 파일명을 합치기 위해서 os모듈의 매서드를 이용\n",
    "* os.path.join\n",
    "* 파일을 저장 하려는 폴더가 folder이고 파일 이름이 file 이라면 \n",
    "* os.path.join(folder, file)로 파일의 전체 경로를 생성\n",
    "\n",
    "* 생성한 이미지 파일을 위한 폴더와 추출한 이미지 파일을 통합하는 코드"
   ]
  },
  {
   "cell_type": "code",
   "execution_count": 58,
   "id": "0dd610bb",
   "metadata": {},
   "outputs": [
    {
     "data": {
      "text/plain": [
       "'/Users/dhshin/PycharmProjects/python_class/web_crawl/download/python-logo.png'"
      ]
     },
     "execution_count": 58,
     "metadata": {},
     "output_type": "execute_result"
    }
   ],
   "source": [
    "image_path = os.path.join(folder,image_file_name)\n",
    "image_path"
   ]
  },
  {
   "cell_type": "markdown",
   "id": "bf2e6c79",
   "metadata": {},
   "source": [
    "* 이미지 파일을 저장하기 전에 우선 open('file_name','mode')을 이용해 파일을 오픈\n",
    "\n",
    "* file_name에는 앞에서 지정한 경로 이름을 넣고\n",
    "* mode에는 쓰기 모드와 바이너리 파일 모드를 지정\n",
    "\n",
    "* 저장하려는 파일이 텍스트 파일이 아니고 이미지 파일이므로 바이너리 파일 모드로 지정"
   ]
  },
  {
   "cell_type": "code",
   "execution_count": 59,
   "id": "bc02df72",
   "metadata": {},
   "outputs": [],
   "source": [
    "imageFile = open(image_path,'wb')"
   ]
  },
  {
   "cell_type": "markdown",
   "id": "22fd3573",
   "metadata": {},
   "source": [
    "* requests 라이브러리의 iter_content(chunk_size)를 이용해 \n",
    "* 전체 이미지를 chunk_size[bytes] 만큼 나눠서 내려받음\n",
    "\n",
    "* 전체 파일의 마지막까지 나워서 내려받은 데이터를 차례대로 파일 쓰기를 하면\n",
    "* 최종적으로 완전한 하나의 이미지 파일을 내려받을 수 있음"
   ]
  },
  {
   "cell_type": "code",
   "execution_count": 60,
   "id": "f5ac195c",
   "metadata": {},
   "outputs": [],
   "source": [
    "# 이미지 데이터를 1000000 바이트씩 나눠서 내려받고 파일에 순차적으로 저장\n",
    "chunk_size = 1000000\n",
    "for chunk in html_image.iter_content(chunk_size):\n",
    "    imageFile.write(chunk)\n",
    "imageFile.close()"
   ]
  },
  {
   "cell_type": "code",
   "execution_count": 61,
   "id": "a6b2a61e",
   "metadata": {},
   "outputs": [
    {
     "data": {
      "text/plain": [
       "['python-logo.png']"
      ]
     },
     "execution_count": 61,
     "metadata": {},
     "output_type": "execute_result"
    }
   ],
   "source": [
    "# 지정된 폴더의 파일 목록을 보여주는 'os.listdir(folder)'실행\n",
    "os.listdir(folder)"
   ]
  },
  {
   "cell_type": "markdown",
   "id": "41e22c52",
   "metadata": {},
   "source": [
    "### 여러 이미지 내려 받기 \n",
    "\n",
    "* select('a img')를 수행하시면 해당 이미지의 요소가 추출"
   ]
  },
  {
   "cell_type": "code",
   "execution_count": 65,
   "id": "8532f175",
   "metadata": {},
   "outputs": [
    {
     "data": {
      "text/plain": [
       "[<img alt=\"Reshot\" height=\"33\" src=\"https://www.reshot.com/build/reshot-logo--mark-f8dfafbc1cc8fbf4dfa0e2f210265735aefa6e32f883b5a1fe27fd94f84719b3.svg\" title=\"Reshot\" width=\"46\"/>,\n",
       " <img alt=\"External link\" height=\"12\" loading=\"lazy\" src=\"https://www.reshot.com/build/photos/external-link-arrow-52c40e51b7c58258feac171c83a56c8484bf490ac15b614762274080ba230f7f.svg\" width=\"12\"/>,\n",
       " <img alt=\"External link\" height=\"12\" loading=\"lazy\" src=\"https://www.reshot.com/build/photos/external-link-arrow-52c40e51b7c58258feac171c83a56c8484bf490ac15b614762274080ba230f7f.svg\" width=\"12\"/>,\n",
       " <img alt=\"Reshot\" class=\"global-footer__logo-image\" height=\"82\" src=\"https://www.reshot.com/build/reshot-logo--mark-f8dfafbc1cc8fbf4dfa0e2f210265735aefa6e32f883b5a1fe27fd94f84719b3.svg\" title=\"Reshot\" width=\"113\"/>]"
      ]
     },
     "execution_count": 65,
     "metadata": {},
     "output_type": "execute_result"
    }
   ],
   "source": [
    "URL = 'https://reshot.com/search/animal'\n",
    "\n",
    "html_reshot_image = requests.get(URL).text\n",
    "soup_reshot_image = BeautifulSoup(html_reshot_image,'lxml')\n",
    "reshot_image_elements = soup_reshot_image.select('a img')\n",
    "reshot_image_elements[0:4]"
   ]
  },
  {
   "cell_type": "markdown",
   "id": "c4e30d4e",
   "metadata": {},
   "source": [
    "* 출력 결과를 보면 img 태그가 포함된 이미지가 있는 요소가 추출\n",
    "* 리스트 reshot_image_elements의 제일 첫 번째 요소는 reshot의 로고 이미지\n",
    "* 동물 이미지만 가져오기 위해서는 reshot_image_elements[1:]을 이용\n",
    "\n",
    "* BeautifulSoupd에서 get('속성')은 '속성'에 들어간 '속성값'을 반환\n",
    "* 추출된 요소에서 src의 속성값인 이미지 주소를 구하려면 get('src')을 수행"
   ]
  },
  {
   "cell_type": "code",
   "execution_count": 66,
   "id": "2e52c524",
   "metadata": {},
   "outputs": [
    {
     "data": {
      "text/plain": [
       "'https://www.reshot.com/build/photos/external-link-arrow-52c40e51b7c58258feac171c83a56c8484bf490ac15b614762274080ba230f7f.svg'"
      ]
     },
     "execution_count": 66,
     "metadata": {},
     "output_type": "execute_result"
    }
   ],
   "source": [
    "reshot_image_url = reshot_image_elements[1].get('src')\n",
    "reshot_image_url"
   ]
  },
  {
   "cell_type": "markdown",
   "id": "7c246625",
   "metadata": {},
   "source": [
    "* 이미지 주소를 알고 있을 때 이미지를 내려받는 방법"
   ]
  },
  {
   "cell_type": "code",
   "execution_count": 70,
   "id": "1b3ecd58",
   "metadata": {},
   "outputs": [],
   "source": [
    "html_image = requests.get(reshot_image_url)\n",
    "folder = 'download'\n",
    "\n",
    "image_path = os.path.join(folder, os.path.basename(reshot_image_url))\n",
    "imageFile = open(image_path ,'wb')\n",
    "\n",
    "chunk_size = 1000000\n",
    "for chunk in html_image.iter_content(chunk_size):\n",
    "    imageFile.write(chunk)\n",
    "imageFile.close()"
   ]
  },
  {
   "cell_type": "markdown",
   "id": "186d41fd",
   "metadata": {},
   "source": [
    "* 함수로 만들고 반복문으로 지정한 개수만큼 이미지를 내려받는 코드를 작성"
   ]
  },
  {
   "cell_type": "code",
   "execution_count": 71,
   "id": "eacfcb11",
   "metadata": {},
   "outputs": [
    {
     "name": "stdout",
     "output_type": "stream",
     "text": [
      "이미지 파일명: 'reshot-logo--mark-f8dfafbc1cc8fbf4dfa0e2f210265735aefa6e32f883b5a1fe27fd94f84719b3.svg'. 내려받기 완료!\n",
      "이미지 파일명: 'icon-no-photos-034c2399566c35bc56688f11795abdadf83f3c88fd167216a17ed55c2d65c73e.svg'. 내려받기 완료!\n",
      "이미지 파일명: 'external-link-arrow-52c40e51b7c58258feac171c83a56c8484bf490ac15b614762274080ba230f7f.svg'. 내려받기 완료!\n",
      "이미지 파일명: 'royalty-free-graphics-32a2c20ff5eac776239816c834473050da29fb8b36f19d25558cfdca7a6635da.png'. 내려받기 완료!\n",
      "이미지 파일명: 'elements-logo-c261bed7471105c650a86955a75ac1e08024ebe5c905547be1aae0274ac10eef.svg'. 내려받기 완료!\n",
      "이미지 파일명: 'external-link-arrow-52c40e51b7c58258feac171c83a56c8484bf490ac15b614762274080ba230f7f.svg'. 내려받기 완료!\n",
      "이미지 파일명: 'reshot-logo--mark-f8dfafbc1cc8fbf4dfa0e2f210265735aefa6e32f883b5a1fe27fd94f84719b3.svg'. 내려받기 완료!\n",
      "========================\n",
      "선택한 모든 이미지 내려받기 완료!\n"
     ]
    }
   ],
   "source": [
    "# URL 에서 이미지 주소 추출\n",
    "def get_image_url(url):\n",
    "    html_image_url = requests.get(url).text\n",
    "    soup_image_url = BeautifulSoup(html_image_url,'lxml')\n",
    "    image_elements = soup_image_url.select('img')\n",
    "    if(image_elements != None):\n",
    "        image_urls = []\n",
    "        for image_element in image_elements:\n",
    "            image_urls.append(image_element.get('src'))\n",
    "        return image_urls\n",
    "    else:\n",
    "        return None\n",
    "    \n",
    "# 폴더를 지정해 이미지 주소에서 이미지 내려받기\n",
    "def download_image(img_folder, img_url):\n",
    "    if(img_url != None):\n",
    "        html_image = requests.get(img_url)\n",
    "        #os.path.basename(url)는 웹사이트나 폴더가 포함된 파일명에서 파일명만 분리\n",
    "        imageFile = open(os.path.join(img_folder, os.path.basename(img_url)),'wb')            \n",
    "        \n",
    "        chunk_size = 1000000 # 이미지 데이터를 1000000바이트씩 나눠서 저징\n",
    "        for chunk in html_image.iter_content(chunk_size):\n",
    "            imageFile.write(chunk)\n",
    "            imageFile.close()\n",
    "        print(\"이미지 파일명: '{0}'. 내려받기 완료!\".format(os.path.basename(img_url)))\n",
    "    else:\n",
    "        print(\"내려받을 이미지가 없습니다.\")\n",
    "        \n",
    "#웹 사이트의 주소 지정\n",
    "reshot_url = 'https://www.reshot.com/search/animal'\n",
    "\n",
    "figure_folder ='download' # 이미지를 내려받을 폴더 지정\n",
    "\n",
    "reshot_image_urls = get_image_url(reshot_url)# 이미지 파일의 주소 가져오기\n",
    "\n",
    "num_of_download_image = 7 # 내려받을 이미지 개수 지정\n",
    "# num_of_download_image = len(reshot_image_urls)\n",
    "\n",
    "for k in range(num_of_download_image):\n",
    "    download_image(figure_folder,reshot_image_urls[k])\n",
    "print(\"========================\")\n",
    "print('선택한 모든 이미지 내려받기 완료!')"
   ]
  },
  {
   "cell_type": "markdown",
   "id": "62a7d2a8",
   "metadata": {},
   "source": [
    "* len(reshot_image_urls)로 이미지가 몇 개인지 확인"
   ]
  },
  {
   "cell_type": "code",
   "execution_count": 72,
   "id": "7e621cb9",
   "metadata": {},
   "outputs": [
    {
     "data": {
      "text/plain": [
       "7"
      ]
     },
     "execution_count": 72,
     "metadata": {},
     "output_type": "execute_result"
    }
   ],
   "source": [
    "num_of_download_image = len(reshot_image_urls)\n",
    "num_of_download_image"
   ]
  },
  {
   "cell_type": "markdown",
   "id": "16299ff8",
   "metadata": {},
   "source": [
    "#### 정리\n",
    "\n",
    "* webbrowser 라이브러리를 이용해 원하는 웹 사이트를 웹 브라우저로 열어서 접속하는 방법\n",
    "* HTML 코드를 분석하고 requests 라이브러리를 이용해 HTML 소스를 가져오는 방법\n",
    "* HTML 소스를 Beautiful Soup 라이브러리를 이용해 파싱하고 원하는 결과를 추출하는 방법\n",
    "* 웹 사이트에 있는 이미지 파일을 내려받는 방법"
   ]
  },
  {
   "cell_type": "code",
   "execution_count": null,
   "id": "a8fe9f23",
   "metadata": {},
   "outputs": [],
   "source": []
  }
 ],
 "metadata": {
  "kernelspec": {
   "display_name": "Python 3 (ipykernel)",
   "language": "python",
   "name": "python3"
  },
  "language_info": {
   "codemirror_mode": {
    "name": "ipython",
    "version": 3
   },
   "file_extension": ".py",
   "mimetype": "text/x-python",
   "name": "python",
   "nbconvert_exporter": "python",
   "pygments_lexer": "ipython3",
   "version": "3.9.13"
  }
 },
 "nbformat": 4,
 "nbformat_minor": 5
}
