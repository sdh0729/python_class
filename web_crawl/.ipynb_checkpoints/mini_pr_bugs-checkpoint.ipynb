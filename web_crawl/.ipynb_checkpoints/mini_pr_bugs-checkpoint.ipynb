{
 "cells": [
  {
   "cell_type": "code",
   "execution_count": 1,
   "id": "f8636ebc",
   "metadata": {},
   "outputs": [],
   "source": [
    "from selenium import webdriver\n",
    "from bs4 import BeautifulSoup\n",
    "import bs4\n",
    "import pandas as pd"
   ]
  },
  {
   "cell_type": "code",
   "execution_count": 2,
   "id": "9e84afaf",
   "metadata": {},
   "outputs": [],
   "source": [
    "driver = webdriver.Chrome(\"chromedriver\")\n",
    "url = 'https://music.bugs.co.kr/chart'\n",
    "driver.get(url)\n",
    "html = driver.page_source\n",
    "soup = BeautifulSoup(html,'html.parser')"
   ]
  },
  {
   "cell_type": "code",
   "execution_count": 3,
   "id": "310ae15e",
   "metadata": {},
   "outputs": [],
   "source": [
    "song_li = []\n",
    "rank = 1\n",
    "songs = soup.select('table.byChart > tbody > tr')\n",
    "for song in songs:\n",
    "    title = song.select('p.title')[0].text\n",
    "    singer = song.select('p.artist')[0].text\n",
    "    song_li.append(['Genie',rank,title,singer])\n",
    "    rank = rank +1"
   ]
  },
  {
   "cell_type": "code",
   "execution_count": 4,
   "id": "33f8025f",
   "metadata": {},
   "outputs": [],
   "source": [
    "columns = ['회사', '순위',  '제목', '가수']\n",
    "df = pd.DataFrame(song_li, columns=columns)\n",
    "df.to_csv('bugs_chart.csv',encoding = 'euc-kr')"
   ]
  },
  {
   "cell_type": "code",
   "execution_count": null,
   "id": "00ea57b3",
   "metadata": {},
   "outputs": [],
   "source": []
  }
 ],
 "metadata": {
  "kernelspec": {
   "display_name": "Python 3 (ipykernel)",
   "language": "python",
   "name": "python3"
  },
  "language_info": {
   "codemirror_mode": {
    "name": "ipython",
    "version": 3
   },
   "file_extension": ".py",
   "mimetype": "text/x-python",
   "name": "python",
   "nbconvert_exporter": "python",
   "pygments_lexer": "ipython3",
   "version": "3.9.13"
  }
 },
 "nbformat": 4,
 "nbformat_minor": 5
}
