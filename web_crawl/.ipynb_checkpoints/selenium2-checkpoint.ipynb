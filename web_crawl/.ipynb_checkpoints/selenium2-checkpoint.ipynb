{
 "cells": [
  {
   "cell_type": "markdown",
   "id": "f9d42294",
   "metadata": {},
   "source": [
    "## 네이버 기사 크롤링"
   ]
  },
  {
   "cell_type": "code",
   "execution_count": 1,
   "id": "698fd32e",
   "metadata": {},
   "outputs": [],
   "source": [
    "from selenium import webdriver\n",
    "from selenium.webdriver.common.by import By"
   ]
  },
  {
   "cell_type": "code",
   "execution_count": 2,
   "id": "5124e0bc",
   "metadata": {},
   "outputs": [],
   "source": [
    "article_list = []\n",
    "\n",
    "def get_article(page):\n",
    "    driver = webdriver.Chrome(\"C:/Myexam/chromedriver/chromedriver.exe\")\n",
    "    driver.get(\"http://news.naver.com/main/main.nhn?mode=LSD&mid=shm&sid1=105#&date=%2000:00:00&page=\" + str(page))\n",
    "    articles = driver.find_elements(By.CSS_SELECTOR,'#section_body li')\n",
    "\n",
    "    for article in articles:\n",
    "        title = article.find_element(By.CSS_SELECTOR,'dt:not(.photo) > a').text\n",
    "        article_list.append(title)\n",
    "\n",
    "    print(\"end :\", page)\n",
    "\n",
    "    driver.quit()"
   ]
  },
  {
   "cell_type": "code",
   "execution_count": 3,
   "id": "c50bd248",
   "metadata": {},
   "outputs": [
    {
     "name": "stderr",
     "output_type": "stream",
     "text": [
      "/var/folders/vf/5rv7rfgn0n3967r8ljqz1x_80000gn/T/ipykernel_42323/100575472.py:4: DeprecationWarning: executable_path has been deprecated, please pass in a Service object\n",
      "  driver = webdriver.Chrome(\"C:/Myexam/chromedriver/chromedriver.exe\")\n"
     ]
    },
    {
     "name": "stdout",
     "output_type": "stream",
     "text": [
      "end : 1\n",
      "end : 2\n",
      "end : 3\n",
      "end : 4\n",
      "CPU times: user 136 ms, sys: 108 ms, total: 244 ms\n",
      "Wall time: 35.3 s\n"
     ]
    }
   ],
   "source": [
    "%%time\n",
    "for page in range(1,5):\n",
    "    get_article(page)"
   ]
  },
  {
   "cell_type": "code",
   "execution_count": 4,
   "id": "a2f3f46a",
   "metadata": {},
   "outputs": [
    {
     "data": {
      "text/plain": [
       "(80,\n",
       " [\"애플페이 따라 해외 'OO페이' 무혈입성하나\",\n",
       "  '안경이 전화·번역·길안내 척척…‘스마트 글래스’ 시대 언제쯤?',\n",
       "  '‘알뜰폰 도매대가 규제 폐지’ 논란 2라운드 돌입',\n",
       "  '[단독] LG디스플레이, 사무직 자율휴직 시행… 고정급 50% 지급에 최대 1년',\n",
       "  '\"베꼈다\" vs \"보편적 기술\"…대기업-벤처 간 잇단 \\'카피캣\\' 논란 [긱스]',\n",
       "  '‘폐기 위기’ 국산 코로나19 백신, 유효기간 12개월로 연장',\n",
       "  \"한컴·티맥스, 개방형 OS 시장 경쟁···'온북' 둘러싸고 진검승부\",\n",
       "  '여드름·손 습진 치료할 때 \"피임 필수\"...태아 기형 위험 높아진다',\n",
       "  '7.6㎜, 3배 광학줌, 인피니티-O 디스플레이… 獨 IT 매체가 공개한 갤럭시 S23은',\n",
       "  '“125만원→ 23만원” 태연이 손에 쥔 ‘접는 폰’ 헐값 됐다',\n",
       "  '\"100만원어치 날렸다\"…오늘은 꼭 비밀번호 바꿔야 하는 이유 [선한결의 IT포커스]',\n",
       "  '롯데헬스케어, 알고케어 기술 탈취했나…향후 쟁점은?',\n",
       "  '종주국 日 콧대 꺾은 K뷰티·난로·애니',\n",
       "  '인기 도착지 보고 교통정체 예측하고…데이터 앞세우는 카카오·티맵',\n",
       "  '\"갤럭시S23 얼마?\"...가격 둘러싼 루머들',\n",
       "  \"밀리의서재, 3월 IPO 포기…'연내 상장'으로 목표 수정\",\n",
       "  \"네패스, 앞선 패키징 기술력에도 수익성 저조…'자본잠식' 자회사 어쩌나\",\n",
       "  '[리뷰] 도킹 스테이션이 결합된 모니터 암, 카멜마운트 PMA2WDS',\n",
       "  '\"15만원 오른다\"…국방색 \\'갤S23\\' 유출자료 보니',\n",
       "  '애플 홈패드 개발…냉장고에 착 붙는 아이패드',\n",
       "  '오일머니가 K-게임 점찍은 이유는?',\n",
       "  '저소득 자영업자 국민연금 보험료지원, 지원 대상‧기간 확대 추진',\n",
       "  '“당뇨 환자엔 저탄수화물食 추천, 간헐적 단식은 ‘비추’”…진료지침 바뀐다',\n",
       "  '알뜰폰 도매제공…규제냐, 자율이냐 그것이 문제로다 [IT돋보기]',\n",
       "  '\"Z세대에게 원격근무는 뉴노멀\"',\n",
       "  '[人사이트]이성현 오픈엣지 대표 \"R&D 역량 키워 글로벌 AI 반도체 시장 공략\"',\n",
       "  '넥슨 미래 책임질 넥슨게임즈, 듀랑고 이어 던파까지',\n",
       "  '[단독]CJ ENM, 재택근무 종료…주4.5일제→월2회 자기계발',\n",
       "  \"'배민' 우아한형제들도 적자지만…순익낸 자회사 '푸드테크' 어떤 기업?\",\n",
       "  '가상자산 대부업체 제네시스글로벌, 이르면 이번주 파산신청'])"
      ]
     },
     "execution_count": 4,
     "metadata": {},
     "output_type": "execute_result"
    }
   ],
   "source": [
    "len(article_list), article_list[:30]"
   ]
  },
  {
   "cell_type": "markdown",
   "id": "2a017e71",
   "metadata": {},
   "source": [
    "#### 판다스 사용"
   ]
  },
  {
   "cell_type": "code",
   "execution_count": 5,
   "id": "8eb62613",
   "metadata": {},
   "outputs": [],
   "source": [
    "import threading\n",
    "import pandas as pd\n",
    "\n",
    "df = pd.DataFrame(columns=['title'])"
   ]
  },
  {
   "cell_type": "code",
   "execution_count": 6,
   "id": "99ab6000",
   "metadata": {},
   "outputs": [],
   "source": [
    "def get_article(page):\n",
    "    driver = webdriver.Chrome(\"C:/Myexam/chromedriver/chromedriver.exe\")\n",
    "    driver.get(\n",
    "        \"http://news.naver.com/main/main.nhn?mode=LSD&mid=shm&sid1=105#&date=%2000:00:00&page=\" + str(page))\n",
    "    articles = driver.find_elements(By.CSS_SELECTOR,'#section_body li')\n",
    "\n",
    "    for article in articles:\n",
    "        title = article.find_element(By.CSS_SELECTOR,'dt:not(.photo) > a').text\n",
    "        df.loc[len(df)] = {\n",
    "            \"title\": title,\n",
    "        }\n",
    "\n",
    "    driver.quit()"
   ]
  },
  {
   "cell_type": "code",
   "execution_count": 7,
   "id": "2368d592",
   "metadata": {},
   "outputs": [
    {
     "name": "stderr",
     "output_type": "stream",
     "text": [
      "/var/folders/vf/5rv7rfgn0n3967r8ljqz1x_80000gn/T/ipykernel_42323/3566123820.py:2: DeprecationWarning: executable_path has been deprecated, please pass in a Service object\n",
      "  driver = webdriver.Chrome(\"C:/Myexam/chromedriver/chromedriver.exe\")\n",
      "/var/folders/vf/5rv7rfgn0n3967r8ljqz1x_80000gn/T/ipykernel_42323/3566123820.py:2: DeprecationWarning: executable_path has been deprecated, please pass in a Service object\n",
      "  driver = webdriver.Chrome(\"C:/Myexam/chromedriver/chromedriver.exe\")\n",
      "/var/folders/vf/5rv7rfgn0n3967r8ljqz1x_80000gn/T/ipykernel_42323/3566123820.py:2: DeprecationWarning: executable_path has been deprecated, please pass in a Service object\n",
      "  driver = webdriver.Chrome(\"C:/Myexam/chromedriver/chromedriver.exe\")\n",
      "/var/folders/vf/5rv7rfgn0n3967r8ljqz1x_80000gn/T/ipykernel_42323/3566123820.py:2: DeprecationWarning: executable_path has been deprecated, please pass in a Service object\n",
      "  driver = webdriver.Chrome(\"C:/Myexam/chromedriver/chromedriver.exe\")\n"
     ]
    },
    {
     "name": "stdout",
     "output_type": "stream",
     "text": [
      "CPU times: user 217 ms, sys: 122 ms, total: 339 ms\n",
      "Wall time: 36 s\n"
     ]
    }
   ],
   "source": [
    "%%time\n",
    "for page in range(1,5):\n",
    "    get_article(page)"
   ]
  },
  {
   "cell_type": "code",
   "execution_count": 8,
   "id": "3127321d",
   "metadata": {},
   "outputs": [
    {
     "data": {
      "text/html": [
       "<div>\n",
       "<style scoped>\n",
       "    .dataframe tbody tr th:only-of-type {\n",
       "        vertical-align: middle;\n",
       "    }\n",
       "\n",
       "    .dataframe tbody tr th {\n",
       "        vertical-align: top;\n",
       "    }\n",
       "\n",
       "    .dataframe thead th {\n",
       "        text-align: right;\n",
       "    }\n",
       "</style>\n",
       "<table border=\"1\" class=\"dataframe\">\n",
       "  <thead>\n",
       "    <tr style=\"text-align: right;\">\n",
       "      <th></th>\n",
       "      <th>title</th>\n",
       "    </tr>\n",
       "  </thead>\n",
       "  <tbody>\n",
       "    <tr>\n",
       "      <th>75</th>\n",
       "      <td>티빙, 사우디 연합-파리 생제르망 '메호대전' 생중계</td>\n",
       "    </tr>\n",
       "    <tr>\n",
       "      <th>76</th>\n",
       "      <td>4년 만에 2000억 '잭팟' 터뜨렸는데…남은 건 무기력뿐? [긱스]</td>\n",
       "    </tr>\n",
       "    <tr>\n",
       "      <th>77</th>\n",
       "      <td>SK온, 美우르빅스와 전기차 배터리 음극재 개발</td>\n",
       "    </tr>\n",
       "    <tr>\n",
       "      <th>78</th>\n",
       "      <td>OLED 노트북이 대세...올해 보급형 라인업까지 확대</td>\n",
       "    </tr>\n",
       "    <tr>\n",
       "      <th>79</th>\n",
       "      <td>자석으로 소변 속 물질 붙잡아 암 환자 찾는다… “20분이면 진단 끝”</td>\n",
       "    </tr>\n",
       "  </tbody>\n",
       "</table>\n",
       "</div>"
      ],
      "text/plain": [
       "                                      title\n",
       "75            티빙, 사우디 연합-파리 생제르망 '메호대전' 생중계\n",
       "76   4년 만에 2000억 '잭팟' 터뜨렸는데…남은 건 무기력뿐? [긱스]\n",
       "77               SK온, 美우르빅스와 전기차 배터리 음극재 개발\n",
       "78           OLED 노트북이 대세...올해 보급형 라인업까지 확대\n",
       "79  자석으로 소변 속 물질 붙잡아 암 환자 찾는다… “20분이면 진단 끝”"
      ]
     },
     "execution_count": 8,
     "metadata": {},
     "output_type": "execute_result"
    }
   ],
   "source": [
    "df.tail()"
   ]
  },
  {
   "cell_type": "code",
   "execution_count": null,
   "id": "ea4e1ddd",
   "metadata": {},
   "outputs": [],
   "source": []
  }
 ],
 "metadata": {
  "kernelspec": {
   "display_name": "Python 3 (ipykernel)",
   "language": "python",
   "name": "python3"
  },
  "language_info": {
   "codemirror_mode": {
    "name": "ipython",
    "version": 3
   },
   "file_extension": ".py",
   "mimetype": "text/x-python",
   "name": "python",
   "nbconvert_exporter": "python",
   "pygments_lexer": "ipython3",
   "version": "3.9.13"
  }
 },
 "nbformat": 4,
 "nbformat_minor": 5
}
