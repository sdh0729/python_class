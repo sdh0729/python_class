{
 "cells": [
  {
   "cell_type": "code",
   "execution_count": 1,
   "id": "f8c3387d",
   "metadata": {},
   "outputs": [],
   "source": [
    "# 임포트 \n",
    "import webbrowser\n",
    "import urllib.request as req\n",
    "from urllib.request import urlopen \n",
    "from urllib.error import URLError, HTTPError"
   ]
  },
  {
   "cell_type": "code",
   "execution_count": 2,
   "id": "ded9c56c",
   "metadata": {},
   "outputs": [],
   "source": [
    "url_list = ['https://www.google.com','https://www.naver.com','https://www.melon.com']"
   ]
  },
  {
   "cell_type": "code",
   "execution_count": 3,
   "id": "d1201376",
   "metadata": {},
   "outputs": [
    {
     "data": {
      "text/plain": [
       "True"
      ]
     },
     "execution_count": 3,
     "metadata": {},
     "output_type": "execute_result"
    }
   ],
   "source": [
    "webbrowser.open(url_list[0])"
   ]
  },
  {
   "cell_type": "code",
   "execution_count": 4,
   "id": "8f423910",
   "metadata": {},
   "outputs": [],
   "source": [
    "for url in url_list:\n",
    "    webbrowser.open(url)"
   ]
  },
  {
   "cell_type": "markdown",
   "id": "a87942e7",
   "metadata": {},
   "source": [
    "# urllib 사용법 및 기본 스크랩핑"
   ]
  },
  {
   "cell_type": "code",
   "execution_count": 5,
   "id": "bbb671b0",
   "metadata": {},
   "outputs": [],
   "source": [
    "#파일 URL\n",
    "img_url = 'http://post.phinf.naver.net/20160621_169/1466482468068lmSHj_JPEG/If7GeIbOPZuYwI-GI3xU7ENRrlfI.jpg'\n",
    "html_url = 'https://google.com'"
   ]
  },
  {
   "cell_type": "code",
   "execution_count": 6,
   "id": "dabf9710",
   "metadata": {},
   "outputs": [],
   "source": [
    "#다운받을 경로\n",
    "save_path1 = 'test1.jpg'\n",
    "save_path2 = 'index.html'"
   ]
  },
  {
   "cell_type": "code",
   "execution_count": 7,
   "id": "3d8587e1",
   "metadata": {},
   "outputs": [
    {
     "name": "stdout",
     "output_type": "stream",
     "text": [
      "Date: Tue, 17 Jan 2023 06:51:33 GMT\n",
      "Accept-Ranges: bytes\n",
      "Cache-Control: max-age=15552000\n",
      "Content-Length: 797094\n",
      "Content-Type: image/jpeg\n",
      "Last-Modified: Tue, 17 Jan 2023 06:29:50 GMT\n",
      "p3p: CP=\"ALL CURa ADMa DEVa TAIa OUR BUS IND PHY ONL UNI PUR FIN COM NAV INT DEM CNT STA POL HEA PRE LOC OTC\"\n",
      "Age: 1303\n",
      "Expires: Sun, 16 Jul 2023 06:29:50 GMT\n",
      "Connection: close\n",
      "\n",
      "\n",
      "Date: Tue, 17 Jan 2023 06:51:33 GMT\n",
      "Expires: -1\n",
      "Cache-Control: private, max-age=0\n",
      "Content-Type: text/html; charset=ISO-8859-1\n",
      "Cross-Origin-Opener-Policy-Report-Only: same-origin-allow-popups; report-to=\"gws\"\n",
      "Report-To: {\"group\":\"gws\",\"max_age\":2592000,\"endpoints\":[{\"url\":\"https://csp.withgoogle.com/csp/report-to/gws/other\"}]}\n",
      "P3P: CP=\"This is not a P3P policy! See g.co/p3phelp for more info.\"\n",
      "Server: gws\n",
      "X-XSS-Protection: 0\n",
      "X-Frame-Options: SAMEORIGIN\n",
      "Set-Cookie: 1P_JAR=2023-01-17-06; expires=Thu, 16-Feb-2023 06:51:33 GMT; path=/; domain=.google.com; Secure\n",
      "Set-Cookie: AEC=ARSKqsJtSw7q3uJSS549FIXPtSIm442wzX18gzFa91ws57vjmfyWP9Jxlw; expires=Sun, 16-Jul-2023 06:51:33 GMT; path=/; domain=.google.com; Secure; HttpOnly; SameSite=lax\n",
      "Set-Cookie: NID=511=mcOF5Z7ZrH6zjgxXQhukVVt355uqSsMOGE0xmMaoKtBMq964pog0PmRzmXwMZAa_SLM6tN665vx1H_JGklkDnqQMi22xhR-WfcQ2To_tPOr08qqCrMejxXY7OhO4xc8Z-ZZI79dNd6BC_hRuPftty-o0yS11gESqVqZ2YMFQzes; expires=Wed, 19-Jul-2023 06:51:33 GMT; path=/; domain=.google.com; HttpOnly\n",
      "Alt-Svc: h3=\":443\"; ma=2592000,h3-29=\":443\"; ma=2592000,h3-Q050=\":443\"; ma=2592000,h3-Q046=\":443\"; ma=2592000,h3-Q043=\":443\"; ma=2592000,quic=\":443\"; ma=2592000; v=\"46,43\"\n",
      "Accept-Ranges: none\n",
      "Vary: Accept-Encoding\n",
      "Connection: close\n",
      "Transfer-Encoding: chunked\n",
      "\n",
      "\n",
      "Filename1test1.jpg\n",
      "Filename2index.html\n",
      "\n",
      "download Succeed\n"
     ]
    }
   ],
   "source": [
    "#예외처리\n",
    "try:\n",
    "    file1, header1 = req.urlretrieve(img_url, save_path1)\n",
    "    file2, header2 = req.urlretrieve(html_url, save_path2)\n",
    "except Exception as e:\n",
    "    print('Download failed')\n",
    "    print(e)\n",
    "else:\n",
    "    #Header 정보 출력\n",
    "    print(header1)\n",
    "    print(header2)\n",
    "    #다운로드 파일 정보\n",
    "    print('Filename1{}'.format(file1))\n",
    "    print('Filename2{}'.format(file2))\n",
    "    print()\n",
    "    #성공\n",
    "    print('download Succeed')"
   ]
  },
  {
   "cell_type": "markdown",
   "id": "10f46fbd",
   "metadata": {},
   "source": [
    "# urlopen 함수 기초 사용법"
   ]
  },
  {
   "cell_type": "code",
   "execution_count": 8,
   "id": "80aab8bd",
   "metadata": {},
   "outputs": [],
   "source": [
    "#다운로드 경로 및 파일명\n",
    "path_list = ['test1.jpg', 'index.html']\n",
    "#다운로드 리소스 URL\n",
    "target_url = ['http://post.phinf.naver.net/20160621_169/1466482468068lmSHj_JPEG/If7GeIbOPZuYwI-GI3xU7ENRrlfI.jpg',\n",
    "             'https://google.com']"
   ]
  },
  {
   "cell_type": "code",
   "execution_count": 11,
   "id": "fbf40c84",
   "metadata": {},
   "outputs": [
    {
     "name": "stdout",
     "output_type": "stream",
     "text": [
      "---------------------------------------------------\n",
      "Header Info-0 : Date: Tue, 17 Jan 2023 06:57:00 GMT\n",
      "Accept-Ranges: bytes\n",
      "Cache-Control: max-age=15552000\n",
      "Content-Length: 797094\n",
      "Content-Type: image/jpeg\n",
      "Last-Modified: Tue, 17 Jan 2023 06:24:07 GMT\n",
      "p3p: CP=\"ALL CURa ADMa DEVa TAIa OUR BUS IND PHY ONL UNI PUR FIN COM NAV INT DEM CNT STA POL HEA PRE LOC OTC\"\n",
      "Age: 1974\n",
      "Expires: Sun, 16 Jul 2023 06:24:07 GMT\n",
      "Connection: close\n",
      "\n",
      "\n",
      "HTTP Status Code : 200\n",
      "\n",
      "---------------------------------------------------\n",
      "\n",
      "Download Succeed.\n",
      "---------------------------------------------------\n",
      "Header Info-1 : Date: Tue, 17 Jan 2023 06:57:02 GMT\n",
      "Expires: -1\n",
      "Cache-Control: private, max-age=0\n",
      "Content-Type: text/html; charset=ISO-8859-1\n",
      "Cross-Origin-Opener-Policy-Report-Only: same-origin-allow-popups; report-to=\"gws\"\n",
      "Report-To: {\"group\":\"gws\",\"max_age\":2592000,\"endpoints\":[{\"url\":\"https://csp.withgoogle.com/csp/report-to/gws/other\"}]}\n",
      "P3P: CP=\"This is not a P3P policy! See g.co/p3phelp for more info.\"\n",
      "Server: gws\n",
      "X-XSS-Protection: 0\n",
      "X-Frame-Options: SAMEORIGIN\n",
      "Set-Cookie: 1P_JAR=2023-01-17-06; expires=Thu, 16-Feb-2023 06:57:02 GMT; path=/; domain=.google.com; Secure\n",
      "Set-Cookie: AEC=ARSKqsJ4VI8XuIda_tofYLI9BkwMsB6v4ptKBb8EYL3j3tIWcj2HtS706Q; expires=Sun, 16-Jul-2023 06:57:02 GMT; path=/; domain=.google.com; Secure; HttpOnly; SameSite=lax\n",
      "Set-Cookie: NID=511=nR-FUo8yM2rF5qAmCzA_CJjyJ5m-s8J6oJrCqGB9O2p8LaXsJuU157OCLiyz2FIBR220oEWN0WerbIfHdTIpzkk3_6OPqaHAV1qPPxQBOaceMYmrfrwjCT5leBOICT1R2ic5i9zas48PsciujvCQAqOltZ1mpLfPZY-R71H11jI; expires=Wed, 19-Jul-2023 06:57:02 GMT; path=/; domain=.google.com; HttpOnly\n",
      "Alt-Svc: h3=\":443\"; ma=2592000,h3-29=\":443\"; ma=2592000,h3-Q050=\":443\"; ma=2592000,h3-Q046=\":443\"; ma=2592000,h3-Q043=\":443\"; ma=2592000,quic=\":443\"; ma=2592000; v=\"46,43\"\n",
      "Accept-Ranges: none\n",
      "Vary: Accept-Encoding\n",
      "Connection: close\n",
      "Transfer-Encoding: chunked\n",
      "\n",
      "\n",
      "HTTP Status Code : 200\n",
      "\n",
      "---------------------------------------------------\n",
      "\n",
      "Download Succeed.\n"
     ]
    }
   ],
   "source": [
    "for i, url in enumerate(target_url):\n",
    "    #예외 처리\n",
    "    try:\n",
    "        #웹 수신 정보 읽기\n",
    "        response = req.urlopen(url)\n",
    "        #수신 내용\n",
    "        contents = response.read()\n",
    "        print('---------------------------------------------------')\n",
    "        #상태 정보 중간 출력\n",
    "        print('Header Info-{} : {}'.format(i,response.info()))\n",
    "        print('HTTP Status Code : {}'.format(response.getcode()))\n",
    "        print()\n",
    "        print('---------------------------------------------------')\n",
    "        \n",
    "        # 파일 쓰기\n",
    "        with open(path_list[i],'wb') as c:\n",
    "            c.write(contents)\n",
    "            \n",
    "        # HTTP 에러 발생 시\n",
    "    except HTTPError as e:\n",
    "        print('Download Failed.')\n",
    "        print('HTTPError Code: ', e.code)\n",
    "        \n",
    "        #Url 에러 발생 시\n",
    "        print('Download Failed.')\n",
    "        print('URL Error Reason: ', e.reason)\n",
    "        \n",
    "        #성공\n",
    "    else:\n",
    "        print()\n",
    "        print('Download Succeed.')"
   ]
  },
  {
   "cell_type": "code",
   "execution_count": null,
   "id": "7f0f808a",
   "metadata": {},
   "outputs": [],
   "source": []
  }
 ],
 "metadata": {
  "kernelspec": {
   "display_name": "Python 3 (ipykernel)",
   "language": "python",
   "name": "python3"
  },
  "language_info": {
   "codemirror_mode": {
    "name": "ipython",
    "version": 3
   },
   "file_extension": ".py",
   "mimetype": "text/x-python",
   "name": "python",
   "nbconvert_exporter": "python",
   "pygments_lexer": "ipython3",
   "version": "3.9.13"
  }
 },
 "nbformat": 4,
 "nbformat_minor": 5
}
