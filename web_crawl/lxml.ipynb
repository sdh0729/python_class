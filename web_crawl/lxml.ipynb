{
 "cells": [
  {
   "cell_type": "markdown",
   "id": "3a628faf",
   "metadata": {},
   "source": [
    "# lxml 사용 기초 스크래핑"
   ]
  },
  {
   "cell_type": "code",
   "execution_count": 20,
   "id": "17d47157",
   "metadata": {},
   "outputs": [],
   "source": [
    "from typing import get_args\n",
    "import requests\n",
    "from lxml.html import fromstring, tostring\n",
    "import lxml.html"
   ]
  },
  {
   "cell_type": "code",
   "execution_count": 18,
   "id": "afd88a09",
   "metadata": {},
   "outputs": [],
   "source": [
    "def main():\n",
    "    '''\n",
    "    네이버 지식인 스크래핑 메인 함수\n",
    "    '''\n",
    "    # 세션 사용\n",
    "    session = requests.Session()\n",
    "    # 스크래핑 대상 URL (get, post)\n",
    "    response =session.get('https://kin.naver.com/search/list.nhn?query=%ED%8C%8C%EC%9D%B4%EC%8D%AC')\n",
    "    # 신문사 링크 리스트 획득\n",
    "    urls = scrape_news_list_page(response)\n",
    "    # 딕셔러니 확인\n",
    "    #print(urls)\n",
    "    # 결과 출력\n",
    "    for name, url in urls.items():\n",
    "        #url 출력\n",
    "        print(name,url)\n",
    "        \n",
    "def scrape_news_list_page(response):\n",
    "    #url 리스트 선언\n",
    "    urls = {}\n",
    "    \n",
    "    #태그 정보 문자열 저장\n",
    "    #print(response.content)\n",
    "    root = fromstring(response.content)\n",
    "    #print(root)\n",
    "    \n",
    "    for a in root.xpath('//ul[@class=\"basic1\"]/li/dl/dt/a[@class=\"_nclicks:kin.txt _searchListTitleAnchor\"]'):\n",
    "        # a 구조 확인\n",
    "        #print(a)\n",
    "    \n",
    "        #a 문자열 출력\n",
    "        #print(tostring(a, pretty_print=True))\n",
    "    \n",
    "        name, url = extract_contents(a)\n",
    "        # 딕려너리 삽입\n",
    "        urls[name] = url\n",
    "    return urls\n",
    "\n",
    "def extract_contents(doc):\n",
    "    #링크 주소 \n",
    "    link = doc.get('href')\n",
    "    name = doc.text_content()\n",
    "    return name, link\n",
    "    \n",
    "    "
   ]
  },
  {
   "cell_type": "code",
   "execution_count": 19,
   "id": "545d8baa",
   "metadata": {},
   "outputs": [
    {
     "name": "stdout",
     "output_type": "stream",
     "text": [
      "플라스크에서 파이썬 실행 https://kin.naver.com/qna/detail.naver?d1id=1&dirId=10402&docId=436285489&qb=7YyM7J207I2s&enc=utf8&section=kin&rank=1&search_sort=0&spq=0\n",
      "v파이썬 파이썬 https://kin.naver.com/qna/detail.naver?d1id=1&dirId=10402&docId=433970253&qb=7YyM7J207I2s&enc=utf8&section=kin&rank=2&search_sort=0&spq=0\n",
      "파이썬 코딩 질문 https://kin.naver.com/qna/detail.naver?d1id=1&dirId=10402&docId=433475801&qb=7YyM7J207I2s&enc=utf8&section=kin&rank=3&search_sort=0&spq=0\n",
      "파이썬 공부방법 공유해주세요.... https://kin.naver.com/qna/detail.naver?d1id=1&dirId=1040105&docId=437004629&qb=7YyM7J207I2s&enc=utf8&section=kin&rank=4&search_sort=0&spq=0\n",
      "파이썬, 자바? https://kin.naver.com/qna/detail.naver?d1id=4&dirId=40608&docId=435292280&qb=7YyM7J207I2s&enc=utf8&section=kin&rank=5&search_sort=0&spq=0\n",
      "해킹 파이썬,칼리리눅스 https://kin.naver.com/qna/detail.naver?d1id=1&dirId=11001&docId=436726953&qb=7YyM7J207I2s&enc=utf8&section=kin&rank=6&search_sort=0&spq=0\n",
      "파이썬 식 좀 알려주세요 https://kin.naver.com/qna/detail.naver?d1id=1&dirId=10402&docId=434384411&qb=7YyM7J207I2s&enc=utf8&section=kin&rank=7&search_sort=0&spq=0\n",
      "파이썬 코드 https://kin.naver.com/qna/detail.naver?d1id=1&dirId=10402&docId=435106645&qb=7YyM7J207I2s&enc=utf8&section=kin&rank=8&search_sort=0&spq=0\n",
      "요새 파이썬으로 개발하는 이유 https://kin.naver.com/qna/detail.naver?d1id=1&dirId=10402&docId=424704487&qb=7YyM7J207I2s&enc=utf8&section=kin&rank=9&search_sort=0&spq=0\n",
      "파이썬 배우면 어떻게 적용할 수 있나요? https://kin.naver.com/qna/detail.naver?d1id=1&dirId=10402&docId=436900383&qb=7YyM7J207I2s&enc=utf8&section=kin&rank=10&search_sort=0&spq=0\n"
     ]
    }
   ],
   "source": [
    "# 스크래핑 시작\n",
    "if __name__=='__main__':\n",
    "    main()"
   ]
  },
  {
   "cell_type": "code",
   "execution_count": 21,
   "id": "22c47cdb",
   "metadata": {},
   "outputs": [
    {
     "name": "stdout",
     "output_type": "stream",
     "text": [
      "/store/books/look.php?p_code=B5351150617\n",
      "/store/books/look.php?p_code=B5351150617\n",
      "/store/books/look.php?p_code=B4422381134\n",
      "javascript:;\n",
      "/store/books/look.php?p_code=B4422381134\n",
      "/store/books/look.php?p_code=B1068448075\n",
      "javascript:;\n",
      "/store/books/look.php?p_code=B1068448075\n",
      "/store/books/look.php?p_code=B9480318629\n",
      "javascript:;\n",
      "/store/books/look.php?p_code=B9480318629\n",
      "/store/books/look.php?p_code=B2079064069\n",
      "javascript:;\n",
      "/store/books/look.php?p_code=B2079064069\n",
      "/store/books/look.php?p_code=B7099909363\n",
      "/store/books/look.php?p_code=B7099909363\n",
      "/store/books/look.php?p_code=B5620881464\n",
      "/store/books/look.php?p_code=B5620881464\n",
      "/store/books/look.php?p_code=B1398618081\n",
      "javascript:;\n",
      "/store/books/look.php?p_code=B1398618081\n",
      "/store/books/look.php?p_code=B1147715738\n",
      "javascript:;\n",
      "/store/books/look.php?p_code=B1147715738\n",
      "/store/books/look.php?p_code=B3384919392\n",
      "/store/books/look.php?p_code=B3384919392\n",
      "/store/books/look.php?p_code=B4508124592\n",
      "javascript:;\n",
      "/store/books/look.php?p_code=B4508124592\n",
      "/store/books/look.php?p_code=B3821180873\n",
      "javascript:;\n",
      "/store/books/look.php?p_code=B3821180873\n",
      "/store/books/look.php?p_code=B4435817798\n",
      "javascript:;\n",
      "/store/books/look.php?p_code=B4435817798\n",
      "/store/books/look.php?p_code=B8870109394\n",
      "/store/books/look.php?p_code=B8870109394\n",
      "/store/books/look.php?p_code=B4182532903\n",
      "javascript:;\n",
      "/store/books/look.php?p_code=B4182532903\n",
      "/store/books/look.php?p_code=B9458048985\n",
      "javascript:;\n",
      "/store/books/look.php?p_code=B9458048985\n",
      "/store/books/look.php?p_code=B9711663545\n",
      "javascript:;\n",
      "/store/books/look.php?p_code=B9711663545\n",
      "/store/books/look.php?p_code=B1459262097\n",
      "/store/books/look.php?p_code=B1459262097\n",
      "/store/books/look.php?p_code=B1666992199\n",
      "javascript:;\n",
      "/store/books/look.php?p_code=B1666992199\n",
      "/store/books/look.php?p_code=B3672807578\n",
      "/store/books/look.php?p_code=B3672807578\n"
     ]
    }
   ],
   "source": [
    "response = requests.get('http://www.hanbit.co.kr/store/books/new_book_list.html')\n",
    "root = lxml.html.fromstring(response.content)\n",
    "\n",
    "for a in root.cssselect('.view_box a'):\n",
    "    url = a.get('href')\n",
    "    print(url)"
   ]
  },
  {
   "cell_type": "code",
   "execution_count": null,
   "id": "420f84fd",
   "metadata": {},
   "outputs": [],
   "source": []
  }
 ],
 "metadata": {
  "kernelspec": {
   "display_name": "Python 3 (ipykernel)",
   "language": "python",
   "name": "python3"
  },
  "language_info": {
   "codemirror_mode": {
    "name": "ipython",
    "version": 3
   },
   "file_extension": ".py",
   "mimetype": "text/x-python",
   "name": "python",
   "nbconvert_exporter": "python",
   "pygments_lexer": "ipython3",
   "version": "3.9.13"
  }
 },
 "nbformat": 4,
 "nbformat_minor": 5
}
