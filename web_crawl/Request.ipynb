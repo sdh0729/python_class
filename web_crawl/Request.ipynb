{
 "cells": [
  {
   "cell_type": "code",
   "execution_count": 1,
   "id": "721c2b20",
   "metadata": {},
   "outputs": [],
   "source": [
    "import json\n",
    "import urllib.request as req\n",
    "from fake_useragent import UserAgent"
   ]
  },
  {
   "cell_type": "code",
   "execution_count": 2,
   "id": "561f2b0e",
   "metadata": {},
   "outputs": [],
   "source": [
    "#Fake Header 정보 (가상으로 User - Agent 생성)\n",
    "ua = UserAgent()"
   ]
  },
  {
   "cell_type": "code",
   "execution_count": 3,
   "id": "60bd37ac",
   "metadata": {},
   "outputs": [],
   "source": [
    "# 헤더 선언\n",
    "headers= {\n",
    "    'User-Agent': ua.ie,\n",
    "    'referer':'https://finance.daum.net/'\n",
    "}"
   ]
  },
  {
   "cell_type": "code",
   "execution_count": 4,
   "id": "76640e78",
   "metadata": {},
   "outputs": [],
   "source": [
    "#다음 주식 요청 url\n",
    "url = 'https://finance.daum.net/api/search/ranks?limit=10'"
   ]
  },
  {
   "cell_type": "code",
   "execution_count": 5,
   "id": "2225a44f",
   "metadata": {},
   "outputs": [],
   "source": [
    "#요청\n",
    "res = req.urlopen(req.Request(url, headers=headers)).read().decode('utf-8')"
   ]
  },
  {
   "cell_type": "code",
   "execution_count": 6,
   "id": "16e6f759",
   "metadata": {},
   "outputs": [
    {
     "name": "stdout",
     "output_type": "stream",
     "text": [
      "res {\"data\":[{\"rank\":1,\"rankChange\":0,\"symbolCode\":\"A005930\",\"code\":\"KR7005930003\",\"name\":\"삼성전자\",\"tradePrice\":60200,\"change\":\"FALL\",\"changePrice\":800,\"changeRate\":0.0131147541,\"chartSlideImage\":null,\"isNew\":false},{\"rank\":2,\"rankChange\":0,\"symbolCode\":\"A035720\",\"code\":\"KR7035720002\",\"name\":\"카카오\",\"tradePrice\":61900,\"change\":\"RISE\",\"changePrice\":100,\"changeRate\":0.001618123,\"chartSlideImage\":null,\"isNew\":false},{\"rank\":3,\"rankChange\":2,\"symbolCode\":\"A090710\",\"code\":\"KR7090710005\",\"name\":\"휴림로봇\",\"tradePrice\":2705,\"change\":\"RISE\",\"changePrice\":20,\"changeRate\":0.0074487896,\"chartSlideImage\":null,\"isNew\":false},{\"rank\":4,\"rankChange\":-1,\"symbolCode\":\"A277810\",\"code\":\"KR7277810008\",\"name\":\"레인보우로보틱스\",\"tradePrice\":63900,\"change\":\"RISE\",\"changePrice\":700,\"changeRate\":0.0110759494,\"chartSlideImage\":null,\"isNew\":false},{\"rank\":5,\"rankChange\":-1,\"symbolCode\":\"A108860\",\"code\":\"KR7108860008\",\"name\":\"셀바스AI\",\"tradePrice\":11350,\"change\":\"RISE\",\"changePrice\":2530,\"changeRate\":0.2868480726,\"chartSlideImage\":null,\"isNew\":false},{\"rank\":6,\"rankChange\":0,\"symbolCode\":\"A096300\",\"code\":\"KR7096300009\",\"name\":\"베트남개발1\",\"tradePrice\":228,\"change\":\"RISE\",\"changePrice\":19,\"changeRate\":0.0909090909,\"chartSlideImage\":null,\"isNew\":true},{\"rank\":7,\"rankChange\":0,\"symbolCode\":\"A323410\",\"code\":\"KR7323410001\",\"name\":\"카카오뱅크\",\"tradePrice\":27700,\"change\":\"FALL\",\"changePrice\":750,\"changeRate\":0.0263620387,\"chartSlideImage\":null,\"isNew\":false},{\"rank\":8,\"rankChange\":1,\"symbolCode\":\"A001440\",\"code\":\"KR7001440007\",\"name\":\"대한전선\",\"tradePrice\":1550,\"change\":\"FALL\",\"changePrice\":20,\"changeRate\":0.0127388535,\"chartSlideImage\":null,\"isNew\":false},{\"rank\":9,\"rankChange\":0,\"symbolCode\":\"A066570\",\"code\":\"KR7066570003\",\"name\":\"LG전자\",\"tradePrice\":94900,\"change\":\"RISE\",\"changePrice\":200,\"changeRate\":0.0021119324,\"chartSlideImage\":null,\"isNew\":true},{\"rank\":10,\"rankChange\":0,\"symbolCode\":\"A034020\",\"code\":\"KR7034020008\",\"name\":\"두산에너빌리티\",\"tradePrice\":15950,\"change\":\"FALL\",\"changePrice\":350,\"changeRate\":0.0214723926,\"chartSlideImage\":null,\"isNew\":false}]}\n"
     ]
    }
   ],
   "source": [
    "#응답 데이터 확인 (Json Data)\n",
    "print('res',res)"
   ]
  },
  {
   "cell_type": "code",
   "execution_count": 7,
   "id": "078b08a3",
   "metadata": {},
   "outputs": [],
   "source": [
    "#응답 데이터 str -> json 변환 및 data 값 저장\n",
    "rank_json = json.loads(res)['data']"
   ]
  },
  {
   "cell_type": "code",
   "execution_count": 8,
   "id": "ec8cac56",
   "metadata": {},
   "outputs": [
    {
     "name": "stdout",
     "output_type": "stream",
     "text": [
      "중간 확인 :  [{'rank': 1, 'rankChange': 0, 'symbolCode': 'A005930', 'code': 'KR7005930003', 'name': '삼성전자', 'tradePrice': 60200, 'change': 'FALL', 'changePrice': 800, 'changeRate': 0.0131147541, 'chartSlideImage': None, 'isNew': False}, {'rank': 2, 'rankChange': 0, 'symbolCode': 'A035720', 'code': 'KR7035720002', 'name': '카카오', 'tradePrice': 61900, 'change': 'RISE', 'changePrice': 100, 'changeRate': 0.001618123, 'chartSlideImage': None, 'isNew': False}, {'rank': 3, 'rankChange': 2, 'symbolCode': 'A090710', 'code': 'KR7090710005', 'name': '휴림로봇', 'tradePrice': 2705, 'change': 'RISE', 'changePrice': 20, 'changeRate': 0.0074487896, 'chartSlideImage': None, 'isNew': False}, {'rank': 4, 'rankChange': -1, 'symbolCode': 'A277810', 'code': 'KR7277810008', 'name': '레인보우로보틱스', 'tradePrice': 63900, 'change': 'RISE', 'changePrice': 700, 'changeRate': 0.0110759494, 'chartSlideImage': None, 'isNew': False}, {'rank': 5, 'rankChange': -1, 'symbolCode': 'A108860', 'code': 'KR7108860008', 'name': '셀바스AI', 'tradePrice': 11350, 'change': 'RISE', 'changePrice': 2530, 'changeRate': 0.2868480726, 'chartSlideImage': None, 'isNew': False}, {'rank': 6, 'rankChange': 0, 'symbolCode': 'A096300', 'code': 'KR7096300009', 'name': '베트남개발1', 'tradePrice': 228, 'change': 'RISE', 'changePrice': 19, 'changeRate': 0.0909090909, 'chartSlideImage': None, 'isNew': True}, {'rank': 7, 'rankChange': 0, 'symbolCode': 'A323410', 'code': 'KR7323410001', 'name': '카카오뱅크', 'tradePrice': 27700, 'change': 'FALL', 'changePrice': 750, 'changeRate': 0.0263620387, 'chartSlideImage': None, 'isNew': False}, {'rank': 8, 'rankChange': 1, 'symbolCode': 'A001440', 'code': 'KR7001440007', 'name': '대한전선', 'tradePrice': 1550, 'change': 'FALL', 'changePrice': 20, 'changeRate': 0.0127388535, 'chartSlideImage': None, 'isNew': False}, {'rank': 9, 'rankChange': 0, 'symbolCode': 'A066570', 'code': 'KR7066570003', 'name': 'LG전자', 'tradePrice': 94900, 'change': 'RISE', 'changePrice': 200, 'changeRate': 0.0021119324, 'chartSlideImage': None, 'isNew': True}, {'rank': 10, 'rankChange': 0, 'symbolCode': 'A034020', 'code': 'KR7034020008', 'name': '두산에너빌리티', 'tradePrice': 15950, 'change': 'FALL', 'changePrice': 350, 'changeRate': 0.0214723926, 'chartSlideImage': None, 'isNew': False}] \n",
      "\n"
     ]
    }
   ],
   "source": [
    "#중간 확인\n",
    "print('중간 확인 : ', rank_json,'\\n')"
   ]
  },
  {
   "cell_type": "code",
   "execution_count": 9,
   "id": "246553fc",
   "metadata": {},
   "outputs": [
    {
     "name": "stdout",
     "output_type": "stream",
     "text": [
      "순위 : 1, 금액 : 60200, 회사명 : 삼성전자\n",
      "순위 : 2, 금액 : 61900, 회사명 : 카카오\n",
      "순위 : 3, 금액 : 2705, 회사명 : 휴림로봇\n",
      "순위 : 4, 금액 : 63900, 회사명 : 레인보우로보틱스\n",
      "순위 : 5, 금액 : 11350, 회사명 : 셀바스AI\n",
      "순위 : 6, 금액 : 228, 회사명 : 베트남개발1\n",
      "순위 : 7, 금액 : 27700, 회사명 : 카카오뱅크\n",
      "순위 : 8, 금액 : 1550, 회사명 : 대한전선\n",
      "순위 : 9, 금액 : 94900, 회사명 : LG전자\n",
      "순위 : 10, 금액 : 15950, 회사명 : 두산에너빌리티\n"
     ]
    }
   ],
   "source": [
    "for elm in rank_json:\n",
    "    #print(type(elm)) #Type 확인\n",
    "    print('순위 : {}, 금액 : {}, 회사명 : {}'.format(elm['rank'],elm['tradePrice'],elm['name']))"
   ]
  },
  {
   "cell_type": "code",
   "execution_count": null,
   "id": "f01ae1c8",
   "metadata": {},
   "outputs": [],
   "source": []
  }
 ],
 "metadata": {
  "kernelspec": {
   "display_name": "Python 3 (ipykernel)",
   "language": "python",
   "name": "python3"
  },
  "language_info": {
   "codemirror_mode": {
    "name": "ipython",
    "version": 3
   },
   "file_extension": ".py",
   "mimetype": "text/x-python",
   "name": "python",
   "nbconvert_exporter": "python",
   "pygments_lexer": "ipython3",
   "version": "3.9.13"
  }
 },
 "nbformat": 4,
 "nbformat_minor": 5
}
