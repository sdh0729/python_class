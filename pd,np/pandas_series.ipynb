{
 "cells": [
  {
   "cell_type": "markdown",
   "id": "61d02381",
   "metadata": {},
   "source": [
    "# 판다스 설\n",
    "- series, DataFrame 등의 자료구조를 활용한 데이터분석 기능을 제공해주는 라이브러리\n",
    "- 라이브러리 구성\n",
    "  - 여러종류의 클래스와 다양한 함수로 구성\n",
    "  - 시리즈와 데이터 프레임의 자료 구조 제공\n",
    "  - 시리지(1차원 배열) 데이터프레임(2차원 행렬구조)"
   ]
  },
  {
   "cell_type": "markdown",
   "id": "400bbba0",
   "metadata": {},
   "source": [
    "## 판다스의 목적\n",
    "- 서로 다른 유형의 데이터를 공통된 포맷으로 정리하는 것\n",
    "- 행과 열로 이루어진 2차원 데이터프레임을 처리 할 수 있는 함수 제공 목적\n",
    "- 실무 사용 형태: 데이터 프레임"
   ]
  },
  {
   "cell_type": "markdown",
   "id": "9f9a8088",
   "metadata": {},
   "source": [
    "## series \n",
    "\n",
    "- pandas의 기본 객체 중 하나\n",
    "- numpy의 ndarray를 기반으로 인덱싱 기능을 추가하여 1차원 배열을 나타냄\n",
    "- index를 지정하지 않을 시, 기본적으로 ndarray와 같이 0-based인덱스 생성, 지정할 경우 명시적으로 지정된 index사용\n",
    "- 같은 타입의 0개 이상의 데이터를 가질 수 있음"
   ]
  },
  {
   "cell_type": "markdown",
   "id": "41c20b3c",
   "metadata": {},
   "source": [
    "1. 자료구조: 시리즈\n",
    "  - 데이터가 순차적으로 나열된 1차원 배열 형태\n",
    "  - 인덱스와 데이터 값이 일대일로 대응\n",
    "  - 딕셔너리와 비슷한 구조\n",
    "2. 시리즈의 인덱스\n",
    "  - 데이터 값의 위치를 나타내는 이름표 역할\n",
    "3. 시리즈 생성: 판다스 내장함수인 Series()이용\n",
    "  - 리스토로 시리즈 만들기\n",
    "  - 딕셔러리로 시리즈 만들기\n",
    "  - 튜플로 시리즈 만들기\n",
    "  "
   ]
  },
  {
   "cell_type": "code",
   "execution_count": 1,
   "id": "7423147e",
   "metadata": {},
   "outputs": [],
   "source": [
    "import pandas as pd\n",
    "import numpy as np"
   ]
  },
  {
   "cell_type": "code",
   "execution_count": 2,
   "id": "952595dd",
   "metadata": {},
   "outputs": [
    {
     "data": {
      "text/plain": [
       "0    1\n",
       "1    2\n",
       "2    3\n",
       "dtype: int64"
      ]
     },
     "execution_count": 2,
     "metadata": {},
     "output_type": "execute_result"
    }
   ],
   "source": [
    "# pd.Series(집합적 자료형)\n",
    "# pd.Series(리스트)\n",
    "\n",
    "s = pd.Series([1,2,3])\n",
    "s\n",
    "#위 코드는 시리즈 생성시 인덱스를 명시하지 않았음 0base 인덱스 생성"
   ]
  },
  {
   "cell_type": "code",
   "execution_count": 3,
   "id": "7c638ab1",
   "metadata": {},
   "outputs": [
    {
     "data": {
      "text/plain": [
       "0    1.0\n",
       "1    2.0\n",
       "2    3.0\n",
       "dtype: float64"
      ]
     },
     "execution_count": 3,
     "metadata": {},
     "output_type": "execute_result"
    }
   ],
   "source": [
    "#pd.Series(튜플)\n",
    "s = pd.Series((1.0,2.0,3.0))\n",
    "s"
   ]
  },
  {
   "cell_type": "code",
   "execution_count": 4,
   "id": "4d2dc7c0",
   "metadata": {},
   "outputs": [
    {
     "data": {
      "text/plain": [
       "0    a\n",
       "1    a\n",
       "2    c\n",
       "dtype: object"
      ]
     },
     "execution_count": 4,
     "metadata": {},
     "output_type": "execute_result"
    }
   ],
   "source": [
    "s2 = pd.Series(['a','a','c']) #dtype : object\n",
    "s2"
   ]
  },
  {
   "cell_type": "code",
   "execution_count": 5,
   "id": "250ad448",
   "metadata": {},
   "outputs": [
    {
     "data": {
      "text/plain": [
       "0      a\n",
       "1      1\n",
       "2    3.0\n",
       "dtype: object"
      ]
     },
     "execution_count": 5,
     "metadata": {},
     "output_type": "execute_result"
    }
   ],
   "source": [
    "# 리스트내에 서로 다른 type의 data가 있으면 형변환 일어남 - 문자열로 변환됨\n",
    "s_1 = pd.Series(['a',1,3.0])\n",
    "s_1"
   ]
  },
  {
   "cell_type": "code",
   "execution_count": 6,
   "id": "8245b216",
   "metadata": {},
   "outputs": [
    {
     "data": {
      "text/plain": [
       "0    10\n",
       "1    11\n",
       "2    12\n",
       "3    13\n",
       "dtype: int64"
      ]
     },
     "execution_count": 6,
     "metadata": {},
     "output_type": "execute_result"
    }
   ],
   "source": [
    "s = pd.Series(range(10,14)) # 인덱스 인수는 생략됨\n",
    "s"
   ]
  },
  {
   "cell_type": "code",
   "execution_count": 7,
   "id": "5af432e9",
   "metadata": {},
   "outputs": [
    {
     "data": {
      "text/plain": [
       "range(10, 14)"
      ]
     },
     "execution_count": 7,
     "metadata": {},
     "output_type": "execute_result"
    }
   ],
   "source": [
    "range(10,14)"
   ]
  },
  {
   "cell_type": "code",
   "execution_count": 8,
   "id": "fa5e1848",
   "metadata": {},
   "outputs": [
    {
     "data": {
      "text/plain": [
       "array([  0,   1,   2,   3,   4,   5,   6,   7,   8,   9,  10,  11,  12,\n",
       "        13,  14,  15,  16,  17,  18,  19,  20,  21,  22,  23,  24,  25,\n",
       "        26,  27,  28,  29,  30,  31,  32,  33,  34,  35,  36,  37,  38,\n",
       "        39,  40,  41,  42,  43,  44,  45,  46,  47,  48,  49,  50,  51,\n",
       "        52,  53,  54,  55,  56,  57,  58,  59,  60,  61,  62,  63,  64,\n",
       "        65,  66,  67,  68,  69,  70,  71,  72,  73,  74,  75,  76,  77,\n",
       "        78,  79,  80,  81,  82,  83,  84,  85,  86,  87,  88,  89,  90,\n",
       "        91,  92,  93,  94,  95,  96,  97,  98,  99, 100, 101, 102, 103,\n",
       "       104, 105, 106, 107, 108, 109, 110, 111, 112, 113, 114, 115, 116,\n",
       "       117, 118, 119, 120, 121, 122, 123, 124, 125, 126, 127, 128, 129,\n",
       "       130, 131, 132, 133, 134, 135, 136, 137, 138, 139, 140, 141, 142,\n",
       "       143, 144, 145, 146, 147, 148, 149, 150, 151, 152, 153, 154, 155,\n",
       "       156, 157, 158, 159, 160, 161, 162, 163, 164, 165, 166, 167, 168,\n",
       "       169, 170, 171, 172, 173, 174, 175, 176, 177, 178, 179, 180, 181,\n",
       "       182, 183, 184, 185, 186, 187, 188, 189, 190, 191, 192, 193, 194,\n",
       "       195, 196, 197, 198, 199])"
      ]
     },
     "execution_count": 8,
     "metadata": {},
     "output_type": "execute_result"
    }
   ],
   "source": [
    "np.arange(200)"
   ]
  },
  {
   "cell_type": "code",
   "execution_count": 9,
   "id": "685073bb",
   "metadata": {},
   "outputs": [
    {
     "data": {
      "text/plain": [
       "0        0\n",
       "1        1\n",
       "2        2\n",
       "3        3\n",
       "4        4\n",
       "      ... \n",
       "195    195\n",
       "196    196\n",
       "197    197\n",
       "198    198\n",
       "199    199\n",
       "Length: 200, dtype: int64"
      ]
     },
     "execution_count": 9,
     "metadata": {},
     "output_type": "execute_result"
    }
   ],
   "source": [
    "s3 = pd.Series(np.arange(200))\n",
    "s3"
   ]
  },
  {
   "cell_type": "code",
   "execution_count": 10,
   "id": "c112d95e",
   "metadata": {},
   "outputs": [
    {
     "data": {
      "text/plain": [
       "0    1.0\n",
       "1    2.0\n",
       "2    3.0\n",
       "3    NaN\n",
       "4    6.0\n",
       "5    8.0\n",
       "dtype: float64"
      ]
     },
     "execution_count": 10,
     "metadata": {},
     "output_type": "execute_result"
    }
   ],
   "source": [
    "# NaN은 np.nan 속성을 이용해서 생성\n",
    "s=pd.Series([1,2,3,np.nan,6,8])\n",
    "s\n",
    "# dtype : float\n",
    "# 판다스가 처리하는 자료구조인 시리즈와 데이터 프레임에서 결측치가 있는 경우 dtype : float"
   ]
  },
  {
   "cell_type": "code",
   "execution_count": 11,
   "id": "5ff42cba",
   "metadata": {},
   "outputs": [
    {
     "data": {
      "text/plain": [
       "1    10\n",
       "2    20\n",
       "3    30\n",
       "dtype: int64"
      ]
     },
     "execution_count": 11,
     "metadata": {},
     "output_type": "execute_result"
    }
   ],
   "source": [
    "s = pd.Series([10,20,30], index= [1,2,3])\n",
    "s"
   ]
  },
  {
   "cell_type": "code",
   "execution_count": 12,
   "id": "7e1ff962",
   "metadata": {},
   "outputs": [
    {
     "data": {
      "text/plain": [
       "홍길동     95\n",
       "이몽룡    100\n",
       "성춘향     88\n",
       "dtype: int64"
      ]
     },
     "execution_count": 12,
     "metadata": {},
     "output_type": "execute_result"
    }
   ],
   "source": [
    "s = pd.Series([95,100,88], index= ['홍길동','이몽룡','성춘향'])\n",
    "s"
   ]
  },
  {
   "cell_type": "code",
   "execution_count": 13,
   "id": "a9561468",
   "metadata": {},
   "outputs": [
    {
     "data": {
      "text/plain": [
       "1    10\n",
       "2    20\n",
       "3    30\n",
       "dtype: int64"
      ]
     },
     "execution_count": 13,
     "metadata": {},
     "output_type": "execute_result"
    }
   ],
   "source": [
    "s0=pd.Series([10,20,30], index=[1,2,3])\n",
    "s0"
   ]
  },
  {
   "cell_type": "code",
   "execution_count": 14,
   "id": "a4cdb263",
   "metadata": {},
   "outputs": [
    {
     "data": {
      "text/plain": [
       "Int64Index([1, 2, 3], dtype='int64')"
      ]
     },
     "execution_count": 14,
     "metadata": {},
     "output_type": "execute_result"
    }
   ],
   "source": [
    "s0.index"
   ]
  },
  {
   "cell_type": "code",
   "execution_count": 15,
   "id": "c3d42dff",
   "metadata": {},
   "outputs": [
    {
     "data": {
      "text/plain": [
       "RangeIndex(start=0, stop=3, step=1)"
      ]
     },
     "execution_count": 15,
     "metadata": {},
     "output_type": "execute_result"
    }
   ],
   "source": [
    "s00 = pd.Series([1,2,3])\n",
    "s00.index"
   ]
  },
  {
   "cell_type": "code",
   "execution_count": 16,
   "id": "7068205a",
   "metadata": {},
   "outputs": [
    {
     "data": {
      "text/plain": [
       "Index(['서울', '부산', '인천', '대구'], dtype='object')"
      ]
     },
     "execution_count": 16,
     "metadata": {},
     "output_type": "execute_result"
    }
   ],
   "source": [
    "s = pd.Series([9904312,3448737,289045,2466052], index=['서울','부산','인천','대구'])\n",
    "s.index"
   ]
  },
  {
   "cell_type": "code",
   "execution_count": 17,
   "id": "5f5e9c91",
   "metadata": {},
   "outputs": [
    {
     "data": {
      "text/plain": [
       "광역시\n",
       "서울    9904312\n",
       "부산    3448737\n",
       "인천     289045\n",
       "대구    2466052\n",
       "dtype: int64"
      ]
     },
     "execution_count": 17,
     "metadata": {},
     "output_type": "execute_result"
    }
   ],
   "source": [
    "# 인덱스 이름 붙히기\n",
    "s.index.name='광역시' \n",
    "s"
   ]
  },
  {
   "cell_type": "code",
   "execution_count": 18,
   "id": "357869ff",
   "metadata": {},
   "outputs": [
    {
     "data": {
      "text/plain": [
       "Index(['서울', '부산', '인천', '대구'], dtype='object', name='광역시')"
      ]
     },
     "execution_count": 18,
     "metadata": {},
     "output_type": "execute_result"
    }
   ],
   "source": [
    "s.index"
   ]
  },
  {
   "cell_type": "code",
   "execution_count": 19,
   "id": "c0a1a178",
   "metadata": {},
   "outputs": [
    {
     "data": {
      "text/plain": [
       "array([9904312, 3448737,  289045, 2466052])"
      ]
     },
     "execution_count": 19,
     "metadata": {},
     "output_type": "execute_result"
    }
   ],
   "source": [
    "s.values"
   ]
  },
  {
   "cell_type": "code",
   "execution_count": 20,
   "id": "a84f8b01",
   "metadata": {},
   "outputs": [
    {
     "data": {
      "text/plain": [
       "광역시\n",
       "서울    9904312\n",
       "부산    3448737\n",
       "인천     289045\n",
       "대구    2466052\n",
       "Name: 인구, dtype: int64"
      ]
     },
     "execution_count": 20,
     "metadata": {},
     "output_type": "execute_result"
    }
   ],
   "source": [
    "s.name = '인구'\n",
    "s"
   ]
  },
  {
   "cell_type": "code",
   "execution_count": 21,
   "id": "d0e50d5e",
   "metadata": {},
   "outputs": [
    {
     "name": "stdout",
     "output_type": "stream",
     "text": [
      "Index(['서울', '부산', '인천', '대구'], dtype='object', name='광역시')\n"
     ]
    },
    {
     "data": {
      "text/plain": [
       "289045"
      ]
     },
     "execution_count": 21,
     "metadata": {},
     "output_type": "execute_result"
    }
   ],
   "source": [
    "print(s.index)# 문자열형 인덱스 \n",
    "s['인천'] # 문자형 인덱스로 접근\n",
    "s[2] # 위치 인덱스 사용 가능"
   ]
  },
  {
   "cell_type": "code",
   "execution_count": 22,
   "id": "221b4f0b",
   "metadata": {},
   "outputs": [
    {
     "data": {
      "text/plain": [
       "1"
      ]
     },
     "execution_count": 22,
     "metadata": {},
     "output_type": "execute_result"
    }
   ],
   "source": [
    "# 정수형 인덱스인 경우\n",
    "s03 = pd.Series([1,2,3], index=[1,2,3])\n",
    "s03\n",
    "s03[1]# 명시적 인데스 사용\n",
    "# 정수인덱스인 경우 위치인덱스는 사용 불가"
   ]
  },
  {
   "cell_type": "code",
   "execution_count": 23,
   "id": "4cdec430",
   "metadata": {},
   "outputs": [
    {
     "data": {
      "text/plain": [
       "3448737"
      ]
     },
     "execution_count": 23,
     "metadata": {},
     "output_type": "execute_result"
    }
   ],
   "source": [
    "# 문자형 인덱스\n",
    "s['부산']"
   ]
  },
  {
   "cell_type": "code",
   "execution_count": 24,
   "id": "96679126",
   "metadata": {},
   "outputs": [
    {
     "data": {
      "text/plain": [
       "(2466052, 2466052)"
      ]
     },
     "execution_count": 24,
     "metadata": {},
     "output_type": "execute_result"
    }
   ],
   "source": [
    "#두개 이상의 인덱싱 코드 나열\n",
    "s[3], s['대구']"
   ]
  },
  {
   "cell_type": "code",
   "execution_count": 25,
   "id": "3341bea8",
   "metadata": {},
   "outputs": [
    {
     "data": {
      "text/plain": [
       "광역시\n",
       "서울    9904312\n",
       "부산    3448737\n",
       "인천     289045\n",
       "대구    2466052\n",
       "Name: 인구, dtype: int64"
      ]
     },
     "execution_count": 25,
     "metadata": {},
     "output_type": "execute_result"
    }
   ],
   "source": [
    "s"
   ]
  },
  {
   "cell_type": "code",
   "execution_count": 26,
   "id": "f39a38db",
   "metadata": {},
   "outputs": [
    {
     "name": "stdout",
     "output_type": "stream",
     "text": [
      "광역시\n",
      "서울    9904312\n",
      "부산    3448737\n",
      "인천     289045\n",
      "대구    2466052\n",
      "Name: 인구, dtype: int64\n"
     ]
    },
    {
     "data": {
      "text/plain": [
       "(9904312, 2466052, 3448737)"
      ]
     },
     "execution_count": 26,
     "metadata": {},
     "output_type": "execute_result"
    }
   ],
   "source": [
    "print(s)\n",
    "s[0],s[3],s[1]"
   ]
  },
  {
   "cell_type": "code",
   "execution_count": 27,
   "id": "6f9f2b6a",
   "metadata": {},
   "outputs": [
    {
     "data": {
      "text/plain": [
       "광역시\n",
       "서울    9904312\n",
       "대구    2466052\n",
       "부산    3448737\n",
       "Name: 인구, dtype: int64"
      ]
     },
     "execution_count": 27,
     "metadata": {},
     "output_type": "execute_result"
    }
   ],
   "source": [
    "s[[0,3,1]]"
   ]
  },
  {
   "cell_type": "code",
   "execution_count": 28,
   "id": "c05a1c35",
   "metadata": {},
   "outputs": [
    {
     "name": "stdout",
     "output_type": "stream",
     "text": [
      "광역시\n",
      "서울    9904312\n",
      "부산    3448737\n",
      "인천     289045\n",
      "대구    2466052\n",
      "Name: 인구, dtype: int64\n"
     ]
    },
    {
     "data": {
      "text/plain": [
       "광역시\n",
       "부산    3448737\n",
       "인천     289045\n",
       "Name: 인구, dtype: int64"
      ]
     },
     "execution_count": 28,
     "metadata": {},
     "output_type": "execute_result"
    }
   ],
   "source": [
    "print(s)\n",
    "s[[1,2]]\n",
    "s[['부산','인천']]\n",
    "s[1:3]"
   ]
  },
  {
   "cell_type": "code",
   "execution_count": 29,
   "id": "c67791ac",
   "metadata": {},
   "outputs": [
    {
     "data": {
      "text/plain": [
       "광역시\n",
       "부산    3448737\n",
       "인천     289045\n",
       "대구    2466052\n",
       "Name: 인구, dtype: int64"
      ]
     },
     "execution_count": 29,
     "metadata": {},
     "output_type": "execute_result"
    }
   ],
   "source": [
    "# 문자인덱스를 이용한 슬라이싱 가능\n",
    "# 표시된 문자인덱스 범위 모두 추출\n",
    "s['부산':'대구']"
   ]
  },
  {
   "cell_type": "code",
   "execution_count": 30,
   "id": "a03eecdb",
   "metadata": {},
   "outputs": [
    {
     "name": "stdout",
     "output_type": "stream",
     "text": [
      "1    100\n",
      "2    200\n",
      "3    300\n",
      "4    400\n",
      "dtype: int64\n"
     ]
    },
    {
     "data": {
      "text/plain": [
       "3    300\n",
       "4    400\n",
       "dtype: int64"
      ]
     },
     "execution_count": 30,
     "metadata": {},
     "output_type": "execute_result"
    }
   ],
   "source": [
    "# 정수형 인덱스를 명시 했을 경우\n",
    "s_01 = pd.Series([100,200,300,400], index=[1,2,3,4])\n",
    "print(s_01)\n",
    "s_01[[2,3,4]]\n",
    "s_01[2:4]\n",
    "# 시리즈 인덱스는 문자열이 좋다"
   ]
  },
  {
   "cell_type": "code",
   "execution_count": 31,
   "id": "6136d441",
   "metadata": {},
   "outputs": [
    {
     "data": {
      "text/plain": [
       "a    0\n",
       "b    1\n",
       "c    2\n",
       "dtype: int64"
      ]
     },
     "execution_count": 31,
     "metadata": {},
     "output_type": "execute_result"
    }
   ],
   "source": [
    "# 인덱스를 문자값으로 지정한 시리즈 \n",
    "s0=pd.Series(range(3), index=('a','b','c'))\n",
    "s0"
   ]
  },
  {
   "cell_type": "code",
   "execution_count": 32,
   "id": "36538198",
   "metadata": {},
   "outputs": [
    {
     "data": {
      "text/plain": [
       "0"
      ]
     },
     "execution_count": 32,
     "metadata": {},
     "output_type": "execute_result"
    }
   ],
   "source": [
    "s0['a']\n",
    "s0.a"
   ]
  },
  {
   "cell_type": "code",
   "execution_count": 33,
   "id": "5b265ec5",
   "metadata": {},
   "outputs": [
    {
     "name": "stdout",
     "output_type": "stream",
     "text": [
      "광역시\n",
      "서울    9904312\n",
      "부산    3448737\n",
      "인천     289045\n",
      "대구    2466052\n",
      "Name: 인구, dtype: int64\n"
     ]
    },
    {
     "data": {
      "text/plain": [
       "9904312"
      ]
     },
     "execution_count": 33,
     "metadata": {},
     "output_type": "execute_result"
    }
   ],
   "source": [
    "print(s)# 한글문자 인덱스\n",
    "s['서울']\n",
    "s.서울"
   ]
  },
  {
   "cell_type": "code",
   "execution_count": 34,
   "id": "73ed0ba8",
   "metadata": {},
   "outputs": [
    {
     "data": {
      "text/plain": [
       "10000000"
      ]
     },
     "execution_count": 34,
     "metadata": {},
     "output_type": "execute_result"
    }
   ],
   "source": [
    "#인덱스 통한 데이터 업데이트\n",
    "s['서울'] = 10000000\n",
    "s['서울']"
   ]
  },
  {
   "cell_type": "code",
   "execution_count": 35,
   "id": "37b91d3f",
   "metadata": {},
   "outputs": [
    {
     "data": {
      "text/plain": [
       "광역시\n",
       "서울    10000000\n",
       "부산     3448737\n",
       "인천      289045\n",
       "대구     2466052\n",
       "Name: 인구, dtype: int64"
      ]
     },
     "execution_count": 35,
     "metadata": {},
     "output_type": "execute_result"
    }
   ],
   "source": [
    "s"
   ]
  },
  {
   "cell_type": "code",
   "execution_count": 36,
   "id": "8839da23",
   "metadata": {},
   "outputs": [
    {
     "name": "stdout",
     "output_type": "stream",
     "text": [
      "Index(['서울', '부산', '인천', '대구'], dtype='object', name='광역시')\n"
     ]
    },
    {
     "data": {
      "text/plain": [
       "광역시\n",
       "서울    0\n",
       "부산    1\n",
       "인천    2\n",
       "대구    3\n",
       "dtype: int64"
      ]
     },
     "execution_count": 36,
     "metadata": {},
     "output_type": "execute_result"
    }
   ],
   "source": [
    "#인덱스 재사용하기\n",
    "print(s.index)\n",
    "s1 = pd.Series(np.arange(4),s.index)\n",
    "s1"
   ]
  },
  {
   "cell_type": "code",
   "execution_count": 37,
   "id": "d9a4f30f",
   "metadata": {},
   "outputs": [
    {
     "data": {
      "text/plain": [
       "0    5\n",
       "1    6\n",
       "2    7\n",
       "dtype: int64"
      ]
     },
     "execution_count": 37,
     "metadata": {},
     "output_type": "execute_result"
    }
   ],
   "source": [
    "# 시리즈 원소로 백터화 연산\n",
    "pd.Series([1,2,3])+4"
   ]
  },
  {
   "cell_type": "code",
   "execution_count": 38,
   "id": "16142b82",
   "metadata": {},
   "outputs": [
    {
     "name": "stdout",
     "output_type": "stream",
     "text": [
      "광역시\n",
      "서울    10000000\n",
      "부산     3448737\n",
      "인천      289045\n",
      "대구     2466052\n",
      "Name: 인구, dtype: int64\n"
     ]
    },
    {
     "data": {
      "text/plain": [
       "광역시\n",
       "서울    10.000000\n",
       "부산     3.448737\n",
       "인천     0.289045\n",
       "대구     2.466052\n",
       "Name: 인구, dtype: float64"
      ]
     },
     "execution_count": 38,
     "metadata": {},
     "output_type": "execute_result"
    }
   ],
   "source": [
    "print(s)\n",
    "s/1000000"
   ]
  },
  {
   "cell_type": "code",
   "execution_count": 39,
   "id": "feda24a6",
   "metadata": {},
   "outputs": [
    {
     "data": {
      "text/plain": [
       "광역시\n",
       "서울    10000000\n",
       "부산     3448737\n",
       "인천      289045\n",
       "대구     2466052\n",
       "Name: 인구, dtype: int64"
      ]
     },
     "execution_count": 39,
     "metadata": {},
     "output_type": "execute_result"
    }
   ],
   "source": [
    "s"
   ]
  },
  {
   "cell_type": "code",
   "execution_count": 40,
   "id": "a4db86f0",
   "metadata": {},
   "outputs": [
    {
     "data": {
      "text/plain": [
       "광역시\n",
       "부산    3448737\n",
       "Name: 인구, dtype: int64"
      ]
     },
     "execution_count": 40,
     "metadata": {},
     "output_type": "execute_result"
    }
   ],
   "source": [
    "# 백터화 인덱싱도 가능\n",
    "# 시리즈[조건]\n",
    "# s시리즈 값 중 250000보다 크로 500000보다 작은 원소를 추출\n",
    "s[(s>250e4)&(s<500e4)]\n",
    "# s 시리즈 각 원소값 각각에 대해서 조건식을 확인해서 결과가 True인 원소를 반환"
   ]
  },
  {
   "cell_type": "markdown",
   "id": "54bfadef",
   "metadata": {},
   "source": [
    "### Boolean selection\n",
    "- boolean Series가 []와 함꼐 사용되면 True 값에 해당하는 값만 새로 반환되는 Series객체에 포함된\n",
    "- 다중조건의 경우 & | 를 사용하여 연결 가능"
   ]
  },
  {
   "cell_type": "code",
   "execution_count": 41,
   "id": "77a6cc96",
   "metadata": {},
   "outputs": [
    {
     "data": {
      "text/plain": [
       "1     0\n",
       "2     1\n",
       "3     2\n",
       "4     3\n",
       "5     4\n",
       "6     5\n",
       "7     6\n",
       "8     7\n",
       "9     8\n",
       "10    9\n",
       "dtype: int64"
      ]
     },
     "execution_count": 41,
     "metadata": {},
     "output_type": "execute_result"
    }
   ],
   "source": [
    "s0 = pd.Series(np.arange(10), np.arange(10)+1)\n",
    "s0"
   ]
  },
  {
   "cell_type": "code",
   "execution_count": 42,
   "id": "22339726",
   "metadata": {},
   "outputs": [
    {
     "data": {
      "text/plain": [
       "1     False\n",
       "2     False\n",
       "3     False\n",
       "4     False\n",
       "5     False\n",
       "6     False\n",
       "7      True\n",
       "8      True\n",
       "9      True\n",
       "10     True\n",
       "dtype: bool"
      ]
     },
     "execution_count": 42,
     "metadata": {},
     "output_type": "execute_result"
    }
   ],
   "source": [
    "s0>5"
   ]
  },
  {
   "cell_type": "code",
   "execution_count": 43,
   "id": "bff14079",
   "metadata": {},
   "outputs": [
    {
     "data": {
      "text/plain": [
       "7     6\n",
       "8     7\n",
       "9     8\n",
       "10    9\n",
       "dtype: int64"
      ]
     },
     "execution_count": 43,
     "metadata": {},
     "output_type": "execute_result"
    }
   ],
   "source": [
    "s0[s0>5]"
   ]
  },
  {
   "cell_type": "code",
   "execution_count": 44,
   "id": "781a22ce",
   "metadata": {},
   "outputs": [
    {
     "data": {
      "text/plain": [
       "1    0\n",
       "3    2\n",
       "5    4\n",
       "7    6\n",
       "9    8\n",
       "dtype: int64"
      ]
     },
     "execution_count": 44,
     "metadata": {},
     "output_type": "execute_result"
    }
   ],
   "source": [
    "# 짝수값 추출\n",
    "s0[s0%2==0]"
   ]
  },
  {
   "cell_type": "code",
   "execution_count": 45,
   "id": "f8c80115",
   "metadata": {},
   "outputs": [
    {
     "data": {
      "text/plain": [
       "1     0\n",
       "2     1\n",
       "3     2\n",
       "4     3\n",
       "5     4\n",
       "6     5\n",
       "7     6\n",
       "8     7\n",
       "9     8\n",
       "10    9\n",
       "dtype: int64"
      ]
     },
     "execution_count": 45,
     "metadata": {},
     "output_type": "execute_result"
    }
   ],
   "source": [
    "s0"
   ]
  },
  {
   "cell_type": "code",
   "execution_count": 46,
   "id": "46432932",
   "metadata": {},
   "outputs": [
    {
     "data": {
      "text/plain": [
       "array([False, False, False, False, False,  True,  True,  True,  True,\n",
       "        True])"
      ]
     },
     "execution_count": 46,
     "metadata": {},
     "output_type": "execute_result"
    }
   ],
   "source": [
    "# 인덱스에도 관계연산이 가능\n",
    "s0.index>5"
   ]
  },
  {
   "cell_type": "code",
   "execution_count": 47,
   "id": "e790425b",
   "metadata": {},
   "outputs": [
    {
     "data": {
      "text/plain": [
       "6     5\n",
       "7     6\n",
       "8     7\n",
       "9     8\n",
       "10    9\n",
       "dtype: int64"
      ]
     },
     "execution_count": 47,
     "metadata": {},
     "output_type": "execute_result"
    }
   ],
   "source": [
    "s0[s0.index>5]"
   ]
  },
  {
   "cell_type": "code",
   "execution_count": 48,
   "id": "19a4ee5d",
   "metadata": {},
   "outputs": [
    {
     "data": {
      "text/plain": [
       "7    6\n",
       "8    7\n",
       "dtype: int64"
      ]
     },
     "execution_count": 48,
     "metadata": {},
     "output_type": "execute_result"
    }
   ],
   "source": [
    "s0[(s0>5)&(s0<8)]"
   ]
  },
  {
   "cell_type": "code",
   "execution_count": 49,
   "id": "97a3fed8",
   "metadata": {},
   "outputs": [
    {
     "data": {
      "text/plain": [
       "3"
      ]
     },
     "execution_count": 49,
     "metadata": {},
     "output_type": "execute_result"
    }
   ],
   "source": [
    "(s0>=7).sum() #true 개수의 합"
   ]
  },
  {
   "cell_type": "code",
   "execution_count": 50,
   "id": "5a6387ec",
   "metadata": {},
   "outputs": [
    {
     "data": {
      "text/plain": [
       "17"
      ]
     },
     "execution_count": 50,
     "metadata": {},
     "output_type": "execute_result"
    }
   ],
   "source": [
    "(s0[s0>7]).sum() #조건의 결과가 True인 원소들의 합"
   ]
  },
  {
   "cell_type": "code",
   "execution_count": 51,
   "id": "b2902bc2",
   "metadata": {},
   "outputs": [
    {
     "data": {
      "text/plain": [
       "a    1\n",
       "b    2\n",
       "c    3\n",
       "d    4\n",
       "dtype: int64"
      ]
     },
     "execution_count": 51,
     "metadata": {},
     "output_type": "execute_result"
    }
   ],
   "source": [
    "# 두 시리즈간 연산\n",
    "num_s1 = pd.Series([1,2,3,4],index=['a','b','c','d'])\n",
    "num_s1"
   ]
  },
  {
   "cell_type": "code",
   "execution_count": 52,
   "id": "22c786ee",
   "metadata": {},
   "outputs": [
    {
     "data": {
      "text/plain": [
       "b    5\n",
       "c    6\n",
       "d    7\n",
       "a    8\n",
       "dtype: int64"
      ]
     },
     "execution_count": 52,
     "metadata": {},
     "output_type": "execute_result"
    }
   ],
   "source": [
    "num_s2 = pd.Series([5,6,7,8],index=['b','c','d','a'])\n",
    "num_s2"
   ]
  },
  {
   "cell_type": "code",
   "execution_count": 53,
   "id": "e61083c4",
   "metadata": {},
   "outputs": [
    {
     "data": {
      "text/plain": [
       "a     9\n",
       "b     7\n",
       "c     9\n",
       "d    11\n",
       "dtype: int64"
      ]
     },
     "execution_count": 53,
     "metadata": {},
     "output_type": "execute_result"
    }
   ],
   "source": [
    "num_s1 + num_s2 # 시리즈간 연산은 같은 인덱스를 찾아서 진행"
   ]
  },
  {
   "cell_type": "code",
   "execution_count": 54,
   "id": "5cc78352",
   "metadata": {},
   "outputs": [],
   "source": [
    "num_s3 = pd.Series([5,6,7,8],index=['e','b','f','g'])\n",
    "num_s4 = pd.Series([1,2,3,4],index=['a','b','c','d'])\n"
   ]
  },
  {
   "cell_type": "code",
   "execution_count": 55,
   "id": "91afd36d",
   "metadata": {},
   "outputs": [
    {
     "data": {
      "text/plain": [
       "a    NaN\n",
       "b    4.0\n",
       "c    NaN\n",
       "d    NaN\n",
       "e    NaN\n",
       "f    NaN\n",
       "g    NaN\n",
       "dtype: float64"
      ]
     },
     "execution_count": 55,
     "metadata": {},
     "output_type": "execute_result"
    }
   ],
   "source": [
    "# 동일한 인덱스는 연산을 진행하고 나머지 인덱스는 연산처리가 불가능 해서 Nan 처리\n",
    "num_s3-num_s4"
   ]
  },
  {
   "cell_type": "code",
   "execution_count": 56,
   "id": "af4a8212",
   "metadata": {},
   "outputs": [
    {
     "data": {
      "text/plain": [
       "array([4, 4, 4, 4])"
      ]
     },
     "execution_count": 56,
     "metadata": {},
     "output_type": "execute_result"
    }
   ],
   "source": [
    "num_s3.values-num_s4.values\n",
    "#values 속성을 사용해 값만을 추출해 연산을 진행하게 되면 시리즈의 형태가 사라지므로\n",
    "# 동일 위치 원소들끼리 연산을 진행\n",
    "# 시리즈, values 는 array형태 반환"
   ]
  },
  {
   "cell_type": "markdown",
   "id": "7c4bef77",
   "metadata": {},
   "source": [
    "### 딕셔너리 와 시리즈의 관계\n",
    "- 시리즈 객체는 라벨(문자)에 의해 인덱싱이 가능\n",
    "- 실질적으로는 라벨을 key로 가지는 딕셔너리 형과 같다고 볼 수 있음\n",
    "- 딕셔너리에서 제공하는 대부분의 연산자 사용 가능\n",
    "   - in 연산자 : T/F\n",
    "   - for 루프를 통해 각 원소의 key와 value에 접근 할수 있다.\n",
    "- in 연산자/ for 반복문 사용"
   ]
  },
  {
   "cell_type": "code",
   "execution_count": 57,
   "id": "52e033bb",
   "metadata": {},
   "outputs": [
    {
     "data": {
      "text/plain": [
       "광역시\n",
       "서울    10000000\n",
       "부산     3448737\n",
       "인천      289045\n",
       "대구     2466052\n",
       "Name: 인구, dtype: int64"
      ]
     },
     "execution_count": 57,
     "metadata": {},
     "output_type": "execute_result"
    }
   ],
   "source": [
    "s"
   ]
  },
  {
   "cell_type": "code",
   "execution_count": 58,
   "id": "757ff858",
   "metadata": {},
   "outputs": [
    {
     "data": {
      "text/plain": [
       "True"
      ]
     },
     "execution_count": 58,
     "metadata": {},
     "output_type": "execute_result"
    }
   ],
   "source": [
    "# 인덱스가 서울인 원소가 시리즈에 있는지 확인\n",
    "'서울' in s"
   ]
  },
  {
   "cell_type": "code",
   "execution_count": 59,
   "id": "86c7c2e6",
   "metadata": {},
   "outputs": [
    {
     "data": {
      "text/plain": [
       "False"
      ]
     },
     "execution_count": 59,
     "metadata": {},
     "output_type": "execute_result"
    }
   ],
   "source": [
    "'대전' in s"
   ]
  },
  {
   "cell_type": "code",
   "execution_count": 60,
   "id": "4092e0c4",
   "metadata": {},
   "outputs": [
    {
     "data": {
      "text/plain": [
       "True"
      ]
     },
     "execution_count": 60,
     "metadata": {},
     "output_type": "execute_result"
    }
   ],
   "source": [
    "'대전' not in s # 없는지 확인"
   ]
  },
  {
   "cell_type": "code",
   "execution_count": 61,
   "id": "f800db44",
   "metadata": {},
   "outputs": [
    {
     "data": {
      "text/plain": [
       "<zip at 0x7f9449a98c00>"
      ]
     },
     "execution_count": 61,
     "metadata": {},
     "output_type": "execute_result"
    }
   ],
   "source": [
    "# 딕셔러니의 items() 함수 시리즈에 사용 가능\n",
    "s.items() # zip 객체"
   ]
  },
  {
   "cell_type": "code",
   "execution_count": 62,
   "id": "688d9c49",
   "metadata": {},
   "outputs": [
    {
     "data": {
      "text/plain": [
       "[('서울', 10000000), ('부산', 3448737), ('인천', 289045), ('대구', 2466052)]"
      ]
     },
     "execution_count": 62,
     "metadata": {},
     "output_type": "execute_result"
    }
   ],
   "source": [
    "list(s.items())"
   ]
  },
  {
   "cell_type": "code",
   "execution_count": 63,
   "id": "de12ecd2",
   "metadata": {},
   "outputs": [
    {
     "name": "stdout",
     "output_type": "stream",
     "text": [
      "서울=10000000\n",
      "부산=3448737\n",
      "인천=289045\n",
      "대구=2466052\n"
     ]
    }
   ],
   "source": [
    "# 시리즈 각 원소 출력\n",
    "for k,v in s.items():\n",
    "    print('%s=%d' % (k,v))"
   ]
  },
  {
   "cell_type": "markdown",
   "id": "dc37d520",
   "metadata": {},
   "source": [
    "### 딕셔너리로 시리즈 만들기\n",
    "- Series({key:value,key1:value1....})\n",
    "- 인덱스 -> key\n",
    "- 값 -> value"
   ]
  },
  {
   "cell_type": "code",
   "execution_count": 64,
   "id": "702f1446",
   "metadata": {},
   "outputs": [
    {
     "data": {
      "text/plain": [
       "홍길동     96\n",
       "이몽룡    100\n",
       "성춘향     88\n",
       "dtype: int64"
      ]
     },
     "execution_count": 64,
     "metadata": {},
     "output_type": "execute_result"
    }
   ],
   "source": [
    "scores = {'홍길동':96, '이몽룡': 100, '성춘향':88}\n",
    "s=pd.Series(scores)\n",
    "s"
   ]
  },
  {
   "cell_type": "code",
   "execution_count": 65,
   "id": "eb65bdc9",
   "metadata": {},
   "outputs": [
    {
     "data": {
      "text/plain": [
       "서울    9631482\n",
       "부산    3393191\n",
       "인천    2632035\n",
       "대전    1490158\n",
       "dtype: int64"
      ]
     },
     "execution_count": 65,
     "metadata": {},
     "output_type": "execute_result"
    }
   ],
   "source": [
    "city={'서울':9631482,'부산':3393191,'인천':2632035,'대전':1490158}\n",
    "s=pd.Series(city)\n",
    "s"
   ]
  },
  {
   "cell_type": "markdown",
   "id": "151e700f",
   "metadata": {},
   "source": [
    "- 딕셔너리의 원소는 순서를 갖지 않는다.\n",
    "  - 딕셔너리로 생성된 시리즈의 원소도 순서가 보장되지 않는다.\n",
    "  - 만약 순서를 보장하고 싶으면 인덱스를 리스트로 지정해야 한다."
   ]
  },
  {
   "cell_type": "code",
   "execution_count": 66,
   "id": "48957790",
   "metadata": {},
   "outputs": [
    {
     "data": {
      "text/plain": [
       "서울    9631482\n",
       "부산    3393191\n",
       "인천    2632035\n",
       "대전    1490158\n",
       "dtype: int64"
      ]
     },
     "execution_count": 66,
     "metadata": {},
     "output_type": "execute_result"
    }
   ],
   "source": [
    "city={'서울':9631482,'부산':3393191,'인천':2632035,'대전':1490158}\n",
    "s=pd.Series(city, index = city.keys())\n",
    "s"
   ]
  },
  {
   "cell_type": "code",
   "execution_count": 67,
   "id": "a9c6edaa",
   "metadata": {},
   "outputs": [
    {
     "data": {
      "text/plain": [
       "부산    3393191\n",
       "인천    2632035\n",
       "서울    9631482\n",
       "대전    1490158\n",
       "dtype: int64"
      ]
     },
     "execution_count": 67,
     "metadata": {},
     "output_type": "execute_result"
    }
   ],
   "source": [
    "s=pd.Series(city, index = ['부산','인천','서울','대전'])\n",
    "s\n"
   ]
  },
  {
   "cell_type": "markdown",
   "id": "07f89669",
   "metadata": {},
   "source": [
    "### 시리즈 데이터의 갱신,추가, 삭제\n",
    "- 인덱싱을 이용하면 딕셔너리 처럼 갱신, 추가 가능"
   ]
  },
  {
   "cell_type": "code",
   "execution_count": 68,
   "id": "2c6f684f",
   "metadata": {},
   "outputs": [
    {
     "data": {
      "text/plain": [
       "부산    3393191\n",
       "인천    2632035\n",
       "서울    9631482\n",
       "대전    1490158\n",
       "dtype: int64"
      ]
     },
     "execution_count": 68,
     "metadata": {},
     "output_type": "execute_result"
    }
   ],
   "source": [
    "s"
   ]
  },
  {
   "cell_type": "code",
   "execution_count": 69,
   "id": "0fb723e4",
   "metadata": {},
   "outputs": [
    {
     "data": {
      "text/plain": [
       "부산    1630000\n",
       "인천    2632035\n",
       "서울    9631482\n",
       "대전    1490158\n",
       "dtype: int64"
      ]
     },
     "execution_count": 69,
     "metadata": {},
     "output_type": "execute_result"
    }
   ],
   "source": [
    "#s 시리즈의 부산의 인구 값을 1630000으로 변경\n",
    "s['부산']=1630000\n",
    "s"
   ]
  },
  {
   "cell_type": "code",
   "execution_count": 70,
   "id": "eb04340f",
   "metadata": {},
   "outputs": [
    {
     "data": {
      "text/plain": [
       "부산    1630000\n",
       "인천    2632035\n",
       "대전    1490158\n",
       "dtype: int64"
      ]
     },
     "execution_count": 70,
     "metadata": {},
     "output_type": "execute_result"
    }
   ],
   "source": [
    "# 원소 삭제 del\n",
    "del s['서울']\n",
    "s"
   ]
  },
  {
   "cell_type": "code",
   "execution_count": 71,
   "id": "e5c8a648",
   "metadata": {},
   "outputs": [
    {
     "data": {
      "text/plain": [
       "부산    1630000\n",
       "인천    2632035\n",
       "대전    1490158\n",
       "대구    1875000\n",
       "dtype: int64"
      ]
     },
     "execution_count": 71,
     "metadata": {},
     "output_type": "execute_result"
    }
   ],
   "source": [
    "# 시리즈에 새로운 원소 추가\n",
    "s['대구']=1875000\n",
    "s"
   ]
  },
  {
   "cell_type": "markdown",
   "id": "f92f67fe",
   "metadata": {},
   "source": [
    "#### Series 함수\n",
    "- Series size, shape, unique, count, value_counts 함수\n",
    "- size(속성) : 개수 반환\n",
    "- shape(속성) : 튜플형태로 shape반환\n",
    "- unique: 유일한 값만 ndarray로 반환\n",
    "- count : NaN을 제외한 개수를 반환\n",
    "- mean: NaN을 제외한 평균\n",
    "- value_counts: NaN을 제외하고 각 값들의 빈도를 반환"
   ]
  },
  {
   "cell_type": "code",
   "execution_count": 72,
   "id": "bdc2a3a1",
   "metadata": {},
   "outputs": [
    {
     "data": {
      "text/plain": [
       "0     1.0\n",
       "1     1.0\n",
       "2     2.0\n",
       "3     1.0\n",
       "4     2.0\n",
       "5     2.0\n",
       "6     2.0\n",
       "7     1.0\n",
       "8     1.0\n",
       "9     3.0\n",
       "10    3.0\n",
       "11    4.0\n",
       "12    5.0\n",
       "13    5.0\n",
       "14    7.0\n",
       "15    NaN\n",
       "dtype: float64"
      ]
     },
     "execution_count": 72,
     "metadata": {},
     "output_type": "execute_result"
    }
   ],
   "source": [
    "s1 = pd.Series([1,1,2,1,2,2,2,1,1,3,3,4,5,5,7,np.NaN])\n",
    "s1"
   ]
  },
  {
   "cell_type": "code",
   "execution_count": 73,
   "id": "d89e3537",
   "metadata": {},
   "outputs": [
    {
     "data": {
      "text/plain": [
       "16"
      ]
     },
     "execution_count": 73,
     "metadata": {},
     "output_type": "execute_result"
    }
   ],
   "source": [
    "len(s1)"
   ]
  },
  {
   "cell_type": "code",
   "execution_count": 74,
   "id": "b59b3e6b",
   "metadata": {},
   "outputs": [
    {
     "data": {
      "text/plain": [
       "16"
      ]
     },
     "execution_count": 74,
     "metadata": {},
     "output_type": "execute_result"
    }
   ],
   "source": [
    "s1.size"
   ]
  },
  {
   "cell_type": "code",
   "execution_count": 75,
   "id": "3f78e378",
   "metadata": {},
   "outputs": [
    {
     "data": {
      "text/plain": [
       "(16,)"
      ]
     },
     "execution_count": 75,
     "metadata": {},
     "output_type": "execute_result"
    }
   ],
   "source": [
    "s1.shape # 차원으로 표현"
   ]
  },
  {
   "cell_type": "code",
   "execution_count": 76,
   "id": "d3046ded",
   "metadata": {},
   "outputs": [
    {
     "data": {
      "text/plain": [
       "array([ 1.,  2.,  3.,  4.,  5.,  7., nan])"
      ]
     },
     "execution_count": 76,
     "metadata": {},
     "output_type": "execute_result"
    }
   ],
   "source": [
    "s1.unique() #nan도 하나의 값으로 봄"
   ]
  },
  {
   "cell_type": "code",
   "execution_count": 77,
   "id": "a2cda9cf",
   "metadata": {},
   "outputs": [
    {
     "data": {
      "text/plain": [
       "15"
      ]
     },
     "execution_count": 77,
     "metadata": {},
     "output_type": "execute_result"
    }
   ],
   "source": [
    "s1.count() # nan을 제외한 원소의 갯"
   ]
  },
  {
   "cell_type": "code",
   "execution_count": 78,
   "id": "84a158bd",
   "metadata": {},
   "outputs": [
    {
     "name": "stdout",
     "output_type": "stream",
     "text": [
      "nan\n",
      "0    2.0\n",
      "1    2.0\n",
      "2    2.0\n",
      "3    2.0\n",
      "4    NaN\n",
      "dtype: float64\n"
     ]
    },
    {
     "data": {
      "text/plain": [
       "2.0"
      ]
     },
     "execution_count": 78,
     "metadata": {},
     "output_type": "execute_result"
    }
   ],
   "source": [
    "a=np.array([2,2,2,2,np.NaN]) # array 타입\n",
    "print(a.mean()) # array에 nan mean 적용 nan 반환\n",
    "\n",
    "b=pd.Series(a) # 배열을 시리즈로변결\n",
    "print(b)\n",
    "b.mean() # nan 빼고 계산"
   ]
  },
  {
   "cell_type": "code",
   "execution_count": 79,
   "id": "a2b9be09",
   "metadata": {},
   "outputs": [
    {
     "data": {
      "text/plain": [
       "0     1.0\n",
       "1     1.0\n",
       "2     2.0\n",
       "3     1.0\n",
       "4     2.0\n",
       "5     2.0\n",
       "6     2.0\n",
       "7     1.0\n",
       "8     1.0\n",
       "9     3.0\n",
       "10    3.0\n",
       "11    4.0\n",
       "12    5.0\n",
       "13    5.0\n",
       "14    7.0\n",
       "15    NaN\n",
       "dtype: float64"
      ]
     },
     "execution_count": 79,
     "metadata": {},
     "output_type": "execute_result"
    }
   ],
   "source": [
    "s1"
   ]
  },
  {
   "cell_type": "code",
   "execution_count": 80,
   "id": "6f04e5d9",
   "metadata": {},
   "outputs": [
    {
     "data": {
      "text/plain": [
       "2.6666666666666665"
      ]
     },
     "execution_count": 80,
     "metadata": {},
     "output_type": "execute_result"
    }
   ],
   "source": [
    "s1.mean()"
   ]
  },
  {
   "cell_type": "code",
   "execution_count": 81,
   "id": "f634f460",
   "metadata": {},
   "outputs": [
    {
     "data": {
      "text/plain": [
       "1.0    5\n",
       "2.0    4\n",
       "3.0    2\n",
       "5.0    2\n",
       "4.0    1\n",
       "7.0    1\n",
       "dtype: int64"
      ]
     },
     "execution_count": 81,
     "metadata": {},
     "output_type": "execute_result"
    }
   ],
   "source": [
    "s1.value_counts()\n",
    "#각 원소들에 대해 동읽밧의 원소끼리 그룹핑하여 개수를 세서 반환하는 함수"
   ]
  },
  {
   "cell_type": "markdown",
   "id": "2041da21",
   "metadata": {},
   "source": [
    "날짜 자동 생성 : date_range"
   ]
  },
  {
   "cell_type": "code",
   "execution_count": 82,
   "id": "f5841387",
   "metadata": {},
   "outputs": [
    {
     "data": {
      "text/plain": [
       "2018-10-07    200.0\n",
       "2018-10-08    195.0\n",
       "2018-10-09      NaN\n",
       "2018-10-10    205.0\n",
       "dtype: float64"
      ]
     },
     "execution_count": 82,
     "metadata": {},
     "output_type": "execute_result"
    }
   ],
   "source": [
    "#날짜 인덱스를 이용하여 시리즈 만들기\n",
    "# 날짜 표새 : '년-월-일' 형태로 문자열로 표시\n",
    "index_date = ['2018-10-07','2018-10-08','2018-10-09','2018-10-10']\n",
    "s4 = pd.Series([200,195,np.NaN,205],index=index_date)\n",
    "s4"
   ]
  },
  {
   "cell_type": "code",
   "execution_count": 83,
   "id": "321e8257",
   "metadata": {},
   "outputs": [
    {
     "data": {
      "text/plain": [
       "str"
      ]
     },
     "execution_count": 83,
     "metadata": {},
     "output_type": "execute_result"
    }
   ],
   "source": [
    "type(s4.index[0]) "
   ]
  },
  {
   "cell_type": "markdown",
   "id": "84ba8a50",
   "metadata": {},
   "source": [
    "- 판다스 패키지의 date_range 함수 (날짜생성)\n",
    "  - pd.date_range(start=None, end=None, periods=None, freq='D')\n",
    "  - start : 시작날짜/ end= 끝날짜 / periods = 날짜 생성기간/ fref = 날짜 생성 주기\n",
    "  - start는 필수 옵션/end나 periods는 둘 중 하나가 있어야 함/ freq는 기본 Day로 설정"
   ]
  },
  {
   "cell_type": "code",
   "execution_count": 84,
   "id": "6fd81fe7",
   "metadata": {},
   "outputs": [
    {
     "data": {
      "text/plain": [
       "DatetimeIndex(['2018-10-01', '2018-10-02', '2018-10-03', '2018-10-04',\n",
       "               '2018-10-05', '2018-10-06', '2018-10-07', '2018-10-08',\n",
       "               '2018-10-09', '2018-10-10', '2018-10-11', '2018-10-12',\n",
       "               '2018-10-13', '2018-10-14', '2018-10-15', '2018-10-16',\n",
       "               '2018-10-17', '2018-10-18', '2018-10-19', '2018-10-20'],\n",
       "              dtype='datetime64[ns]', freq='D')"
      ]
     },
     "execution_count": 84,
     "metadata": {},
     "output_type": "execute_result"
    }
   ],
   "source": [
    "pd.date_range(start='2018-10-01', end ='2018-10-20')\n",
    "# DatetimeIndex 반환\n",
    "#dtype='datetime64[ns]'"
   ]
  },
  {
   "cell_type": "code",
   "execution_count": 85,
   "id": "2a9f9631",
   "metadata": {},
   "outputs": [
    {
     "data": {
      "text/plain": [
       "DatetimeIndex(['2018-10-01', '2018-10-02', '2018-10-03', '2018-10-04',\n",
       "               '2018-10-05', '2018-10-06', '2018-10-07', '2018-10-08',\n",
       "               '2018-10-09', '2018-10-10', '2018-10-11', '2018-10-12',\n",
       "               '2018-10-13', '2018-10-14', '2018-10-15', '2018-10-16',\n",
       "               '2018-10-17', '2018-10-18', '2018-10-19', '2018-10-20'],\n",
       "              dtype='datetime64[ns]', freq='D')"
      ]
     },
     "execution_count": 85,
     "metadata": {},
     "output_type": "execute_result"
    }
   ],
   "source": [
    "pd.date_range(start='2018-10-01', end ='2018-10-20',freq='d')\n"
   ]
  },
  {
   "cell_type": "code",
   "execution_count": 86,
   "id": "1f6fa649",
   "metadata": {},
   "outputs": [
    {
     "data": {
      "text/plain": [
       "DatetimeIndex(['2018-10-01', '2018-10-04', '2018-10-07', '2018-10-10',\n",
       "               '2018-10-13', '2018-10-16', '2018-10-19'],\n",
       "              dtype='datetime64[ns]', freq='3D')"
      ]
     },
     "execution_count": 86,
     "metadata": {},
     "output_type": "execute_result"
    }
   ],
   "source": [
    "pd.date_range(start='2018-10-01', end ='2018-10-20',freq='3d')#3일씩 증가\n",
    " "
   ]
  },
  {
   "cell_type": "code",
   "execution_count": 87,
   "id": "27354427",
   "metadata": {},
   "outputs": [
    {
     "data": {
      "text/plain": [
       "DatetimeIndex(['2018-10-07', '2018-10-14'], dtype='datetime64[ns]', freq='W-SUN')"
      ]
     },
     "execution_count": 87,
     "metadata": {},
     "output_type": "execute_result"
    }
   ],
   "source": [
    "pd.date_range(start='2018-10-01', end ='2018-10-20',freq='w')\n",
    "# 1주일씩 날짜 증가\n",
    "# 1주 시작일 일요일을 표시\n"
   ]
  },
  {
   "cell_type": "code",
   "execution_count": 88,
   "id": "cfec13bf",
   "metadata": {},
   "outputs": [
    {
     "data": {
      "text/plain": [
       "DatetimeIndex(['2018-10-07', '2018-10-14', '2018-10-21', '2018-10-28'], dtype='datetime64[ns]', freq='W-SUN')"
      ]
     },
     "execution_count": 88,
     "metadata": {},
     "output_type": "execute_result"
    }
   ],
   "source": [
    "# 2018-10-01이후 일요일 4개 \n",
    "pd.date_range(start='2018-10-01', periods=4 ,freq='w')\n"
   ]
  },
  {
   "cell_type": "code",
   "execution_count": 89,
   "id": "2e599721",
   "metadata": {},
   "outputs": [
    {
     "data": {
      "text/plain": [
       "DatetimeIndex(['2018-10-31', '2018-11-30', '2018-12-31', '2019-01-31'], dtype='datetime64[ns]', freq='M')"
      ]
     },
     "execution_count": 89,
     "metadata": {},
     "output_type": "execute_result"
    }
   ],
   "source": [
    "# 2018-10-01이후 월의 마지막 날짜 4개 \n",
    "pd.date_range(start='2018-10-01', periods=4 ,freq='m')\n"
   ]
  },
  {
   "cell_type": "code",
   "execution_count": 90,
   "id": "6bb0ca7a",
   "metadata": {},
   "outputs": [
    {
     "data": {
      "text/plain": [
       "DatetimeIndex(['2018-10-31', '2018-11-30', '2018-12-31', '2019-01-31'], dtype='datetime64[ns]', freq='M')"
      ]
     },
     "execution_count": 90,
     "metadata": {},
     "output_type": "execute_result"
    }
   ],
   "source": [
    "pd.date_range(start='2018-10-01', periods=4 ,freq='M')\n"
   ]
  },
  {
   "cell_type": "code",
   "execution_count": 91,
   "id": "3f2607d6",
   "metadata": {},
   "outputs": [
    {
     "data": {
      "text/plain": [
       "DatetimeIndex(['2018-10-01', '2018-11-01', '2018-12-01', '2019-01-01'], dtype='datetime64[ns]', freq='MS')"
      ]
     },
     "execution_count": 91,
     "metadata": {},
     "output_type": "execute_result"
    }
   ],
   "source": [
    "pd.date_range(start='2018-10-01', periods=4 ,freq='MS')\n"
   ]
  },
  {
   "cell_type": "code",
   "execution_count": 92,
   "id": "1dd80dba",
   "metadata": {},
   "outputs": [
    {
     "data": {
      "text/plain": [
       "DatetimeIndex(['2018-10-31', '2018-12-31', '2019-02-28', '2019-04-30',\n",
       "               '2019-06-28', '2019-08-30', '2019-10-31', '2019-12-31',\n",
       "               '2020-02-28', '2020-04-30', '2020-06-30', '2020-08-31'],\n",
       "              dtype='datetime64[ns]', freq='2BM')"
      ]
     },
     "execution_count": 92,
     "metadata": {},
     "output_type": "execute_result"
    }
   ],
   "source": [
    "pd.date_range(start='2018-10-01', periods=12 ,freq='2BM')\n",
    "# '2BM' 업무일 기준 2개월 간격 월말 주기\n"
   ]
  },
  {
   "cell_type": "code",
   "execution_count": 93,
   "id": "63ba2b62",
   "metadata": {},
   "outputs": [
    {
     "data": {
      "text/plain": [
       "DatetimeIndex(['2019-01-01', '2020-01-01', '2021-01-01', '2022-01-01'], dtype='datetime64[ns]', freq='AS-JAN')"
      ]
     },
     "execution_count": 93,
     "metadata": {},
     "output_type": "execute_result"
    }
   ],
   "source": [
    "pd.date_range(start='2018-10-01', periods=4 ,freq='AS')\n",
    "# 연도 시작일 4개 생성"
   ]
  },
  {
   "cell_type": "markdown",
   "id": "99d11d93",
   "metadata": {},
   "source": [
    "- 판다스 패키지의 date_range 함수 (시간생성)"
   ]
  },
  {
   "cell_type": "code",
   "execution_count": 94,
   "id": "5a0900bf",
   "metadata": {},
   "outputs": [
    {
     "data": {
      "text/plain": [
       "DatetimeIndex(['2018-01-20 08:00:00', '2018-01-20 09:00:00',\n",
       "               '2018-01-20 10:00:00', '2018-01-20 11:00:00',\n",
       "               '2018-01-20 12:00:00', '2018-01-20 13:00:00',\n",
       "               '2018-01-20 14:00:00', '2018-01-20 15:00:00',\n",
       "               '2018-01-20 16:00:00', '2018-01-20 17:00:00'],\n",
       "              dtype='datetime64[ns]', freq='H')"
      ]
     },
     "execution_count": 94,
     "metadata": {},
     "output_type": "execute_result"
    }
   ],
   "source": [
    "pd.date_range(start='2018-1-20 08:00', periods=10 ,freq='H')\n"
   ]
  },
  {
   "cell_type": "code",
   "execution_count": 95,
   "id": "034c102f",
   "metadata": {},
   "outputs": [
    {
     "data": {
      "text/plain": [
       "DatetimeIndex(['2018-01-22 09:00:00', '2018-01-22 10:00:00',\n",
       "               '2018-01-22 11:00:00', '2018-01-22 12:00:00',\n",
       "               '2018-01-22 13:00:00', '2018-01-22 14:00:00',\n",
       "               '2018-01-22 15:00:00', '2018-01-22 16:00:00',\n",
       "               '2018-01-23 09:00:00', '2018-01-23 10:00:00'],\n",
       "              dtype='datetime64[ns]', freq='BH')"
      ]
     },
     "execution_count": 95,
     "metadata": {},
     "output_type": "execute_result"
    }
   ],
   "source": [
    "pd.date_range(start='2018-1-20 08:00', periods=10 ,freq='BH')\n",
    "#업무 시간 기준 9 to 5\n"
   ]
  },
  {
   "cell_type": "code",
   "execution_count": 96,
   "id": "59d3ec25",
   "metadata": {},
   "outputs": [
    {
     "data": {
      "text/plain": [
       "DatetimeIndex(['2018-01-20 08:00:00', '2018-01-20 08:30:00',\n",
       "               '2018-01-20 09:00:00', '2018-01-20 09:30:00',\n",
       "               '2018-01-20 10:00:00', '2018-01-20 10:30:00',\n",
       "               '2018-01-20 11:00:00', '2018-01-20 11:30:00',\n",
       "               '2018-01-20 12:00:00', '2018-01-20 12:30:00'],\n",
       "              dtype='datetime64[ns]', freq='30T')"
      ]
     },
     "execution_count": 96,
     "metadata": {},
     "output_type": "execute_result"
    }
   ],
   "source": [
    "pd.date_range(start='2018-1-20 08:00', periods=10 ,freq='30min')\n"
   ]
  },
  {
   "cell_type": "code",
   "execution_count": 97,
   "id": "431a3d9b",
   "metadata": {},
   "outputs": [
    {
     "data": {
      "text/plain": [
       "DatetimeIndex(['2018-01-20 08:00:00', '2018-01-20 08:00:10',\n",
       "               '2018-01-20 08:00:20', '2018-01-20 08:00:30',\n",
       "               '2018-01-20 08:00:40', '2018-01-20 08:00:50',\n",
       "               '2018-01-20 08:01:00', '2018-01-20 08:01:10',\n",
       "               '2018-01-20 08:01:20', '2018-01-20 08:01:30'],\n",
       "              dtype='datetime64[ns]', freq='10S')"
      ]
     },
     "execution_count": 97,
     "metadata": {},
     "output_type": "execute_result"
    }
   ],
   "source": [
    "pd.date_range(start='2018-1-20 08:00', periods=10 ,freq='10S')\n"
   ]
  },
  {
   "cell_type": "code",
   "execution_count": null,
   "id": "4fa3859f",
   "metadata": {},
   "outputs": [],
   "source": []
  }
 ],
 "metadata": {
  "kernelspec": {
   "display_name": "Python 3 (ipykernel)",
   "language": "python",
   "name": "python3"
  },
  "language_info": {
   "codemirror_mode": {
    "name": "ipython",
    "version": 3
   },
   "file_extension": ".py",
   "mimetype": "text/x-python",
   "name": "python",
   "nbconvert_exporter": "python",
   "pygments_lexer": "ipython3",
   "version": "3.9.13"
  }
 },
 "nbformat": 4,
 "nbformat_minor": 5
}
