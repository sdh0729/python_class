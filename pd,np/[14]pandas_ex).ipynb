{
 "cells": [
  {
   "cell_type": "code",
   "execution_count": 1,
   "id": "6cf437bd",
   "metadata": {},
   "outputs": [],
   "source": [
    "import pandas as pd\n",
    "import numpy as np"
   ]
  },
  {
   "cell_type": "code",
   "execution_count": 2,
   "id": "0320501b",
   "metadata": {},
   "outputs": [
    {
     "data": {
      "text/html": [
       "<div>\n",
       "<style scoped>\n",
       "    .dataframe tbody tr th:only-of-type {\n",
       "        vertical-align: middle;\n",
       "    }\n",
       "\n",
       "    .dataframe tbody tr th {\n",
       "        vertical-align: top;\n",
       "    }\n",
       "\n",
       "    .dataframe thead th {\n",
       "        text-align: right;\n",
       "    }\n",
       "</style>\n",
       "<table border=\"1\" class=\"dataframe\">\n",
       "  <thead>\n",
       "    <tr style=\"text-align: right;\">\n",
       "      <th></th>\n",
       "      <th>empno</th>\n",
       "      <th>ename</th>\n",
       "      <th>job</th>\n",
       "      <th>mgr</th>\n",
       "      <th>hiredate</th>\n",
       "      <th>sal</th>\n",
       "      <th>comm</th>\n",
       "      <th>deptno</th>\n",
       "    </tr>\n",
       "  </thead>\n",
       "  <tbody>\n",
       "    <tr>\n",
       "      <th>0</th>\n",
       "      <td>7369</td>\n",
       "      <td>SMITH</td>\n",
       "      <td>CLERK</td>\n",
       "      <td>7902.0</td>\n",
       "      <td>1980-12-17</td>\n",
       "      <td>800.0</td>\n",
       "      <td>NaN</td>\n",
       "      <td>20</td>\n",
       "    </tr>\n",
       "    <tr>\n",
       "      <th>1</th>\n",
       "      <td>7499</td>\n",
       "      <td>ALLEN</td>\n",
       "      <td>SALESMAN</td>\n",
       "      <td>7698.0</td>\n",
       "      <td>1981-02-20</td>\n",
       "      <td>1600.0</td>\n",
       "      <td>300.0</td>\n",
       "      <td>30</td>\n",
       "    </tr>\n",
       "    <tr>\n",
       "      <th>2</th>\n",
       "      <td>7521</td>\n",
       "      <td>WARD</td>\n",
       "      <td>SALESMAN</td>\n",
       "      <td>7698.0</td>\n",
       "      <td>1981-02-22</td>\n",
       "      <td>1250.0</td>\n",
       "      <td>500.0</td>\n",
       "      <td>30</td>\n",
       "    </tr>\n",
       "    <tr>\n",
       "      <th>3</th>\n",
       "      <td>7566</td>\n",
       "      <td>JONES</td>\n",
       "      <td>MANAGER</td>\n",
       "      <td>7839.0</td>\n",
       "      <td>1981-04-02</td>\n",
       "      <td>2975.0</td>\n",
       "      <td>NaN</td>\n",
       "      <td>20</td>\n",
       "    </tr>\n",
       "    <tr>\n",
       "      <th>4</th>\n",
       "      <td>7654</td>\n",
       "      <td>MARTIN</td>\n",
       "      <td>SALESMAN</td>\n",
       "      <td>7698.0</td>\n",
       "      <td>1981-09-28</td>\n",
       "      <td>1250.0</td>\n",
       "      <td>1400.0</td>\n",
       "      <td>30</td>\n",
       "    </tr>\n",
       "    <tr>\n",
       "      <th>5</th>\n",
       "      <td>7698</td>\n",
       "      <td>BLAKE</td>\n",
       "      <td>MANAGER</td>\n",
       "      <td>7839.0</td>\n",
       "      <td>1981-05-01</td>\n",
       "      <td>2850.0</td>\n",
       "      <td>NaN</td>\n",
       "      <td>30</td>\n",
       "    </tr>\n",
       "    <tr>\n",
       "      <th>6</th>\n",
       "      <td>7782</td>\n",
       "      <td>CLARK</td>\n",
       "      <td>MANAGER</td>\n",
       "      <td>7839.0</td>\n",
       "      <td>1981-06-09</td>\n",
       "      <td>2450.0</td>\n",
       "      <td>NaN</td>\n",
       "      <td>10</td>\n",
       "    </tr>\n",
       "    <tr>\n",
       "      <th>7</th>\n",
       "      <td>7788</td>\n",
       "      <td>SCOTT</td>\n",
       "      <td>ANALYST</td>\n",
       "      <td>7566.0</td>\n",
       "      <td>1987-04-19</td>\n",
       "      <td>3000.0</td>\n",
       "      <td>NaN</td>\n",
       "      <td>20</td>\n",
       "    </tr>\n",
       "    <tr>\n",
       "      <th>8</th>\n",
       "      <td>7839</td>\n",
       "      <td>KING</td>\n",
       "      <td>PRESIDENT</td>\n",
       "      <td>NaN</td>\n",
       "      <td>1981-11-17</td>\n",
       "      <td>5000.0</td>\n",
       "      <td>NaN</td>\n",
       "      <td>10</td>\n",
       "    </tr>\n",
       "    <tr>\n",
       "      <th>9</th>\n",
       "      <td>7844</td>\n",
       "      <td>TURNER</td>\n",
       "      <td>SALESMAN</td>\n",
       "      <td>7698.0</td>\n",
       "      <td>1981-09-08</td>\n",
       "      <td>1500.0</td>\n",
       "      <td>0.0</td>\n",
       "      <td>30</td>\n",
       "    </tr>\n",
       "    <tr>\n",
       "      <th>10</th>\n",
       "      <td>7876</td>\n",
       "      <td>ADAMS</td>\n",
       "      <td>CLERK</td>\n",
       "      <td>7788.0</td>\n",
       "      <td>1987-05-23</td>\n",
       "      <td>1100.0</td>\n",
       "      <td>NaN</td>\n",
       "      <td>20</td>\n",
       "    </tr>\n",
       "    <tr>\n",
       "      <th>11</th>\n",
       "      <td>7900</td>\n",
       "      <td>JAMES</td>\n",
       "      <td>CLERK</td>\n",
       "      <td>7698.0</td>\n",
       "      <td>1981-12-03</td>\n",
       "      <td>950.0</td>\n",
       "      <td>NaN</td>\n",
       "      <td>30</td>\n",
       "    </tr>\n",
       "    <tr>\n",
       "      <th>12</th>\n",
       "      <td>7902</td>\n",
       "      <td>FORD</td>\n",
       "      <td>ANALYST</td>\n",
       "      <td>7566.0</td>\n",
       "      <td>1981-12-03</td>\n",
       "      <td>3000.0</td>\n",
       "      <td>NaN</td>\n",
       "      <td>20</td>\n",
       "    </tr>\n",
       "    <tr>\n",
       "      <th>13</th>\n",
       "      <td>7934</td>\n",
       "      <td>MILLER</td>\n",
       "      <td>CLERK</td>\n",
       "      <td>7782.0</td>\n",
       "      <td>1982-01-23</td>\n",
       "      <td>1300.0</td>\n",
       "      <td>NaN</td>\n",
       "      <td>10</td>\n",
       "    </tr>\n",
       "  </tbody>\n",
       "</table>\n",
       "</div>"
      ],
      "text/plain": [
       "    empno   ename        job     mgr    hiredate     sal    comm  deptno\n",
       "0    7369   SMITH      CLERK  7902.0  1980-12-17   800.0     NaN      20\n",
       "1    7499   ALLEN   SALESMAN  7698.0  1981-02-20  1600.0   300.0      30\n",
       "2    7521    WARD   SALESMAN  7698.0  1981-02-22  1250.0   500.0      30\n",
       "3    7566   JONES    MANAGER  7839.0  1981-04-02  2975.0     NaN      20\n",
       "4    7654  MARTIN   SALESMAN  7698.0  1981-09-28  1250.0  1400.0      30\n",
       "5    7698   BLAKE    MANAGER  7839.0  1981-05-01  2850.0     NaN      30\n",
       "6    7782   CLARK    MANAGER  7839.0  1981-06-09  2450.0     NaN      10\n",
       "7    7788   SCOTT    ANALYST  7566.0  1987-04-19  3000.0     NaN      20\n",
       "8    7839    KING  PRESIDENT     NaN  1981-11-17  5000.0     NaN      10\n",
       "9    7844  TURNER   SALESMAN  7698.0  1981-09-08  1500.0     0.0      30\n",
       "10   7876   ADAMS      CLERK  7788.0  1987-05-23  1100.0     NaN      20\n",
       "11   7900   JAMES      CLERK  7698.0  1981-12-03   950.0     NaN      30\n",
       "12   7902    FORD    ANALYST  7566.0  1981-12-03  3000.0     NaN      20\n",
       "13   7934  MILLER      CLERK  7782.0  1982-01-23  1300.0     NaN      10"
      ]
     },
     "execution_count": 2,
     "metadata": {},
     "output_type": "execute_result"
    }
   ],
   "source": [
    "emp = pd.read_csv('emp.csv')\n",
    "emp"
   ]
  },
  {
   "cell_type": "code",
   "execution_count": 7,
   "id": "b74cc383",
   "metadata": {},
   "outputs": [
    {
     "name": "stdout",
     "output_type": "stream",
     "text": [
      "     ename  empno\n",
      "0    SMITH   7369\n",
      "1    ALLEN   7499\n",
      "2     WARD   7521\n",
      "3    JONES   7566\n",
      "4   MARTIN   7654\n",
      "5    BLAKE   7698\n",
      "6    CLARK   7782\n",
      "7    SCOTT   7788\n",
      "8     KING   7839\n",
      "9   TURNER   7844\n",
      "10   ADAMS   7876\n",
      "11   JAMES   7900\n",
      "12    FORD   7902\n",
      "13  MILLER   7934\n"
     ]
    }
   ],
   "source": [
    "#1 select ename, empno from emp\n",
    "print(emp[['ename','empno']])"
   ]
  },
  {
   "cell_type": "code",
   "execution_count": 8,
   "id": "83ebdd02",
   "metadata": {},
   "outputs": [
    {
     "name": "stdout",
     "output_type": "stream",
     "text": [
      "     ename    hiredate     mgr  deptno\n",
      "0    SMITH  1980-12-17  7902.0      20\n",
      "1    ALLEN  1981-02-20  7698.0      30\n",
      "2     WARD  1981-02-22  7698.0      30\n",
      "3    JONES  1981-04-02  7839.0      20\n",
      "4   MARTIN  1981-09-28  7698.0      30\n",
      "5    BLAKE  1981-05-01  7839.0      30\n",
      "6    CLARK  1981-06-09  7839.0      10\n",
      "7    SCOTT  1987-04-19  7566.0      20\n",
      "8     KING  1981-11-17     NaN      10\n",
      "9   TURNER  1981-09-08  7698.0      30\n",
      "10   ADAMS  1987-05-23  7788.0      20\n",
      "11   JAMES  1981-12-03  7698.0      30\n",
      "12    FORD  1981-12-03  7566.0      20\n",
      "13  MILLER  1982-01-23  7782.0      10\n"
     ]
    }
   ],
   "source": [
    "#2 select ename, hiredate, mgr, deptno from emp\n",
    "print(emp[['ename', 'hiredate', 'mgr', 'deptno']])"
   ]
  },
  {
   "cell_type": "code",
   "execution_count": 9,
   "id": "37036a96",
   "metadata": {},
   "outputs": [
    {
     "name": "stdout",
     "output_type": "stream",
     "text": [
      "    ename       job     sal\n",
      "1   ALLEN  SALESMAN  1600.0\n",
      "2    WARD  SALESMAN  1250.0\n",
      "4  MARTIN  SALESMAN  1250.0\n",
      "9  TURNER  SALESMAN  1500.0\n"
     ]
    }
   ],
   "source": [
    "#3. 직업이 SALESMAN 인 사원의 이름과 직업 봉급을 출력해보자\n",
    "# ename, job, sal from emp where job = \"SALESMAN\"\n",
    "print(emp[['ename','job','sal']][emp['job']=='SALESMAN'])"
   ]
  },
  {
   "cell_type": "code",
   "execution_count": 10,
   "id": "4ebd171c",
   "metadata": {},
   "outputs": [
    {
     "name": "stdout",
     "output_type": "stream",
     "text": [
      "    ename     sal\n",
      "7   SCOTT  3000.0\n",
      "8    KING  5000.0\n",
      "12   FORD  3000.0\n"
     ]
    }
   ],
   "source": [
    "#4.월급이 3000 이상인 사원의 이름과 봉급을 출력하자.\n",
    "# SELECT ename, sal from emp where sal>=3000;\n",
    "print(emp[['ename','sal']][emp['sal']>=3000])"
   ]
  },
  {
   "cell_type": "code",
   "execution_count": 14,
   "id": "0ca6bf03",
   "metadata": {},
   "outputs": [
    {
     "name": "stdout",
     "output_type": "stream",
     "text": [
      "     ename     sal\n",
      "1    ALLEN  1600.0\n",
      "2     WARD  1250.0\n",
      "3    JONES  2975.0\n",
      "4   MARTIN  1250.0\n",
      "5    BLAKE  2850.0\n",
      "6    CLARK  2450.0\n",
      "7    SCOTT  3000.0\n",
      "9   TURNER  1500.0\n",
      "10   ADAMS  1100.0\n",
      "12    FORD  3000.0\n",
      "13  MILLER  1300.0\n",
      "     ename     sal\n",
      "1    ALLEN  1600.0\n",
      "2     WARD  1250.0\n",
      "3    JONES  2975.0\n",
      "4   MARTIN  1250.0\n",
      "5    BLAKE  2850.0\n",
      "6    CLARK  2450.0\n",
      "7    SCOTT  3000.0\n",
      "9   TURNER  1500.0\n",
      "10   ADAMS  1100.0\n",
      "12    FORD  3000.0\n",
      "13  MILLER  1300.0\n"
     ]
    },
    {
     "name": "stderr",
     "output_type": "stream",
     "text": [
      "/var/folders/vf/5rv7rfgn0n3967r8ljqz1x_80000gn/T/ipykernel_79322/1856641614.py:5: UserWarning: Boolean Series key will be reindexed to match DataFrame index.\n",
      "  print(emp[['ename','sal']][emp['sal']<=3000][emp['sal']>=1000])\n"
     ]
    }
   ],
   "source": [
    "#5. 사원의 이름과 월급을 출력하되 1000에서 3000까지 출력하자\n",
    "# SELECT ename, sal, from emp where sal >=1000 and sal<=3000\n",
    "# SELECT ename, sal, from emp where sal between 1000 and 3000\n",
    "\n",
    "print(emp[['ename','sal']][emp['sal']<=3000][emp['sal']>=1000])\n",
    "print(emp[['ename','sal']][emp['sal'].between(1000,3000)])"
   ]
  },
  {
   "cell_type": "code",
   "execution_count": 15,
   "id": "d5e01a90",
   "metadata": {},
   "outputs": [
    {
     "name": "stdout",
     "output_type": "stream",
     "text": [
      "    ename     sal\n",
      "0   SMITH   800.0\n",
      "8    KING  5000.0\n",
      "11  JAMES   950.0\n"
     ]
    }
   ],
   "source": [
    "#6. 사원의 이름과 월급을 출력하되 1000에서 3000이 아닌 목록을 출력하자\n",
    "# SELECT ename, sal, from emp where sal <1000 and sal>3000\n",
    "# SELECT ename, sal, from emp where sal not between 1000 and 3000\n",
    "\n",
    "print(emp[['ename','sal']][~emp['sal'].between(1000,3000)])"
   ]
  },
  {
   "cell_type": "raw",
   "id": "029f121b",
   "metadata": {},
   "source": [
    "#7.직업이 ANALYST, SALESMAN 인 사원의 이름과 직업을 출력하자\n",
    "# isin()\n",
    "# SELECT ename, job from emp where job in ('ANALYST', 'SALESMAN');\n",
    "\n",
    "    데이터 베이스     vs     pandas\n",
    "1. between...and        시리즈.between()\n",
    "2. in                   isin()\n",
    "3. is null              isnull()\n",
    "4. like                 apply()"
   ]
  },
  {
   "cell_type": "code",
   "execution_count": 18,
   "id": "fa075705",
   "metadata": {},
   "outputs": [
    {
     "name": "stdout",
     "output_type": "stream",
     "text": [
      "     ename       job\n",
      "1    ALLEN  SALESMAN\n",
      "2     WARD  SALESMAN\n",
      "4   MARTIN  SALESMAN\n",
      "7    SCOTT   ANALYST\n",
      "9   TURNER  SALESMAN\n",
      "12    FORD   ANALYST\n"
     ]
    }
   ],
   "source": [
    "print(emp[['ename','job']][emp['job'].isin(['ANALYST','SALESMAN'])])"
   ]
  },
  {
   "cell_type": "code",
   "execution_count": 20,
   "id": "df7cb026",
   "metadata": {},
   "outputs": [
    {
     "data": {
      "text/html": [
       "<div>\n",
       "<style scoped>\n",
       "    .dataframe tbody tr th:only-of-type {\n",
       "        vertical-align: middle;\n",
       "    }\n",
       "\n",
       "    .dataframe tbody tr th {\n",
       "        vertical-align: top;\n",
       "    }\n",
       "\n",
       "    .dataframe thead th {\n",
       "        text-align: right;\n",
       "    }\n",
       "</style>\n",
       "<table border=\"1\" class=\"dataframe\">\n",
       "  <thead>\n",
       "    <tr style=\"text-align: right;\">\n",
       "      <th></th>\n",
       "      <th>ename</th>\n",
       "      <th>sal</th>\n",
       "      <th>comm</th>\n",
       "    </tr>\n",
       "  </thead>\n",
       "  <tbody>\n",
       "    <tr>\n",
       "      <th>0</th>\n",
       "      <td>SMITH</td>\n",
       "      <td>800.0</td>\n",
       "      <td>NaN</td>\n",
       "    </tr>\n",
       "    <tr>\n",
       "      <th>3</th>\n",
       "      <td>JONES</td>\n",
       "      <td>2975.0</td>\n",
       "      <td>NaN</td>\n",
       "    </tr>\n",
       "    <tr>\n",
       "      <th>5</th>\n",
       "      <td>BLAKE</td>\n",
       "      <td>2850.0</td>\n",
       "      <td>NaN</td>\n",
       "    </tr>\n",
       "    <tr>\n",
       "      <th>6</th>\n",
       "      <td>CLARK</td>\n",
       "      <td>2450.0</td>\n",
       "      <td>NaN</td>\n",
       "    </tr>\n",
       "    <tr>\n",
       "      <th>7</th>\n",
       "      <td>SCOTT</td>\n",
       "      <td>3000.0</td>\n",
       "      <td>NaN</td>\n",
       "    </tr>\n",
       "    <tr>\n",
       "      <th>8</th>\n",
       "      <td>KING</td>\n",
       "      <td>5000.0</td>\n",
       "      <td>NaN</td>\n",
       "    </tr>\n",
       "    <tr>\n",
       "      <th>10</th>\n",
       "      <td>ADAMS</td>\n",
       "      <td>1100.0</td>\n",
       "      <td>NaN</td>\n",
       "    </tr>\n",
       "    <tr>\n",
       "      <th>11</th>\n",
       "      <td>JAMES</td>\n",
       "      <td>950.0</td>\n",
       "      <td>NaN</td>\n",
       "    </tr>\n",
       "    <tr>\n",
       "      <th>12</th>\n",
       "      <td>FORD</td>\n",
       "      <td>3000.0</td>\n",
       "      <td>NaN</td>\n",
       "    </tr>\n",
       "    <tr>\n",
       "      <th>13</th>\n",
       "      <td>MILLER</td>\n",
       "      <td>1300.0</td>\n",
       "      <td>NaN</td>\n",
       "    </tr>\n",
       "  </tbody>\n",
       "</table>\n",
       "</div>"
      ],
      "text/plain": [
       "     ename     sal  comm\n",
       "0    SMITH   800.0   NaN\n",
       "3    JONES  2975.0   NaN\n",
       "5    BLAKE  2850.0   NaN\n",
       "6    CLARK  2450.0   NaN\n",
       "7    SCOTT  3000.0   NaN\n",
       "8     KING  5000.0   NaN\n",
       "10   ADAMS  1100.0   NaN\n",
       "11   JAMES   950.0   NaN\n",
       "12    FORD  3000.0   NaN\n",
       "13  MILLER  1300.0   NaN"
      ]
     },
     "execution_count": 20,
     "metadata": {},
     "output_type": "execute_result"
    }
   ],
   "source": [
    "#8. 커미션이 책정되지 않은 사원의 이름과 봉급 커미션을 출력하자.\n",
    "emp[['ename','sal','comm']][emp['comm'].isnull()]"
   ]
  },
  {
   "cell_type": "code",
   "execution_count": 21,
   "id": "d6ac596f",
   "metadata": {},
   "outputs": [
    {
     "data": {
      "text/html": [
       "<div>\n",
       "<style scoped>\n",
       "    .dataframe tbody tr th:only-of-type {\n",
       "        vertical-align: middle;\n",
       "    }\n",
       "\n",
       "    .dataframe tbody tr th {\n",
       "        vertical-align: top;\n",
       "    }\n",
       "\n",
       "    .dataframe thead th {\n",
       "        text-align: right;\n",
       "    }\n",
       "</style>\n",
       "<table border=\"1\" class=\"dataframe\">\n",
       "  <thead>\n",
       "    <tr style=\"text-align: right;\">\n",
       "      <th></th>\n",
       "      <th>ename</th>\n",
       "      <th>sal</th>\n",
       "    </tr>\n",
       "  </thead>\n",
       "  <tbody>\n",
       "    <tr>\n",
       "      <th>7</th>\n",
       "      <td>SCOTT</td>\n",
       "      <td>3000.0</td>\n",
       "    </tr>\n",
       "  </tbody>\n",
       "</table>\n",
       "</div>"
      ],
      "text/plain": [
       "   ename     sal\n",
       "7  SCOTT  3000.0"
      ]
     },
     "execution_count": 21,
     "metadata": {},
     "output_type": "execute_result"
    }
   ],
   "source": [
    "#9. 사원의 이름이 'scott'인 사원의 이름과 봉급을 출력하자.\n",
    "emp[['ename','sal']][emp['ename']=='scott'.upper()]"
   ]
  },
  {
   "cell_type": "code",
   "execution_count": 26,
   "id": "3d8801af",
   "metadata": {},
   "outputs": [
    {
     "name": "stdout",
     "output_type": "stream",
     "text": [
      "SMITH S H\n",
      "ALLEN A N\n",
      "WARD W D\n",
      "JONES J S\n",
      "MARTIN M N\n",
      "BLAKE B E\n",
      "CLARK C K\n",
      "SCOTT S T\n",
      "KING K G\n",
      "TURNER T R\n",
      "ADAMS A S\n",
      "JAMES J S\n",
      "FORD F D\n",
      "MILLER M R\n"
     ]
    }
   ],
   "source": [
    "#10. 이름만 추출해서 첫글자만 출력해보자\n",
    "for i in emp['ename']:\n",
    "    print(i, i[0], i[-1])"
   ]
  },
  {
   "cell_type": "code",
   "execution_count": 27,
   "id": "64b519a5",
   "metadata": {},
   "outputs": [
    {
     "name": "stdout",
     "output_type": "stream",
     "text": [
      "SCOTT\n"
     ]
    }
   ],
   "source": [
    "#11. 이름만 추출해서 마지막 글자가 T로 끝나는 이름을 출력하자.\n",
    "for i in emp['ename']:\n",
    "    if i[-1]=='T':\n",
    "        print(i);\n"
   ]
  },
  {
   "cell_type": "code",
   "execution_count": 28,
   "id": "de2e5523",
   "metadata": {},
   "outputs": [
    {
     "name": "stdout",
     "output_type": "stream",
     "text": [
      "<class 'pandas.core.frame.DataFrame'>\n",
      "RangeIndex: 14 entries, 0 to 13\n",
      "Data columns (total 8 columns):\n",
      " #   Column    Non-Null Count  Dtype  \n",
      "---  ------    --------------  -----  \n",
      " 0   empno     14 non-null     int64  \n",
      " 1   ename     14 non-null     object \n",
      " 2   job       14 non-null     object \n",
      " 3   mgr       13 non-null     float64\n",
      " 4   hiredate  14 non-null     object \n",
      " 5   sal       14 non-null     float64\n",
      " 6   comm      4 non-null      float64\n",
      " 7   deptno    14 non-null     int64  \n",
      "dtypes: float64(3), int64(2), object(3)\n",
      "memory usage: 1.0+ KB\n"
     ]
    }
   ],
   "source": [
    "#12. str +str o str + int 결합을 파이썬 코드로 한다면?\n",
    "#시리즈 = 시리즈 + 시리즈 로 하나의 시리즈로 만들고 싶을때\n",
    "emp.info()"
   ]
  },
  {
   "cell_type": "code",
   "execution_count": 30,
   "id": "7d38d64d",
   "metadata": {},
   "outputs": [
    {
     "name": "stdout",
     "output_type": "stream",
     "text": [
      "SMITH:800.0\n",
      "ALLEN:1600.0\n",
      "WARD:1250.0\n",
      "JONES:2975.0\n",
      "MARTIN:1250.0\n",
      "BLAKE:2850.0\n",
      "CLARK:2450.0\n",
      "SCOTT:3000.0\n",
      "KING:5000.0\n",
      "TURNER:1500.0\n",
      "ADAMS:1100.0\n",
      "JAMES:950.0\n",
      "FORD:3000.0\n",
      "MILLER:1300.0\n"
     ]
    }
   ],
   "source": [
    "#ename +sal\n",
    "for i,j in zip(emp['ename'],emp['sal']):\n",
    "    print(i + \":\"+str(j))"
   ]
  },
  {
   "cell_type": "code",
   "execution_count": null,
   "id": "48979caa",
   "metadata": {},
   "outputs": [],
   "source": []
  }
 ],
 "metadata": {
  "kernelspec": {
   "display_name": "Python 3 (ipykernel)",
   "language": "python",
   "name": "python3"
  },
  "language_info": {
   "codemirror_mode": {
    "name": "ipython",
    "version": 3
   },
   "file_extension": ".py",
   "mimetype": "text/x-python",
   "name": "python",
   "nbconvert_exporter": "python",
   "pygments_lexer": "ipython3",
   "version": "3.9.13"
  }
 },
 "nbformat": 4,
 "nbformat_minor": 5
}
