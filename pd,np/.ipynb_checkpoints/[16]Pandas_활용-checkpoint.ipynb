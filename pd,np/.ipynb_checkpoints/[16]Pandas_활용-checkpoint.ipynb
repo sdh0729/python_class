{
 "cells": [
  {
   "cell_type": "code",
   "execution_count": 1,
   "id": "86940a0b",
   "metadata": {},
   "outputs": [],
   "source": [
    "import pandas as pd\n",
    "import numpy as np"
   ]
  },
  {
   "cell_type": "code",
   "execution_count": 2,
   "id": "e09834e7",
   "metadata": {},
   "outputs": [
    {
     "data": {
      "text/html": [
       "<div>\n",
       "<style scoped>\n",
       "    .dataframe tbody tr th:only-of-type {\n",
       "        vertical-align: middle;\n",
       "    }\n",
       "\n",
       "    .dataframe tbody tr th {\n",
       "        vertical-align: top;\n",
       "    }\n",
       "\n",
       "    .dataframe thead th {\n",
       "        text-align: right;\n",
       "    }\n",
       "</style>\n",
       "<table border=\"1\" class=\"dataframe\">\n",
       "  <thead>\n",
       "    <tr style=\"text-align: right;\">\n",
       "      <th></th>\n",
       "      <th>empno</th>\n",
       "      <th>ename</th>\n",
       "      <th>job</th>\n",
       "      <th>mgr</th>\n",
       "      <th>hiredate</th>\n",
       "      <th>sal</th>\n",
       "      <th>comm</th>\n",
       "      <th>deptno</th>\n",
       "    </tr>\n",
       "  </thead>\n",
       "  <tbody>\n",
       "    <tr>\n",
       "      <th>0</th>\n",
       "      <td>7369</td>\n",
       "      <td>SMITH</td>\n",
       "      <td>CLERK</td>\n",
       "      <td>7902.0</td>\n",
       "      <td>1980-12-17</td>\n",
       "      <td>800.0</td>\n",
       "      <td>NaN</td>\n",
       "      <td>20</td>\n",
       "    </tr>\n",
       "    <tr>\n",
       "      <th>1</th>\n",
       "      <td>7499</td>\n",
       "      <td>ALLEN</td>\n",
       "      <td>SALESMAN</td>\n",
       "      <td>7698.0</td>\n",
       "      <td>1981-02-20</td>\n",
       "      <td>1600.0</td>\n",
       "      <td>300.0</td>\n",
       "      <td>30</td>\n",
       "    </tr>\n",
       "    <tr>\n",
       "      <th>2</th>\n",
       "      <td>7521</td>\n",
       "      <td>WARD</td>\n",
       "      <td>SALESMAN</td>\n",
       "      <td>7698.0</td>\n",
       "      <td>1981-02-22</td>\n",
       "      <td>1250.0</td>\n",
       "      <td>500.0</td>\n",
       "      <td>30</td>\n",
       "    </tr>\n",
       "    <tr>\n",
       "      <th>3</th>\n",
       "      <td>7566</td>\n",
       "      <td>JONES</td>\n",
       "      <td>MANAGER</td>\n",
       "      <td>7839.0</td>\n",
       "      <td>1981-04-02</td>\n",
       "      <td>2975.0</td>\n",
       "      <td>NaN</td>\n",
       "      <td>20</td>\n",
       "    </tr>\n",
       "    <tr>\n",
       "      <th>4</th>\n",
       "      <td>7654</td>\n",
       "      <td>MARTIN</td>\n",
       "      <td>SALESMAN</td>\n",
       "      <td>7698.0</td>\n",
       "      <td>1981-09-28</td>\n",
       "      <td>1250.0</td>\n",
       "      <td>1400.0</td>\n",
       "      <td>30</td>\n",
       "    </tr>\n",
       "    <tr>\n",
       "      <th>5</th>\n",
       "      <td>7698</td>\n",
       "      <td>BLAKE</td>\n",
       "      <td>MANAGER</td>\n",
       "      <td>7839.0</td>\n",
       "      <td>1981-05-01</td>\n",
       "      <td>2850.0</td>\n",
       "      <td>NaN</td>\n",
       "      <td>30</td>\n",
       "    </tr>\n",
       "    <tr>\n",
       "      <th>6</th>\n",
       "      <td>7782</td>\n",
       "      <td>CLARK</td>\n",
       "      <td>MANAGER</td>\n",
       "      <td>7839.0</td>\n",
       "      <td>1981-06-09</td>\n",
       "      <td>2450.0</td>\n",
       "      <td>NaN</td>\n",
       "      <td>10</td>\n",
       "    </tr>\n",
       "    <tr>\n",
       "      <th>7</th>\n",
       "      <td>7788</td>\n",
       "      <td>SCOTT</td>\n",
       "      <td>ANALYST</td>\n",
       "      <td>7566.0</td>\n",
       "      <td>1987-04-19</td>\n",
       "      <td>3000.0</td>\n",
       "      <td>NaN</td>\n",
       "      <td>20</td>\n",
       "    </tr>\n",
       "    <tr>\n",
       "      <th>8</th>\n",
       "      <td>7839</td>\n",
       "      <td>KING</td>\n",
       "      <td>PRESIDENT</td>\n",
       "      <td>NaN</td>\n",
       "      <td>1981-11-17</td>\n",
       "      <td>5000.0</td>\n",
       "      <td>NaN</td>\n",
       "      <td>10</td>\n",
       "    </tr>\n",
       "    <tr>\n",
       "      <th>9</th>\n",
       "      <td>7844</td>\n",
       "      <td>TURNER</td>\n",
       "      <td>SALESMAN</td>\n",
       "      <td>7698.0</td>\n",
       "      <td>1981-09-08</td>\n",
       "      <td>1500.0</td>\n",
       "      <td>0.0</td>\n",
       "      <td>30</td>\n",
       "    </tr>\n",
       "    <tr>\n",
       "      <th>10</th>\n",
       "      <td>7876</td>\n",
       "      <td>ADAMS</td>\n",
       "      <td>CLERK</td>\n",
       "      <td>7788.0</td>\n",
       "      <td>1987-05-23</td>\n",
       "      <td>1100.0</td>\n",
       "      <td>NaN</td>\n",
       "      <td>20</td>\n",
       "    </tr>\n",
       "    <tr>\n",
       "      <th>11</th>\n",
       "      <td>7900</td>\n",
       "      <td>JAMES</td>\n",
       "      <td>CLERK</td>\n",
       "      <td>7698.0</td>\n",
       "      <td>1981-12-03</td>\n",
       "      <td>950.0</td>\n",
       "      <td>NaN</td>\n",
       "      <td>30</td>\n",
       "    </tr>\n",
       "    <tr>\n",
       "      <th>12</th>\n",
       "      <td>7902</td>\n",
       "      <td>FORD</td>\n",
       "      <td>ANALYST</td>\n",
       "      <td>7566.0</td>\n",
       "      <td>1981-12-03</td>\n",
       "      <td>3000.0</td>\n",
       "      <td>NaN</td>\n",
       "      <td>20</td>\n",
       "    </tr>\n",
       "    <tr>\n",
       "      <th>13</th>\n",
       "      <td>7934</td>\n",
       "      <td>MILLER</td>\n",
       "      <td>CLERK</td>\n",
       "      <td>7782.0</td>\n",
       "      <td>1982-01-23</td>\n",
       "      <td>1300.0</td>\n",
       "      <td>NaN</td>\n",
       "      <td>10</td>\n",
       "    </tr>\n",
       "  </tbody>\n",
       "</table>\n",
       "</div>"
      ],
      "text/plain": [
       "    empno   ename        job     mgr    hiredate     sal    comm  deptno\n",
       "0    7369   SMITH      CLERK  7902.0  1980-12-17   800.0     NaN      20\n",
       "1    7499   ALLEN   SALESMAN  7698.0  1981-02-20  1600.0   300.0      30\n",
       "2    7521    WARD   SALESMAN  7698.0  1981-02-22  1250.0   500.0      30\n",
       "3    7566   JONES    MANAGER  7839.0  1981-04-02  2975.0     NaN      20\n",
       "4    7654  MARTIN   SALESMAN  7698.0  1981-09-28  1250.0  1400.0      30\n",
       "5    7698   BLAKE    MANAGER  7839.0  1981-05-01  2850.0     NaN      30\n",
       "6    7782   CLARK    MANAGER  7839.0  1981-06-09  2450.0     NaN      10\n",
       "7    7788   SCOTT    ANALYST  7566.0  1987-04-19  3000.0     NaN      20\n",
       "8    7839    KING  PRESIDENT     NaN  1981-11-17  5000.0     NaN      10\n",
       "9    7844  TURNER   SALESMAN  7698.0  1981-09-08  1500.0     0.0      30\n",
       "10   7876   ADAMS      CLERK  7788.0  1987-05-23  1100.0     NaN      20\n",
       "11   7900   JAMES      CLERK  7698.0  1981-12-03   950.0     NaN      30\n",
       "12   7902    FORD    ANALYST  7566.0  1981-12-03  3000.0     NaN      20\n",
       "13   7934  MILLER      CLERK  7782.0  1982-01-23  1300.0     NaN      10"
      ]
     },
     "execution_count": 2,
     "metadata": {},
     "output_type": "execute_result"
    }
   ],
   "source": [
    "emp = pd.read_csv('emp.csv')\n",
    "emp"
   ]
  },
  {
   "cell_type": "raw",
   "id": "de40de38",
   "metadata": {},
   "source": [
    "Q1) select job, max(sal) from emp group by job;\n",
    "- reset_index() 키워드는 Series(컬럼)로 출력하는 게 아니라 DataFrame(테이블)으로 출력하는 키워드"
   ]
  },
  {
   "cell_type": "code",
   "execution_count": 3,
   "id": "76cd77f8",
   "metadata": {},
   "outputs": [
    {
     "name": "stdout",
     "output_type": "stream",
     "text": [
      "<class 'pandas.core.frame.DataFrame'>\n",
      "         job     sal\n",
      "0    ANALYST  3000.0\n",
      "1      CLERK  1300.0\n",
      "2    MANAGER  2975.0\n",
      "3  PRESIDENT  5000.0\n",
      "4   SALESMAN  1600.0\n"
     ]
    }
   ],
   "source": [
    "result = emp.groupby('job')['sal'].max().reset_index()\n",
    "print(type(result))\n",
    "print(result)"
   ]
  },
  {
   "cell_type": "raw",
   "id": "e23ebbca",
   "metadata": {},
   "source": [
    "Q2) select depno, sum(sal)\n",
    "    from emp\n",
    "    where deptno !=20\n",
    "    group by deptno;"
   ]
  },
  {
   "cell_type": "code",
   "execution_count": 4,
   "id": "f41456b7",
   "metadata": {},
   "outputs": [
    {
     "name": "stdout",
     "output_type": "stream",
     "text": [
      "   deptno     sal\n",
      "0      10  8750.0\n",
      "2      30  9400.0\n",
      "<class 'pandas.core.frame.DataFrame'>\n"
     ]
    }
   ],
   "source": [
    "result = emp.groupby('deptno')['sal'].sum().reset_index()\n",
    "print(result[['deptno','sal']][result['deptno'] !=20])\n",
    "print(type(result))"
   ]
  },
  {
   "cell_type": "raw",
   "id": "f9187f11",
   "metadata": {},
   "source": [
    "Q3) 부서번호, 부서별 평균월급을 구해보자.\n",
    "select deptno, avg(sal)\n",
    "from emp\n",
    "group by deptno;"
   ]
  },
  {
   "cell_type": "code",
   "execution_count": 5,
   "id": "443e2280",
   "metadata": {},
   "outputs": [
    {
     "name": "stdout",
     "output_type": "stream",
     "text": [
      "   deptno          sal\n",
      "0      10  2916.666667\n",
      "1      20  2175.000000\n",
      "2      30  1566.666667\n",
      "<class 'pandas.core.frame.DataFrame'>\n"
     ]
    }
   ],
   "source": [
    "result = emp.groupby('deptno')['sal'].mean().reset_index()\n",
    "print(result)\n",
    "print(type(result))\n",
    "#print(dir(result))\n",
    "#print(help(result.astype))"
   ]
  },
  {
   "cell_type": "raw",
   "id": "f2d4af3d",
   "metadata": {},
   "source": [
    "Q4) 위에서 평균월급을 출력할 때 정수 부분만 출력해 보자."
   ]
  },
  {
   "cell_type": "code",
   "execution_count": 6,
   "id": "9f3ec91a",
   "metadata": {},
   "outputs": [
    {
     "name": "stdout",
     "output_type": "stream",
     "text": [
      "   deptno   sal\n",
      "0      10  2916\n",
      "1      20  2175\n",
      "2      30  1566\n"
     ]
    }
   ],
   "source": [
    "result = emp.groupby('deptno')['sal'].mean().reset_index().astype(int)\n",
    "print(result)"
   ]
  },
  {
   "cell_type": "raw",
   "id": "4f31c284",
   "metadata": {},
   "source": [
    "Q5) 부서위치, 부서별 월급의 합을 구해보자.\n",
    "select d.loc, e.sum(sal)\n",
    "from emp e, dept d\n",
    "where e.deptno = d.deptno\n",
    "group by d.loc;\n",
    "\n",
    "select loc, sum(sal)\n",
    "from emp join dept using(deptno) # 컬럼 이름이 같을 때   -> from emp join dept on (emp.deptno = dept.deptno) # 컬럼 이름이 다를 때\n",
    "group by d.loc;"
   ]
  },
  {
   "cell_type": "code",
   "execution_count": 7,
   "id": "061920a6",
   "metadata": {},
   "outputs": [
    {
     "name": "stdout",
     "output_type": "stream",
     "text": [
      "        loc      sal\n",
      "0   CHICAGO   9400.0\n",
      "1    DALLAS  10875.0\n",
      "2  NEW YORK   8750.0\n"
     ]
    }
   ],
   "source": [
    "# from emp join dept using (deptno)\n",
    "emp = pd.read_csv('emp.csv')\n",
    "dept = pd.read_csv('dept.csv')\n",
    "\n",
    "result = pd.merge(emp, dept, on = 'deptno')\n",
    "\n",
    "# group by loc; select loc, sum(sal)\n",
    "result02 = result.groupby('loc')['sal'].sum().reset_index()\n",
    "print(result02)\n"
   ]
  },
  {
   "cell_type": "raw",
   "id": "99822db4",
   "metadata": {},
   "source": [
    "DataFrame.merge(right, how='inner', on=None, left_on=None, right_on=None, left_index=False, right_index=False, sort=False, suffixes=('_x', '_y'), copy=True, indicator=False, validate=None)\n",
    "\n",
    "pandas.merge(emp_left, dept_right, how = 'inner', on = 'deptno')\n",
    "\n",
    "        how = 'inner' : emp와 dept 데이터 프레임에 공통적으로 존재하는 교집합일 경우에만 추출하겠다.\n",
    "        how = 'outer' : 열의 데이터가 양쪽 데이터 프레임에 공통적으로 존재하는 교집합이 아니어도 추출하겠다.\n",
    "        how = 'left'  : 왼쪽 데이터 프레임의 키열에 속하는 데이터 값을 기준으로 병합하겠다.\n",
    "        how = 'right' : 오른쪽 데이터 프레임의 키열에 속하는 데이터 값을 기준으로 병합하겠다."
   ]
  },
  {
   "cell_type": "raw",
   "id": "f991832e",
   "metadata": {},
   "source": [
    "Q6) select loc, sum(sal)\n",
    "    from emp outer right join dept using(deptno)\n",
    "    group by loc;"
   ]
  },
  {
   "cell_type": "code",
   "execution_count": 8,
   "id": "3f16a2d3",
   "metadata": {},
   "outputs": [
    {
     "name": "stdout",
     "output_type": "stream",
     "text": [
      "        loc      sal\n",
      "0    BOSTON      0.0\n",
      "1   CHICAGO   9400.0\n",
      "2    DALLAS  10875.0\n",
      "3  NEW YORK   8750.0\n"
     ]
    }
   ],
   "source": [
    "result = pd.merge(emp, dept, how = 'right', on = 'deptno')\n",
    "result02 = result.groupby('loc')['sal'].sum().reset_index()\n",
    "print(result02)"
   ]
  },
  {
   "cell_type": "raw",
   "id": "4e434c82",
   "metadata": {},
   "source": [
    "Q7) csv모듈을 이용해서 emp.csv를 읽어오자."
   ]
  },
  {
   "cell_type": "code",
   "execution_count": 9,
   "id": "21c35e94",
   "metadata": {},
   "outputs": [],
   "source": [
    "import csv   # 파이썬 파일로 오픈해서 csv 객체로 관리"
   ]
  },
  {
   "cell_type": "code",
   "execution_count": 10,
   "id": "6b30af4d",
   "metadata": {},
   "outputs": [
    {
     "name": "stdout",
     "output_type": "stream",
     "text": [
      "['Dialect', 'DictReader', 'DictWriter', 'Error', 'QUOTE_ALL', 'QUOTE_MINIMAL', 'QUOTE_NONE', 'QUOTE_NONNUMERIC', 'Sniffer', 'StringIO', '_Dialect', '__all__', '__builtins__', '__cached__', '__doc__', '__file__', '__loader__', '__name__', '__package__', '__spec__', '__version__', 'excel', 'excel_tab', 'field_size_limit', 'get_dialect', 'list_dialects', 're', 'reader', 'register_dialect', 'unix_dialect', 'unregister_dialect', 'writer']\n"
     ]
    }
   ],
   "source": [
    "print(dir(csv))\n",
    "#print(help(csv.reader))"
   ]
  },
  {
   "cell_type": "code",
   "execution_count": 15,
   "id": "ffe3add3",
   "metadata": {},
   "outputs": [
    {
     "name": "stdout",
     "output_type": "stream",
     "text": [
      "['empno', 'ename', 'job', 'mgr', 'hiredate', 'sal', 'comm', 'deptno']\n",
      "['7369', 'SMITH', 'CLERK', '7902', '1980-12-17', '800.00', 'NULL', '20']\n",
      "['7499', 'ALLEN', 'SALESMAN', '7698', '1981-02-20', '1600.00', '300.00', '30']\n",
      "['7521', 'WARD', 'SALESMAN', '7698', '1981-02-22', '1250.00', '500.00', '30']\n",
      "['7566', 'JONES', 'MANAGER', '7839', '1981-04-02', '2975.00', 'NULL', '20']\n",
      "['7654', 'MARTIN', 'SALESMAN', '7698', '1981-09-28', '1250.00', '1400.00', '30']\n",
      "['7698', 'BLAKE', 'MANAGER', '7839', '1981-05-01', '2850.00', 'NULL', '30']\n",
      "['7788', 'SCOTT', 'ANALYST', '7566', '1987-04-19', '3000.00', 'NULL', '20']\n",
      "['7844', 'TURNER', 'SALESMAN', '7698', '1981-09-08', '1500.00', '0.00', '30']\n",
      "['7876', 'ADAMS', 'CLERK', '7788', '1987-05-23', '1100.00', 'NULL', '20']\n",
      "['7900', 'JAMES', 'CLERK', '7698', '1981-12-03', '950.00', 'NULL', '30']\n",
      "['1', '홍길동', 'NULL', 'NULL', '2023-01-05', '800.00', 'NULL', 'NULL']\n",
      "['1', '홍길동', 'NULL', 'NULL', '2023-01-05', '800.00', 'NULL', 'NULL']\n",
      "['1', '홍길동', 'NULL', 'NULL', '2023-01-05', '800.00', 'NULL', 'NULL']\n",
      "['1', '홍길동', 'NULL', 'NULL', '2023-01-05', '800.00', 'NULL', 'NULL']\n",
      "['1', '홍길동', 'NULL', 'NULL', '2023-01-05', '800.00', 'NULL', 'NULL']\n",
      "['1', '홍길동', 'NULL', 'NULL', '2023-01-05', '800.00', 'NULL', 'NULL']\n",
      "['1', '홍길동', 'NULL', 'NULL', '2023-01-05', '800.00', 'NULL', 'NULL']\n"
     ]
    }
   ],
   "source": [
    "file = open('emp02.csv')\n",
    "emp_res = csv.reader(file)\n",
    "emp_res\n",
    "#print(type(emp_res))\n",
    "#print(dir(emp_res))\n",
    "for m_list in emp_res:\n",
    "    print(m_list)"
   ]
  },
  {
   "cell_type": "raw",
   "id": "92e45c63",
   "metadata": {},
   "source": [
    "Q8) emp_res 객체를 통해서 이름과 봉급을 구하자. 단, 봉급은 월급 * 11.2 로 구하자."
   ]
  },
  {
   "cell_type": "code",
   "execution_count": 16,
   "id": "569f86ec",
   "metadata": {},
   "outputs": [
    {
     "ename": "ValueError",
     "evalue": "could not convert string to float: 'sal'",
     "output_type": "error",
     "traceback": [
      "\u001b[0;31m---------------------------------------------------------------------------\u001b[0m",
      "\u001b[0;31mValueError\u001b[0m                                Traceback (most recent call last)",
      "Cell \u001b[0;32mIn[16], line 4\u001b[0m\n\u001b[1;32m      2\u001b[0m emp_res \u001b[38;5;241m=\u001b[39m csv\u001b[38;5;241m.\u001b[39mreader(file)\n\u001b[1;32m      3\u001b[0m \u001b[38;5;28;01mfor\u001b[39;00m m_list \u001b[38;5;129;01min\u001b[39;00m emp_res:\n\u001b[0;32m----> 4\u001b[0m     r \u001b[38;5;241m=\u001b[39m \u001b[38;5;28;43mfloat\u001b[39;49m\u001b[43m(\u001b[49m\u001b[43mm_list\u001b[49m\u001b[43m[\u001b[49m\u001b[38;5;241;43m5\u001b[39;49m\u001b[43m]\u001b[49m\u001b[43m)\u001b[49m \u001b[38;5;241m*\u001b[39m \u001b[38;5;241m11.2\u001b[39m\n\u001b[1;32m      5\u001b[0m     \u001b[38;5;28mprint\u001b[39m(m_list[\u001b[38;5;241m1\u001b[39m], \u001b[38;5;28mround\u001b[39m(r))\n",
      "\u001b[0;31mValueError\u001b[0m: could not convert string to float: 'sal'"
     ]
    }
   ],
   "source": [
    "file = open('emp02.csv')\n",
    "emp_res = csv.reader(file)\n",
    "for m_list in emp_res:\n",
    "    r = float(m_list[5]) * 11.2\n",
    "    print(m_list[1], round(r))"
   ]
  },
  {
   "cell_type": "raw",
   "id": "ac897621",
   "metadata": {},
   "source": [
    "Q8) emp_res에서 직업이 'salesman'인 사원의 이름과 직업을 출력해 보자."
   ]
  },
  {
   "cell_type": "code",
   "execution_count": 17,
   "id": "633a56c1",
   "metadata": {},
   "outputs": [
    {
     "name": "stdout",
     "output_type": "stream",
     "text": [
      "ALLEN SALESMAN\n",
      "WARD SALESMAN\n",
      "MARTIN SALESMAN\n",
      "TURNER SALESMAN\n"
     ]
    }
   ],
   "source": [
    "file = open('emp02.csv')\n",
    "emp_res = csv.reader(file)\n",
    "for m_list in emp_res:\n",
    "    if m_list[2] == 'SALESMAN':\n",
    "        print(m_list[1], m_list[2])\n",
    "        "
   ]
  },
  {
   "cell_type": "raw",
   "id": "dc1b9e6a",
   "metadata": {},
   "source": [
    "Q9) emp.csv 를 결측치 확인하자.   << 매우 중요!! >>\n",
    "결측치 NaN = Not a Number"
   ]
  },
  {
   "cell_type": "code",
   "execution_count": 18,
   "id": "99209971",
   "metadata": {},
   "outputs": [
    {
     "name": "stdout",
     "output_type": "stream",
     "text": [
      "     ename    comm\n",
      "0    SMITH     NaN\n",
      "1    ALLEN   300.0\n",
      "2     WARD   500.0\n",
      "3    JONES     NaN\n",
      "4   MARTIN  1400.0\n",
      "5    BLAKE     NaN\n",
      "6    CLARK     NaN\n",
      "7    SCOTT     NaN\n",
      "8     KING     NaN\n",
      "9   TURNER     0.0\n",
      "10   ADAMS     NaN\n",
      "11   JAMES     NaN\n",
      "12    FORD     NaN\n",
      "13  MILLER     NaN\n"
     ]
    }
   ],
   "source": [
    "emp = pd.read_csv('emp.csv')\n",
    "print(emp[['ename', 'comm']])"
   ]
  },
  {
   "cell_type": "code",
   "execution_count": 19,
   "id": "0db9d3b4",
   "metadata": {},
   "outputs": [
    {
     "name": "stdout",
     "output_type": "stream",
     "text": [
      "     ename  comm\n",
      "0    SMITH   NaN\n",
      "3    JONES   NaN\n",
      "5    BLAKE   NaN\n",
      "6    CLARK   NaN\n",
      "7    SCOTT   NaN\n",
      "8     KING   NaN\n",
      "10   ADAMS   NaN\n",
      "11   JAMES   NaN\n",
      "12    FORD   NaN\n",
      "13  MILLER   NaN\n"
     ]
    }
   ],
   "source": [
    "# 커미션을 결측치를 확인해 보자.\n",
    "print(emp[['ename', 'comm']] [emp['comm'].isnull()])"
   ]
  },
  {
   "cell_type": "code",
   "execution_count": 20,
   "id": "6debe97a",
   "metadata": {},
   "outputs": [
    {
     "name": "stdout",
     "output_type": "stream",
     "text": [
      "    ename    comm\n",
      "1   ALLEN   300.0\n",
      "2    WARD   500.0\n",
      "4  MARTIN  1400.0\n",
      "9  TURNER     0.0\n"
     ]
    }
   ],
   "source": [
    "# 커미션을 결측치가 아닌 사원을 확인해 보자.\n",
    "print(emp[['ename', 'comm']] [~emp['comm'].isnull()])"
   ]
  },
  {
   "cell_type": "code",
   "execution_count": 21,
   "id": "2f3beb12",
   "metadata": {},
   "outputs": [
    {
     "name": "stdout",
     "output_type": "stream",
     "text": [
      "    empno  ename    job    mgr  hiredate    sal   comm  deptno\n",
      "0   False  False  False  False     False  False   True   False\n",
      "1   False  False  False  False     False  False  False   False\n",
      "2   False  False  False  False     False  False  False   False\n",
      "3   False  False  False  False     False  False   True   False\n",
      "4   False  False  False  False     False  False  False   False\n",
      "5   False  False  False  False     False  False   True   False\n",
      "6   False  False  False  False     False  False   True   False\n",
      "7   False  False  False  False     False  False   True   False\n",
      "8   False  False  False   True     False  False   True   False\n",
      "9   False  False  False  False     False  False  False   False\n",
      "10  False  False  False  False     False  False   True   False\n",
      "11  False  False  False  False     False  False   True   False\n",
      "12  False  False  False  False     False  False   True   False\n",
      "13  False  False  False  False     False  False   True   False\n"
     ]
    }
   ],
   "source": [
    "# emp.csv의 결측치를 다시 확인\n",
    "print(emp.isnull())   # Nan 확인 True                "
   ]
  },
  {
   "cell_type": "code",
   "execution_count": 22,
   "id": "a8560f89",
   "metadata": {},
   "outputs": [],
   "source": [
    "# emp.csv의 결측치의 개수를 확인해 보자."
   ]
  },
  {
   "cell_type": "code",
   "execution_count": 23,
   "id": "a1aaddfb",
   "metadata": {},
   "outputs": [
    {
     "name": "stdout",
     "output_type": "stream",
     "text": [
      "empno        0\n",
      "ename        0\n",
      "job          0\n",
      "mgr          1\n",
      "hiredate     0\n",
      "sal          0\n",
      "comm        10\n",
      "deptno       0\n",
      "dtype: int64\n"
     ]
    }
   ],
   "source": [
    "print(emp.isnull().sum())   "
   ]
  },
  {
   "cell_type": "raw",
   "id": "33511b5b",
   "metadata": {},
   "source": [
    "Q10) 파생데이터 생성 = 파생변수 = 기존의 데이터를 가지고 가공해서 만든 새로운 데이터의 컬럼"
   ]
  },
  {
   "cell_type": "code",
   "execution_count": 24,
   "id": "34f5a3fa",
   "metadata": {},
   "outputs": [
    {
     "data": {
      "text/html": [
       "<div>\n",
       "<style scoped>\n",
       "    .dataframe tbody tr th:only-of-type {\n",
       "        vertical-align: middle;\n",
       "    }\n",
       "\n",
       "    .dataframe tbody tr th {\n",
       "        vertical-align: top;\n",
       "    }\n",
       "\n",
       "    .dataframe thead th {\n",
       "        text-align: right;\n",
       "    }\n",
       "</style>\n",
       "<table border=\"1\" class=\"dataframe\">\n",
       "  <thead>\n",
       "    <tr style=\"text-align: right;\">\n",
       "      <th></th>\n",
       "      <th>empno</th>\n",
       "      <th>ename</th>\n",
       "      <th>job</th>\n",
       "      <th>mgr</th>\n",
       "      <th>hiredate</th>\n",
       "      <th>sal</th>\n",
       "      <th>comm</th>\n",
       "      <th>deptno</th>\n",
       "      <th>sal02</th>\n",
       "    </tr>\n",
       "  </thead>\n",
       "  <tbody>\n",
       "    <tr>\n",
       "      <th>0</th>\n",
       "      <td>7369</td>\n",
       "      <td>SMITH</td>\n",
       "      <td>CLERK</td>\n",
       "      <td>7902.0</td>\n",
       "      <td>1980-12-17</td>\n",
       "      <td>800.0</td>\n",
       "      <td>NaN</td>\n",
       "      <td>20</td>\n",
       "      <td>800.0</td>\n",
       "    </tr>\n",
       "    <tr>\n",
       "      <th>1</th>\n",
       "      <td>7499</td>\n",
       "      <td>ALLEN</td>\n",
       "      <td>SALESMAN</td>\n",
       "      <td>7698.0</td>\n",
       "      <td>1981-02-20</td>\n",
       "      <td>1600.0</td>\n",
       "      <td>300.0</td>\n",
       "      <td>30</td>\n",
       "      <td>1600.0</td>\n",
       "    </tr>\n",
       "    <tr>\n",
       "      <th>2</th>\n",
       "      <td>7521</td>\n",
       "      <td>WARD</td>\n",
       "      <td>SALESMAN</td>\n",
       "      <td>7698.0</td>\n",
       "      <td>1981-02-22</td>\n",
       "      <td>1250.0</td>\n",
       "      <td>500.0</td>\n",
       "      <td>30</td>\n",
       "      <td>1250.0</td>\n",
       "    </tr>\n",
       "    <tr>\n",
       "      <th>3</th>\n",
       "      <td>7566</td>\n",
       "      <td>JONES</td>\n",
       "      <td>MANAGER</td>\n",
       "      <td>7839.0</td>\n",
       "      <td>1981-04-02</td>\n",
       "      <td>2975.0</td>\n",
       "      <td>NaN</td>\n",
       "      <td>20</td>\n",
       "      <td>2975.0</td>\n",
       "    </tr>\n",
       "    <tr>\n",
       "      <th>4</th>\n",
       "      <td>7654</td>\n",
       "      <td>MARTIN</td>\n",
       "      <td>SALESMAN</td>\n",
       "      <td>7698.0</td>\n",
       "      <td>1981-09-28</td>\n",
       "      <td>1250.0</td>\n",
       "      <td>1400.0</td>\n",
       "      <td>30</td>\n",
       "      <td>1250.0</td>\n",
       "    </tr>\n",
       "    <tr>\n",
       "      <th>5</th>\n",
       "      <td>7698</td>\n",
       "      <td>BLAKE</td>\n",
       "      <td>MANAGER</td>\n",
       "      <td>7839.0</td>\n",
       "      <td>1981-05-01</td>\n",
       "      <td>2850.0</td>\n",
       "      <td>NaN</td>\n",
       "      <td>30</td>\n",
       "      <td>2850.0</td>\n",
       "    </tr>\n",
       "    <tr>\n",
       "      <th>6</th>\n",
       "      <td>7782</td>\n",
       "      <td>CLARK</td>\n",
       "      <td>MANAGER</td>\n",
       "      <td>7839.0</td>\n",
       "      <td>1981-06-09</td>\n",
       "      <td>2450.0</td>\n",
       "      <td>NaN</td>\n",
       "      <td>10</td>\n",
       "      <td>2450.0</td>\n",
       "    </tr>\n",
       "    <tr>\n",
       "      <th>7</th>\n",
       "      <td>7788</td>\n",
       "      <td>SCOTT</td>\n",
       "      <td>ANALYST</td>\n",
       "      <td>7566.0</td>\n",
       "      <td>1987-04-19</td>\n",
       "      <td>3000.0</td>\n",
       "      <td>NaN</td>\n",
       "      <td>20</td>\n",
       "      <td>3000.0</td>\n",
       "    </tr>\n",
       "    <tr>\n",
       "      <th>8</th>\n",
       "      <td>7839</td>\n",
       "      <td>KING</td>\n",
       "      <td>PRESIDENT</td>\n",
       "      <td>NaN</td>\n",
       "      <td>1981-11-17</td>\n",
       "      <td>5000.0</td>\n",
       "      <td>NaN</td>\n",
       "      <td>10</td>\n",
       "      <td>5000.0</td>\n",
       "    </tr>\n",
       "    <tr>\n",
       "      <th>9</th>\n",
       "      <td>7844</td>\n",
       "      <td>TURNER</td>\n",
       "      <td>SALESMAN</td>\n",
       "      <td>7698.0</td>\n",
       "      <td>1981-09-08</td>\n",
       "      <td>1500.0</td>\n",
       "      <td>0.0</td>\n",
       "      <td>30</td>\n",
       "      <td>1500.0</td>\n",
       "    </tr>\n",
       "    <tr>\n",
       "      <th>10</th>\n",
       "      <td>7876</td>\n",
       "      <td>ADAMS</td>\n",
       "      <td>CLERK</td>\n",
       "      <td>7788.0</td>\n",
       "      <td>1987-05-23</td>\n",
       "      <td>1100.0</td>\n",
       "      <td>NaN</td>\n",
       "      <td>20</td>\n",
       "      <td>1100.0</td>\n",
       "    </tr>\n",
       "    <tr>\n",
       "      <th>11</th>\n",
       "      <td>7900</td>\n",
       "      <td>JAMES</td>\n",
       "      <td>CLERK</td>\n",
       "      <td>7698.0</td>\n",
       "      <td>1981-12-03</td>\n",
       "      <td>950.0</td>\n",
       "      <td>NaN</td>\n",
       "      <td>30</td>\n",
       "      <td>950.0</td>\n",
       "    </tr>\n",
       "    <tr>\n",
       "      <th>12</th>\n",
       "      <td>7902</td>\n",
       "      <td>FORD</td>\n",
       "      <td>ANALYST</td>\n",
       "      <td>7566.0</td>\n",
       "      <td>1981-12-03</td>\n",
       "      <td>3000.0</td>\n",
       "      <td>NaN</td>\n",
       "      <td>20</td>\n",
       "      <td>3000.0</td>\n",
       "    </tr>\n",
       "    <tr>\n",
       "      <th>13</th>\n",
       "      <td>7934</td>\n",
       "      <td>MILLER</td>\n",
       "      <td>CLERK</td>\n",
       "      <td>7782.0</td>\n",
       "      <td>1982-01-23</td>\n",
       "      <td>1300.0</td>\n",
       "      <td>NaN</td>\n",
       "      <td>10</td>\n",
       "      <td>1300.0</td>\n",
       "    </tr>\n",
       "  </tbody>\n",
       "</table>\n",
       "</div>"
      ],
      "text/plain": [
       "    empno   ename        job     mgr    hiredate     sal    comm  deptno  \\\n",
       "0    7369   SMITH      CLERK  7902.0  1980-12-17   800.0     NaN      20   \n",
       "1    7499   ALLEN   SALESMAN  7698.0  1981-02-20  1600.0   300.0      30   \n",
       "2    7521    WARD   SALESMAN  7698.0  1981-02-22  1250.0   500.0      30   \n",
       "3    7566   JONES    MANAGER  7839.0  1981-04-02  2975.0     NaN      20   \n",
       "4    7654  MARTIN   SALESMAN  7698.0  1981-09-28  1250.0  1400.0      30   \n",
       "5    7698   BLAKE    MANAGER  7839.0  1981-05-01  2850.0     NaN      30   \n",
       "6    7782   CLARK    MANAGER  7839.0  1981-06-09  2450.0     NaN      10   \n",
       "7    7788   SCOTT    ANALYST  7566.0  1987-04-19  3000.0     NaN      20   \n",
       "8    7839    KING  PRESIDENT     NaN  1981-11-17  5000.0     NaN      10   \n",
       "9    7844  TURNER   SALESMAN  7698.0  1981-09-08  1500.0     0.0      30   \n",
       "10   7876   ADAMS      CLERK  7788.0  1987-05-23  1100.0     NaN      20   \n",
       "11   7900   JAMES      CLERK  7698.0  1981-12-03   950.0     NaN      30   \n",
       "12   7902    FORD    ANALYST  7566.0  1981-12-03  3000.0     NaN      20   \n",
       "13   7934  MILLER      CLERK  7782.0  1982-01-23  1300.0     NaN      10   \n",
       "\n",
       "     sal02  \n",
       "0    800.0  \n",
       "1   1600.0  \n",
       "2   1250.0  \n",
       "3   2975.0  \n",
       "4   1250.0  \n",
       "5   2850.0  \n",
       "6   2450.0  \n",
       "7   3000.0  \n",
       "8   5000.0  \n",
       "9   1500.0  \n",
       "10  1100.0  \n",
       "11   950.0  \n",
       "12  3000.0  \n",
       "13  1300.0  "
      ]
     },
     "execution_count": 24,
     "metadata": {},
     "output_type": "execute_result"
    }
   ],
   "source": [
    "# emp에 있는 sal을 sal02라는 컬럼을 생성해서 추가하자.\n",
    "emp = pd.read_csv('emp.csv')\n",
    "emp['sal02'] = emp['sal']\n",
    "emp"
   ]
  },
  {
   "cell_type": "raw",
   "id": "bd3112a8",
   "metadata": {},
   "source": [
    "Q11) 이름과 부서 위치를 출력해 보자. \n",
    "조인 확인 후 result loc를 emp 끝에 추가해서 파생변수를 만들자."
   ]
  },
  {
   "cell_type": "code",
   "execution_count": 25,
   "id": "4e51235c",
   "metadata": {},
   "outputs": [
    {
     "name": "stdout",
     "output_type": "stream",
     "text": [
      "     ename       loc\n",
      "0    SMITH    DALLAS\n",
      "1    JONES    DALLAS\n",
      "2    SCOTT    DALLAS\n",
      "3    ADAMS    DALLAS\n",
      "4     FORD    DALLAS\n",
      "5    ALLEN   CHICAGO\n",
      "6     WARD   CHICAGO\n",
      "7   MARTIN   CHICAGO\n",
      "8    BLAKE   CHICAGO\n",
      "9   TURNER   CHICAGO\n",
      "10   JAMES   CHICAGO\n",
      "11   CLARK  NEW YORK\n",
      "12    KING  NEW YORK\n",
      "13  MILLER  NEW YORK\n"
     ]
    }
   ],
   "source": [
    "result = pd.merge(emp, dept, how = 'inner', on = 'deptno')\n",
    "print(result[['ename', 'loc']])"
   ]
  },
  {
   "cell_type": "code",
   "execution_count": 26,
   "id": "993ca316",
   "metadata": {},
   "outputs": [
    {
     "data": {
      "text/html": [
       "<div>\n",
       "<style scoped>\n",
       "    .dataframe tbody tr th:only-of-type {\n",
       "        vertical-align: middle;\n",
       "    }\n",
       "\n",
       "    .dataframe tbody tr th {\n",
       "        vertical-align: top;\n",
       "    }\n",
       "\n",
       "    .dataframe thead th {\n",
       "        text-align: right;\n",
       "    }\n",
       "</style>\n",
       "<table border=\"1\" class=\"dataframe\">\n",
       "  <thead>\n",
       "    <tr style=\"text-align: right;\">\n",
       "      <th></th>\n",
       "      <th>empno</th>\n",
       "      <th>ename</th>\n",
       "      <th>job</th>\n",
       "      <th>mgr</th>\n",
       "      <th>hiredate</th>\n",
       "      <th>sal</th>\n",
       "      <th>comm</th>\n",
       "      <th>deptno</th>\n",
       "      <th>sal02</th>\n",
       "      <th>loc</th>\n",
       "    </tr>\n",
       "  </thead>\n",
       "  <tbody>\n",
       "    <tr>\n",
       "      <th>0</th>\n",
       "      <td>7369</td>\n",
       "      <td>SMITH</td>\n",
       "      <td>CLERK</td>\n",
       "      <td>7902.0</td>\n",
       "      <td>1980-12-17</td>\n",
       "      <td>800.0</td>\n",
       "      <td>NaN</td>\n",
       "      <td>20</td>\n",
       "      <td>800.0</td>\n",
       "      <td>DALLAS</td>\n",
       "    </tr>\n",
       "    <tr>\n",
       "      <th>1</th>\n",
       "      <td>7499</td>\n",
       "      <td>ALLEN</td>\n",
       "      <td>SALESMAN</td>\n",
       "      <td>7698.0</td>\n",
       "      <td>1981-02-20</td>\n",
       "      <td>1600.0</td>\n",
       "      <td>300.0</td>\n",
       "      <td>30</td>\n",
       "      <td>1600.0</td>\n",
       "      <td>DALLAS</td>\n",
       "    </tr>\n",
       "    <tr>\n",
       "      <th>2</th>\n",
       "      <td>7521</td>\n",
       "      <td>WARD</td>\n",
       "      <td>SALESMAN</td>\n",
       "      <td>7698.0</td>\n",
       "      <td>1981-02-22</td>\n",
       "      <td>1250.0</td>\n",
       "      <td>500.0</td>\n",
       "      <td>30</td>\n",
       "      <td>1250.0</td>\n",
       "      <td>DALLAS</td>\n",
       "    </tr>\n",
       "    <tr>\n",
       "      <th>3</th>\n",
       "      <td>7566</td>\n",
       "      <td>JONES</td>\n",
       "      <td>MANAGER</td>\n",
       "      <td>7839.0</td>\n",
       "      <td>1981-04-02</td>\n",
       "      <td>2975.0</td>\n",
       "      <td>NaN</td>\n",
       "      <td>20</td>\n",
       "      <td>2975.0</td>\n",
       "      <td>DALLAS</td>\n",
       "    </tr>\n",
       "    <tr>\n",
       "      <th>4</th>\n",
       "      <td>7654</td>\n",
       "      <td>MARTIN</td>\n",
       "      <td>SALESMAN</td>\n",
       "      <td>7698.0</td>\n",
       "      <td>1981-09-28</td>\n",
       "      <td>1250.0</td>\n",
       "      <td>1400.0</td>\n",
       "      <td>30</td>\n",
       "      <td>1250.0</td>\n",
       "      <td>DALLAS</td>\n",
       "    </tr>\n",
       "    <tr>\n",
       "      <th>5</th>\n",
       "      <td>7698</td>\n",
       "      <td>BLAKE</td>\n",
       "      <td>MANAGER</td>\n",
       "      <td>7839.0</td>\n",
       "      <td>1981-05-01</td>\n",
       "      <td>2850.0</td>\n",
       "      <td>NaN</td>\n",
       "      <td>30</td>\n",
       "      <td>2850.0</td>\n",
       "      <td>CHICAGO</td>\n",
       "    </tr>\n",
       "    <tr>\n",
       "      <th>6</th>\n",
       "      <td>7782</td>\n",
       "      <td>CLARK</td>\n",
       "      <td>MANAGER</td>\n",
       "      <td>7839.0</td>\n",
       "      <td>1981-06-09</td>\n",
       "      <td>2450.0</td>\n",
       "      <td>NaN</td>\n",
       "      <td>10</td>\n",
       "      <td>2450.0</td>\n",
       "      <td>CHICAGO</td>\n",
       "    </tr>\n",
       "    <tr>\n",
       "      <th>7</th>\n",
       "      <td>7788</td>\n",
       "      <td>SCOTT</td>\n",
       "      <td>ANALYST</td>\n",
       "      <td>7566.0</td>\n",
       "      <td>1987-04-19</td>\n",
       "      <td>3000.0</td>\n",
       "      <td>NaN</td>\n",
       "      <td>20</td>\n",
       "      <td>3000.0</td>\n",
       "      <td>CHICAGO</td>\n",
       "    </tr>\n",
       "    <tr>\n",
       "      <th>8</th>\n",
       "      <td>7839</td>\n",
       "      <td>KING</td>\n",
       "      <td>PRESIDENT</td>\n",
       "      <td>NaN</td>\n",
       "      <td>1981-11-17</td>\n",
       "      <td>5000.0</td>\n",
       "      <td>NaN</td>\n",
       "      <td>10</td>\n",
       "      <td>5000.0</td>\n",
       "      <td>CHICAGO</td>\n",
       "    </tr>\n",
       "    <tr>\n",
       "      <th>9</th>\n",
       "      <td>7844</td>\n",
       "      <td>TURNER</td>\n",
       "      <td>SALESMAN</td>\n",
       "      <td>7698.0</td>\n",
       "      <td>1981-09-08</td>\n",
       "      <td>1500.0</td>\n",
       "      <td>0.0</td>\n",
       "      <td>30</td>\n",
       "      <td>1500.0</td>\n",
       "      <td>CHICAGO</td>\n",
       "    </tr>\n",
       "    <tr>\n",
       "      <th>10</th>\n",
       "      <td>7876</td>\n",
       "      <td>ADAMS</td>\n",
       "      <td>CLERK</td>\n",
       "      <td>7788.0</td>\n",
       "      <td>1987-05-23</td>\n",
       "      <td>1100.0</td>\n",
       "      <td>NaN</td>\n",
       "      <td>20</td>\n",
       "      <td>1100.0</td>\n",
       "      <td>CHICAGO</td>\n",
       "    </tr>\n",
       "    <tr>\n",
       "      <th>11</th>\n",
       "      <td>7900</td>\n",
       "      <td>JAMES</td>\n",
       "      <td>CLERK</td>\n",
       "      <td>7698.0</td>\n",
       "      <td>1981-12-03</td>\n",
       "      <td>950.0</td>\n",
       "      <td>NaN</td>\n",
       "      <td>30</td>\n",
       "      <td>950.0</td>\n",
       "      <td>NEW YORK</td>\n",
       "    </tr>\n",
       "    <tr>\n",
       "      <th>12</th>\n",
       "      <td>7902</td>\n",
       "      <td>FORD</td>\n",
       "      <td>ANALYST</td>\n",
       "      <td>7566.0</td>\n",
       "      <td>1981-12-03</td>\n",
       "      <td>3000.0</td>\n",
       "      <td>NaN</td>\n",
       "      <td>20</td>\n",
       "      <td>3000.0</td>\n",
       "      <td>NEW YORK</td>\n",
       "    </tr>\n",
       "    <tr>\n",
       "      <th>13</th>\n",
       "      <td>7934</td>\n",
       "      <td>MILLER</td>\n",
       "      <td>CLERK</td>\n",
       "      <td>7782.0</td>\n",
       "      <td>1982-01-23</td>\n",
       "      <td>1300.0</td>\n",
       "      <td>NaN</td>\n",
       "      <td>10</td>\n",
       "      <td>1300.0</td>\n",
       "      <td>NEW YORK</td>\n",
       "    </tr>\n",
       "  </tbody>\n",
       "</table>\n",
       "</div>"
      ],
      "text/plain": [
       "    empno   ename        job     mgr    hiredate     sal    comm  deptno  \\\n",
       "0    7369   SMITH      CLERK  7902.0  1980-12-17   800.0     NaN      20   \n",
       "1    7499   ALLEN   SALESMAN  7698.0  1981-02-20  1600.0   300.0      30   \n",
       "2    7521    WARD   SALESMAN  7698.0  1981-02-22  1250.0   500.0      30   \n",
       "3    7566   JONES    MANAGER  7839.0  1981-04-02  2975.0     NaN      20   \n",
       "4    7654  MARTIN   SALESMAN  7698.0  1981-09-28  1250.0  1400.0      30   \n",
       "5    7698   BLAKE    MANAGER  7839.0  1981-05-01  2850.0     NaN      30   \n",
       "6    7782   CLARK    MANAGER  7839.0  1981-06-09  2450.0     NaN      10   \n",
       "7    7788   SCOTT    ANALYST  7566.0  1987-04-19  3000.0     NaN      20   \n",
       "8    7839    KING  PRESIDENT     NaN  1981-11-17  5000.0     NaN      10   \n",
       "9    7844  TURNER   SALESMAN  7698.0  1981-09-08  1500.0     0.0      30   \n",
       "10   7876   ADAMS      CLERK  7788.0  1987-05-23  1100.0     NaN      20   \n",
       "11   7900   JAMES      CLERK  7698.0  1981-12-03   950.0     NaN      30   \n",
       "12   7902    FORD    ANALYST  7566.0  1981-12-03  3000.0     NaN      20   \n",
       "13   7934  MILLER      CLERK  7782.0  1982-01-23  1300.0     NaN      10   \n",
       "\n",
       "     sal02       loc  \n",
       "0    800.0    DALLAS  \n",
       "1   1600.0    DALLAS  \n",
       "2   1250.0    DALLAS  \n",
       "3   2975.0    DALLAS  \n",
       "4   1250.0    DALLAS  \n",
       "5   2850.0   CHICAGO  \n",
       "6   2450.0   CHICAGO  \n",
       "7   3000.0   CHICAGO  \n",
       "8   5000.0   CHICAGO  \n",
       "9   1500.0   CHICAGO  \n",
       "10  1100.0   CHICAGO  \n",
       "11   950.0  NEW YORK  \n",
       "12  3000.0  NEW YORK  \n",
       "13  1300.0  NEW YORK  "
      ]
     },
     "execution_count": 26,
     "metadata": {},
     "output_type": "execute_result"
    }
   ],
   "source": [
    "emp['loc'] = result['loc']\n",
    "emp"
   ]
  }
 ],
 "metadata": {
  "kernelspec": {
   "display_name": "Python 3 (ipykernel)",
   "language": "python",
   "name": "python3"
  },
  "language_info": {
   "codemirror_mode": {
    "name": "ipython",
    "version": 3
   },
   "file_extension": ".py",
   "mimetype": "text/x-python",
   "name": "python",
   "nbconvert_exporter": "python",
   "pygments_lexer": "ipython3",
   "version": "3.9.13"
  }
 },
 "nbformat": 4,
 "nbformat_minor": 5
}
