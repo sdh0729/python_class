{
 "cells": [
  {
   "cell_type": "markdown",
   "id": "552c0421",
   "metadata": {},
   "source": [
    "### 파이썬 리스트\n",
    ": 가변형, 시퀀스(str,list,tuple) = [+,*, 중첩, 슬라이싱, 인덱싱],[]\n",
    "-- 단점 : 동작속도가 느리다, 콤마 요소 분리 구별\n",
    "\n",
    "### numpy : 수식 라이브러리, 수치 연산, 배열객체\n",
    "-- 동작 속도가 빠르다./ 연속적인 메모리/ 한가지 타입만 처리가능"
   ]
  },
  {
   "cell_type": "markdown",
   "id": "ae2209db",
   "metadata": {},
   "source": [
    "1) np.array로 객체생성\n",
    "2) np.arange로 객체생성"
   ]
  },
  {
   "cell_type": "code",
   "execution_count": 10,
   "id": "bb43219b",
   "metadata": {},
   "outputs": [],
   "source": [
    "# ndarray(shape[,dtype,buffer,offset,...])/ shape\n",
    "import numpy as np\n"
   ]
  },
  {
   "cell_type": "code",
   "execution_count": 2,
   "id": "3c362f88",
   "metadata": {},
   "outputs": [],
   "source": [
    "a = np.array([0,1,2,3,4,5]) # = ndarray \n"
   ]
  },
  {
   "cell_type": "code",
   "execution_count": 3,
   "id": "a7944823",
   "metadata": {},
   "outputs": [
    {
     "name": "stdout",
     "output_type": "stream",
     "text": [
      "[0 1 2 3 4 5]\n",
      "<class 'numpy.ndarray'>\n",
      "int64\n"
     ]
    }
   ],
   "source": [
    "print(a)\n",
    "print(type(a))\n",
    "print(a.dtype) # a객체가 가진 데이터 타입"
   ]
  },
  {
   "cell_type": "code",
   "execution_count": 6,
   "id": "8045d576",
   "metadata": {},
   "outputs": [
    {
     "name": "stdout",
     "output_type": "stream",
     "text": [
      "['__class__', '__class_getitem__', '__contains__', '__delattr__', '__delitem__', '__dir__', '__doc__', '__eq__', '__format__', '__ge__', '__getattribute__', '__getitem__', '__gt__', '__hash__', '__init__', '__init_subclass__', '__ior__', '__iter__', '__le__', '__len__', '__lt__', '__ne__', '__new__', '__or__', '__reduce__', '__reduce_ex__', '__repr__', '__reversed__', '__ror__', '__setattr__', '__setitem__', '__sizeof__', '__str__', '__subclasshook__', 'clear', 'copy', 'fromkeys', 'get', 'items', 'keys', 'pop', 'popitem', 'setdefault', 'update', 'values']\n"
     ]
    },
    {
     "data": {
      "text/plain": [
       "dict_keys(['?', 0, 'byte', 'b', 1, 'ubyte', 'B', 2, 'short', 'h', 3, 'ushort', 'H', 4, 'i', 5, 'uint', 'I', 6, 'intp', 'p', 7, 'uintp', 'P', 8, 'long', 'l', 'ulong', 'L', 'longlong', 'q', 9, 'ulonglong', 'Q', 10, 'half', 'e', 23, 'f', 11, 'double', 'd', 12, 'longdouble', 'g', 13, 'cfloat', 'F', 14, 'cdouble', 'D', 15, 'clongdouble', 'G', 16, 'O', 17, 'S', 18, 'unicode', 'U', 19, 'void', 'V', 20, 'M', 21, 'm', 22, 'bool8', 'b1', 'int64', 'i8', 'uint64', 'u8', 'float16', 'f2', 'float32', 'f4', 'float64', 'f8', 'float128', 'f16', 'complex64', 'c8', 'complex128', 'c16', 'complex256', 'c32', 'object0', 'bytes0', 'str0', 'void0', 'datetime64', 'M8', 'timedelta64', 'm8', 'int32', 'i4', 'uint32', 'u4', 'int16', 'i2', 'uint16', 'u2', 'int8', 'i1', 'uint8', 'u1', 'complex_', 'int0', 'uint0', 'single', 'csingle', 'singlecomplex', 'float_', 'intc', 'uintc', 'int_', 'longfloat', 'clongfloat', 'longcomplex', 'bool_', 'bytes_', 'string_', 'str_', 'unicode_', 'object_', 'int', 'float', 'complex', 'bool', 'object', 'str', 'bytes', 'a'])"
      ]
     },
     "execution_count": 6,
     "metadata": {},
     "output_type": "execute_result"
    }
   ],
   "source": [
    "print(dir(np.sctypeDict))\n",
    "np.sctypeDict.keys() # numpay 에서 사용 되는 데이터 타입"
   ]
  },
  {
   "cell_type": "code",
   "execution_count": 9,
   "id": "b73238cd",
   "metadata": {},
   "outputs": [
    {
     "name": "stdout",
     "output_type": "stream",
     "text": [
      "[0. 1. 2. 3. 4. 5.]\n",
      "<class 'numpy.ndarray'>\n",
      "float64\n"
     ]
    }
   ],
   "source": [
    "a = np.array([0.0,1.0,2.0,3.0,4.0,5.0])\n",
    "print(a)\n",
    "print(type(a))\n",
    "print(a.dtype) # a객체가 가진 데이터 타입  \n",
    "#0,1 = bit * 8 = 1byte = 주소 생성 = -128 ~ 127\n",
    "# 주소생성 -> 메모리 하당 -> 값 대입 \n",
    "# 불리언 bool(1), byte(1)\n",
    "# 정수형 short -> int32(4)->int64(8) -> long(8)~16\n",
    "# 실수형 float(4)=float32 ->float(8)=f4->double(8)\n",
    "# 문자와 문자열 ->str\n",
    "\n",
    "# ex) 'int32' = 정수형 32 bit , 'i4'= 정수형 4byte\n",
    "# float64 =f8 = 실수형 64bit =실수형 8byte\n"
   ]
  },
  {
   "cell_type": "code",
   "execution_count": 13,
   "id": "d9058e57",
   "metadata": {},
   "outputs": [
    {
     "name": "stdout",
     "output_type": "stream",
     "text": [
      "[0 1 2 3 4 5 6 7 8 9]\n",
      "<class 'numpy.ndarray'>\n"
     ]
    }
   ],
   "source": [
    "a= np.arange(10) # 0~9 , 구분 하지 않는다\n",
    "print(a)\n",
    "print(type(a))\n"
   ]
  },
  {
   "cell_type": "raw",
   "id": "1d60ab2c",
   "metadata": {},
   "source": [
    "3) ndarray(shape[,dtype,buffer,offset,...])/ shape\n",
    " 3-1:차원 (Rank, Dimension)을 [] 개숫로 늘린다. [[[a]]]= 3차원, [[b]] =2차원\n",
    "   아벨 4차원이상 -> 컴\n",
    "   \n",
    "   대상 -> 특징추출(x_독립변수, y_종속변수) ->  도메인 -> 설명(통계)-> 예측(ML)\n",
    "   -> ML+AI=DL (CNN, 이미지 영상)\n",
    "   \n",
    " 3-2 차원의 종류 \n",
    "   1차원 : shape(x,)\n",
    "   2차원 : shape(x,y), 행렬(matrix)\n",
    "   3차원 : shape(x,y,z), (행,렬,면)->(면,행,렬)\n",
    "   ...n 차원 : (x,y,z....)"
   ]
  },
  {
   "cell_type": "code",
   "execution_count": 17,
   "id": "a0b377d5",
   "metadata": {},
   "outputs": [
    {
     "name": "stdout",
     "output_type": "stream",
     "text": [
      "[ 0  1  2  3  4  5  6  7  8  9 10 11]\n",
      "(12,)\n",
      "<class 'tuple'>\n",
      "12\n"
     ]
    }
   ],
   "source": [
    "# 1차원 shape(x,)\n",
    "a = np.arange(12)\n",
    "print(a)\n",
    "print(a.shape) # (12,) ->1차원\n",
    "t= a.shape\n",
    "print(type(t))\n",
    "print((a.shape)[0])"
   ]
  },
  {
   "cell_type": "code",
   "execution_count": 18,
   "id": "0cf159d7",
   "metadata": {},
   "outputs": [
    {
     "name": "stdout",
     "output_type": "stream",
     "text": [
      "[[0 1 2]\n",
      " [0 1 2]]\n",
      "(2, 3)\n",
      "2 3\n"
     ]
    }
   ],
   "source": [
    "#2차원 배열의 Shape : 행(row, 수직, axis=0)과 열(column, 수평, axis=1)\n",
    "m = np.array([[0,1,2],\n",
    "             [0,1,2,]])\n",
    "print(m)\n",
    "print(m.shape)   # (2,3)---> 2차원, 행렬 (matrix)\n",
    "print(m.shape[0],m.shape[1])"
   ]
  },
  {
   "cell_type": "code",
   "execution_count": 19,
   "id": "b0cb3c86",
   "metadata": {},
   "outputs": [
    {
     "name": "stdout",
     "output_type": "stream",
     "text": [
      "[[[0 1 2]\n",
      "  [3 4 5]]\n",
      "\n",
      " [[0 1 2]\n",
      "  [3 4 5]]]\n",
      "(2, 2, 3)\n",
      "2 2 3\n"
     ]
    }
   ],
   "source": [
    "#3차원 배열의 shape :(면,행,열)\n",
    "m = np.array([[\n",
    "               [0,1,2],\n",
    "               [3,4,5]],\n",
    "               [[0,1,2],\n",
    "                [3,4,5] ]])\n",
    "print(m)\n",
    "print(m.shape) # (2,2,3)---> 3차원\n",
    "print(m.shape[0],m.shape[1],m.shape[2])"
   ]
  },
  {
   "cell_type": "raw",
   "id": "2deeafd1",
   "metadata": {},
   "source": [
    "4) 배열과 슬라이싱 _reshape()"
   ]
  },
  {
   "cell_type": "code",
   "execution_count": 20,
   "id": "3925ae49",
   "metadata": {},
   "outputs": [
    {
     "name": "stdout",
     "output_type": "stream",
     "text": [
      "[[ 0  1  2  3]\n",
      " [ 4  5  6  7]\n",
      " [ 8  9 10 11]]\n",
      "(3, 4)\n"
     ]
    }
   ],
   "source": [
    "# 2차원 배열 인덱싱 슬라이싱\n",
    "a = np.arange(12).reshape(3,4)\n",
    "print(a)\n",
    "print(a.shape)"
   ]
  },
  {
   "cell_type": "code",
   "execution_count": 23,
   "id": "281bd6c2",
   "metadata": {},
   "outputs": [
    {
     "name": "stdout",
     "output_type": "stream",
     "text": [
      "0\n",
      "0\n",
      "9\n",
      "11 11\n"
     ]
    }
   ],
   "source": [
    "#a 가 가진 값 0,0,9를 리턴해보자= 인덱싱\n",
    "print(a[0][0])\n",
    "print(a[0,0])\n",
    "print(a[2][1])\n",
    "print(a[2][3], a[2,3])\n"
   ]
  },
  {
   "cell_type": "code",
   "execution_count": 30,
   "id": "15f17353",
   "metadata": {},
   "outputs": [
    {
     "name": "stdout",
     "output_type": "stream",
     "text": [
      "[0 1 2 3]\n",
      "[0 1 2 3]\n",
      "[[ 0  1  2]\n",
      " [ 4  5  6]\n",
      " [ 8  9 10]]\n",
      "[[ 1  2  3]\n",
      " [ 5  6  7]\n",
      " [ 9 10 11]]\n",
      "슬라이싱으로 전체 출력 형식을 만들자.\n",
      "[[ 0  1  2  3]\n",
      " [ 4  5  6  7]\n",
      " [ 8  9 10 11]]\n",
      "[[ 0  1  2  3]\n",
      " [ 4  5  6  7]\n",
      " [ 8  9 10 11]]\n"
     ]
    }
   ],
   "source": [
    "#a가 가진 슬라이싱\n",
    "# [0 1 2 3]\n",
    "print(a[0])\n",
    "print(a[0,:]) #[행,열]\n",
    "\n",
    "print(a[:,:-1]) # 마지막 열을 제외하겠다\n",
    "print(a[:,1:])  # 첫번째 열을 제외하겠다\n",
    "print('슬라이싱으로 전체 출력 형식을 만들자.')\n",
    "print(a[:, :])\n",
    "print(a[0:, 0:])\n"
   ]
  },
  {
   "cell_type": "code",
   "execution_count": 32,
   "id": "517529a4",
   "metadata": {},
   "outputs": [
    {
     "name": "stdout",
     "output_type": "stream",
     "text": [
      "[[20 20 20 20]\n",
      " [ 4  5  6  7]\n",
      " [ 8  9 10 11]]\n",
      "[[20 20]\n",
      " [ 8 10]]\n"
     ]
    }
   ],
   "source": [
    "# 0 행의 모든 데이터를 20으로 변경 후 전체 출력 해보자.\n",
    "a[0]=20\n",
    "print(a[:,:])\n",
    "print(a[::2,::2]) #[start:end-1:step]"
   ]
  },
  {
   "cell_type": "code",
   "execution_count": 34,
   "id": "d63f1f48",
   "metadata": {},
   "outputs": [
    {
     "name": "stdout",
     "output_type": "stream",
     "text": [
      "[[20 20 20 20]\n",
      " [ 4  5  6  7]\n",
      " [ 8  9 10 11]]\n",
      "[[20 20]\n",
      " [ 8 11]]\n",
      "[[100  20  20 100]\n",
      " [  4   5   6   7]\n",
      " [100   9  10 100]]\n"
     ]
    }
   ],
   "source": [
    "# 슬라이싱 요소 전체의 값을 변경해보자.\n",
    "print(a[:,:])\n",
    "print(a[::2,::3])\n",
    "a[::2,::3] =100\n",
    "print(a[:,:])"
   ]
  },
  {
   "cell_type": "code",
   "execution_count": 35,
   "id": "420330ee",
   "metadata": {},
   "outputs": [
    {
     "name": "stdout",
     "output_type": "stream",
     "text": [
      "[[[ 0  1  2]\n",
      "  [ 3  4  5]]\n",
      "\n",
      " [[ 6  7  8]\n",
      "  [ 9 10 11]]] (2, 2, 3)\n"
     ]
    }
   ],
   "source": [
    "#3차원 배열 인덱싱 슬라이싱\n",
    "a= np.arange(12).reshape(2,2,3)\n",
    "print(a, a.shape)"
   ]
  },
  {
   "cell_type": "code",
   "execution_count": 41,
   "id": "a70ba2ab",
   "metadata": {},
   "outputs": [
    {
     "name": "stdout",
     "output_type": "stream",
     "text": [
      "0\n",
      "0\n",
      "5\n"
     ]
    }
   ],
   "source": [
    "#인덱싱 \n",
    "print(a[0][0][0])\n",
    "print(a[0,0,0])\n",
    "print(a[0,1,2])"
   ]
  },
  {
   "cell_type": "code",
   "execution_count": 62,
   "id": "d5f103fe",
   "metadata": {},
   "outputs": [
    {
     "name": "stdout",
     "output_type": "stream",
     "text": [
      "[[[ 0  1  2]\n",
      "  [ 3  4  5]]\n",
      "\n",
      " [[ 6  7  8]\n",
      "  [ 9 10 11]]]\n",
      "----------------\n",
      "[[[ 4  5]]\n",
      "\n",
      " [[10 11]]]\n",
      "----------------\n",
      "[[[6 7]]]\n",
      "[[[3]]]\n"
     ]
    }
   ],
   "source": [
    "#슬라이싱\n",
    "print(a[:,:,:])#전체출력\n",
    "print('----------------')\n",
    "print(a[:,1:,1:])\n",
    "print('----------------')\n"
   ]
  },
  {
   "cell_type": "code",
   "execution_count": 66,
   "id": "0f44afc8",
   "metadata": {},
   "outputs": [
    {
     "name": "stdout",
     "output_type": "stream",
     "text": [
      "[[[6 7]]]\n",
      "[[[4 5]]]\n",
      "----------------\n",
      "[6 7]\n",
      "[4 5]\n",
      "----------------\n",
      "[[[6 7]]]\n",
      "[[[4 5]]]\n",
      "----------------\n",
      "[[6 7]] [[4 5]]\n"
     ]
    }
   ],
   "source": [
    "#case 1: 3차원\n",
    "#67\n",
    "#45\n",
    "print(a[1:,:-1,:2])\n",
    "print(a[:-1,1:,1:])\n",
    "print('----------------')\n",
    "#case 2: 1차원\n",
    "print(a[1,0,:2])\n",
    "print(a[0,1,1:])\n",
    "print('----------------')\n",
    "#case 3:  3차원\n",
    "print(a[1:,:1,:2])\n",
    "print(a[:1,1:,1:])\n",
    "print('----------------')\n",
    "#case 4: 2차원\n",
    "print(a[1,:-1,:-1],a[0,1:,1:])"
   ]
  },
  {
   "cell_type": "raw",
   "id": "d93d0867",
   "metadata": {},
   "source": [
    "5) 불린인덱싱: 조건식을 이용한 인덱싱, 조건 검색 필터를 사용한 추출값(중요!)"
   ]
  },
  {
   "cell_type": "code",
   "execution_count": 68,
   "id": "16f744da",
   "metadata": {},
   "outputs": [
    {
     "name": "stdout",
     "output_type": "stream",
     "text": [
      "[1 2 3 4 5 6]\n"
     ]
    }
   ],
   "source": [
    "a= np.array([1,2,3,4,5,6])\n",
    "print(a)"
   ]
  },
  {
   "cell_type": "code",
   "execution_count": 70,
   "id": "49a1df49",
   "metadata": {},
   "outputs": [
    {
     "name": "stdout",
     "output_type": "stream",
     "text": [
      "[False False  True  True  True  True]\n",
      "[3 4 5 6]\n"
     ]
    }
   ],
   "source": [
    "print(a>2)\n",
    "# 배열의 객체 a에서 2보다 큰값을 배열로 리턴\n",
    "print(a[a>2]) #->이미지 ->빨간사과 ->이상값추출해서 변경하고싶을때"
   ]
  },
  {
   "cell_type": "code",
   "execution_count": 72,
   "id": "fec45c7b",
   "metadata": {},
   "outputs": [
    {
     "name": "stdout",
     "output_type": "stream",
     "text": [
      "[False False  True  True  True  True]\n",
      "[3 4 5 6]\n"
     ]
    }
   ],
   "source": [
    "boo1_index = np.array([False, False,  True,  True,  True,  True])\n",
    "print(boo1_index)\n",
    "print(a[boo1_index])"
   ]
  },
  {
   "cell_type": "code",
   "execution_count": 83,
   "id": "1752d38d",
   "metadata": {},
   "outputs": [
    {
     "name": "stdout",
     "output_type": "stream",
     "text": [
      "[1 2 4 5 6]\n",
      "[3 4 5]\n",
      "[1 2 3] 3.5\n"
     ]
    }
   ],
   "source": [
    "# 배열 a에서 3이 아닌 요소 추출\n",
    "print(a[a!=3])\n",
    "\n",
    "# 2보다 크고 6보다 작은 요소 추출\n",
    "print(a[(a>2) & (a<6)])\n",
    "\n",
    "# 평균보다 작은 값을 추출해보자\n",
    "print(a[a<a.mean()],a.mean())"
   ]
  },
  {
   "cell_type": "raw",
   "id": "1b3c66d3",
   "metadata": {},
   "source": [
    "6) 배열의 형상 다루기 : reshape(), flatten()(편평화), transpose()(전치)"
   ]
  },
  {
   "cell_type": "code",
   "execution_count": 86,
   "id": "9f7a34ff",
   "metadata": {},
   "outputs": [
    {
     "name": "stdout",
     "output_type": "stream",
     "text": [
      "[[ 0  1  2  3]\n",
      " [ 4  5  6  7]\n",
      " [ 8  9 10 11]] (3, 4)\n",
      "[ 0  1  2  3  4  5  6  7  8  9 10 11] (12,)\n"
     ]
    }
   ],
   "source": [
    "#flatten() : 다차원 배열을 1차원으로 만든다\n",
    "a=np.arange(12).reshape(3,4)\n",
    "print(a,a.shape)\n",
    "f = a.flatten()\n",
    "print(f,f.shape)"
   ]
  },
  {
   "cell_type": "code",
   "execution_count": 88,
   "id": "93d2ee7f",
   "metadata": {},
   "outputs": [
    {
     "name": "stdout",
     "output_type": "stream",
     "text": [
      "[[ 8  9 10 11]\n",
      " [ 4  5  6  7]\n",
      " [ 0  1  2  3]]\n",
      "--------------------\n",
      "[[ 3  2  1  0]\n",
      " [ 7  6  5  4]\n",
      " [11 10  9  8]]\n",
      "--------------------\n",
      "[[11 10  9  8]\n",
      " [ 7  6  5  4]\n",
      " [ 3  2  1  0]]\n"
     ]
    }
   ],
   "source": [
    "#데이터 순서를 거꾸로 변경\n",
    "print(a[::-1]) #행의 순서를 거꾸로 변경\n",
    "print('-'*20)\n",
    "print(a[:,::-1]) #열의 순서를 거꾸로 변경\n",
    "print('-'*20)\n",
    "print(a[::-1,::-1]) #행과 열의 순서를 거꾸로 변경"
   ]
  },
  {
   "cell_type": "code",
   "execution_count": 90,
   "id": "52f77fb0",
   "metadata": {},
   "outputs": [
    {
     "name": "stdout",
     "output_type": "stream",
     "text": [
      "[[ 0  4  8]\n",
      " [ 1  5  9]\n",
      " [ 2  6 10]\n",
      " [ 3  7 11]] (4, 3)\n",
      "[[ 0  4  8]\n",
      " [ 1  5  9]\n",
      " [ 2  6 10]\n",
      " [ 3  7 11]]\n"
     ]
    }
   ],
   "source": [
    "#transpose(): 전치 행열, 행과 열을 서로 맞바꾸는 함수\n",
    "t=a.transpose()\n",
    "print(t,t.shape) # (3,4)--->(4,3)\n",
    "print(a.T) #transpose 함수와 동일한 결과"
   ]
  },
  {
   "cell_type": "code",
   "execution_count": 91,
   "id": "1eac6683",
   "metadata": {},
   "outputs": [
    {
     "name": "stdout",
     "output_type": "stream",
     "text": [
      "[[0 0 0 0]\n",
      " [0 0 0 0]\n",
      " [0 0 0 0]]\n"
     ]
    }
   ],
   "source": [
    "#print(dir(a.T))\n",
    "a.flat = 0 # 임시로 1차원으로 변경후 값을 0으로 대입받고 차원을 다시 리턴한다\n",
    "print(a)"
   ]
  },
  {
   "cell_type": "raw",
   "id": "ef57d273",
   "metadata": {},
   "source": [
    "6) numpy의 속성(Attribute) : 멤버변수 메서드\n",
    "dtype, shape, ndim,flat, T, size, nbytes"
   ]
  },
  {
   "cell_type": "code",
   "execution_count": 92,
   "id": "1b4d7df0",
   "metadata": {},
   "outputs": [
    {
     "name": "stdout",
     "output_type": "stream",
     "text": [
      "[[ 0  1  2  3]\n",
      " [ 4  5  6  7]\n",
      " [ 8  9 10 11]] (3, 4)\n",
      "int64\n",
      "2\n",
      "[[ 0  4  8]\n",
      " [ 1  5  9]\n",
      " [ 2  6 10]\n",
      " [ 3  7 11]]\n",
      "12\n",
      "96\n",
      "[[1 1 1 1]\n",
      " [1 1 1 1]\n",
      " [1 1 1 1]]\n"
     ]
    }
   ],
   "source": [
    "d = np.arange(12).reshape(3,4)\n",
    "print(d,d.shape)\n",
    "print(d.dtype)  # int32 or int64\n",
    "print(d.ndim)   # 2차원  ==> print(len(d.shape)) 와 동일\n",
    "print(d.T)      # transpose()함수와 동일한 결과, 전치행렬\n",
    "print(d.size)   # 12개 , 요소의 갯수\n",
    "print(d.nbytes) # 48 bytes : 32bit(4 byte) * 12 \n",
    "d.flat = 1\n",
    "print(d)"
   ]
  },
  {
   "cell_type": "code",
   "execution_count": 93,
   "id": "0e9ca26c",
   "metadata": {},
   "outputs": [
    {
     "name": "stdout",
     "output_type": "stream",
     "text": [
      "[[ 0  1  2  3]\n",
      " [ 4  5  6  7]\n",
      " [ 8  9 10 11]] (3, 4)\n",
      "11 11\n",
      "0 0\n",
      "66\n",
      "5.5\n",
      "3.452052529534663\n",
      "11.916666666666666\n",
      "5.5\n",
      "25%: 2.75\n",
      "50%: 5.5\n",
      "75%: 8.25\n"
     ]
    }
   ],
   "source": [
    "# numpy 통계 함수들\n",
    "a = np.arange(12).reshape(3,4)\n",
    "print(a, a.shape)\n",
    "print(a.max(),np.max(a)) #최대값\n",
    "print(a.min(),np.min(a)) #최소값\n",
    "\n",
    "print(a.sum()) #합\n",
    "print(a.mean())#평균 \n",
    "print(a.std()) #표준편차\n",
    "print(a.var()) #분산\n",
    "print(np.median(a)) # 중위수\n",
    "\n",
    "#사분위수\n",
    "print('25%:',np.percentile(a,25)) #1사분위\n",
    "print('50%:',np.percentile(a,50)) #2사분위 = meidan\n",
    "print('75%:',np.percentile(a,75)) #3사분위\n"
   ]
  },
  {
   "cell_type": "code",
   "execution_count": null,
   "id": "945a5f5a",
   "metadata": {},
   "outputs": [],
   "source": []
  }
 ],
 "metadata": {
  "kernelspec": {
   "display_name": "Python 3 (ipykernel)",
   "language": "python",
   "name": "python3"
  },
  "language_info": {
   "codemirror_mode": {
    "name": "ipython",
    "version": 3
   },
   "file_extension": ".py",
   "mimetype": "text/x-python",
   "name": "python",
   "nbconvert_exporter": "python",
   "pygments_lexer": "ipython3",
   "version": "3.9.13"
  }
 },
 "nbformat": 4,
 "nbformat_minor": 5
}
